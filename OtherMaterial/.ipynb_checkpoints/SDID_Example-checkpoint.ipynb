{
 "cells": [
  {
   "cell_type": "markdown",
   "id": "f86a202e",
   "metadata": {},
   "source": [
    "# SDID Example\n",
    "hsujulia\n",
    "30oct2022\n",
    "\n",
    "This paper tries to implement the Synthetic Difference-in-Differences (SDiD, hereafter) following [Arkhangelsky, Athey, Hirschberg, Imbens, and Wager (2021) ](https://arxiv.org/pdf/1812.09970.pdf). Callout to the R Package written by Hirschberge, [synthdid](https://synth-inference.github.io/synthdid/).\n",
    "\n",
    "At a high-level, we want to estimate the tuple $(\\hat{\\tau}^{sdid}, \\hat{\\mu} , \\hat{\\alpha}, \\hat{\\beta}) $ to minimize:\n",
    "$$\\sum^N_{i=1} \\sum^T_{t=1} \\big( Y_{it} - \\mu - \\alpha_i - \\beta_t - W_{it} \\tau \\big)^2 \\hat{\\omega}^{sdid}_i \\hat{\\lambda}^{sdid}_t $$\n",
    "\n",
    "Where $\\omega_i$ are unit-varying weights, and $\\lambda$ are time-varying weights.\n",
    "\n",
    "For reference, we can write Difference-in-Differences (DiD) and synthetic control (SC) models as:\n",
    "* SDiD: $(\\hat{\\tau}^{SDiD}, \\hat{\\mu} , \\hat{\\alpha}, \\hat{\\beta}) = \\text{arg min} \\Big \\{ \\sum^N_{i=1} \\sum^T_{t=1} \\big( Y_{it} - \\mu - \\alpha_i - \\beta_t - W_{it} \\tau \\big)^2 \\hat{\\omega}^{sdid}_i \\hat{\\lambda}^{sdid}_t \\Big \\}$ \n",
    "* DiD: $(\\hat{\\tau}^{DiD}, \\hat{\\mu} , \\hat{\\alpha}, \\hat{\\beta}) = \\text{arg min} \\Big \\{ \\sum^N_{i=1} \\sum^T_{t=1} \\big( Y_{it} - \\mu - \\alpha_i - \\beta_t - W_{it} \\tau \\big)^2 \\Big \\}$ \n",
    "* SC: $(\\hat{\\tau}^{SC}, \\hat{\\mu} , \\hat{\\alpha}, \\hat{\\beta}) = \\text{arg min} \\Big \\{ \\sum^N_{i=1} \\sum^T_{t=1} \\big( Y_{it} - \\mu - \\alpha_i - \\beta_t - W_{it} \\tau \\big)^2 \\hat{\\omega}^{sc}_i  \\Big \\}$.\n",
    "    - Note that if we use SC defined by Abadie, [Diamond, and Hainmueller (201)](https://web.stanford.edu/~jhain/Paper/JASA2010.pdf), $\\alpha = 0$ \n",
    "\n",
    "\n",
    "\n"
   ]
  },
  {
   "cell_type": "markdown",
   "id": "28cf66bb",
   "metadata": {},
   "source": [
    "## Implementation following SDiD Paper (Arkhangelsky et al.)\n",
    "**Algorithm (called Algorithm 1 from the SDiD paper)**\n",
    "\n",
    "Notation:\n",
    "1. Outcome trend $Y_{it}$ for units $i$ and time periods $t$.\n",
    "2. For $t = 1,..., T_{pre}$, no units are treated. For $t = T_{post}$ periods, some units started to be treated. \n",
    "2. $W_{it}$ indicates unit-time instances that are treated. \n",
    "3. $N_{co}$ control units, and $N_{tr}$ treated units.\n",
    "4. This means that units $i=1,..., N_{co}$ are control units, and $i = N_{co}+1,...,N$ are treated.\n",
    "\n",
    "### 1. Compute regularization parameter $\\zeta$ \n",
    "The regularization parameter, $\\zeta$ will be used in the second step. It can be directly calculated from the data, without any optimization. Following the SDiD paper. This is basically the variance in year-to-year change in pre-treatment time outcomes among units from the control donor units.\n",
    "$$\\zeta = (N_{tr} T_{post} )^{\\frac{1}{4}} \\big( \\frac{1}{N_{co}(T_{pre}-1)}\\sum^{N_{co}}_{i=1} \\sum^{T_{pre}-1}_{t=1} (\\Delta_{it} - \\bar{\\Delta})^2 \\big) $$\n",
    "$\\Delta_{it} = Y_{i \\{t+1\\}} - Y_{it}$, and\n",
    "$\\bar{\\Delta} = \\frac{1}{N_{co}(T_{pre}-1)}\\sum^{N_{co}}_{i=1} \\sum^{T_{pre}-1}_{t=1} \\Delta_{it} $\n",
    "### 2. Compute unit weights $\\omega^{sdid}$ \n",
    "Let $\\omega^{sdid} = (\\omega_0, \\omega^{sdid}_i)$, which we estimate to minimize pre-treatment outcomes among control and treated units. We use the regularization term above with an L2 regularization (the squared one, not the absolute one) of the parameters and $\\zeta$ above to allow a unique solution.\n",
    "\n",
    "$$ (\\hat{\\omega}_0, \\hat{\\omega}^{sdid}_i) = \\text{arg min} \\Big\\{ \n",
    "\\sum^{T_{pre}}_{t=1} (\n",
    "    \\omega_0 + \\sum^{N_{co}}_{i=1} \\omega_i Y_{it} - \\frac{1}{ N_{tr}} \\sum^N_{i = N_{co}+1} Y_{it}\n",
    ")^2 + \\zeta^2 T_{pre} ||\\omega||^2_2\n",
    "\\Big\\} : \\sum^{N_{co}}{i=1} \\omega_i = 1$$ \n",
    "\n",
    "### 3. Compute unit weights $\\lambda^{sdid}_t$ \n",
    "\n",
    "### 4. Compute SDiD Estimator "
   ]
  },
  {
   "cell_type": "code",
   "execution_count": null,
   "id": "3079ce60",
   "metadata": {},
   "outputs": [],
   "source": []
  },
  {
   "cell_type": "code",
   "execution_count": null,
   "id": "908c2763",
   "metadata": {},
   "outputs": [],
   "source": []
  },
  {
   "cell_type": "code",
   "execution_count": null,
   "id": "3d5cac1e",
   "metadata": {},
   "outputs": [],
   "source": []
  }
 ],
 "metadata": {
  "kernelspec": {
   "display_name": "Python 3 (ipykernel)",
   "language": "python",
   "name": "python3"
  },
  "language_info": {
   "codemirror_mode": {
    "name": "ipython",
    "version": 3
   },
   "file_extension": ".py",
   "mimetype": "text/x-python",
   "name": "python",
   "nbconvert_exporter": "python",
   "pygments_lexer": "ipython3",
   "version": "3.9.12"
  }
 },
 "nbformat": 4,
 "nbformat_minor": 5
}
