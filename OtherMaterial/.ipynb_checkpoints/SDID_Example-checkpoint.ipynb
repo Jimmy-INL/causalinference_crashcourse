{
 "cells": [
  {
   "cell_type": "markdown",
   "id": "63bbe25b",
   "metadata": {},
   "source": [
    "# SDID Example\n",
    "hsujulia\n",
    "30oct2022\n",
    "\n",
    "This paper tries to implement the Synthetic Difference-in-Differences (SDID, hereafter) following [Arkhangelsky et al (2021) ](https://arxiv.org/pdf/1812.09970.pdf).\n",
    "\n",
    "At a high-level, we want to estimate the tuple $(\\hat{\\tau}^{sdid}, \\hat{\\mu} , \\hat{\\alpha}, \\hat{\\beta}) $ to minimize:\n",
    "$$\\sum^N_{i=1} \\sum^T_{t=1} \\big( Y_{it} - \\mu - \\alpha_i - \\beta_t - W_{it} \\tau \\big)^2 \\hat{\\omega}^{sdid}_i \\hat{\\lambda}^{sdid}_t $$\n",
    "\n",
    "Where $\\omega_i$ are unit-varying weights, and $\\lambda$ are time-varying weights."
   ]
  },
  {
   "cell_type": "code",
   "execution_count": null,
   "id": "b027e5b1",
   "metadata": {},
   "outputs": [],
   "source": []
  },
  {
   "cell_type": "code",
   "execution_count": null,
   "id": "793f2f2e",
   "metadata": {},
   "outputs": [],
   "source": []
  },
  {
   "cell_type": "code",
   "execution_count": null,
   "id": "fc5e349e",
   "metadata": {},
   "outputs": [],
   "source": []
  },
  {
   "cell_type": "code",
   "execution_count": null,
   "id": "39686727",
   "metadata": {},
   "outputs": [],
   "source": []
  }
 ],
 "metadata": {
  "kernelspec": {
   "display_name": "Python 3 (ipykernel)",
   "language": "python",
   "name": "python3"
  },
  "language_info": {
   "codemirror_mode": {
    "name": "ipython",
    "version": 3
   },
   "file_extension": ".py",
   "mimetype": "text/x-python",
   "name": "python",
   "nbconvert_exporter": "python",
   "pygments_lexer": "ipython3",
   "version": "3.9.12"
  }
 },
 "nbformat": 4,
 "nbformat_minor": 5
}
