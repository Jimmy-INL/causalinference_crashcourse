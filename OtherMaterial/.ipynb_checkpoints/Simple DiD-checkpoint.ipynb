{
 "cells": [
  {
   "cell_type": "markdown",
   "id": "47e9a17d",
   "metadata": {},
   "source": [
    "# Simple DiD\n",
    "Julian Hsu\n",
    "31 january 2023\n",
    "\n",
    "While panel methods, specifically DiD, are highly sought after causal tools because their validity can be tested, one drawback is that they can require a lot of data. They require a panel dataset where units are observed over time. This can place a large burden on data anlyses and potential turnoff their use.\n",
    "\n",
    "This script's objective is to show how a relatively small panel can provide estimates using DiD, and examples under which that estimate is biased. We focus on how correlated the outcomes are over-time."
   ]
  },
  {
   "cell_type": "code",
   "execution_count": 130,
   "id": "c6f58f5d",
   "metadata": {},
   "outputs": [],
   "source": [
    "import numpy as np\n",
    "import pandas as pd\n",
    "\n",
    "%matplotlib inline\n",
    "\n",
    "import matplotlib\n",
    "import matplotlib.pyplot as plt\n",
    "import statsmodels.api as sm\n",
    "\n"
   ]
  },
  {
   "cell_type": "code",
   "execution_count": 131,
   "id": "cee9cdc2",
   "metadata": {},
   "outputs": [],
   "source": [
    "'''\n",
    "\n",
    "Generate a dataset where the series of outcomes are correlated over time.\n",
    "We all at least one pre-treatment period, and only one post-treatment period.\n",
    "We also only treat one unit.\n",
    "\n",
    "'''\n",
    "\n",
    "def data_with_ar(ar=0, preT=1, atet=0, N=5):\n",
    "    x_old = np.random.normal(0,0.25,N)\n",
    "    output_df = pd.DataFrame(data={'y':x_old, 'unit': np.arange(N), 'time':np.ones(N)})\n",
    "    \n",
    "    ## Create an series of outcomes that are correlated over time.\n",
    "    for t in range(preT):\n",
    "        if t==0:\n",
    "            pass\n",
    "        else:\n",
    "            x_new = x_old*(ar) + np.random.normal(0,0.25,N)*(1-ar) + np.random.normal(0,0.01,N)\n",
    "            output_df = pd.concat([output_df,\n",
    "                pd.DataFrame(data={'y':x_new, 'unit': np.arange(N), 'time':np.ones(N)*t})])\n",
    "            x_old = x_new[:]\n",
    "    ## Only allow one unit to be treated    \n",
    "    x_new = x_old*(ar) + np.random.normal(0,0.25,N)*(1-ar) + np.random.normal(0,0.01,N)\n",
    "    output_df = pd.concat([output_df,\n",
    "        pd.DataFrame(data={'y':x_new, 'unit': np.arange(N), 'time':np.ones(N)*t+1})])\n",
    "    output_df['treated'] = 0\n",
    "    output_df['post'] = 0\n",
    "    output_df.loc[ (output_df['unit']==0) & (output_df['time']==t+1) , 'y'] += atet\n",
    "    output_df.loc[ (output_df['unit']==0) , 'treated'] =1\n",
    "    output_df.loc[ (output_df['time']==t+1) , 'post'] =1\n",
    "    \n",
    "    return output_df"
   ]
  },
  {
   "cell_type": "code",
   "execution_count": 132,
   "id": "b72bfadb",
   "metadata": {},
   "outputs": [],
   "source": [
    "'''\n",
    "Simple DiD, putting inference aside.\n",
    "'''\n",
    "def did_simp(data=None):\n",
    "    ## Pre-treatment, control\n",
    "    pre_c = data.loc[(data['treated']==0) & (data['post']==0)]['y'].mean()\n",
    "    ## Pre-treatment, treat\n",
    "    pre_t = data.loc[(data['treated']==1) & (data['post']==0)]['y'].mean()\n",
    "    \n",
    "    ## Post-treatment, control\n",
    "    pst_c = data.loc[(data['treated']==0) & (data['post']==1)]['y'].mean()\n",
    "    ## Post-treatment, treat\n",
    "    pst_t = data.loc[(data['treated']==1) & (data['post']==1)]['y'].mean()\n",
    "    \n",
    "    ## simple atet estimate\n",
    "    atet_est = (pst_t - pst_c) - (pre_t - pre_c)\n",
    "    return atet_est\n",
    "    "
   ]
  },
  {
   "cell_type": "code",
   "execution_count": 133,
   "id": "67b9e84a",
   "metadata": {},
   "outputs": [],
   "source": [
    "N = 50\n",
    "preT = 3\n",
    "atet=3\n",
    "ar = 0.5\n",
    "\n",
    "df = data_with_ar(ar=ar, preT=3, atet=atet, N=N)\n"
   ]
  },
  {
   "cell_type": "code",
   "execution_count": 134,
   "id": "e8ca3f7e",
   "metadata": {},
   "outputs": [
    {
     "data": {
      "image/png": "[encoded data removed]",
      "text/plain": [
       "<Figure size 500x300 with 1 Axes>"
      ]
     },
     "metadata": {},
     "output_type": "display_data"
    }
   ],
   "source": [
    "plot_control = df.loc[df['treated']==0].groupby('time')['y'].mean()\n",
    "plot_treat = df.loc[df['treated']==1].groupby('time')['y'].mean()\n",
    "\n",
    "fig,ax = plt.subplots(ncols=1,nrows=1, figsize=(5,3))\n",
    "\n",
    "ax.scatter(x = plot_control.index, y=plot_control, color='green', label='Control')\n",
    "ax.scatter(x = plot_treat.index, y=plot_treat, color='red', label='Treat')\n",
    "ax.vlines(x = preT-0.5, ymax=df['y'].max(), ymin=df['y'].min() , color='black')\n",
    "ax.legend()\n",
    "ax.set_xticks(np.arange(1,preT+1))\n",
    "ax.set_xticklabels(np.arange(1,preT+1))\n",
    "plt.show()\n"
   ]
  },
  {
   "cell_type": "markdown",
   "id": "5f8da330",
   "metadata": {},
   "source": [
    "For different auto-correlation values, calculate the atet and bias.\n",
    "Also run a few bootstraps to rule out simulation noise."
   ]
  },
  {
   "cell_type": "code",
   "execution_count": null,
   "id": "801ce832",
   "metadata": {},
   "outputs": [],
   "source": [
    "atet_list = []\n",
    "ar_list = np.arange(0,1,0.10)\n",
    "pret_list = np.arange(2,10,3)\n",
    "true_gt = np.arange(4,10,2)\n",
    "\n",
    "sim_number = 200\n",
    "\n",
    "sim_results = pd.DataFrame()\n",
    "for gt in true_gt:\n",
    "    for t in pret_list:\n",
    "        for a in ar_list:\n",
    "            atet_sim = []\n",
    "            for s in range(sim_number):\n",
    "                df = data_with_ar(ar=a, preT=t, atet=gt, N=N)\n",
    "                atet_est = did_simp(data=df)\n",
    "                atet_sim.append(atet_est)\n",
    "            atet_ = np.median(atet_sim)\n",
    "            sim_results = pd.concat([sim_results, \n",
    "                                    pd.DataFrame(index=[0],data={'ar':a, 'pret':t, \n",
    "                                                                 'gt':gt,\n",
    "                                                                 'atet':atet_, 'bias': np.abs(atet_- gt),\n",
    "                                                                'mape': np.abs(atet_ - gt)/gt})])\n"
   ]
  },
  {
   "cell_type": "code",
   "execution_count": null,
   "id": "eea47c0c",
   "metadata": {},
   "outputs": [],
   "source": [
    "display(sim_results.describe())"
   ]
  },
  {
   "cell_type": "code",
   "execution_count": null,
   "id": "465838bc",
   "metadata": {},
   "outputs": [],
   "source": [
    "# for dim in ['ar','pret']:\n",
    "#     display(sim_results.groupby(dim)['mape'].mean())"
   ]
  },
  {
   "cell_type": "code",
   "execution_count": null,
   "id": "3a46089d",
   "metadata": {},
   "outputs": [],
   "source": [
    "'''\n",
    "Look at how bias varies over these different dimensions with heatmaps.\n",
    "'''\n",
    "fig, ax = plt.subplots(ncols=1,nrows=3, figsize=(8,5.5*3))         # Sample figsize in inches\n",
    "\n",
    "sim_results['mape_disp'] = sim_results['mape']*100\n",
    "\n",
    "\n",
    "import seaborn as sns\n",
    "mape_heatmap = pd.pivot_table(data=sim_results, columns='ar',index='pret', values=['mape_disp'])\n",
    "\n",
    "sns.heatmap(mape_heatmap,\n",
    "#             xticklabels = [ np.round(e,2) for e in ar_list],\n",
    "           xticklabels=['{0:3.0f}%'.format(x*100) for x in ar_list],\n",
    "            cmap=sns.light_palette(\"seagreen\", as_cmap=True) ,\n",
    "           ax=ax[0])\n",
    "ax[0].set_xlabel('AR Correlation over Time')\n",
    "ax[0].set_ylabel('Number of Pre-Treatment Periods')\n",
    "ax[0].set_title('MAPE of ATET Estimates')\n",
    "\n",
    "mape_heatmap = pd.pivot_table(data=sim_results, columns='ar',index='gt', values=['mape_disp'])\n",
    "\n",
    "sns.heatmap(mape_heatmap,\n",
    "#             xticklabels = [ np.round(e,2) for e in ar_list],\n",
    "           xticklabels=['{0:3.0f}%'.format(x*100) for x in ar_list],\n",
    "            cmap=sns.light_palette(\"coral\", as_cmap=True) ,\n",
    "           ax=ax[1])\n",
    "ax[1].set_xlabel('AR Correlation over Time')\n",
    "ax[1].set_ylabel('Ground Truth Impact')\n",
    "ax[1].set_title('MAPE of ATET Estimates')\n",
    "\n",
    "\n",
    "bias_heatmap = pd.pivot_table(data=sim_results, columns='ar',index='pret', values=['bias'])\n",
    "\n",
    "sns.heatmap(bias_heatmap,\n",
    "           xticklabels=['{0:3.0f}%'.format(x*100) for x in ar_list],\n",
    "            cmap=sns.color_palette(\"light:b\", as_cmap=True) ,\n",
    "           ax=ax[2])\n",
    "ax[2].set_xlabel('AR Correlation over Time')\n",
    "ax[2].set_ylabel('Number of Pre-Treatment Periods')\n",
    "ax[2].set_title('Bias of ATET Estimates')\n",
    "plt.show()\n",
    "plt.tight_layout()\n"
   ]
  },
  {
   "cell_type": "code",
   "execution_count": null,
   "id": "f55d3838",
   "metadata": {},
   "outputs": [],
   "source": []
  },
  {
   "cell_type": "code",
   "execution_count": null,
   "id": "f2c3939b",
   "metadata": {},
   "outputs": [],
   "source": []
  },
  {
   "cell_type": "code",
   "execution_count": null,
   "id": "592ebf25",
   "metadata": {},
   "outputs": [],
   "source": []
  },
  {
   "cell_type": "code",
   "execution_count": null,
   "id": "c766f043",
   "metadata": {},
   "outputs": [],
   "source": []
  }
 ],
 "metadata": {
  "kernelspec": {
   "display_name": "Python 3 (ipykernel)",
   "language": "python",
   "name": "python3"
  },
  "language_info": {
   "codemirror_mode": {
    "name": "ipython",
    "version": 3
   },
   "file_extension": ".py",
   "mimetype": "text/x-python",
   "name": "python",
   "nbconvert_exporter": "python",
   "pygments_lexer": "ipython3",
   "version": "3.9.13"
  }
 },
 "nbformat": 4,
 "nbformat_minor": 5
}
