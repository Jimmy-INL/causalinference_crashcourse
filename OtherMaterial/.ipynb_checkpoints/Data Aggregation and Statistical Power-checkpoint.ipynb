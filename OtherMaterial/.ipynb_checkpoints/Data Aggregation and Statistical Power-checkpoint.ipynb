{
 "cells": [
  {
   "cell_type": "markdown",
   "id": "4bec7152",
   "metadata": {},
   "source": [
    "# Data Aggregation and Statistical Power\n",
    "\n",
    "Julian Hsu\n",
    "\n",
    "30-mar-2023\n",
    "\n",
    "The purpose of this script is to understand how statistical power of an experiment depends on (1) experiment duration and (2) how we aggregate data. We will think about these scenarios in the context of panel data, where we track users over time.\n",
    "\n",
    "### Experiment Duration\n",
    "One way to increase the statistical power of an experiment is to run the experiment for longer. Assuming that the sample size is the same, we can extend the experiment duration to collect more trend data for each unit. However, depending on how unit-specific and time-specific noise there is, collecting more data may not actually increase power.\n",
    "\n",
    "Another way experiment duration increases power is increasing the sample size. Having a longer online experiment allows more users to enter - think about extending a marketing campaign so that more users get to see it. This is interesting as there could be selection in which types of customers are likely to see the experiment first, but we will ignore that here. \n",
    "\n",
    "\n",
    "\n",
    "### Aggregating Data\n",
    "In cases where there is a lot of unit-level variation or noise, we may choose to aggregate them to get a clearer signal at the cost of a lower sample size. For example, rather than studying individual customers, we can study customer segment-level metrics. This aggregation also extends to aggregating over time (ie from daily to weekly or monthly), which is what we will study in this script. \n",
    "\n",
    "\n"
   ]
  },
  {
   "cell_type": "markdown",
   "id": "9d55d882",
   "metadata": {},
   "source": [
    "For our examples, we will generate synthetic panel data where we can change how much explainable variation there is versus unexplained variation.\n",
    "\n",
    "Specifically, we are going to allow for:\n",
    "\n",
    "$$y_{it} = \\alpha y_{i,t-1} + \\beta X_{it} + \\gamma W_{it} + \\nu_i + \\tau_t + \\epsilon_{it} $$\n",
    "\n",
    "Where $\\alpha$ tells us how auto-regressive the series is\n",
    "\n",
    "Where $X_{it}$ has low variance, we have less explainable noise, and as $X_{it}$ variance increases (at an extreme it is sparse), we can allow more explainable noise.\n",
    "\n",
    "Where $\\gamma$ is our treatment effect of interest.\n",
    "\n",
    "Where $\\nu_i$ is unit-level fixed effect and $\\tau_t$ is a time fixed effect.\n",
    "\n",
    "Where $\\epsilon_{it} \\sim N(0,\\sigma)$ as $\\sigma$ increases we have more unexplainable noise. We can get even crazier and say that $\\epsilon_{it} = h(\\epsilon*_{it}), \\epsilon*_{it} \\sim N(0,\\sigma)$ where $h()$ can be a censoring or top-coding function to create uneven variation in noise.\n",
    "\n"
   ]
  },
  {
   "cell_type": "code",
   "execution_count": 1,
   "id": "e5f64ca9",
   "metadata": {},
   "outputs": [],
   "source": [
    "import numpy as np\n",
    "import pandas as pd\n",
    "\n",
    "%matplotlib inline\n",
    "\n",
    "import matplotlib\n",
    "import matplotlib.pyplot as plt\n",
    "\n",
    "import statsmodels.api as sm\n",
    "from linearmodels.panel import PanelOLS\n"
   ]
  },
  {
   "cell_type": "code",
   "execution_count": 25,
   "id": "9d4b1b22",
   "metadata": {},
   "outputs": [],
   "source": [
    "def dgp(N=None, ## How many observations\n",
    "        preT=None, ## How many pre-treatment time periods\n",
    "        pstT=None, ## How many post-treatment time periods\n",
    "        X_var=None, ## what is the variance in X\n",
    "        ar=0.50, ## AR strength\n",
    "        atet=1, ## Treatment effect\n",
    "        error_std=None ## How much idiosyncractic error there is\n",
    "       ):\n",
    "    micro_periods = 10\n",
    "    ## Create a panel data\n",
    "    totalT = (preT+pstT)*micro_periods\n",
    "    aggT =0\n",
    "    for t in range(totalT):        \n",
    "        if t==0:\n",
    "            df=pd.DataFrame()\n",
    "            unit_effect = np.random.uniform(-1,1,N)\n",
    "            treated_unit = np.arange(N) < 1\n",
    "            prey=np.zeros(N)\n",
    "        else:\n",
    "            prey=df.iloc[-1*N:]['y']\n",
    "        ## Allow for a grouped T effect\n",
    "        if t%micro_periods==0:\n",
    "#             aggt_effect = np.random.uniform(-1,1,N)\n",
    "            aggt_effect=0\n",
    "            aggT+=1\n",
    "        else:\n",
    "            pass\n",
    "        X= np.random.normal(0,X_var, N) * np.random.choice(2,N,p=[0.95,0.05])        \n",
    "        W= ( (t>=preT*micro_periods)*(treated_unit) ).astype(float)\n",
    "        post= float(t>=preT*micro_periods)\n",
    "        t_effect= np.random.uniform(-1,1,N)\n",
    "        y = ar*prey+X + atet*W + t_effect + unit_effect + aggt_effect+np.random.normal(0,error_std,N)\n",
    "        entry = pd.DataFrame(data={'unitid':np.arange(N),\n",
    "                                  't':t,\n",
    "                                    'aggT':aggT,\n",
    "                                  'X':X,\n",
    "                                  'W':W,\n",
    "                                   'post':post,\n",
    "                                  'y':y})\n",
    "        df = pd.concat([df,entry])\n",
    "    return df"
   ]
  },
  {
   "cell_type": "code",
   "execution_count": null,
   "id": "a57ba2c0",
   "metadata": {},
   "outputs": [],
   "source": []
  },
  {
   "cell_type": "code",
   "execution_count": 60,
   "id": "fece3529",
   "metadata": {},
   "outputs": [],
   "source": [
    "'''\n",
    "Have a DiD model \n",
    "'''\n",
    "\n",
    "def did_twfe(data=None, lag=False, aggstat='mean'):\n",
    "    try:\n",
    "        data.set_index(['unitid','t'],inplace=True)\n",
    "    except:\n",
    "        pass\n",
    "    if lag==False:\n",
    "        XX=sm.add_constant(data[['X','W']])\n",
    "    else:\n",
    "        XX=sm.add_constant(pd.concat([data[['X','W']],data.groupby(['unitid'])['y'].shift() ],axis=1) )\n",
    "    # Model\n",
    "    m = PanelOLS(dependent=data['y'],\n",
    "                 exog=XX,\n",
    "                 entity_effects=True,\n",
    "                 time_effects=True)\n",
    "    res=m.fit()    \n",
    "    \n",
    "    ## Model on aggregated by t dataset\n",
    "    data.reset_index(inplace=True)\n",
    "    dg=data.groupby(['unitid','aggT']).agg(X=('X',aggstat),\n",
    "                                         W=('W','max'),\n",
    "                                         y=('y',aggstat))\n",
    "    if lag==False:\n",
    "        XX=sm.add_constant(dg[['X','W']])\n",
    "    else:\n",
    "        XX=sm.add_constant(pd.concat([dg[['X','W']],dg.groupby(['unitid'])['y'].shift() ],axis=1) )\n",
    "    # Model\n",
    "    mg = PanelOLS(dependent=dg['y'],\n",
    "                 exog=XX,\n",
    "                 entity_effects=True,\n",
    "                 time_effects=True)\n",
    "    resg=mg.fit()    \n",
    "    \n",
    "    return pd.DataFrame(index=[0],data={'atet_indiv':res.params['W'],\n",
    "                      'se_indiv':res.std_errors['W'],\n",
    "                      'atet_agg':resg.params['W'],\n",
    "                      'se_agg':resg.std_errors['W']})"
   ]
  },
  {
   "cell_type": "code",
   "execution_count": 63,
   "id": "d9205b6b",
   "metadata": {},
   "outputs": [
    {
     "data": {
      "text/html": [
       "<div>\n",
       "<style scoped>\n",
       "    .dataframe tbody tr th:only-of-type {\n",
       "        vertical-align: middle;\n",
       "    }\n",
       "\n",
       "    .dataframe tbody tr th {\n",
       "        vertical-align: top;\n",
       "    }\n",
       "\n",
       "    .dataframe thead th {\n",
       "        text-align: right;\n",
       "    }\n",
       "</style>\n",
       "<table border=\"1\" class=\"dataframe\">\n",
       "  <thead>\n",
       "    <tr style=\"text-align: right;\">\n",
       "      <th></th>\n",
       "      <th>atet_indiv</th>\n",
       "      <th>se_indiv</th>\n",
       "      <th>atet_agg</th>\n",
       "      <th>se_agg</th>\n",
       "    </tr>\n",
       "  </thead>\n",
       "  <tbody>\n",
       "    <tr>\n",
       "      <th>0</th>\n",
       "      <td>1.971525</td>\n",
       "      <td>0.50665</td>\n",
       "      <td>3.086081</td>\n",
       "      <td>0.794668</td>\n",
       "    </tr>\n",
       "  </tbody>\n",
       "</table>\n",
       "</div>"
      ],
      "text/plain": [
       "   atet_indiv  se_indiv  atet_agg    se_agg\n",
       "0    1.971525   0.50665  3.086081  0.794668"
      ]
     },
     "metadata": {},
     "output_type": "display_data"
    }
   ],
   "source": [
    "df = dgp(N=30,preT=5,pstT=3,atet=2, X_var=1,error_std=1)\n",
    "twfe_result = did_twfe(data=df, lag=True, aggstat='mean')\n",
    "display(twfe_result)"
   ]
  },
  {
   "cell_type": "markdown",
   "id": "c3fc8ac8",
   "metadata": {},
   "source": [
    "I want to see how performance and ability to estimate the ATET and standard errors vary over:\n",
    "1. How many post-periods we have (representing experiment duration); and\n",
    "2. Whether we aggregate by time."
   ]
  },
  {
   "cell_type": "code",
   "execution_count": 28,
   "id": "423ef6ee",
   "metadata": {},
   "outputs": [],
   "source": [
    "import warnings\n",
    "warnings.simplefilter('ignore')"
   ]
  },
  {
   "cell_type": "code",
   "execution_count": 39,
   "id": "6ff134b3",
   "metadata": {},
   "outputs": [],
   "source": [
    "es_list= [0.15,0.85]\n",
    "post_list=[2,5,10]"
   ]
  },
  {
   "cell_type": "code",
   "execution_count": 54,
   "id": "13c6b500",
   "metadata": {},
   "outputs": [],
   "source": [
    "df_r=pd.DataFrame()\n",
    "atet_=2\n",
    "for pt in post_list:\n",
    "    for pr in post_list:\n",
    "        for es in es_list:\n",
    "            for s in range(10):\n",
    "                df = dgp(N=100,preT=pr,pstT=pt,atet=atet_, X_var=0.25,error_std=es)\n",
    "                twfe_result = did_twfe(data=df, lag=True)\n",
    "                twfe_result['preT']=pr\n",
    "                twfe_result['pstT']=pt\n",
    "                twfe_result['sim']=s\n",
    "                twfe_result['gt_atet']=atet_\n",
    "                twfe_result['error_std']=es\n",
    "                twfe_result['diff_indiv'] = twfe_result['atet_indiv'] - twfe_result['gt_atet']\n",
    "                twfe_result['diff_indiv_mape'] = twfe_result['diff_indiv']/twfe_result['gt_atet']\n",
    "                twfe_result['diff_agg'] = twfe_result['atet_agg'] - twfe_result['gt_atet']\n",
    "                twfe_result['diff_agg_mape'] = twfe_result['diff_agg']/twfe_result['gt_atet']        \n",
    "                df_r = pd.concat([df_r, twfe_result])"
   ]
  },
  {
   "cell_type": "code",
   "execution_count": 55,
   "id": "163c2e7f",
   "metadata": {},
   "outputs": [
    {
     "data": {
      "text/html": [
       "<div>\n",
       "<style scoped>\n",
       "    .dataframe tbody tr th:only-of-type {\n",
       "        vertical-align: middle;\n",
       "    }\n",
       "\n",
       "    .dataframe tbody tr th {\n",
       "        vertical-align: top;\n",
       "    }\n",
       "\n",
       "    .dataframe thead tr th {\n",
       "        text-align: left;\n",
       "    }\n",
       "\n",
       "    .dataframe thead tr:last-of-type th {\n",
       "        text-align: right;\n",
       "    }\n",
       "</style>\n",
       "<table border=\"1\" class=\"dataframe\">\n",
       "  <thead>\n",
       "    <tr>\n",
       "      <th></th>\n",
       "      <th colspan=\"3\" halign=\"left\">diff_agg_mape</th>\n",
       "      <th colspan=\"3\" halign=\"left\">diff_indiv_mape</th>\n",
       "    </tr>\n",
       "    <tr>\n",
       "      <th>preT</th>\n",
       "      <th>2</th>\n",
       "      <th>5</th>\n",
       "      <th>10</th>\n",
       "      <th>2</th>\n",
       "      <th>5</th>\n",
       "      <th>10</th>\n",
       "    </tr>\n",
       "    <tr>\n",
       "      <th>pstT</th>\n",
       "      <th></th>\n",
       "      <th></th>\n",
       "      <th></th>\n",
       "      <th></th>\n",
       "      <th></th>\n",
       "      <th></th>\n",
       "    </tr>\n",
       "  </thead>\n",
       "  <tbody>\n",
       "    <tr>\n",
       "      <th>2</th>\n",
       "      <td>0.739990</td>\n",
       "      <td>0.596812</td>\n",
       "      <td>0.795493</td>\n",
       "      <td>0.185491</td>\n",
       "      <td>0.115655</td>\n",
       "      <td>0.209434</td>\n",
       "    </tr>\n",
       "    <tr>\n",
       "      <th>5</th>\n",
       "      <td>0.633769</td>\n",
       "      <td>0.445945</td>\n",
       "      <td>0.567778</td>\n",
       "      <td>0.114708</td>\n",
       "      <td>-0.061823</td>\n",
       "      <td>0.046501</td>\n",
       "    </tr>\n",
       "    <tr>\n",
       "      <th>10</th>\n",
       "      <td>0.494308</td>\n",
       "      <td>0.376816</td>\n",
       "      <td>0.651544</td>\n",
       "      <td>-0.008684</td>\n",
       "      <td>-0.078375</td>\n",
       "      <td>0.101365</td>\n",
       "    </tr>\n",
       "  </tbody>\n",
       "</table>\n",
       "</div>"
      ],
      "text/plain": [
       "     diff_agg_mape                     diff_indiv_mape                    \n",
       "preT            2         5         10              2         5         10\n",
       "pstT                                                                      \n",
       "2         0.739990  0.596812  0.795493        0.185491  0.115655  0.209434\n",
       "5         0.633769  0.445945  0.567778        0.114708 -0.061823  0.046501\n",
       "10        0.494308  0.376816  0.651544       -0.008684 -0.078375  0.101365"
      ]
     },
     "metadata": {},
     "output_type": "display_data"
    }
   ],
   "source": [
    "display(\n",
    "    pd.pivot_table(df_rg, columns=['preT'], index=['pstT'], values=['diff_indiv_mape','diff_agg_mape'], aggfunc=np.mean )\n",
    ")"
   ]
  },
  {
   "cell_type": "code",
   "execution_count": 44,
   "id": "2eddfc87",
   "metadata": {},
   "outputs": [],
   "source": [
    "\n",
    "df_rg=df_r.groupby(['pstT','preT','error_std']).mean()\n",
    "df_rg.reset_index(inplace=True)"
   ]
  },
  {
   "cell_type": "code",
   "execution_count": 38,
   "id": "ed3a3cb0",
   "metadata": {},
   "outputs": [
    {
     "data": {
      "image/png": "[encoded data removed]",
      "text/plain": [
       "<Figure size 500x200 with 1 Axes>"
      ]
     },
     "metadata": {},
     "output_type": "display_data"
    },
    {
     "data": {
      "image/png": "[encoded data removed]",
      "text/plain": [
       "<Figure size 500x200 with 1 Axes>"
      ]
     },
     "metadata": {},
     "output_type": "display_data"
    }
   ],
   "source": [
    "for e in es_list:\n",
    "    fig,ax = plt.subplots(ncols=1,nrows=1,figsize=(5,2))\n",
    "    ax.scatter(df_rg.loc[df_rg['error_std']==e]['pstT'],\n",
    "               df_rg.loc[df_rg['error_std']==e]['diff_indiv_mape'], label='Granular Data')\n",
    "    ax.scatter(df_rg.loc[df_rg['error_std']==e]['pstT'],\n",
    "               df_rg.loc[df_rg['error_std']==e]['diff_agg_mape'], label='Aggregate Data')\n",
    "    ax.plot( df_rg.loc[df_rg['error_std']==e]['pstT'], np.zeros(len(df_rg.loc[df_rg['error_std']==e]['pstT'])), color='black')\n",
    "    ax.set_title('Variance on Error is {0:5.2f}'.format(e))\n",
    "    ax.set_ylabel('MAPE')\n",
    "    ax.set_xlabel('How Many Post Periods there Are')\n",
    "    ax.legend()\n",
    "    plt.show()\n",
    "\n"
   ]
  },
  {
   "cell_type": "code",
   "execution_count": null,
   "id": "4ce96b98",
   "metadata": {},
   "outputs": [],
   "source": []
  },
  {
   "cell_type": "code",
   "execution_count": null,
   "id": "cc33201a",
   "metadata": {},
   "outputs": [],
   "source": []
  }
 ],
 "metadata": {
  "kernelspec": {
   "display_name": "Python 3 (ipykernel)",
   "language": "python",
   "name": "python3"
  },
  "language_info": {
   "codemirror_mode": {
    "name": "ipython",
    "version": 3
   },
   "file_extension": ".py",
   "mimetype": "text/x-python",
   "name": "python",
   "nbconvert_exporter": "python",
   "pygments_lexer": "ipython3",
   "version": "3.9.13"
  }
 },
 "nbformat": 4,
 "nbformat_minor": 5
}
