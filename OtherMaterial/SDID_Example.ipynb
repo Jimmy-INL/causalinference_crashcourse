{
 "cells": [
  {
   "cell_type": "markdown",
   "id": "f8586bd5",
   "metadata": {},
   "source": [
    "# SDID Example\n",
    "hsujulia\n",
    "30oct2022\n",
    "\n",
    "This paper tries to implement the Synthetic Difference-in-Differences (SDiD, hereafter) following [Arkhangelsky, Athey, Hirschberg, Imbens, and Wager (2021) ](https://arxiv.org/pdf/1812.09970.pdf). Callout to the R Package written by Hirschberge, [synthdid](https://synth-inference.github.io/synthdid/).\n",
    "\n",
    "At a high-level, we want to estimate the tuple $(\\hat{\\tau}^{sdid}, \\hat{\\mu} , \\hat{\\alpha}, \\hat{\\beta}) $ to minimize:\n",
    "$$\\sum^N_{i=1} \\sum^T_{t=1} \\big( Y_{it} - \\mu - \\alpha_i - \\beta_t - W_{it} \\tau \\big)^2 \\hat{\\omega}^{sdid}_i \\hat{\\lambda}^{sdid}_t $$\n",
    "\n",
    "Where $\\omega_i$ are unit-varying weights, and $\\lambda$ are time-varying weights.\n",
    "\n",
    "For reference, we can write Difference-in-Differences (DiD) and synthetic control (SC) models as:\n",
    "* SDiD: $(\\hat{\\tau}^{SDiD}, \\hat{\\mu} , \\hat{\\alpha}, \\hat{\\beta}) = \\text{arg min} \\Big \\{ \\sum^N_{i=1} \\sum^T_{t=1} \\big( Y_{it} - \\mu - \\alpha_i - \\beta_t - W_{it} \\tau \\big)^2 \\hat{\\omega}^{sdid}_i \\hat{\\lambda}^{sdid}_t \\Big \\}$ \n",
    "* DiD: $(\\hat{\\tau}^{DiD}, \\hat{\\mu} , \\hat{\\alpha}, \\hat{\\beta}) = \\text{arg min} \\Big \\{ \\sum^N_{i=1} \\sum^T_{t=1} \\big( Y_{it} - \\mu - \\alpha_i - \\beta_t - W_{it} \\tau \\big)^2 \\Big \\}$ \n",
    "* SC: $(\\hat{\\tau}^{SC}, \\hat{\\mu} , \\hat{\\alpha}, \\hat{\\beta}) = \\text{arg min} \\Big \\{ \\sum^N_{i=1} \\sum^T_{t=1} \\big( Y_{it} - \\mu - \\alpha_i - \\beta_t - W_{it} \\tau \\big)^2 \\hat{\\omega}^{sc}_i  \\Big \\}$.\n",
    "    - Note that if we use SC defined by Abadie, [Diamond, and Hainmueller (201)](https://web.stanford.edu/~jhain/Paper/JASA2010.pdf), $\\alpha = 0$ \n",
    "\n",
    "\n",
    "\n"
   ]
  },
  {
   "cell_type": "markdown",
   "id": "931ebf4b",
   "metadata": {},
   "source": [
    "## Implementation following SDiD Paper (Arkhangelsky et al.)\n",
    "**Algorithm (called Algorithm 1 from the SDiD paper)**\n",
    "\n",
    "Notation:\n",
    "1. Outcome trend $Y_{it}$ for units $i$ and time periods $t$.\n",
    "2. For $t = 1,..., T_{pre}$, no units are treated. For $t >\\geq T_{post}$, some units started to be treated. \n",
    "2. $W_{it}$ indicates unit-time instances that are treated. \n",
    "3. $N_{co}$ control units, and $N_{tr}$ treated units.\n",
    "\n",
    "### 1. Compute regularization parameter $\\zeta$ \n",
    "\n",
    "### 2. Compute unit weights $\\omega^{sdid}_i$ \n",
    "\n",
    "### 3. Compute unit weights $\\lambda^{sdid}_t$ \n",
    "\n",
    "### 4. Compute SDiD Estimator "
   ]
  },
  {
   "cell_type": "code",
   "execution_count": null,
   "id": "ae14ccd1",
   "metadata": {},
   "outputs": [],
   "source": []
  },
  {
   "cell_type": "code",
   "execution_count": null,
   "id": "476f4924",
   "metadata": {},
   "outputs": [],
   "source": []
  },
  {
   "cell_type": "code",
   "execution_count": null,
   "id": "cebc220e",
   "metadata": {},
   "outputs": [],
   "source": []
  }
 ],
 "metadata": {
  "kernelspec": {
   "display_name": "Python 3 (ipykernel)",
   "language": "python",
   "name": "python3"
  },
  "language_info": {
   "codemirror_mode": {
    "name": "ipython",
    "version": 3
   },
   "file_extension": ".py",
   "mimetype": "text/x-python",
   "name": "python",
   "nbconvert_exporter": "python",
   "pygments_lexer": "ipython3",
   "version": "3.9.12"
  }
 },
 "nbformat": 4,
 "nbformat_minor": 5
}
