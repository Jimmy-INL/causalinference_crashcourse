{
 "cells": [
  {
   "cell_type": "markdown",
   "id": "35602845",
   "metadata": {},
   "source": [
    "# Panel Data \n",
    "Julian Hsu\n",
    "29may2022\n",
    "\n",
    "Let's do simulation experiments with panel data:\n",
    "1. What happens if we apply cross-sectional data methods to panel data?\n",
    "2. Difference in difference (DnD)\n",
    "    - The importance of controlling for fixed effects\n",
    "    - Experiment with applying ML models to DnD\n",
    "3. Synthetic control\n",
    "4. Synthetic difference-in-difference"
   ]
  },
  {
   "cell_type": "code",
   "execution_count": 4,
   "id": "5ed0ce98",
   "metadata": {},
   "outputs": [],
   "source": [
    "import pandas as pd\n",
    "import numpy as np\n",
    "import os as os \n",
    "\n",
    "from matplotlib import gridspec\n",
    "import matplotlib.pyplot as plt\n",
    "%matplotlib inline  \n",
    "\n",
    "from IPython.display import display    \n",
    "\n",
    "import scipy.stats \n",
    "\n",
    "from sklearn.linear_model import LogisticRegression, LinearRegression, Lasso, Ridge, LassoCV, LogisticRegressionCV\n",
    "from sklearn.ensemble import RandomForestRegressor, RandomForestClassifier\n",
    "from sklearn.metrics import mean_squared_error\n"
   ]
  },
  {
   "cell_type": "code",
   "execution_count": 31,
   "id": "9904fd25",
   "metadata": {},
   "outputs": [
    {
     "name": "stderr",
     "output_type": "stream",
     "text": [
      "/Users/hsujulia/opt/anaconda3/lib/python3.9/site-packages/statsmodels/tsa/base/tsa_model.py:7: FutureWarning: pandas.Int64Index is deprecated and will be removed from pandas in a future version. Use pandas.Index with the appropriate dtype instead.\n",
      "  from pandas import (to_datetime, Int64Index, DatetimeIndex, Period,\n",
      "/Users/hsujulia/opt/anaconda3/lib/python3.9/site-packages/statsmodels/tsa/base/tsa_model.py:7: FutureWarning: pandas.Float64Index is deprecated and will be removed from pandas in a future version. Use pandas.Index with the appropriate dtype instead.\n",
      "  from pandas import (to_datetime, Int64Index, DatetimeIndex, Period,\n"
     ]
    }
   ],
   "source": [
    "import stnomics as st"
   ]
  },
  {
   "cell_type": "markdown",
   "id": "ca20fa64",
   "metadata": {},
   "source": [
    "First we need to create synthetic panel data, with endogeneous treatment selection and impact. We will be looking at variation in treatment effects, so allow the ATET to different from the ATEU."
   ]
  },
  {
   "cell_type": "code",
   "execution_count": 414,
   "id": "f5beb3bc",
   "metadata": {},
   "outputs": [],
   "source": [
    "def synth_panel(seed_number = 2123, \n",
    "                time_units = 10, \n",
    "                x_units = 100, \n",
    "                K_dim = 5,\n",
    "               treatment_type = 'both',\n",
    "               treatment_imp = 10):\n",
    "    '''\n",
    "    seed_number  random_number_set\n",
    "    time_units   how many time periods?\n",
    "    x_units      how many units?\n",
    "    K_dim        how many covariates (assume uniform)\n",
    "    treatment_type    how is treatment determined? {'X','Y', 'both'}\n",
    "    treatment_imp     the level of treatment effect, constant for all post-treatment times\n",
    "    '''\n",
    "    ## Set the seed for random number\n",
    "    xfun = np.random.RandomState(seed_number)\n",
    "    \n",
    "    ## Construct covariates, time-invariant fixed effects, and first period outcome\n",
    "    X = xfun.uniform(low=0, high=1, size= (x_units, K_dim) )\n",
    "    X_coef = xfun.uniform(low=-2, high=2, size = K_dim)\n",
    "    x_list = ['x'+str(k) for k in range(K_dim)]\n",
    "    \n",
    "    \n",
    "    fe = xfun.normal(0,1, size=x_units)\n",
    "    \n",
    "    output_df = pd.DataFrame(data=X, columns=x_list)\n",
    "    output_df['fe'] = fe\n",
    "    output_df['Y'] = np.dot(X,X_coef) + fe + xfun.normal(0,1, size=x_units)\n",
    "    output_df['T'] = pd.to_datetime('2020/01/01')\n",
    "    output_df['unitid'] =  np.arange(x_units).astype(int)\n",
    "\n",
    "    decay = 0.60\n",
    "\n",
    "    for t in range(1,time_units):    \n",
    "        ## Create the panel by setting up an AR(1) type function.\n",
    "        prev_date = (pd.to_datetime('2020/01/01')+pd.offsets.DateOffset(months=t-1))\n",
    "        prev_data = decay*( output_df.loc[(output_df['T']==prev_date)][[r for r in output_df.columns if 'x' in r ]]     )\n",
    "        ## perturb it a little with AR(1)\n",
    "        prev_data += xfun.normal(0,1, size=(x_units,K_dim))\n",
    "        prev_data['Y'] = decay*np.dot(prev_data,X_coef) + fe + xfun.normal(0,1, size=x_units)\n",
    "        prev_data['T'] = pd.to_datetime('2020/01/01') + pd.offsets.DateOffset(months=t)\n",
    "        prev_data['unitid'] = np.arange(x_units).astype(int)\n",
    "        output_df = pd.concat([ output_df, prev_data])\n",
    "    output_df['unitid'] = 'unit' + output_df['unitid'].apply(str)\n",
    "    \n",
    "\n",
    "    '''\n",
    "    Decide the treatment effect based either the (i) covariates, (ii) pre-trend outcome, or (iii) both.\n",
    "    \n",
    "    Assign treatment to happen at the third to last time period\n",
    "    '''\n",
    "    if treatment_type=='X':\n",
    "        input_treatment = x_list[:]\n",
    "    elif treatment_type=='Y':\n",
    "        input_treatment = 'Y'\n",
    "    else:\n",
    "        input_treatment = x_list[:] + ['Y']\n",
    "        \n",
    "    output_df['treatment_latent'] = 0\n",
    "    treatment_date = (pd.to_datetime('2020/01/01')+pd.offsets.DateOffset(months=time_units-3))    \n",
    "    \n",
    "    latent_treatment = np.dot(output_df[input_treatment], \n",
    "                              xfun.uniform(-4,4, size=len(input_treatment))) +\\\n",
    "                             xfun.normal(0,1,size=len(output_df))\n",
    "    output_df['treatment_latent'] = np.exp(latent_treatment) / (1+ np.exp(latent_treatment))\n",
    "    \n",
    "    ## First decide treatment in the treatment time, and then make it permanent.    \n",
    "    treatment_latent_xsection = output_df.loc[(output_df['T'] == treatment_date)][['unitid','treatment_latent']]\n",
    "    treatment_decision = (treatment_latent_xsection['treatment_latent'] >\\\n",
    "                          treatment_latent_xsection['treatment_latent'].quantile(q=0.75))\n",
    "    treatment_ids = treatment_latent_xsection.loc[(treatment_decision==True)]['unitid']\n",
    "    \n",
    "    output_df['post'] = (output_df['T'] >= treatment_date).astype(float)\n",
    "    output_df['treatment_units'] = (output_df['unitid'].isin(treatment_ids)).astype(float)\n",
    "    \n",
    "    output_df['treatment'] = 0\n",
    "    output_df.loc[ (output_df['unitid'].isin(treatment_ids)) & (output_df['T'] >= treatment_date), 'treatment'  ] = 1\n",
    "\n",
    "    '''\n",
    "    Apply treatment effect\n",
    "    '''\n",
    "    output_df.loc[( output_df['treatment']==1) , 'Y'] = treatment_imp + output_df.loc[( output_df['treatment']==1) , 'Y']\n",
    "    \n",
    "    return output_df"
   ]
  },
  {
   "cell_type": "markdown",
   "id": "38644db6",
   "metadata": {},
   "source": [
    "# Applying xsectional method to panel data\n",
    "What if we only use one cross-section? \n",
    "\n",
    "What if we use each period's data as a separate feature?"
   ]
  },
  {
   "cell_type": "markdown",
   "id": "79035add",
   "metadata": {},
   "source": [
    "Let's graphically look at the trend in Y."
   ]
  },
  {
   "cell_type": "code",
   "execution_count": 415,
   "id": "ce1f8bd6",
   "metadata": {},
   "outputs": [
    {
     "data": {
      "text/html": [
       "<div>\n",
       "<style scoped>\n",
       "    .dataframe tbody tr th:only-of-type {\n",
       "        vertical-align: middle;\n",
       "    }\n",
       "\n",
       "    .dataframe tbody tr th {\n",
       "        vertical-align: top;\n",
       "    }\n",
       "\n",
       "    .dataframe thead th {\n",
       "        text-align: right;\n",
       "    }\n",
       "</style>\n",
       "<table border=\"1\" class=\"dataframe\">\n",
       "  <thead>\n",
       "    <tr style=\"text-align: right;\">\n",
       "      <th></th>\n",
       "      <th>x0</th>\n",
       "      <th>x1</th>\n",
       "      <th>x2</th>\n",
       "      <th>fe</th>\n",
       "      <th>Y</th>\n",
       "      <th>treatment_latent</th>\n",
       "      <th>post</th>\n",
       "      <th>treatment_units</th>\n",
       "      <th>treatment</th>\n",
       "    </tr>\n",
       "  </thead>\n",
       "  <tbody>\n",
       "    <tr>\n",
       "      <th>count</th>\n",
       "      <td>100.000000</td>\n",
       "      <td>100.000000</td>\n",
       "      <td>100.000000</td>\n",
       "      <td>10.000000</td>\n",
       "      <td>100.000000</td>\n",
       "      <td>1.000000e+02</td>\n",
       "      <td>100.000000</td>\n",
       "      <td>100.000000</td>\n",
       "      <td>100.000000</td>\n",
       "    </tr>\n",
       "    <tr>\n",
       "      <th>mean</th>\n",
       "      <td>0.481920</td>\n",
       "      <td>-0.188598</td>\n",
       "      <td>0.317878</td>\n",
       "      <td>0.406068</td>\n",
       "      <td>0.405583</td>\n",
       "      <td>3.512732e-01</td>\n",
       "      <td>0.300000</td>\n",
       "      <td>0.300000</td>\n",
       "      <td>0.090000</td>\n",
       "    </tr>\n",
       "    <tr>\n",
       "      <th>std</th>\n",
       "      <td>1.105340</td>\n",
       "      <td>1.050906</td>\n",
       "      <td>0.978362</td>\n",
       "      <td>0.611201</td>\n",
       "      <td>1.545094</td>\n",
       "      <td>3.979350e-01</td>\n",
       "      <td>0.460566</td>\n",
       "      <td>0.460566</td>\n",
       "      <td>0.287623</td>\n",
       "    </tr>\n",
       "    <tr>\n",
       "      <th>min</th>\n",
       "      <td>-3.446708</td>\n",
       "      <td>-3.242972</td>\n",
       "      <td>-2.307697</td>\n",
       "      <td>-1.156746</td>\n",
       "      <td>-2.920028</td>\n",
       "      <td>2.330542e-09</td>\n",
       "      <td>0.000000</td>\n",
       "      <td>0.000000</td>\n",
       "      <td>0.000000</td>\n",
       "    </tr>\n",
       "    <tr>\n",
       "      <th>25%</th>\n",
       "      <td>0.003146</td>\n",
       "      <td>-0.878114</td>\n",
       "      <td>-0.177608</td>\n",
       "      <td>0.337736</td>\n",
       "      <td>-0.543010</td>\n",
       "      <td>1.985268e-03</td>\n",
       "      <td>0.000000</td>\n",
       "      <td>0.000000</td>\n",
       "      <td>0.000000</td>\n",
       "    </tr>\n",
       "    <tr>\n",
       "      <th>50%</th>\n",
       "      <td>0.446489</td>\n",
       "      <td>-0.080098</td>\n",
       "      <td>0.475485</td>\n",
       "      <td>0.536401</td>\n",
       "      <td>0.234493</td>\n",
       "      <td>1.458202e-01</td>\n",
       "      <td>0.000000</td>\n",
       "      <td>0.000000</td>\n",
       "      <td>0.000000</td>\n",
       "    </tr>\n",
       "    <tr>\n",
       "      <th>75%</th>\n",
       "      <td>0.947607</td>\n",
       "      <td>0.665084</td>\n",
       "      <td>0.909095</td>\n",
       "      <td>0.749621</td>\n",
       "      <td>1.126053</td>\n",
       "      <td>7.837571e-01</td>\n",
       "      <td>1.000000</td>\n",
       "      <td>1.000000</td>\n",
       "      <td>0.000000</td>\n",
       "    </tr>\n",
       "    <tr>\n",
       "      <th>max</th>\n",
       "      <td>3.310783</td>\n",
       "      <td>1.767722</td>\n",
       "      <td>2.787906</td>\n",
       "      <td>1.026768</td>\n",
       "      <td>4.737021</td>\n",
       "      <td>9.999129e-01</td>\n",
       "      <td>1.000000</td>\n",
       "      <td>1.000000</td>\n",
       "      <td>1.000000</td>\n",
       "    </tr>\n",
       "  </tbody>\n",
       "</table>\n",
       "</div>"
      ],
      "text/plain": [
       "               x0          x1          x2         fe           Y  \\\n",
       "count  100.000000  100.000000  100.000000  10.000000  100.000000   \n",
       "mean     0.481920   -0.188598    0.317878   0.406068    0.405583   \n",
       "std      1.105340    1.050906    0.978362   0.611201    1.545094   \n",
       "min     -3.446708   -3.242972   -2.307697  -1.156746   -2.920028   \n",
       "25%      0.003146   -0.878114   -0.177608   0.337736   -0.543010   \n",
       "50%      0.446489   -0.080098    0.475485   0.536401    0.234493   \n",
       "75%      0.947607    0.665084    0.909095   0.749621    1.126053   \n",
       "max      3.310783    1.767722    2.787906   1.026768    4.737021   \n",
       "\n",
       "       treatment_latent        post  treatment_units   treatment  \n",
       "count      1.000000e+02  100.000000       100.000000  100.000000  \n",
       "mean       3.512732e-01    0.300000         0.300000    0.090000  \n",
       "std        3.979350e-01    0.460566         0.460566    0.287623  \n",
       "min        2.330542e-09    0.000000         0.000000    0.000000  \n",
       "25%        1.985268e-03    0.000000         0.000000    0.000000  \n",
       "50%        1.458202e-01    0.000000         0.000000    0.000000  \n",
       "75%        7.837571e-01    1.000000         1.000000    0.000000  \n",
       "max        9.999129e-01    1.000000         1.000000    1.000000  "
      ]
     },
     "metadata": {},
     "output_type": "display_data"
    },
    {
     "data": {
      "image/png": "[encoded data removed]",
      "text/plain": [
       "<Figure size 1440x576 with 2 Axes>"
      ]
     },
     "metadata": {
      "needs_background": "light"
     },
     "output_type": "display_data"
    }
   ],
   "source": [
    "treatment_effect = 2.5\n",
    "df = synth_panel(seed_number = 4527, \n",
    "                time_units = 10, \n",
    "                x_units = 10, \n",
    "                K_dim = 3,\n",
    "               treatment_type = 'both',\n",
    "               treatment_imp = treatment_effect)\n",
    "# display(df.columns)\n",
    "# display(df['T'].value_counts().sort_index())\n",
    "display(df.describe())\n",
    "\n",
    "df_mean = df.groupby(['treatment_units','T'])[['Y','treatment_latent']].mean().reset_index()\n",
    "# df_mean.reset_index(inplace=True)\n",
    "\n",
    "df_var = df.groupby(['treatment_units','T'])[['Y','treatment_latent']].var().reset_index()\n",
    "# df_var.reset_index(inplace=True)\n",
    "\n",
    "\n",
    "fig,ax = plt.subplots(ncols=1, nrows=2, figsize=(20,8))\n",
    "\n",
    "for i, yt in zip(range(2), ['Y','treatment_latent']):\n",
    "\n",
    "    ax[i].scatter(df_mean.loc[(df_mean['treatment_units']==1)]['T'], \n",
    "                  df_mean.loc[(df_mean['treatment_units']==1)][yt],\n",
    "                  color='magenta',alpha=1, label='control')\n",
    "    ax[i].errorbar(df_mean.loc[(df_mean['treatment_units']==0)]['T'], \n",
    "                  df_mean.loc[(df_mean['treatment_units']==0)][yt], \n",
    "                   yerr = df_var.loc[(df_var['treatment_units']==0)][yt],\n",
    "                  color='magenta',alpha=1)\n",
    "\n",
    "    ax[i].scatter(df_mean.loc[(df_mean['treatment_units']==1)]['T'], \n",
    "                  df_mean.loc[(df_mean['treatment_units']==1)][yt],\n",
    "                  color='seagreen',alpha=1, label='treatment')\n",
    "    ax[i].errorbar(df_mean.loc[(df_mean['treatment_units']==1)]['T'], \n",
    "                  df_mean.loc[(df_mean['treatment_units']==1)][yt], \n",
    "                   yerr = df_var.loc[(df_var['treatment_units']==1)][yt],              \n",
    "                  color='seagreen',alpha=1)\n",
    "    ax[i].legend(title=yt)\n",
    "    ax[i].set_xlabel('Time Period')\n",
    "    ax[i].set_ylabel(yt)\n",
    "    ax[i].grid()"
   ]
  },
  {
   "cell_type": "markdown",
   "id": "7ed163e5",
   "metadata": {},
   "source": [
    "Use different pre-treatment cross-sections to estimate the impact on different post-reatment cross-sections."
   ]
  },
  {
   "cell_type": "code",
   "execution_count": 416,
   "id": "93110a46",
   "metadata": {},
   "outputs": [
    {
     "name": "stdout",
     "output_type": "stream",
     "text": [
      "['x0', 'x1', 'x2', 'pre_Y']\n"
     ]
    }
   ],
   "source": [
    "split_name = 'splits'\n",
    "feature_list =[x for x in df.columns if x[0]=='x'] + ['pre_Y']\n",
    "outcome_name = 'Y'\n",
    "treatment_name = 'treatment_units'\n",
    "n_data_splits = 4\n",
    "aux_dict = {'lower':0.001, 'upper':0.999}\n",
    "\n",
    "print(feature_list)"
   ]
  },
  {
   "cell_type": "code",
   "execution_count": 417,
   "id": "96eb091a",
   "metadata": {},
   "outputs": [
    {
     "name": "stdout",
     "output_type": "stream",
     "text": [
      "\n",
      "Using pre-treatment data from 2020-01-01 00:00:00\n",
      "  plm-- 3.007[0.597] and True Impact is 2.500\n",
      "  irm-- 2.266[0.966] and True Impact is 2.500\n",
      " only using outcomes as covariates\n",
      "  plm-- 2.665[0.922] and True Impact is 2.500\n",
      "  irm-- 1.576[  nan] and True Impact is 2.500\n",
      "\n",
      "Using pre-treatment data from 2020-02-01 00:00:00\n",
      "  plm-- 2.252[0.680] and True Impact is 2.500\n",
      "  irm-- 2.483[0.688] and True Impact is 2.500\n",
      " only using outcomes as covariates\n",
      "  plm-- 3.432[0.726] and True Impact is 2.500\n",
      "  irm-- 2.465[3.899] and True Impact is 2.500\n",
      "\n",
      "Using pre-treatment data from 2020-03-01 00:00:00\n",
      "  plm-- 2.884[0.694] and True Impact is 2.500\n",
      "  irm-- 4.210[1.514] and True Impact is 2.500\n",
      " only using outcomes as covariates\n",
      "  plm-- 2.748[0.701] and True Impact is 2.500\n",
      "  irm-- 3.432[1.252] and True Impact is 2.500\n",
      "\n",
      "Using pre-treatment data from 2020-04-01 00:00:00\n",
      "  plm-- 3.893[0.708] and True Impact is 2.500\n",
      "  irm-- 2.770[0.639] and True Impact is 2.500\n",
      " only using outcomes as covariates\n",
      "  plm-- 2.963[0.633] and True Impact is 2.500\n",
      "  irm-- -31.663[  nan] and True Impact is 2.500\n",
      "\n",
      "Using pre-treatment data from 2020-05-01 00:00:00\n",
      "  plm-- 3.343[0.341] and True Impact is 2.500\n",
      "  irm-- 5.661[3.117] and True Impact is 2.500\n",
      " only using outcomes as covariates\n",
      "  plm-- 3.255[0.405] and True Impact is 2.500\n",
      "  irm-- 11.336[15.255] and True Impact is 2.500\n",
      "\n",
      "Using pre-treatment data from 2020-06-01 00:00:00\n",
      "  plm-- 3.536[0.529] and True Impact is 2.500\n",
      "  irm-- 3.229[0.604] and True Impact is 2.500\n",
      " only using outcomes as covariates\n",
      "  plm-- 2.297[0.603] and True Impact is 2.500\n",
      "  irm-- 2.072[0.701] and True Impact is 2.500\n",
      "\n",
      "Using pre-treatment data from 2020-07-01 00:00:00\n",
      "  plm-- 3.141[0.436] and True Impact is 2.500\n",
      "  irm-- 3.763[0.804] and True Impact is 2.500\n",
      " only using outcomes as covariates\n",
      "  plm-- 3.124[0.551] and True Impact is 2.500\n",
      "  irm-- -1.116[3.163] and True Impact is 2.500\n"
     ]
    }
   ],
   "source": [
    "difference_in_months = 6\n",
    "for di in range(difference_in_months+1):\n",
    "    start = df['T'].min()+pd.offsets.DateOffset(months=di)\n",
    "    x_df = df.loc[(df['T']==pd.to_datetime(start))]\n",
    "    x_df['pre_Y'] = x_df['Y'].values\n",
    "    \n",
    "    treated_ids = df.loc[(df['treatment_units']==1)]['unitid']\n",
    "    x_df['Y'] = df.loc[(df['T']==pd.to_datetime('2020-09-01'))]['Y'].values \n",
    "        \n",
    "    print('\\nUsing pre-treatment data from {1}'.format(di, start))\n",
    "    a = st.ate.dml.dml_plm(x_df, \n",
    "                    split_name, feature_list, outcome_name, treatment_name,\n",
    "                    RandomForestRegressor(n_estimators=100, random_state=27),\n",
    "                    RandomForestClassifier(n_estimators=100, random_state=27),\n",
    "                   n_data_splits,\n",
    "                   aux_dict)\n",
    "    print('  plm-- {0:5.3f}[{1:5.3f}] and True Impact is {2:5.3f}'.format(a['ATE TE'], a['ATE SE'], treatment_effect))\n",
    "    b = st.ate.dml.dml_irm(x_df, \n",
    "                    split_name, feature_list, outcome_name, treatment_name,\n",
    "                    RandomForestRegressor(n_estimators=100, random_state=27),\n",
    "                    RandomForestClassifier(n_estimators=100, random_state=27),\n",
    "                   n_data_splits,\n",
    "                   {'lower':0.001, 'upper':0.999})\n",
    "    print('  irm-- {0:5.3f}[{1:5.3f}] and True Impact is {2:5.3f}'.format(b['ATE TE'], b['ATE SE'], treatment_effect))\n",
    "    print(' only using outcomes as covariates')\n",
    "    a = st.ate.dml.dml_plm(x_df, \n",
    "                    split_name, ['pre_Y'], outcome_name, treatment_name,\n",
    "                    RandomForestRegressor(n_estimators=100, random_state=27),\n",
    "                    RandomForestClassifier(n_estimators=100, random_state=27),\n",
    "                   n_data_splits,\n",
    "                   aux_dict)  \n",
    "    print('  plm-- {0:5.3f}[{1:5.3f}] and True Impact is {2:5.3f}'.format(a['ATE TE'], a['ATE SE'], treatment_effect))\n",
    "    b = st.ate.dml.dml_irm(x_df, \n",
    "                    split_name, ['pre_Y'], outcome_name, treatment_name,\n",
    "                    RandomForestRegressor(n_estimators=100, random_state=27),\n",
    "                    RandomForestClassifier(n_estimators=100, random_state=27),\n",
    "                   n_data_splits,\n",
    "                   {'lower':0.001, 'upper':0.999})\n",
    "    print('  irm-- {0:5.3f}[{1:5.3f}] and True Impact is {2:5.3f}'.format(b['ATE TE'], b['ATE SE'], treatment_effect))    "
   ]
  },
  {
   "cell_type": "markdown",
   "id": "d6587241",
   "metadata": {},
   "source": [
    "What if we use the different time periods' different features?"
   ]
  },
  {
   "cell_type": "code",
   "execution_count": 418,
   "id": "45d6be3f",
   "metadata": {},
   "outputs": [],
   "source": [
    "x_df = df.loc[(df['T']< pd.to_datetime('2020-08-01'))][[p for p in df.columns if p[0]=='x']+\\\n",
    "                                                       ['Y','T','unitid','treatment_units']]\n",
    "x_df['T'] = x_df['T'].astype(str)\n",
    "\n",
    "x_df = x_df.pivot_table(columns='T',\n",
    "                index='unitid',\n",
    "                values=[p for p in df.columns if p[0]=='x']+ ['Y'])\n",
    "x_df.columns = ['_'.join(col) for col in x_df.columns]\n",
    "x_df.reset_index(inplace=True)\n",
    "\n",
    "treated_ids = df.loc[(df['treatment_units']==1)]['unitid']\n",
    "x_df['treated'] = (x_df['unitid'].isin(treated_ids)).astype(float)\n",
    "x_df['postY'] = df.loc[(df['T']==pd.to_datetime('2020-10-01'))]['Y'].values "
   ]
  },
  {
   "cell_type": "code",
   "execution_count": 419,
   "id": "bef3be25",
   "metadata": {},
   "outputs": [
    {
     "name": "stdout",
     "output_type": "stream",
     "text": [
      "\n",
      "Using all pre-treatment data\n",
      "  plm-- 2.991[0.437] and True Impact is 2.500\n",
      "  irm-- 2.779[0.557] and True Impact is 2.500\n",
      "only using pre-treatment outcomes\n",
      "  plm-- 2.873[0.424] and True Impact is 2.500\n",
      "  irm-- 3.885[0.902] and True Impact is 2.500\n"
     ]
    }
   ],
   "source": [
    "feature_x_name = [x for x in x_df.columns if x !='postY' and x != 'treated' and x !='unitid']\n",
    "outcome_x_name = 'postY'\n",
    "treatment_x_name = 'treated'\n",
    "print('\\nUsing all pre-treatment data')\n",
    "a = st.ate.dml.dml_plm(x_df, \n",
    "                split_name, feature_x_name, outcome_x_name, treatment_x_name,\n",
    "                RandomForestRegressor(n_estimators=100, random_state=27),\n",
    "                RandomForestClassifier(n_estimators=100, random_state=27),\n",
    "               n_data_splits,\n",
    "               aux_dict)\n",
    "print('  plm-- {0:5.3f}[{1:5.3f}] and True Impact is {2:5.3f}'.format(a['ATE TE'], a['ATE SE'], treatment_effect))\n",
    "b = st.ate.dml.dml_irm(x_df, \n",
    "                split_name, feature_x_name, outcome_x_name, treatment_x_name,\n",
    "                RandomForestRegressor(n_estimators=100, random_state=27),\n",
    "                RandomForestClassifier(n_estimators=100, random_state=27),\n",
    "               n_data_splits,\n",
    "               aux_dict)\n",
    "print('  irm-- {0:5.3f}[{1:5.3f}] and True Impact is {2:5.3f}'.format(b['ATE TE'], b['ATE SE'], treatment_effect))\n",
    "print('only using pre-treatment outcomes')\n",
    "a = st.ate.dml.dml_plm(x_df, \n",
    "                split_name, [y for y in feature_x_name if 'Y' in y], outcome_x_name, treatment_x_name,\n",
    "                RandomForestRegressor(n_estimators=100, random_state=27),\n",
    "                RandomForestClassifier(n_estimators=100, random_state=27),\n",
    "               n_data_splits,\n",
    "               aux_dict)\n",
    "print('  plm-- {0:5.3f}[{1:5.3f}] and True Impact is {2:5.3f}'.format(a['ATE TE'], a['ATE SE'], treatment_effect))\n",
    "b = st.ate.dml.dml_irm(x_df, \n",
    "                split_name, [y for y in feature_x_name if 'Y' in y], outcome_x_name, treatment_x_name,\n",
    "                RandomForestRegressor(n_estimators=100, random_state=27),\n",
    "                RandomForestClassifier(n_estimators=100, random_state=27),\n",
    "               n_data_splits,\n",
    "               aux_dict)\n",
    "print('  irm-- {0:5.3f}[{1:5.3f}] and True Impact is {2:5.3f}'.format(b['ATE TE'], b['ATE SE'], treatment_effect))\n"
   ]
  },
  {
   "cell_type": "markdown",
   "id": "a8fa87b8",
   "metadata": {},
   "source": [
    "# Difference in Difference\n",
    "\n",
    "We can be really flexible with controlling for fixed effects and time fixed effects.\n",
    "Our set up is that we have control units indexed by $i = 0,..., N_T-1$ and then treated units index by $i = N_T, ..., \\mathbb{N}$.\n",
    "\n",
    "$\\text{(A)  } \\hspace{1cm} Y_{it} = \\rho_0 1\\{ i \\geq N_T, t \\geq T^* \\} + \\rho_1 1\\{ i \\geq N_T \\} + \\rho_2 1\\{ t \\geq T^* \\} + \\epsilon_{it} $\n",
    "\n",
    "$\\text{(B)  } \\hspace{1cm} Y_{it} = \\rho_0 1\\{ i \\geq N_T, t \\geq T^* \\} + \\tau_t + FE_i + \\epsilon_{it}$\n"
   ]
  },
  {
   "cell_type": "code",
   "execution_count": 420,
   "id": "43fd41e3",
   "metadata": {},
   "outputs": [],
   "source": [
    "import statsmodels.api as sm"
   ]
  },
  {
   "cell_type": "code",
   "execution_count": 421,
   "id": "b93ca7bc",
   "metadata": {},
   "outputs": [],
   "source": [
    "'''\n",
    "Create the fixed effects\n",
    "'''\n",
    "for i in pd.get_dummies(df['unitid']).columns:\n",
    "    df['fe_'+i] = (df['unitid']==i).astype(float)\n",
    "for t, dt in zip( range(len(pd.get_dummies(df['T']).columns)), pd.get_dummies(df['T']).columns):\n",
    "    df['t_'+str(t)] = (df['T']==dt).astype(float)\n",
    "    "
   ]
  },
  {
   "cell_type": "code",
   "execution_count": 422,
   "id": "e56fac3b",
   "metadata": {},
   "outputs": [],
   "source": [
    "'''\n",
    "Create lagged outcome\n",
    "'''\n",
    "dnd_data = df.merge(\n",
    "    df.set_index(['unitid','T'])['Y'].shift(1).reset_index().rename(columns={'Y':'Y.l1'}), \\\n",
    "        how='left', \\\n",
    "        left_on = ['unitid','T'],    right_on = ['unitid','T'])"
   ]
  },
  {
   "cell_type": "code",
   "execution_count": 423,
   "id": "e2230aed",
   "metadata": {},
   "outputs": [],
   "source": [
    "def show_dnd_est(ols_result, truth):\n",
    "    display('{0:5.3f} [{1:5.3f}], ({2:5.3f}, {3:5.3f})'.format(ols_result.params.treatment,\n",
    "                                                             ols_result.bse.treatment,\n",
    "                                                             ols_result.conf_int().loc['treatment'][0],\n",
    "                                                             ols_result.conf_int().loc['treatment'][1] ))\n",
    "    display(' Bias: {0:5.3f}'.format(ols_result.params.treatment - truth))"
   ]
  },
  {
   "cell_type": "code",
   "execution_count": 424,
   "id": "604b0646",
   "metadata": {},
   "outputs": [
    {
     "name": "stderr",
     "output_type": "stream",
     "text": [
      "/Users/hsujulia/opt/anaconda3/lib/python3.9/site-packages/statsmodels/tsa/tsatools.py:142: FutureWarning: In a future version of pandas all arguments of concat except for the argument 'objs' will be keyword-only.\n",
      "  x = pd.concat(x[::order], 1)\n"
     ]
    },
    {
     "data": {
      "text/plain": [
       "'3.027 [0.557], (1.922, 4.133)'"
      ]
     },
     "metadata": {},
     "output_type": "display_data"
    },
    {
     "name": "stderr",
     "output_type": "stream",
     "text": [
      "/Users/hsujulia/opt/anaconda3/lib/python3.9/site-packages/statsmodels/tsa/tsatools.py:142: FutureWarning: In a future version of pandas all arguments of concat except for the argument 'objs' will be keyword-only.\n",
      "  x = pd.concat(x[::order], 1)\n"
     ]
    },
    {
     "data": {
      "text/plain": [
       "'3.056 [0.565], (1.934, 4.177)'"
      ]
     },
     "metadata": {},
     "output_type": "display_data"
    }
   ],
   "source": [
    "## Estimate Equation A\n",
    "dnd_modelA = sm.OLS(dnd_data['Y'], \n",
    "                    sm.add_constant(dnd_data[    ['post', 'treatment_units','treatment']] )).fit()\n",
    "show_dnd_est(dnd_modelA, )\n",
    "\n",
    "dnd_modelA = sm.OLS(dnd_data.loc[ pd.isna(dnd_data['Y.l1'])==False  ]['Y'], \n",
    "                   sm.add_constant(dnd_data.loc[ pd.isna(dnd_data['Y.l1'])==False  ][    ['post', 'treatment_units','treatment', 'Y.l1']] )).fit()\n",
    "show_dnd_est(dnd_modelA)"
   ]
  },
  {
   "cell_type": "code",
   "execution_count": 425,
   "id": "5d631dff",
   "metadata": {},
   "outputs": [
    {
     "name": "stderr",
     "output_type": "stream",
     "text": [
      "/Users/hsujulia/opt/anaconda3/lib/python3.9/site-packages/statsmodels/tsa/tsatools.py:142: FutureWarning: In a future version of pandas all arguments of concat except for the argument 'objs' will be keyword-only.\n",
      "  x = pd.concat(x[::order], 1)\n"
     ]
    },
    {
     "data": {
      "text/plain": [
       "'3.027 [0.513], (2.007, 4.048)'"
      ]
     },
     "metadata": {},
     "output_type": "display_data"
    },
    {
     "name": "stderr",
     "output_type": "stream",
     "text": [
      "/Users/hsujulia/opt/anaconda3/lib/python3.9/site-packages/statsmodels/tsa/tsatools.py:142: FutureWarning: In a future version of pandas all arguments of concat except for the argument 'objs' will be keyword-only.\n",
      "  x = pd.concat(x[::order], 1)\n"
     ]
    },
    {
     "data": {
      "text/plain": [
       "'3.063 [0.513], (2.042, 4.083)'"
      ]
     },
     "metadata": {},
     "output_type": "display_data"
    }
   ],
   "source": [
    "## Estimate Equation B\n",
    "fe_te = [x for x in df.columns if x[0:3]=='fe_'] + \\\n",
    "                  [e for e in df.columns if e[0:2]=='t_' ]\n",
    "\n",
    "## Estimate Equation A\n",
    "dnd_modelB = sm.OLS(dnd_data['Y'], \n",
    "                    sm.add_constant(dnd_data[    ['post', 'treatment_units','treatment']\\\n",
    "                                            +fe_te] )).fit()\n",
    "show_dnd_est(dnd_modelB)\n",
    "\n",
    "dnd_modelB = sm.OLS(dnd_data.loc[ pd.isna(dnd_data['Y.l1'])==False  ]['Y'], \n",
    "                   sm.add_constant(dnd_data.loc[ pd.isna(dnd_data['Y.l1'])==False  ][    ['post', 'treatment_units','treatment', 'Y.l1']\\\n",
    "                                                                                    +fe_te] )).fit()\n",
    "show_dnd_est(dnd_modelB)"
   ]
  },
  {
   "cell_type": "code",
   "execution_count": 262,
   "id": "22d6ce7d",
   "metadata": {},
   "outputs": [],
   "source": []
  },
  {
   "cell_type": "code",
   "execution_count": null,
   "id": "278f6c3c",
   "metadata": {},
   "outputs": [],
   "source": []
  },
  {
   "cell_type": "code",
   "execution_count": null,
   "id": "ec07c366",
   "metadata": {},
   "outputs": [],
   "source": []
  },
  {
   "cell_type": "markdown",
   "id": "b4340a1a",
   "metadata": {},
   "source": [
    "# Synthetic Control"
   ]
  },
  {
   "cell_type": "code",
   "execution_count": null,
   "id": "317f51fa",
   "metadata": {},
   "outputs": [],
   "source": [
    "## Abadie/Diamond/Hainmueller    \n",
    "from typing import List\n",
    "from operator import add\n",
    "from toolz import reduce, partial\n",
    "\n",
    "## Define loss function\n",
    "def loss_w(W, X, y) -> float:\n",
    "    return np.sqrt(np.mean((y - X.dot(W))**2))\n",
    "\n",
    "from scipy.optimize import fmin_slsqp\n",
    "\n",
    "def get_w(X, y):\n",
    "    \n",
    "    w_start = [1/X.shape[1]]*X.shape[1]+np.random.uniform(-0.005,0.005, X.shape[1])\n",
    "#     w_start = np.ones(X.shape[1])\n",
    "\n",
    "    weights = fmin_slsqp(partial(loss_w, X=X, y=y),\n",
    "                         np.array(w_start),\n",
    "                         f_eqcons=lambda x: np.sum(x) - 1,\n",
    "                         iter=50000, \n",
    "                         bounds=[(0.0, 1.0)]*len(w_start),\n",
    "                         disp=False)\n",
    "    return weights\n",
    "\n",
    "##  Doudchenko/Imbens (DI)\n",
    "os.chdir(home_dir + '/SCM[1]')\n",
    "try:\n",
    "    import importlib\n",
    "    importlib.reload(SCM_tuned_hsujulia)\n",
    "except:\n",
    "    import SCM_tuned_hsujulia as SCM\n",
    "    "
   ]
  },
  {
   "cell_type": "code",
   "execution_count": null,
   "id": "481b6c27",
   "metadata": {},
   "outputs": [],
   "source": []
  },
  {
   "cell_type": "code",
   "execution_count": null,
   "id": "4f8ccfc1",
   "metadata": {},
   "outputs": [],
   "source": []
  },
  {
   "cell_type": "code",
   "execution_count": null,
   "id": "b258ef37",
   "metadata": {},
   "outputs": [],
   "source": []
  },
  {
   "cell_type": "code",
   "execution_count": null,
   "id": "6121196e",
   "metadata": {},
   "outputs": [],
   "source": []
  },
  {
   "cell_type": "code",
   "execution_count": null,
   "id": "71d1971c",
   "metadata": {},
   "outputs": [],
   "source": []
  }
 ],
 "metadata": {
  "kernelspec": {
   "display_name": "Python 3 (ipykernel)",
   "language": "python",
   "name": "python3"
  },
  "language_info": {
   "codemirror_mode": {
    "name": "ipython",
    "version": 3
   },
   "file_extension": ".py",
   "mimetype": "text/x-python",
   "name": "python",
   "nbconvert_exporter": "python",
   "pygments_lexer": "ipython3",
   "version": "3.9.12"
  }
 },
 "nbformat": 4,
 "nbformat_minor": 5
}
