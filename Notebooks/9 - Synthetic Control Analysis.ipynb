{
 "cells": [
  {
   "cell_type": "markdown",
   "id": "2e12ff0b",
   "metadata": {},
   "source": [
    "# 9 - Synthetic Control Analysis\n",
    "hsujulia\n",
    "4april2022\n",
    "\n",
    "Let's do some synthetic control using CPS data. \n",
    "This notebook is inspired by (https://github.com/matheusfacure/python-causality-handbook/blob/master/causal-inference-for-the-brave-and-true/15-Synthetic-Control.ipynb) \n",
    "\n",
    "We'll start with a synthetic control that only estimates weights based on the outcome. Then we will improve on this by incorporating covariate features.\n"
   ]
  },
  {
   "cell_type": "code",
   "execution_count": 2,
   "id": "98e48e70",
   "metadata": {},
   "outputs": [],
   "source": [
    "import pandas as pd\n",
    "import numpy as np\n",
    "import os as os \n",
    "\n",
    "from matplotlib import gridspec\n",
    "import matplotlib.pyplot as plt\n",
    "%matplotlib inline  \n",
    "\n",
    "import statsmodels.api as sm\n",
    "import statsmodels.formula.api as smf\n",
    "from statsmodels.discrete.conditional_models import ConditionalLogit\n",
    "\n",
    "from IPython.display import display    \n",
    "\n",
    "\n",
    "import scipy.stats \n",
    "\n",
    "from sklearn.linear_model import LogisticRegression, LinearRegression, Lasso, Ridge, LassoCV, LogisticRegressionCV\n",
    "from sklearn.ensemble import RandomForestRegressor, RandomForestClassifier\n",
    "from sklearn.neural_network import MLPRegressor, MLPClassifier\n",
    "from sklearn.metrics import mean_squared_error\n"
   ]
  },
  {
   "cell_type": "code",
   "execution_count": 3,
   "id": "c4dcda7f",
   "metadata": {},
   "outputs": [
    {
     "data": {
      "text/plain": [
       "'/Users/hsujulia/Documents/GitHub/causalinference_crashcourse/Notebooks'"
      ]
     },
     "execution_count": 3,
     "metadata": {},
     "output_type": "execute_result"
    }
   ],
   "source": [
    "os.getcwd()"
   ]
  },
  {
   "cell_type": "code",
   "execution_count": 4,
   "id": "16288122",
   "metadata": {},
   "outputs": [],
   "source": [
    "df = pd.read_pickle('/Users/hsujulia/Documents/GitHub/causalinference_crashcourse/Notebooks/9 Synthetic Control - CPS Data')"
   ]
  },
  {
   "cell_type": "markdown",
   "id": "a871de97",
   "metadata": {},
   "source": [
    "## 1. Set up a fake treatment.\n",
    "Let's pick NJ to be our placebo state, where our outcome is unemployment rate. Then we will use synthetic control of a pre-treatment period to figure out what the synthetic control would look like, then compare the actual and predicted outcome.\n",
    "\n",
    "We'll start by plotting the unemployment rate over our dataset, then let's apply a fake treatment to the unemployment rate at a given time frame."
   ]
  },
  {
   "cell_type": "code",
   "execution_count": 5,
   "id": "17c74b14",
   "metadata": {},
   "outputs": [],
   "source": [
    "df = df.reset_index()"
   ]
  },
  {
   "cell_type": "code",
   "execution_count": 6,
   "id": "b0a53d1a",
   "metadata": {},
   "outputs": [
    {
     "data": {
      "text/plain": [
       "Text(0.5, 0.98, 'Unemployment Rate in 2021')"
      ]
     },
     "execution_count": 6,
     "metadata": {},
     "output_type": "execute_result"
    },
    {
     "data": {
      "image/png": "[encoded data removed]",
      "text/plain": [
       "<Figure size 720x288 with 1 Axes>"
      ]
     },
     "metadata": {
      "needs_background": "light"
     },
     "output_type": "display_data"
    }
   ],
   "source": [
    "df['NJ_not'] = (df['state']=='NJ')\n",
    "df_plot = df.groupby(['NJ_not','hryear4','hrmonth'])['laborforce_unemp'].mean().to_frame()\n",
    "df_plot.reset_index(inplace=True)\n",
    "fig,ax = plt.subplots(figsize=(10,4))\n",
    "ax.plot( df_plot.loc[df_plot['NJ_not']==False]['hrmonth'], df_plot.loc[df_plot['NJ_not']==False]['laborforce_unemp'], \n",
    "            color='orange', label='Not NJ')\n",
    "ax.plot( df_plot.loc[df_plot['NJ_not']==True]['hrmonth'], df_plot.loc[df_plot['NJ_not']==True]['laborforce_unemp'], \n",
    "        color='blue', label='NJ')\n",
    "ax.set_ylabel('Unemployment Rate')\n",
    "ax.set_xlabel('Month')\n",
    "ax.set_xticks(np.arange(5,12.1,1))\n",
    "ax.set_xticklabels(['May','June','Jul','Aug','Sep','Oct','Nov','Dec'])\n",
    "ax.grid()\n",
    "ax.legend(loc='upper right')\n",
    "fig.suptitle('Unemployment Rate in 2021')\n"
   ]
  },
  {
   "cell_type": "markdown",
   "id": "65180991",
   "metadata": {},
   "source": [
    "Let's decide Nov-2021 as the treatment time, with Dec-2021 as when the treatment effect is observed."
   ]
  },
  {
   "cell_type": "code",
   "execution_count": 7,
   "id": "5a183305",
   "metadata": {},
   "outputs": [],
   "source": [
    "df['treatment'] = (df['hrmonth'] >= 12)"
   ]
  },
  {
   "cell_type": "code",
   "execution_count": 8,
   "id": "6e9f4154",
   "metadata": {},
   "outputs": [],
   "source": [
    "features = [\n",
    "       'hefaminc_0k_15k','hefaminc_15k_50k', 'hefaminc_50k_100k', 'hefaminc_100kplus',\n",
    "#        'laborforce_no', 'laborforce_unemp', 'laborforce_ft', 'laborforce_pt',\n",
    "       'marriage', 'rent', 'agri', 'educ_lesshs', 'educ_someAA', 'educ_BA',\n",
    "       'educ_grad', 'prernwa']\n"
   ]
  },
  {
   "cell_type": "code",
   "execution_count": 9,
   "id": "8307e048",
   "metadata": {},
   "outputs": [
    {
     "name": "stdout",
     "output_type": "stream",
     "text": [
      "hefaminc_15k_50k  0.1507036\n",
      "hefaminc_50k_100k  0.2700561\n",
      "hefaminc_100kplus  0.1698928\n",
      "marriage  0.0338663\n",
      "agri  0.9952903\n",
      "educ_lesshs -0.2363124\n",
      "educ_someAA -0.0693964\n",
      "educ_BA  0.1921779\n",
      "educ_grad -0.1708637\n",
      "prernwa  0.0000069\n"
     ]
    }
   ],
   "source": [
    "####\n",
    "## Do some feature selection of the outcome\n",
    "####\n",
    "lcv = LassoCV(cv=5, normalize=True)\n",
    "lcv_fit = lcv.fit(y=df['laborforce_employed'],X=df[features[1:]])\n",
    "selected_features = []\n",
    "for f,p in zip(features[1:],lcv_fit.coef_):\n",
    "    if p !=0:\n",
    "        print('{0} {1:10.7f}'.format(f,p))\n",
    "        selected_features.append(f)\n",
    "    "
   ]
  },
  {
   "cell_type": "markdown",
   "id": "ef3c74d9",
   "metadata": {},
   "source": [
    "## 2. Only using the outcome variable\n",
    "This is relatively simple in that we only need to calculate weights to match the pre-treatment period outcome. However, the risk is that the synthetic controls may be different in key features that relate to our outcome. We'll try to address this in the next section. This Section serves as a baseline for comparison."
   ]
  },
  {
   "cell_type": "code",
   "execution_count": 10,
   "id": "118b63c4",
   "metadata": {},
   "outputs": [],
   "source": [
    "## Now bring in functions needed to calculate weights for synthetic control\n",
    "\n",
    "from typing import List\n",
    "from operator import add\n",
    "from toolz import reduce, partial\n",
    "\n",
    "## Define loss function\n",
    "def loss_w(W, X, y) -> float:\n",
    "    return np.sqrt(np.mean((y - X.dot(W))**2))\n",
    "\n",
    "from scipy.optimize import fmin_slsqp\n",
    "\n",
    "def get_w(X, y):\n",
    "    \n",
    "    w_start = [1/X.shape[1]]*X.shape[1]\n",
    "\n",
    "    weights = fmin_slsqp(partial(loss_w, X=X, y=y),\n",
    "                         np.array(w_start),\n",
    "                         f_eqcons=lambda x: np.sum(x) - 1,\n",
    "                         bounds=[(0.0, 1.0)]*len(w_start),\n",
    "                         disp=False)\n",
    "    return weights\n",
    "\n"
   ]
  },
  {
   "cell_type": "markdown",
   "id": "63be8e5f",
   "metadata": {},
   "source": [
    "\n",
    "The use of partial hear means that we have a loss function loss_w that calculates the loss, and it takes the SAME X and y inputs every time. The only that matters is the *W* input, which the fmin_slsqp function is trying to optimize over.\n",
    "\n",
    "\n",
    "*Quick word on what partial does:*\n",
    "```\n",
    ">>> def f(x, y, z):\n",
    "...     # Do stuff with x, y, and z\n",
    "\n",
    ">>> # partially evaluate f with known values a and b\n",
    ">>> def g(z):\n",
    "...     return f(a, b, z)\n",
    "\n",
    ">>> # partially evaluate f with known values a and b\n",
    ">>> g = partial(f, a, b)\n",
    "```"
   ]
  },
  {
   "cell_type": "code",
   "execution_count": 11,
   "id": "e72e0b5c",
   "metadata": {},
   "outputs": [],
   "source": [
    "def estimate_treatment(data, state, synth):\n",
    "    return data.loc[(data['state']==state) & (data['hrmonth']==12) ]['laborforce_unemp'].values[0] - synth[-1]\n",
    "def assign_treat(data, state, eff):\n",
    "    ##Baseline value before we add a treatment\n",
    "    baseline = data.loc[(data['state']==state) & (data['hrmonth']==12) ]['laborforce_unemp'].values[0]\n",
    "    \n",
    "    ## Create a copy of the outcome which will allow us to loop through more scenarios better\n",
    "    data['laborforce_unempXXX'] = data['laborforce_unemp'].values\n",
    "    ## Add the treatment\n",
    "    data.loc[(data['state']==state) & (data['hrmonth']==12) , 'laborforce_unempXXX'] = baseline+eff\n"
   ]
  },
  {
   "cell_type": "code",
   "execution_count": null,
   "id": "ddb2445b",
   "metadata": {},
   "outputs": [],
   "source": []
  },
  {
   "cell_type": "code",
   "execution_count": 12,
   "id": "8c15e61e",
   "metadata": {},
   "outputs": [],
   "source": [
    "df.sort_values(by=['state','hrmonth'], ascending=True, inplace=True)"
   ]
  },
  {
   "cell_type": "code",
   "execution_count": 13,
   "id": "1535b4d4",
   "metadata": {},
   "outputs": [],
   "source": [
    "def sc_model(st_input,print_diag=False):\n",
    "    df['treatment_state'] = (df['state']==st_input)\n",
    "\n",
    "    ####\n",
    "    ## Make your data\n",
    "    ####\n",
    "    inverted_df = (df.query(\"~treatment\") # filter pre-intervention period\n",
    "                .pivot(index='state', columns=\"hrmonth\")[['laborforce_unemployed']] # make one column per year and one row per state\n",
    "                .T) # flip the table to have one column per state\n",
    "\n",
    "    y = inverted_df[st_input]['laborforce_unemployed']\n",
    "    X = inverted_df[[p for p in inverted_df.columns if p != st_input ]].loc[['laborforce_unemployed']]\n",
    "    if print_diag==True:\n",
    "        display(y.head())\n",
    "        display(X.head(20))\n",
    "    ####\n",
    "    ## Calculate weights\n",
    "    ####\n",
    "    nj_weights = get_w(X, y)\n",
    "    if print_diag==True:\n",
    "        print(\"Sum:\", nj_weights.sum())\n",
    "        for w, p in zip(nj_weights, X.columns):\n",
    "            if (w > 0.1**3):\n",
    "                print(p, np.round(w, 3))\n",
    "\n",
    "    synth = df.query(\"~treatment_state\").pivot(index='state', columns=\"hrmonth\")[\"laborforce_unemployed\"].values.T.dot(nj_weights)\n",
    "\n",
    "    ####\n",
    "    ## calculate treatment estimate\n",
    "    ####\n",
    "    est = estimate_treatment(df, st_input, synth)\n",
    "    return {'estimate':est, 'synthetic trend':synth, 'weights':nj_weights}"
   ]
  },
  {
   "cell_type": "code",
   "execution_count": 14,
   "id": "5a841375",
   "metadata": {},
   "outputs": [],
   "source": [
    "## Do a Fisher exact test and cycle through all the states"
   ]
  },
  {
   "cell_type": "code",
   "execution_count": 15,
   "id": "8b0a437c",
   "metadata": {},
   "outputs": [
    {
     "ename": "KeyboardInterrupt",
     "evalue": "",
     "output_type": "error",
     "traceback": [
      "\u001b[0;31m---------------------------------------------------------------------------\u001b[0m",
      "\u001b[0;31mKeyboardInterrupt\u001b[0m                         Traceback (most recent call last)",
      "\u001b[0;32m/var/folders/_c/0fv8s9rj3kj8pqls6ht2g00j9h1vd3/T/ipykernel_94921/666071124.py\u001b[0m in \u001b[0;36m<module>\u001b[0;34m\u001b[0m\n\u001b[1;32m      4\u001b[0m \u001b[0;32mfor\u001b[0m \u001b[0ms\u001b[0m \u001b[0;32min\u001b[0m \u001b[0mstate_list\u001b[0m\u001b[0;34m:\u001b[0m\u001b[0;34m\u001b[0m\u001b[0;34m\u001b[0m\u001b[0m\n\u001b[1;32m      5\u001b[0m     \u001b[0;32mif\u001b[0m \u001b[0ms\u001b[0m \u001b[0;34m!=\u001b[0m \u001b[0;34m'NJ'\u001b[0m\u001b[0;34m:\u001b[0m\u001b[0;34m\u001b[0m\u001b[0;34m\u001b[0m\u001b[0m\n\u001b[0;32m----> 6\u001b[0;31m         \u001b[0madk\u001b[0m \u001b[0;34m=\u001b[0m \u001b[0msc_model\u001b[0m\u001b[0;34m(\u001b[0m\u001b[0ms\u001b[0m\u001b[0;34m,\u001b[0m\u001b[0mprint_diag\u001b[0m\u001b[0;34m=\u001b[0m\u001b[0;32mFalse\u001b[0m\u001b[0;34m)\u001b[0m\u001b[0;34m\u001b[0m\u001b[0;34m\u001b[0m\u001b[0m\n\u001b[0m\u001b[1;32m      7\u001b[0m         \u001b[0mplacebo_trend\u001b[0m\u001b[0;34m[\u001b[0m\u001b[0ms\u001b[0m\u001b[0;34m]\u001b[0m\u001b[0;34m=\u001b[0m\u001b[0madk\u001b[0m\u001b[0;34m[\u001b[0m\u001b[0;34m'synthetic trend'\u001b[0m\u001b[0;34m]\u001b[0m\u001b[0;34m\u001b[0m\u001b[0;34m\u001b[0m\u001b[0m\n\u001b[1;32m      8\u001b[0m         \u001b[0mplacebo_est\u001b[0m\u001b[0;34m.\u001b[0m\u001b[0mappend\u001b[0m\u001b[0;34m(\u001b[0m\u001b[0madk\u001b[0m\u001b[0;34m[\u001b[0m\u001b[0;34m'estimate'\u001b[0m\u001b[0;34m]\u001b[0m\u001b[0;34m)\u001b[0m\u001b[0;34m\u001b[0m\u001b[0;34m\u001b[0m\u001b[0m\n",
      "\u001b[0;32m/var/folders/_c/0fv8s9rj3kj8pqls6ht2g00j9h1vd3/T/ipykernel_94921/2709888255.py\u001b[0m in \u001b[0;36msc_model\u001b[0;34m(st_input, print_diag)\u001b[0m\n\u001b[1;32m     17\u001b[0m     \u001b[0;31m## Calculate weights\u001b[0m\u001b[0;34m\u001b[0m\u001b[0;34m\u001b[0m\u001b[0m\n\u001b[1;32m     18\u001b[0m     \u001b[0;31m####\u001b[0m\u001b[0;34m\u001b[0m\u001b[0;34m\u001b[0m\u001b[0m\n\u001b[0;32m---> 19\u001b[0;31m     \u001b[0mnj_weights\u001b[0m \u001b[0;34m=\u001b[0m \u001b[0mget_w\u001b[0m\u001b[0;34m(\u001b[0m\u001b[0mX\u001b[0m\u001b[0;34m,\u001b[0m \u001b[0my\u001b[0m\u001b[0;34m)\u001b[0m\u001b[0;34m\u001b[0m\u001b[0;34m\u001b[0m\u001b[0m\n\u001b[0m\u001b[1;32m     20\u001b[0m     \u001b[0;32mif\u001b[0m \u001b[0mprint_diag\u001b[0m\u001b[0;34m==\u001b[0m\u001b[0;32mTrue\u001b[0m\u001b[0;34m:\u001b[0m\u001b[0;34m\u001b[0m\u001b[0;34m\u001b[0m\u001b[0m\n\u001b[1;32m     21\u001b[0m         \u001b[0mprint\u001b[0m\u001b[0;34m(\u001b[0m\u001b[0;34m\"Sum:\"\u001b[0m\u001b[0;34m,\u001b[0m \u001b[0mnj_weights\u001b[0m\u001b[0;34m.\u001b[0m\u001b[0msum\u001b[0m\u001b[0;34m(\u001b[0m\u001b[0;34m)\u001b[0m\u001b[0;34m)\u001b[0m\u001b[0;34m\u001b[0m\u001b[0;34m\u001b[0m\u001b[0m\n",
      "\u001b[0;32m/var/folders/_c/0fv8s9rj3kj8pqls6ht2g00j9h1vd3/T/ipykernel_94921/3620676492.py\u001b[0m in \u001b[0;36mget_w\u001b[0;34m(X, y)\u001b[0m\n\u001b[1;32m     15\u001b[0m     \u001b[0mw_start\u001b[0m \u001b[0;34m=\u001b[0m \u001b[0;34m[\u001b[0m\u001b[0;36m1\u001b[0m\u001b[0;34m/\u001b[0m\u001b[0mX\u001b[0m\u001b[0;34m.\u001b[0m\u001b[0mshape\u001b[0m\u001b[0;34m[\u001b[0m\u001b[0;36m1\u001b[0m\u001b[0;34m]\u001b[0m\u001b[0;34m]\u001b[0m\u001b[0;34m*\u001b[0m\u001b[0mX\u001b[0m\u001b[0;34m.\u001b[0m\u001b[0mshape\u001b[0m\u001b[0;34m[\u001b[0m\u001b[0;36m1\u001b[0m\u001b[0;34m]\u001b[0m\u001b[0;34m\u001b[0m\u001b[0;34m\u001b[0m\u001b[0m\n\u001b[1;32m     16\u001b[0m \u001b[0;34m\u001b[0m\u001b[0m\n\u001b[0;32m---> 17\u001b[0;31m     weights = fmin_slsqp(partial(loss_w, X=X, y=y),\n\u001b[0m\u001b[1;32m     18\u001b[0m                          \u001b[0mnp\u001b[0m\u001b[0;34m.\u001b[0m\u001b[0marray\u001b[0m\u001b[0;34m(\u001b[0m\u001b[0mw_start\u001b[0m\u001b[0;34m)\u001b[0m\u001b[0;34m,\u001b[0m\u001b[0;34m\u001b[0m\u001b[0;34m\u001b[0m\u001b[0m\n\u001b[1;32m     19\u001b[0m                          \u001b[0mf_eqcons\u001b[0m\u001b[0;34m=\u001b[0m\u001b[0;32mlambda\u001b[0m \u001b[0mx\u001b[0m\u001b[0;34m:\u001b[0m \u001b[0mnp\u001b[0m\u001b[0;34m.\u001b[0m\u001b[0msum\u001b[0m\u001b[0;34m(\u001b[0m\u001b[0mx\u001b[0m\u001b[0;34m)\u001b[0m \u001b[0;34m-\u001b[0m \u001b[0;36m1\u001b[0m\u001b[0;34m,\u001b[0m\u001b[0;34m\u001b[0m\u001b[0;34m\u001b[0m\u001b[0m\n",
      "\u001b[0;32m~/opt/anaconda3/lib/python3.9/site-packages/scipy/optimize/slsqp.py\u001b[0m in \u001b[0;36mfmin_slsqp\u001b[0;34m(func, x0, eqcons, f_eqcons, ieqcons, f_ieqcons, bounds, fprime, fprime_eqcons, fprime_ieqcons, args, iter, acc, iprint, disp, full_output, epsilon, callback)\u001b[0m\n\u001b[1;32m    205\u001b[0m                   'args': args}, )\n\u001b[1;32m    206\u001b[0m \u001b[0;34m\u001b[0m\u001b[0m\n\u001b[0;32m--> 207\u001b[0;31m     res = _minimize_slsqp(func, x0, args, jac=fprime, bounds=bounds,\n\u001b[0m\u001b[1;32m    208\u001b[0m                           constraints=cons, **opts)\n\u001b[1;32m    209\u001b[0m     \u001b[0;32mif\u001b[0m \u001b[0mfull_output\u001b[0m\u001b[0;34m:\u001b[0m\u001b[0;34m\u001b[0m\u001b[0;34m\u001b[0m\u001b[0m\n",
      "\u001b[0;32m~/opt/anaconda3/lib/python3.9/site-packages/scipy/optimize/slsqp.py\u001b[0m in \u001b[0;36m_minimize_slsqp\u001b[0;34m(func, x0, args, jac, bounds, constraints, maxiter, ftol, iprint, disp, eps, callback, finite_diff_rel_step, **unknown_options)\u001b[0m\n\u001b[1;32m    373\u001b[0m \u001b[0;34m\u001b[0m\u001b[0m\n\u001b[1;32m    374\u001b[0m     \u001b[0;31m# ScalarFunction provides function and gradient evaluation\u001b[0m\u001b[0;34m\u001b[0m\u001b[0;34m\u001b[0m\u001b[0m\n\u001b[0;32m--> 375\u001b[0;31m     sf = _prepare_scalar_function(func, x, jac=jac, args=args, epsilon=eps,\n\u001b[0m\u001b[1;32m    376\u001b[0m                                   \u001b[0mfinite_diff_rel_step\u001b[0m\u001b[0;34m=\u001b[0m\u001b[0mfinite_diff_rel_step\u001b[0m\u001b[0;34m,\u001b[0m\u001b[0;34m\u001b[0m\u001b[0;34m\u001b[0m\u001b[0m\n\u001b[1;32m    377\u001b[0m                                   bounds=new_bounds)\n",
      "\u001b[0;32m~/opt/anaconda3/lib/python3.9/site-packages/scipy/optimize/optimize.py\u001b[0m in \u001b[0;36m_prepare_scalar_function\u001b[0;34m(fun, x0, jac, args, bounds, epsilon, finite_diff_rel_step, hess)\u001b[0m\n\u001b[1;32m    259\u001b[0m     \u001b[0;31m# ScalarFunction caches. Reuse of fun(x) during grad\u001b[0m\u001b[0;34m\u001b[0m\u001b[0;34m\u001b[0m\u001b[0m\n\u001b[1;32m    260\u001b[0m     \u001b[0;31m# calculation reduces overall function evaluations.\u001b[0m\u001b[0;34m\u001b[0m\u001b[0;34m\u001b[0m\u001b[0m\n\u001b[0;32m--> 261\u001b[0;31m     sf = ScalarFunction(fun, x0, args, grad, hess,\n\u001b[0m\u001b[1;32m    262\u001b[0m                         finite_diff_rel_step, bounds, epsilon=epsilon)\n\u001b[1;32m    263\u001b[0m \u001b[0;34m\u001b[0m\u001b[0m\n",
      "\u001b[0;32m~/opt/anaconda3/lib/python3.9/site-packages/scipy/optimize/_differentiable_functions.py\u001b[0m in \u001b[0;36m__init__\u001b[0;34m(self, fun, x0, args, grad, hess, finite_diff_rel_step, finite_diff_bounds, epsilon)\u001b[0m\n\u001b[1;32m    157\u001b[0m \u001b[0;34m\u001b[0m\u001b[0m\n\u001b[1;32m    158\u001b[0m         \u001b[0mself\u001b[0m\u001b[0;34m.\u001b[0m\u001b[0m_update_grad_impl\u001b[0m \u001b[0;34m=\u001b[0m \u001b[0mupdate_grad\u001b[0m\u001b[0;34m\u001b[0m\u001b[0;34m\u001b[0m\u001b[0m\n\u001b[0;32m--> 159\u001b[0;31m         \u001b[0mself\u001b[0m\u001b[0;34m.\u001b[0m\u001b[0m_update_grad\u001b[0m\u001b[0;34m(\u001b[0m\u001b[0;34m)\u001b[0m\u001b[0;34m\u001b[0m\u001b[0;34m\u001b[0m\u001b[0m\n\u001b[0m\u001b[1;32m    160\u001b[0m \u001b[0;34m\u001b[0m\u001b[0m\n\u001b[1;32m    161\u001b[0m         \u001b[0;31m# Hessian Evaluation\u001b[0m\u001b[0;34m\u001b[0m\u001b[0;34m\u001b[0m\u001b[0m\n",
      "\u001b[0;32m~/opt/anaconda3/lib/python3.9/site-packages/scipy/optimize/_differentiable_functions.py\u001b[0m in \u001b[0;36m_update_grad\u001b[0;34m(self)\u001b[0m\n\u001b[1;32m    236\u001b[0m     \u001b[0;32mdef\u001b[0m \u001b[0m_update_grad\u001b[0m\u001b[0;34m(\u001b[0m\u001b[0mself\u001b[0m\u001b[0;34m)\u001b[0m\u001b[0;34m:\u001b[0m\u001b[0;34m\u001b[0m\u001b[0;34m\u001b[0m\u001b[0m\n\u001b[1;32m    237\u001b[0m         \u001b[0;32mif\u001b[0m \u001b[0;32mnot\u001b[0m \u001b[0mself\u001b[0m\u001b[0;34m.\u001b[0m\u001b[0mg_updated\u001b[0m\u001b[0;34m:\u001b[0m\u001b[0;34m\u001b[0m\u001b[0;34m\u001b[0m\u001b[0m\n\u001b[0;32m--> 238\u001b[0;31m             \u001b[0mself\u001b[0m\u001b[0;34m.\u001b[0m\u001b[0m_update_grad_impl\u001b[0m\u001b[0;34m(\u001b[0m\u001b[0;34m)\u001b[0m\u001b[0;34m\u001b[0m\u001b[0;34m\u001b[0m\u001b[0m\n\u001b[0m\u001b[1;32m    239\u001b[0m             \u001b[0mself\u001b[0m\u001b[0;34m.\u001b[0m\u001b[0mg_updated\u001b[0m \u001b[0;34m=\u001b[0m \u001b[0;32mTrue\u001b[0m\u001b[0;34m\u001b[0m\u001b[0;34m\u001b[0m\u001b[0m\n\u001b[1;32m    240\u001b[0m \u001b[0;34m\u001b[0m\u001b[0m\n",
      "\u001b[0;32m~/opt/anaconda3/lib/python3.9/site-packages/scipy/optimize/_differentiable_functions.py\u001b[0m in \u001b[0;36mupdate_grad\u001b[0;34m()\u001b[0m\n\u001b[1;32m    153\u001b[0m                 \u001b[0mself\u001b[0m\u001b[0;34m.\u001b[0m\u001b[0m_update_fun\u001b[0m\u001b[0;34m(\u001b[0m\u001b[0;34m)\u001b[0m\u001b[0;34m\u001b[0m\u001b[0;34m\u001b[0m\u001b[0m\n\u001b[1;32m    154\u001b[0m                 \u001b[0mself\u001b[0m\u001b[0;34m.\u001b[0m\u001b[0mngev\u001b[0m \u001b[0;34m+=\u001b[0m \u001b[0;36m1\u001b[0m\u001b[0;34m\u001b[0m\u001b[0;34m\u001b[0m\u001b[0m\n\u001b[0;32m--> 155\u001b[0;31m                 self.g = approx_derivative(fun_wrapped, self.x, f0=self.f,\n\u001b[0m\u001b[1;32m    156\u001b[0m                                            **finite_diff_options)\n\u001b[1;32m    157\u001b[0m \u001b[0;34m\u001b[0m\u001b[0m\n",
      "\u001b[0;32m~/opt/anaconda3/lib/python3.9/site-packages/scipy/optimize/_numdiff.py\u001b[0m in \u001b[0;36mapprox_derivative\u001b[0;34m(fun, x0, method, rel_step, abs_step, f0, bounds, sparsity, as_linear_operator, args, kwargs)\u001b[0m\n\u001b[1;32m    484\u001b[0m \u001b[0;34m\u001b[0m\u001b[0m\n\u001b[1;32m    485\u001b[0m         \u001b[0;32mif\u001b[0m \u001b[0msparsity\u001b[0m \u001b[0;32mis\u001b[0m \u001b[0;32mNone\u001b[0m\u001b[0;34m:\u001b[0m\u001b[0;34m\u001b[0m\u001b[0;34m\u001b[0m\u001b[0m\n\u001b[0;32m--> 486\u001b[0;31m             return _dense_difference(fun_wrapped, x0, f0, h,\n\u001b[0m\u001b[1;32m    487\u001b[0m                                      use_one_sided, method)\n\u001b[1;32m    488\u001b[0m         \u001b[0;32melse\u001b[0m\u001b[0;34m:\u001b[0m\u001b[0;34m\u001b[0m\u001b[0;34m\u001b[0m\u001b[0m\n",
      "\u001b[0;32m~/opt/anaconda3/lib/python3.9/site-packages/scipy/optimize/_numdiff.py\u001b[0m in \u001b[0;36m_dense_difference\u001b[0;34m(fun, x0, f0, h, use_one_sided, method)\u001b[0m\n\u001b[1;32m    555\u001b[0m             \u001b[0mx\u001b[0m \u001b[0;34m=\u001b[0m \u001b[0mx0\u001b[0m \u001b[0;34m+\u001b[0m \u001b[0mh_vecs\u001b[0m\u001b[0;34m[\u001b[0m\u001b[0mi\u001b[0m\u001b[0;34m]\u001b[0m\u001b[0;34m\u001b[0m\u001b[0;34m\u001b[0m\u001b[0m\n\u001b[1;32m    556\u001b[0m             \u001b[0mdx\u001b[0m \u001b[0;34m=\u001b[0m \u001b[0mx\u001b[0m\u001b[0;34m[\u001b[0m\u001b[0mi\u001b[0m\u001b[0;34m]\u001b[0m \u001b[0;34m-\u001b[0m \u001b[0mx0\u001b[0m\u001b[0;34m[\u001b[0m\u001b[0mi\u001b[0m\u001b[0;34m]\u001b[0m  \u001b[0;31m# Recompute dx as exactly representable number.\u001b[0m\u001b[0;34m\u001b[0m\u001b[0;34m\u001b[0m\u001b[0m\n\u001b[0;32m--> 557\u001b[0;31m             \u001b[0mdf\u001b[0m \u001b[0;34m=\u001b[0m \u001b[0mfun\u001b[0m\u001b[0;34m(\u001b[0m\u001b[0mx\u001b[0m\u001b[0;34m)\u001b[0m \u001b[0;34m-\u001b[0m \u001b[0mf0\u001b[0m\u001b[0;34m\u001b[0m\u001b[0;34m\u001b[0m\u001b[0m\n\u001b[0m\u001b[1;32m    558\u001b[0m         \u001b[0;32melif\u001b[0m \u001b[0mmethod\u001b[0m \u001b[0;34m==\u001b[0m \u001b[0;34m'3-point'\u001b[0m \u001b[0;32mand\u001b[0m \u001b[0muse_one_sided\u001b[0m\u001b[0;34m[\u001b[0m\u001b[0mi\u001b[0m\u001b[0;34m]\u001b[0m\u001b[0;34m:\u001b[0m\u001b[0;34m\u001b[0m\u001b[0;34m\u001b[0m\u001b[0m\n\u001b[1;32m    559\u001b[0m             \u001b[0mx1\u001b[0m \u001b[0;34m=\u001b[0m \u001b[0mx0\u001b[0m \u001b[0;34m+\u001b[0m \u001b[0mh_vecs\u001b[0m\u001b[0;34m[\u001b[0m\u001b[0mi\u001b[0m\u001b[0;34m]\u001b[0m\u001b[0;34m\u001b[0m\u001b[0;34m\u001b[0m\u001b[0m\n",
      "\u001b[0;32m~/opt/anaconda3/lib/python3.9/site-packages/scipy/optimize/_numdiff.py\u001b[0m in \u001b[0;36mfun_wrapped\u001b[0;34m(x)\u001b[0m\n\u001b[1;32m    435\u001b[0m \u001b[0;34m\u001b[0m\u001b[0m\n\u001b[1;32m    436\u001b[0m     \u001b[0;32mdef\u001b[0m \u001b[0mfun_wrapped\u001b[0m\u001b[0;34m(\u001b[0m\u001b[0mx\u001b[0m\u001b[0;34m)\u001b[0m\u001b[0;34m:\u001b[0m\u001b[0;34m\u001b[0m\u001b[0;34m\u001b[0m\u001b[0m\n\u001b[0;32m--> 437\u001b[0;31m         \u001b[0mf\u001b[0m \u001b[0;34m=\u001b[0m \u001b[0mnp\u001b[0m\u001b[0;34m.\u001b[0m\u001b[0matleast_1d\u001b[0m\u001b[0;34m(\u001b[0m\u001b[0mfun\u001b[0m\u001b[0;34m(\u001b[0m\u001b[0mx\u001b[0m\u001b[0;34m,\u001b[0m \u001b[0;34m*\u001b[0m\u001b[0margs\u001b[0m\u001b[0;34m,\u001b[0m \u001b[0;34m**\u001b[0m\u001b[0mkwargs\u001b[0m\u001b[0;34m)\u001b[0m\u001b[0;34m)\u001b[0m\u001b[0;34m\u001b[0m\u001b[0;34m\u001b[0m\u001b[0m\n\u001b[0m\u001b[1;32m    438\u001b[0m         \u001b[0;32mif\u001b[0m \u001b[0mf\u001b[0m\u001b[0;34m.\u001b[0m\u001b[0mndim\u001b[0m \u001b[0;34m>\u001b[0m \u001b[0;36m1\u001b[0m\u001b[0;34m:\u001b[0m\u001b[0;34m\u001b[0m\u001b[0;34m\u001b[0m\u001b[0m\n\u001b[1;32m    439\u001b[0m             raise RuntimeError(\"`fun` return value has \"\n",
      "\u001b[0;32m~/opt/anaconda3/lib/python3.9/site-packages/scipy/optimize/_differentiable_functions.py\u001b[0m in \u001b[0;36mfun_wrapped\u001b[0;34m(x)\u001b[0m\n\u001b[1;32m    132\u001b[0m             \u001b[0;31m# Overwriting results in undefined behaviour because\u001b[0m\u001b[0;34m\u001b[0m\u001b[0;34m\u001b[0m\u001b[0m\n\u001b[1;32m    133\u001b[0m             \u001b[0;31m# fun(self.x) will change self.x, with the two no longer linked.\u001b[0m\u001b[0;34m\u001b[0m\u001b[0;34m\u001b[0m\u001b[0m\n\u001b[0;32m--> 134\u001b[0;31m             \u001b[0;32mreturn\u001b[0m \u001b[0mfun\u001b[0m\u001b[0;34m(\u001b[0m\u001b[0mnp\u001b[0m\u001b[0;34m.\u001b[0m\u001b[0mcopy\u001b[0m\u001b[0;34m(\u001b[0m\u001b[0mx\u001b[0m\u001b[0;34m)\u001b[0m\u001b[0;34m,\u001b[0m \u001b[0;34m*\u001b[0m\u001b[0margs\u001b[0m\u001b[0;34m)\u001b[0m\u001b[0;34m\u001b[0m\u001b[0;34m\u001b[0m\u001b[0m\n\u001b[0m\u001b[1;32m    135\u001b[0m \u001b[0;34m\u001b[0m\u001b[0m\n\u001b[1;32m    136\u001b[0m         \u001b[0;32mdef\u001b[0m \u001b[0mupdate_fun\u001b[0m\u001b[0;34m(\u001b[0m\u001b[0;34m)\u001b[0m\u001b[0;34m:\u001b[0m\u001b[0;34m\u001b[0m\u001b[0;34m\u001b[0m\u001b[0m\n",
      "\u001b[0;32m/var/folders/_c/0fv8s9rj3kj8pqls6ht2g00j9h1vd3/T/ipykernel_94921/3620676492.py\u001b[0m in \u001b[0;36mloss_w\u001b[0;34m(W, X, y)\u001b[0m\n\u001b[1;32m      7\u001b[0m \u001b[0;31m## Define loss function\u001b[0m\u001b[0;34m\u001b[0m\u001b[0;34m\u001b[0m\u001b[0m\n\u001b[1;32m      8\u001b[0m \u001b[0;32mdef\u001b[0m \u001b[0mloss_w\u001b[0m\u001b[0;34m(\u001b[0m\u001b[0mW\u001b[0m\u001b[0;34m,\u001b[0m \u001b[0mX\u001b[0m\u001b[0;34m,\u001b[0m \u001b[0my\u001b[0m\u001b[0;34m)\u001b[0m \u001b[0;34m->\u001b[0m \u001b[0mfloat\u001b[0m\u001b[0;34m:\u001b[0m\u001b[0;34m\u001b[0m\u001b[0;34m\u001b[0m\u001b[0m\n\u001b[0;32m----> 9\u001b[0;31m     \u001b[0;32mreturn\u001b[0m \u001b[0mnp\u001b[0m\u001b[0;34m.\u001b[0m\u001b[0msqrt\u001b[0m\u001b[0;34m(\u001b[0m\u001b[0mnp\u001b[0m\u001b[0;34m.\u001b[0m\u001b[0mmean\u001b[0m\u001b[0;34m(\u001b[0m\u001b[0;34m(\u001b[0m\u001b[0my\u001b[0m \u001b[0;34m-\u001b[0m \u001b[0mX\u001b[0m\u001b[0;34m.\u001b[0m\u001b[0mdot\u001b[0m\u001b[0;34m(\u001b[0m\u001b[0mW\u001b[0m\u001b[0;34m)\u001b[0m\u001b[0;34m)\u001b[0m\u001b[0;34m**\u001b[0m\u001b[0;36m2\u001b[0m\u001b[0;34m)\u001b[0m\u001b[0;34m)\u001b[0m\u001b[0;34m\u001b[0m\u001b[0;34m\u001b[0m\u001b[0m\n\u001b[0m\u001b[1;32m     10\u001b[0m \u001b[0;34m\u001b[0m\u001b[0m\n\u001b[1;32m     11\u001b[0m \u001b[0;32mfrom\u001b[0m \u001b[0mscipy\u001b[0m\u001b[0;34m.\u001b[0m\u001b[0moptimize\u001b[0m \u001b[0;32mimport\u001b[0m \u001b[0mfmin_slsqp\u001b[0m\u001b[0;34m\u001b[0m\u001b[0;34m\u001b[0m\u001b[0m\n",
      "\u001b[0;32m<__array_function__ internals>\u001b[0m in \u001b[0;36mmean\u001b[0;34m(*args, **kwargs)\u001b[0m\n",
      "\u001b[0;32m~/opt/anaconda3/lib/python3.9/site-packages/numpy/core/fromnumeric.py\u001b[0m in \u001b[0;36mmean\u001b[0;34m(a, axis, dtype, out, keepdims, where)\u001b[0m\n\u001b[1;32m   3415\u001b[0m             \u001b[0;32mpass\u001b[0m\u001b[0;34m\u001b[0m\u001b[0;34m\u001b[0m\u001b[0m\n\u001b[1;32m   3416\u001b[0m         \u001b[0;32melse\u001b[0m\u001b[0;34m:\u001b[0m\u001b[0;34m\u001b[0m\u001b[0;34m\u001b[0m\u001b[0m\n\u001b[0;32m-> 3417\u001b[0;31m             \u001b[0;32mreturn\u001b[0m \u001b[0mmean\u001b[0m\u001b[0;34m(\u001b[0m\u001b[0maxis\u001b[0m\u001b[0;34m=\u001b[0m\u001b[0maxis\u001b[0m\u001b[0;34m,\u001b[0m \u001b[0mdtype\u001b[0m\u001b[0;34m=\u001b[0m\u001b[0mdtype\u001b[0m\u001b[0;34m,\u001b[0m \u001b[0mout\u001b[0m\u001b[0;34m=\u001b[0m\u001b[0mout\u001b[0m\u001b[0;34m,\u001b[0m \u001b[0;34m**\u001b[0m\u001b[0mkwargs\u001b[0m\u001b[0;34m)\u001b[0m\u001b[0;34m\u001b[0m\u001b[0;34m\u001b[0m\u001b[0m\n\u001b[0m\u001b[1;32m   3418\u001b[0m \u001b[0;34m\u001b[0m\u001b[0m\n\u001b[1;32m   3419\u001b[0m     return _methods._mean(a, axis=axis, dtype=dtype,\n",
      "\u001b[0;32m~/opt/anaconda3/lib/python3.9/site-packages/pandas/core/generic.py\u001b[0m in \u001b[0;36mmean\u001b[0;34m(self, axis, skipna, level, numeric_only, **kwargs)\u001b[0m\n\u001b[1;32m  10749\u001b[0m         )\n\u001b[1;32m  10750\u001b[0m         \u001b[0;32mdef\u001b[0m \u001b[0mmean\u001b[0m\u001b[0;34m(\u001b[0m\u001b[0mself\u001b[0m\u001b[0;34m,\u001b[0m \u001b[0maxis\u001b[0m\u001b[0;34m=\u001b[0m\u001b[0;32mNone\u001b[0m\u001b[0;34m,\u001b[0m \u001b[0mskipna\u001b[0m\u001b[0;34m=\u001b[0m\u001b[0;32mNone\u001b[0m\u001b[0;34m,\u001b[0m \u001b[0mlevel\u001b[0m\u001b[0;34m=\u001b[0m\u001b[0;32mNone\u001b[0m\u001b[0;34m,\u001b[0m \u001b[0mnumeric_only\u001b[0m\u001b[0;34m=\u001b[0m\u001b[0;32mNone\u001b[0m\u001b[0;34m,\u001b[0m \u001b[0;34m**\u001b[0m\u001b[0mkwargs\u001b[0m\u001b[0;34m)\u001b[0m\u001b[0;34m:\u001b[0m\u001b[0;34m\u001b[0m\u001b[0;34m\u001b[0m\u001b[0m\n\u001b[0;32m> 10751\u001b[0;31m             \u001b[0;32mreturn\u001b[0m \u001b[0mNDFrame\u001b[0m\u001b[0;34m.\u001b[0m\u001b[0mmean\u001b[0m\u001b[0;34m(\u001b[0m\u001b[0mself\u001b[0m\u001b[0;34m,\u001b[0m \u001b[0maxis\u001b[0m\u001b[0;34m,\u001b[0m \u001b[0mskipna\u001b[0m\u001b[0;34m,\u001b[0m \u001b[0mlevel\u001b[0m\u001b[0;34m,\u001b[0m \u001b[0mnumeric_only\u001b[0m\u001b[0;34m,\u001b[0m \u001b[0;34m**\u001b[0m\u001b[0mkwargs\u001b[0m\u001b[0;34m)\u001b[0m\u001b[0;34m\u001b[0m\u001b[0;34m\u001b[0m\u001b[0m\n\u001b[0m\u001b[1;32m  10752\u001b[0m \u001b[0;34m\u001b[0m\u001b[0m\n\u001b[1;32m  10753\u001b[0m         \u001b[0msetattr\u001b[0m\u001b[0;34m(\u001b[0m\u001b[0mcls\u001b[0m\u001b[0;34m,\u001b[0m \u001b[0;34m\"mean\"\u001b[0m\u001b[0;34m,\u001b[0m \u001b[0mmean\u001b[0m\u001b[0;34m)\u001b[0m\u001b[0;34m\u001b[0m\u001b[0;34m\u001b[0m\u001b[0m\n",
      "\u001b[0;32m~/opt/anaconda3/lib/python3.9/site-packages/pandas/core/generic.py\u001b[0m in \u001b[0;36mmean\u001b[0;34m(self, axis, skipna, level, numeric_only, **kwargs)\u001b[0m\n\u001b[1;32m  10367\u001b[0m \u001b[0;34m\u001b[0m\u001b[0m\n\u001b[1;32m  10368\u001b[0m     \u001b[0;32mdef\u001b[0m \u001b[0mmean\u001b[0m\u001b[0;34m(\u001b[0m\u001b[0mself\u001b[0m\u001b[0;34m,\u001b[0m \u001b[0maxis\u001b[0m\u001b[0;34m=\u001b[0m\u001b[0;32mNone\u001b[0m\u001b[0;34m,\u001b[0m \u001b[0mskipna\u001b[0m\u001b[0;34m=\u001b[0m\u001b[0;32mNone\u001b[0m\u001b[0;34m,\u001b[0m \u001b[0mlevel\u001b[0m\u001b[0;34m=\u001b[0m\u001b[0;32mNone\u001b[0m\u001b[0;34m,\u001b[0m \u001b[0mnumeric_only\u001b[0m\u001b[0;34m=\u001b[0m\u001b[0;32mNone\u001b[0m\u001b[0;34m,\u001b[0m \u001b[0;34m**\u001b[0m\u001b[0mkwargs\u001b[0m\u001b[0;34m)\u001b[0m\u001b[0;34m:\u001b[0m\u001b[0;34m\u001b[0m\u001b[0;34m\u001b[0m\u001b[0m\n\u001b[0;32m> 10369\u001b[0;31m         return self._stat_function(\n\u001b[0m\u001b[1;32m  10370\u001b[0m             \u001b[0;34m\"mean\"\u001b[0m\u001b[0;34m,\u001b[0m \u001b[0mnanops\u001b[0m\u001b[0;34m.\u001b[0m\u001b[0mnanmean\u001b[0m\u001b[0;34m,\u001b[0m \u001b[0maxis\u001b[0m\u001b[0;34m,\u001b[0m \u001b[0mskipna\u001b[0m\u001b[0;34m,\u001b[0m \u001b[0mlevel\u001b[0m\u001b[0;34m,\u001b[0m \u001b[0mnumeric_only\u001b[0m\u001b[0;34m,\u001b[0m \u001b[0;34m**\u001b[0m\u001b[0mkwargs\u001b[0m\u001b[0;34m\u001b[0m\u001b[0;34m\u001b[0m\u001b[0m\n\u001b[1;32m  10371\u001b[0m         )\n",
      "\u001b[0;32m~/opt/anaconda3/lib/python3.9/site-packages/pandas/core/generic.py\u001b[0m in \u001b[0;36m_stat_function\u001b[0;34m(self, name, func, axis, skipna, level, numeric_only, **kwargs)\u001b[0m\n\u001b[1;32m  10352\u001b[0m                 \u001b[0mname\u001b[0m\u001b[0;34m,\u001b[0m \u001b[0maxis\u001b[0m\u001b[0;34m=\u001b[0m\u001b[0maxis\u001b[0m\u001b[0;34m,\u001b[0m \u001b[0mlevel\u001b[0m\u001b[0;34m=\u001b[0m\u001b[0mlevel\u001b[0m\u001b[0;34m,\u001b[0m \u001b[0mskipna\u001b[0m\u001b[0;34m=\u001b[0m\u001b[0mskipna\u001b[0m\u001b[0;34m,\u001b[0m \u001b[0mnumeric_only\u001b[0m\u001b[0;34m=\u001b[0m\u001b[0mnumeric_only\u001b[0m\u001b[0;34m\u001b[0m\u001b[0;34m\u001b[0m\u001b[0m\n\u001b[1;32m  10353\u001b[0m             )\n\u001b[0;32m> 10354\u001b[0;31m         return self._reduce(\n\u001b[0m\u001b[1;32m  10355\u001b[0m             \u001b[0mfunc\u001b[0m\u001b[0;34m,\u001b[0m \u001b[0mname\u001b[0m\u001b[0;34m=\u001b[0m\u001b[0mname\u001b[0m\u001b[0;34m,\u001b[0m \u001b[0maxis\u001b[0m\u001b[0;34m=\u001b[0m\u001b[0maxis\u001b[0m\u001b[0;34m,\u001b[0m \u001b[0mskipna\u001b[0m\u001b[0;34m=\u001b[0m\u001b[0mskipna\u001b[0m\u001b[0;34m,\u001b[0m \u001b[0mnumeric_only\u001b[0m\u001b[0;34m=\u001b[0m\u001b[0mnumeric_only\u001b[0m\u001b[0;34m\u001b[0m\u001b[0;34m\u001b[0m\u001b[0m\n\u001b[1;32m  10356\u001b[0m         )\n",
      "\u001b[0;32m~/opt/anaconda3/lib/python3.9/site-packages/pandas/core/series.py\u001b[0m in \u001b[0;36m_reduce\u001b[0;34m(self, op, name, axis, skipna, numeric_only, filter_type, **kwds)\u001b[0m\n\u001b[1;32m   4390\u001b[0m                 )\n\u001b[1;32m   4391\u001b[0m             \u001b[0;32mwith\u001b[0m \u001b[0mnp\u001b[0m\u001b[0;34m.\u001b[0m\u001b[0merrstate\u001b[0m\u001b[0;34m(\u001b[0m\u001b[0mall\u001b[0m\u001b[0;34m=\u001b[0m\u001b[0;34m\"ignore\"\u001b[0m\u001b[0;34m)\u001b[0m\u001b[0;34m:\u001b[0m\u001b[0;34m\u001b[0m\u001b[0;34m\u001b[0m\u001b[0m\n\u001b[0;32m-> 4392\u001b[0;31m                 \u001b[0;32mreturn\u001b[0m \u001b[0mop\u001b[0m\u001b[0;34m(\u001b[0m\u001b[0mdelegate\u001b[0m\u001b[0;34m,\u001b[0m \u001b[0mskipna\u001b[0m\u001b[0;34m=\u001b[0m\u001b[0mskipna\u001b[0m\u001b[0;34m,\u001b[0m \u001b[0;34m**\u001b[0m\u001b[0mkwds\u001b[0m\u001b[0;34m)\u001b[0m\u001b[0;34m\u001b[0m\u001b[0;34m\u001b[0m\u001b[0m\n\u001b[0m\u001b[1;32m   4393\u001b[0m \u001b[0;34m\u001b[0m\u001b[0m\n\u001b[1;32m   4394\u001b[0m     def _reindex_indexer(\n",
      "\u001b[0;32m~/opt/anaconda3/lib/python3.9/site-packages/pandas/core/nanops.py\u001b[0m in \u001b[0;36m_f\u001b[0;34m(*args, **kwargs)\u001b[0m\n\u001b[1;32m     91\u001b[0m             \u001b[0;32mtry\u001b[0m\u001b[0;34m:\u001b[0m\u001b[0;34m\u001b[0m\u001b[0;34m\u001b[0m\u001b[0m\n\u001b[1;32m     92\u001b[0m                 \u001b[0;32mwith\u001b[0m \u001b[0mnp\u001b[0m\u001b[0;34m.\u001b[0m\u001b[0merrstate\u001b[0m\u001b[0;34m(\u001b[0m\u001b[0minvalid\u001b[0m\u001b[0;34m=\u001b[0m\u001b[0;34m\"ignore\"\u001b[0m\u001b[0;34m)\u001b[0m\u001b[0;34m:\u001b[0m\u001b[0;34m\u001b[0m\u001b[0;34m\u001b[0m\u001b[0m\n\u001b[0;32m---> 93\u001b[0;31m                     \u001b[0;32mreturn\u001b[0m \u001b[0mf\u001b[0m\u001b[0;34m(\u001b[0m\u001b[0;34m*\u001b[0m\u001b[0margs\u001b[0m\u001b[0;34m,\u001b[0m \u001b[0;34m**\u001b[0m\u001b[0mkwargs\u001b[0m\u001b[0;34m)\u001b[0m\u001b[0;34m\u001b[0m\u001b[0;34m\u001b[0m\u001b[0m\n\u001b[0m\u001b[1;32m     94\u001b[0m             \u001b[0;32mexcept\u001b[0m \u001b[0mValueError\u001b[0m \u001b[0;32mas\u001b[0m \u001b[0me\u001b[0m\u001b[0;34m:\u001b[0m\u001b[0;34m\u001b[0m\u001b[0;34m\u001b[0m\u001b[0m\n\u001b[1;32m     95\u001b[0m                 \u001b[0;31m# we want to transform an object array\u001b[0m\u001b[0;34m\u001b[0m\u001b[0;34m\u001b[0m\u001b[0m\n",
      "\u001b[0;32m~/opt/anaconda3/lib/python3.9/site-packages/pandas/core/nanops.py\u001b[0m in \u001b[0;36mf\u001b[0;34m(values, axis, skipna, **kwds)\u001b[0m\n\u001b[1;32m    139\u001b[0m                 \u001b[0;32mreturn\u001b[0m \u001b[0m_na_for_min_count\u001b[0m\u001b[0;34m(\u001b[0m\u001b[0mvalues\u001b[0m\u001b[0;34m,\u001b[0m \u001b[0maxis\u001b[0m\u001b[0;34m)\u001b[0m\u001b[0;34m\u001b[0m\u001b[0;34m\u001b[0m\u001b[0m\n\u001b[1;32m    140\u001b[0m \u001b[0;34m\u001b[0m\u001b[0m\n\u001b[0;32m--> 141\u001b[0;31m             \u001b[0;32mif\u001b[0m \u001b[0m_USE_BOTTLENECK\u001b[0m \u001b[0;32mand\u001b[0m \u001b[0mskipna\u001b[0m \u001b[0;32mand\u001b[0m \u001b[0m_bn_ok_dtype\u001b[0m\u001b[0;34m(\u001b[0m\u001b[0mvalues\u001b[0m\u001b[0;34m.\u001b[0m\u001b[0mdtype\u001b[0m\u001b[0;34m,\u001b[0m \u001b[0mbn_name\u001b[0m\u001b[0;34m)\u001b[0m\u001b[0;34m:\u001b[0m\u001b[0;34m\u001b[0m\u001b[0;34m\u001b[0m\u001b[0m\n\u001b[0m\u001b[1;32m    142\u001b[0m                 \u001b[0;32mif\u001b[0m \u001b[0mkwds\u001b[0m\u001b[0;34m.\u001b[0m\u001b[0mget\u001b[0m\u001b[0;34m(\u001b[0m\u001b[0;34m\"mask\"\u001b[0m\u001b[0;34m,\u001b[0m \u001b[0;32mNone\u001b[0m\u001b[0;34m)\u001b[0m \u001b[0;32mis\u001b[0m \u001b[0;32mNone\u001b[0m\u001b[0;34m:\u001b[0m\u001b[0;34m\u001b[0m\u001b[0;34m\u001b[0m\u001b[0m\n\u001b[1;32m    143\u001b[0m                     \u001b[0;31m# `mask` is not recognised by bottleneck, would raise\u001b[0m\u001b[0;34m\u001b[0m\u001b[0;34m\u001b[0m\u001b[0m\n",
      "\u001b[0;32m~/opt/anaconda3/lib/python3.9/site-packages/pandas/core/nanops.py\u001b[0m in \u001b[0;36m_bn_ok_dtype\u001b[0;34m(dtype, name)\u001b[0m\n\u001b[1;32m    162\u001b[0m \u001b[0;32mdef\u001b[0m \u001b[0m_bn_ok_dtype\u001b[0m\u001b[0;34m(\u001b[0m\u001b[0mdtype\u001b[0m\u001b[0;34m:\u001b[0m \u001b[0mDtypeObj\u001b[0m\u001b[0;34m,\u001b[0m \u001b[0mname\u001b[0m\u001b[0;34m:\u001b[0m \u001b[0mstr\u001b[0m\u001b[0;34m)\u001b[0m \u001b[0;34m->\u001b[0m \u001b[0mbool\u001b[0m\u001b[0;34m:\u001b[0m\u001b[0;34m\u001b[0m\u001b[0;34m\u001b[0m\u001b[0m\n\u001b[1;32m    163\u001b[0m     \u001b[0;31m# Bottleneck chokes on datetime64, PeriodDtype (or and EA)\u001b[0m\u001b[0;34m\u001b[0m\u001b[0;34m\u001b[0m\u001b[0m\n\u001b[0;32m--> 164\u001b[0;31m     \u001b[0;32mif\u001b[0m \u001b[0;32mnot\u001b[0m \u001b[0mis_object_dtype\u001b[0m\u001b[0;34m(\u001b[0m\u001b[0mdtype\u001b[0m\u001b[0;34m)\u001b[0m \u001b[0;32mand\u001b[0m \u001b[0;32mnot\u001b[0m \u001b[0mneeds_i8_conversion\u001b[0m\u001b[0;34m(\u001b[0m\u001b[0mdtype\u001b[0m\u001b[0;34m)\u001b[0m\u001b[0;34m:\u001b[0m\u001b[0;34m\u001b[0m\u001b[0;34m\u001b[0m\u001b[0m\n\u001b[0m\u001b[1;32m    165\u001b[0m \u001b[0;34m\u001b[0m\u001b[0m\n\u001b[1;32m    166\u001b[0m         \u001b[0;31m# GH 15507\u001b[0m\u001b[0;34m\u001b[0m\u001b[0;34m\u001b[0m\u001b[0m\n",
      "\u001b[0;32m~/opt/anaconda3/lib/python3.9/site-packages/pandas/core/dtypes/common.py\u001b[0m in \u001b[0;36mis_object_dtype\u001b[0;34m(arr_or_dtype)\u001b[0m\n\u001b[1;32m    185\u001b[0m     \u001b[0;32mFalse\u001b[0m\u001b[0;34m\u001b[0m\u001b[0;34m\u001b[0m\u001b[0m\n\u001b[1;32m    186\u001b[0m     \"\"\"\n\u001b[0;32m--> 187\u001b[0;31m     \u001b[0;32mreturn\u001b[0m \u001b[0m_is_dtype_type\u001b[0m\u001b[0;34m(\u001b[0m\u001b[0marr_or_dtype\u001b[0m\u001b[0;34m,\u001b[0m \u001b[0mclasses\u001b[0m\u001b[0;34m(\u001b[0m\u001b[0mnp\u001b[0m\u001b[0;34m.\u001b[0m\u001b[0mobject_\u001b[0m\u001b[0;34m)\u001b[0m\u001b[0;34m)\u001b[0m\u001b[0;34m\u001b[0m\u001b[0;34m\u001b[0m\u001b[0m\n\u001b[0m\u001b[1;32m    188\u001b[0m \u001b[0;34m\u001b[0m\u001b[0m\n\u001b[1;32m    189\u001b[0m \u001b[0;34m\u001b[0m\u001b[0m\n",
      "\u001b[0;32m~/opt/anaconda3/lib/python3.9/site-packages/pandas/core/dtypes/common.py\u001b[0m in \u001b[0;36mclasses\u001b[0;34m(*klasses)\u001b[0m\n\u001b[1;32m    142\u001b[0m \u001b[0;34m\u001b[0m\u001b[0m\n\u001b[1;32m    143\u001b[0m \u001b[0;34m\u001b[0m\u001b[0m\n\u001b[0;32m--> 144\u001b[0;31m \u001b[0;32mdef\u001b[0m \u001b[0mclasses\u001b[0m\u001b[0;34m(\u001b[0m\u001b[0;34m*\u001b[0m\u001b[0mklasses\u001b[0m\u001b[0;34m)\u001b[0m \u001b[0;34m->\u001b[0m \u001b[0mCallable\u001b[0m\u001b[0;34m:\u001b[0m\u001b[0;34m\u001b[0m\u001b[0;34m\u001b[0m\u001b[0m\n\u001b[0m\u001b[1;32m    145\u001b[0m     \u001b[0;34m\"\"\"evaluate if the tipo is a subclass of the klasses\"\"\"\u001b[0m\u001b[0;34m\u001b[0m\u001b[0;34m\u001b[0m\u001b[0m\n\u001b[1;32m    146\u001b[0m     \u001b[0;32mreturn\u001b[0m \u001b[0;32mlambda\u001b[0m \u001b[0mtipo\u001b[0m\u001b[0;34m:\u001b[0m \u001b[0missubclass\u001b[0m\u001b[0;34m(\u001b[0m\u001b[0mtipo\u001b[0m\u001b[0;34m,\u001b[0m \u001b[0mklasses\u001b[0m\u001b[0;34m)\u001b[0m\u001b[0;34m\u001b[0m\u001b[0;34m\u001b[0m\u001b[0m\n",
      "\u001b[0;31mKeyboardInterrupt\u001b[0m: "
     ]
    }
   ],
   "source": [
    "state_list = list(df.state.value_counts().index)\n",
    "placebo_trend = {}\n",
    "placebo_est = []\n",
    "for s in state_list:\n",
    "    if s != 'NJ':\n",
    "        adk = sc_model(s,print_diag=False)\n",
    "        placebo_trend[s]=adk['synthetic trend']\n",
    "        placebo_est.append(adk['estimate'])\n",
    "    else:\n",
    "        nj_estimate = sc_model(s,print_diag=False)"
   ]
  },
  {
   "cell_type": "code",
   "execution_count": null,
   "id": "3925c70e",
   "metadata": {},
   "outputs": [],
   "source": [
    "\n",
    "fig,ax = plt.subplots(figsize=(13,8))\n",
    "\n",
    "ax.plot( df_plot.loc[df_plot['NJ_not']==False]['hrmonth'], df_plot.loc[df_plot['NJ_not']==False]['laborforce_unemp'], \n",
    "            color='orange', label='Not NJ')\n",
    "ax.plot( df_plot.loc[df_plot['NJ_not']==True]['hrmonth'], df_plot.loc[df_plot['NJ_not']==True]['laborforce_unemp'], \n",
    "        color='blue', label='NJ')\n",
    "\n",
    "for s in state_list:\n",
    "    if s =='NJ':\n",
    "        ax.plot( np.arange(5,12.1,1), nj_estimate['synthetic trend'],\n",
    "                linestyle='-.', color='purple',label='Synth NJ')\n",
    "    else:    \n",
    "        ax.plot( np.arange(5,12.1,1), placebo_trend[s],\n",
    "                linestyle='-.', alpha=0.25, color='pink')\n",
    "\n",
    "\n",
    "ax.vlines(x=11, ymin=0, ymax = 0.05)\n",
    "\n",
    "ax.set_ylabel('Unemployment Rate')\n",
    "ax.set_xlabel('Month')\n",
    "ax.set_xticks(np.arange(5,12.1,1))\n",
    "ax.set_xticklabels(['May','June','Jul','Aug','Sep','Oct','Nov','Dec'])\n",
    "ax.grid()\n",
    "ax.legend(loc='upper right')\n",
    "fig.suptitle('Unemployment Rate in 2021 with *no treatment effect* ')\n"
   ]
  },
  {
   "cell_type": "markdown",
   "id": "3b395782",
   "metadata": {},
   "source": [
    "Calculate the p-value by calculating how many estimates are less than the NJ estimate."
   ]
  },
  {
   "cell_type": "code",
   "execution_count": null,
   "id": "729d74f1",
   "metadata": {},
   "outputs": [],
   "source": [
    "pvalue = (placebo_est < nj_estimate['estimate']).sum() / len(placebo_est)\n",
    "print('P-value is {0:5.3f}'.format(pvalue) )"
   ]
  },
  {
   "cell_type": "markdown",
   "id": "2427c508",
   "metadata": {},
   "source": [
    "## 3. Incorporating Covariates into Synthetic Weights\n",
    "\n",
    "Here is where we can get a little more complicated. We are going to follow the notation from Abadie's JEL 2021 paper (https://economics.mit.edu/files/17847), Section 3.2. \n",
    "\n",
    "For $J+1$ units of observations across $T$ time periods (where $T_0$ are pre-treatment periods), only one of the observations is treated $(j=1)$ and we want to estimate weights on  $W=(w_2, w_{J+1})$ to estimate the treatment effect on the treated. The problem is that we do not know what the outcome of the treted unit would be absent treatment, $Y^N_{1t}$. Our synthetic treatment estimator is:\n",
    "\n",
    "$$ \\hat{\\tau} = Y_{1t} - \\hat{Y}^N_{1t}, \\text{  where   }\\hat{Y}^N_{1t}= \\sum^{J+1}_{j=2}w_j Y^N_{jt} $$\n",
    "\n",
    "Covariates come in with the following notation. We observe $K$ covariates for each unit. So we have covariates $X_{jk}$. Let's denote this as $X_1, ..., X_K$ as covariates for all units and covariates, and $X_0 = [X_2, ..., X_{J+1}]$ as the covariates just for the control units, so $X_1$ is the covariates for the treated unit. \n",
    "\n",
    "Our objective is to have weights so that the covariates are also similar to the treated unit. But we need to have the same $W$ weights as before, so we rescale them for each covariate. Therefore, we want weights to minimize:\n",
    "\n",
    "$$|| X_1 - X_0 W ||  = \\Big( \\sum^k_{h=1} v_h (X_{h1} - w_2 X_{h2} - ... - w_{J+1} X_{hJ+1} )^2 \\Big)^{1/2} $$\n",
    "$$ s.t. \\sum^{J+1}_{j=1} w_j = 1 \\text{  and  } w_j \\geq 0 $$\n",
    "That is, we are applying the weights on the pretreatment outcome before, but for each covariate, we have a additional weight $v_k$ that scales the covariate values. This means that we are forcing the pre-treatment outcome, and covariates to match the treatment unit. We approach estimation in an iterative way. Conditional on values for $V = (v_1, ..., v_K)$ we can estimate weights. That is, the weights $W$ are a function of $V$, $W(V)$. \n",
    "\n",
    "Let's choose $W(V)$ following Abadie and Gardeazabal (2003) and Abadie, Diamond, and Hainmueller (2010) to choose $W(V)$ to match the pre-treatment mean squared prediction error (MSPE). They focus on predicting the pre-treatment data, leaving a hold out sample for valiation. Their algorithm is:\n",
    "1. Divide the pre-treatment periods $T_0$ into training and test periods. For example, we can take $t=1,..., \\frac{T_0}{2}$ as training and $t=\\frac{T_0}{2},...,T_0$ as test. Whatever man, its your data.\n",
    "2. On the training data, estimate $W(V)$ based on the equation above $|| X_1 - X_0 W ||$. Specifically, for each value of $V$, estimate $W(V)$. \n",
    "3. Among the $V$ tested in the previous step, pick the one that delivers best MSPE performance in the test set.\n",
    "4. Finally, for that selected one, estimate $W(V)$ in the test set.\n",
    "\n",
    "This means that we need to have two optimization loops. The outer loop that picks $V$ and the inner loop that estimates $W$.\n",
    "\n"
   ]
  },
  {
   "cell_type": "code",
   "execution_count": 380,
   "id": "63a92b9e",
   "metadata": {},
   "outputs": [],
   "source": [
    "\n",
    "df['date'] = df['hryear4'].apply(str).str[0:4] + '-' + df['hrmonth'].apply(str).str.zfill(4).str[0:2]"
   ]
  },
  {
   "cell_type": "code",
   "execution_count": 381,
   "id": "3fd14dfa",
   "metadata": {},
   "outputs": [],
   "source": [
    "'''\n",
    "Functions to create relevant data.\n",
    "For now, let's skip creating training and test set to focus on getting the thing to work!\n",
    "'''\n",
    "def create_data_inputs(X, out, x_list):\n",
    "    \n",
    "    y0 = (df.query(\"~treatment\") # control\n",
    "                .pivot(index='state', columns=\"date\")[out]\n",
    "                .T) # flip the table to have one column per state\n",
    "    y1 = (df.query(\"treatment\") # control\n",
    "                .pivot(index='state', columns=\"date\")[out]\n",
    "                .T) # flip the table to have one column per state\n",
    "    \n",
    "\n",
    "    X0 = (df.query(\"~treatment\") # control\n",
    "            .pivot(index='state', columns=\"date\")[x_list]\n",
    "            .T) # flip the table to have one column per state\n",
    "\n",
    "    X1 = (df.query(\"treatment\") # control\n",
    "            .pivot(index='state', columns=\"date\")[x_list]\n",
    "            .T) # flip the table to have one column per state\n",
    "    \n",
    "    return X0, y0, X1, y1\n",
    "    \n"
   ]
  },
  {
   "cell_type": "code",
   "execution_count": 382,
   "id": "3a8c08a5",
   "metadata": {},
   "outputs": [],
   "source": [
    "'''\n",
    "Functions to optimize weights W, given V\n",
    "'''\n",
    "from scipy.optimize import fmin_slsqp\n",
    "\n",
    "## Define MSPE for the inner loop to calculate W\n",
    "def mspe_loss_inner(W, V, X0, y0, X1, y1):\n",
    "\n",
    "    k =X0.shape[1]\n",
    "    ## Starting with the outcome, where V plays no role. Multiply control by W;\n",
    "    ## then subtract from treatment, \n",
    "    ## then take to second power\n",
    "    mspe_output = np.power(np.dot(y0,W) - y1.values.flatten(), 2).sum()    \n",
    "    \n",
    "    for i, h in zip( range(len(V)), list(set(X0.index.get_level_values(0).to_list()))):\n",
    "        ## Take a given column from control\n",
    "        x = X0.loc[h]\n",
    "        ## Multiply by the weights;        \n",
    "        ## subtract that from the treatment column\n",
    "        ## then multiply by the V weight.\n",
    "        contribution = V[i]*np.power(np.dot(x,W) - X1.loc[h].values.flatten(), 2).sum()\n",
    "        mspe_output += contribution\n",
    "        \n",
    "    return np.sqrt(mspe_output)\n",
    "\n",
    "## Define the inner loop optimization, which calculates W given a set V.\n",
    "def inner_loop_get_W(V, X0, y0, X1, y1):\n",
    "\n",
    "    ## initialize the weights with the population weights\n",
    "    N = len(W)\n",
    "    w0 = [1/N]*N\n",
    "    \n",
    "    ## minimization using Sequential Least Squares Programming\n",
    "    w_star = fmin_slsqp(func=partial(mspe_loss, X0=X0, y0=y0, X1=X1, y1=y1, V=V),\n",
    "                x0=w0,\n",
    "              f_eqcons = lambda e: np.sum(e) - 1,\n",
    "              bounds = [(0, 1)]*N,\n",
    "              disp=False)\n",
    "    return w_star\n",
    "\n",
    "\n",
    "\n"
   ]
  },
  {
   "cell_type": "code",
   "execution_count": 383,
   "id": "8a58eeb0",
   "metadata": {},
   "outputs": [],
   "source": [
    "'''\n",
    "Functions to optimize V, which embeds for optimizing W\n",
    "'''\n",
    "from scipy.optimize import minimize\n",
    "\n",
    "\n",
    "## Define MSPE for the outer loop to calculate V\n",
    "def mspe_loss_outer(V, X0, y0, X1, y1):\n",
    "\n",
    "    k =X0.shape[1]\n",
    "    \n",
    "    ## Given V, calculate W\n",
    "    W_step = inner_loop_get_W(V, X0, y0, X1, y1)\n",
    "    \n",
    "    ## Starting with the outcome, where V plays no role. Multiply control by W;\n",
    "    ## then subtract from treatment, \n",
    "    ## then take to second power\n",
    "    mspe_output = np.power(np.dot(y0,W_step) - y1.values.flatten(), 2).sum()    \n",
    "    \n",
    "    for i, h in zip( range(len(V)), list(set(X0.index.get_level_values(0).to_list()))):\n",
    "        ## Take a given column from control\n",
    "        x = X0.loc[h]\n",
    "        ## Multiply by the weights;        \n",
    "        ## subtract that from the treatment column\n",
    "        ## then multiply by the V weight.\n",
    "        contribution = V[i]*np.power(np.dot(x,W_step) - X1.loc[h].values.flatten(), 2).sum()\n",
    "        mspe_output += contribution\n",
    "        \n",
    "    return np.sqrt(mspe_output)\n",
    "\n",
    "\n",
    "## Define the outer loop which calculates V\n",
    "def outer_loop_get_V(X0, y0, X1, y1):\n",
    "    \n",
    "    ## Initilize the weights on V with the standard deviation of features    \n",
    "    v0 = np.zeros(len( X0.index.get_level_values(0).unique() ))\n",
    "    for i, v in zip( range(len(V)),  set(X0.index.get_level_values(0).to_list()) ):\n",
    "        v0[i] = 1 / X0.loc[v].values.std()\n",
    "        \n",
    "    ## Now call the inner loop to get W\n",
    "#     v_star = fmin_slsqp(func=partial(mspe_loss_outer, X0=X0, y0=y0, X1=X1, y1=y1),\n",
    "#                        x0 = v0,\n",
    "#                        f_eqcons = None, \n",
    "#                        bounds=None,\n",
    "#                        disp=False)\n",
    "\n",
    "    v_star = minimize(fun=partial(mspe_loss_outer, X0=X0, y0=y0, X1=X1, y1=y1),\n",
    "                       x0 = v0,\n",
    "                       method='L-BFGS-B',\n",
    "                      jac=None,\n",
    "#                       callback=True,\n",
    "                       options={'disp':False})\n",
    "\n",
    "\n",
    "    return v_star\n"
   ]
  },
  {
   "cell_type": "code",
   "execution_count": 388,
   "id": "db268737",
   "metadata": {},
   "outputs": [
    {
     "data": {
      "text/plain": [
       "Index(['state', 'hrmonth', 'hryear4', 'laborforce_employed',\n",
       "       'laborforce_unemployed', 'laborforce_nopart', 'hefaminc_0k_15k',\n",
       "       'hefaminc_15k_50k', 'hefaminc_50k_100k', 'hefaminc_100kplus',\n",
       "       'laborforce_no', 'laborforce_unemp', 'laborforce_ft', 'laborforce_pt',\n",
       "       'marriage', 'rent', 'agri', 'educ_lesshs', 'educ_someAA', 'educ_BA',\n",
       "       'educ_grad', 'prernwa', 'pwsswgt', 'NJ_not', 'treatment',\n",
       "       'treatment_state', 'date', 'treatment_range'],\n",
       "      dtype='object')"
      ]
     },
     "execution_count": 388,
     "metadata": {},
     "output_type": "execute_result"
    }
   ],
   "source": [
    "df.columns"
   ]
  },
  {
   "cell_type": "code",
   "execution_count": 391,
   "id": "28c88e6b",
   "metadata": {},
   "outputs": [],
   "source": [
    "'''\n",
    "Test implementation\n",
    "'''\n",
    "X_features=['agri', 'educ_BA']\n",
    "## Define a treatment range\n",
    "df['treatment_range'] = (df['hrmonth'] >= 12).astype(float)\n",
    "## Define a treatment obs\n",
    "df['treatment'] = (df['state']=='NJ').astype(bool)\n",
    "\n",
    "## First only look at pre-treatment data, then \n",
    "df_train = df.loc[(df['treatment_range']==0)]\n",
    "df_train.sort_values(by=['state','date'], ascending=True, inplace=True)\n",
    "X0, y0, X1, y1 = create_data_inputs(df_train, \n",
    "                                    out='laborforce_employed',\n",
    "                                   x_list = X_features)\n",
    "    \n",
    "## Calculate V_star\n",
    "V_star = outer_loop_get_V(X0, y0, X1, y1)\n",
    "\n",
    "## Estimate W based on V_star\n",
    "W_star = inner_loop_get_W(V_star.x, X0, y0, X1, y1)\n"
   ]
  },
  {
   "cell_type": "code",
   "execution_count": 393,
   "id": "f32cbde4",
   "metadata": {},
   "outputs": [
    {
     "name": "stdout",
     "output_type": "stream",
     "text": [
      "V* Weights\n",
      "      fun: 0.08131134266607494\n",
      " hess_inv: <2x2 LbfgsInvHessProduct with dtype=float64>\n",
      "      jac: array([-0.00210366,  0.00248359])\n",
      "  message: 'CONVERGENCE: REL_REDUCTION_OF_F_<=_FACTR*EPSMCH'\n",
      "     nfev: 57\n",
      "      nit: 3\n",
      "     njev: 19\n",
      "   status: 0\n",
      "  success: True\n",
      "        x: array([111.33388533,  15.5665537 ])\n",
      "\n",
      "W* Weights\n",
      "CT 0.17\n",
      "DC 0.11\n",
      "MA 0.264\n",
      "ME 0.015\n",
      "NY 0.441\n",
      "  Sum: 1.0000000000000024\n"
     ]
    }
   ],
   "source": [
    "print('V* Weights')\n",
    "print(V_star)\n",
    "print('\\nW* Weights')\n",
    "for w, p in zip(W_star, X0.columns):\n",
    "    if (w > 0.1**3):\n",
    "        print(p, np.round(w, 3))\n",
    "print(\"  Sum:\", W_star.sum() )\n",
    "        "
   ]
  },
  {
   "cell_type": "code",
   "execution_count": 394,
   "id": "e1f8e28b",
   "metadata": {},
   "outputs": [
    {
     "name": "stdout",
     "output_type": "stream",
     "text": [
      "Matching based on weights for covariates:\n",
      "\n",
      "agri\n",
      "date\n",
      "2021-05    0.003067\n",
      "2021-06    0.002439\n",
      "2021-07    0.002118\n",
      "2021-08    0.002472\n",
      "2021-09    0.002410\n",
      "2021-10    0.002073\n",
      "2021-11    0.002231\n",
      "dtype: float64\n",
      "date\n",
      "2021-05    0.336213\n",
      "2021-06    0.267348\n",
      "2021-07    0.232159\n",
      "2021-08    0.271025\n",
      "2021-09    0.264263\n",
      "2021-10    0.227234\n",
      "2021-11    0.244597\n",
      "dtype: float64\n",
      "\n",
      "educ_BA\n",
      "date\n",
      "2021-05    0.199748\n",
      "2021-06    0.202027\n",
      "2021-07    0.207240\n",
      "2021-08    0.209782\n",
      "2021-09    0.210967\n",
      "2021-10    0.210838\n",
      "2021-11    0.208819\n",
      "dtype: float64\n",
      "date\n",
      "2021-05    6.550611\n",
      "2021-06    6.625339\n",
      "2021-07    6.796311\n",
      "2021-08    6.879687\n",
      "2021-09    6.918550\n",
      "2021-10    6.914306\n",
      "2021-11    6.848103\n",
      "dtype: float64\n",
      "Matching based on weights for the outcome:\n",
      "\n",
      "laborforce_employed\n",
      "date\n",
      "2021-05    0.477393\n",
      "2021-06    0.488989\n",
      "2021-07    0.493037\n",
      "2021-08    0.489131\n",
      "2021-09    0.490886\n",
      "2021-10    0.490598\n",
      "2021-11    0.495831\n",
      "dtype: float64\n",
      "date\n",
      "2021-05    14.217670\n",
      "2021-06    14.563010\n",
      "2021-07    14.683559\n",
      "2021-08    14.567249\n",
      "2021-09    14.619499\n",
      "2021-10    14.610919\n",
      "2021-11    14.766793\n",
      "dtype: float64\n"
     ]
    }
   ],
   "source": [
    "'''\n",
    "Now that we have convergence, lets' test by looking at how Y and X fit out of the training sample.\n",
    "For now, that's just post-fake treatment period\n",
    "'''\n",
    "\n",
    "## Test matching in the 'post-treatment period'\n",
    "## Define a treatment range\n",
    "df['treatment_range'] = (df['hrmonth'] >= 12).astype(float)\n",
    "## Define a treatment obs\n",
    "df['treatment'] = (df['state']=='NJ').astype(bool)\n",
    "\n",
    "test_control_sample = df.query('treatment_range == False & treatment==False').pivot(index='state', columns=\"date\")[X_features+['laborforce_employed']]\n",
    "\n",
    "print('Matching based on weights for covariates:')\n",
    "for r in X_features:\n",
    "    print('\\n'+r)\n",
    "    me = test_control_sample[r].T.dot(W_star).T\n",
    "    print( me )\n",
    "    sd = X0.loc[r].values.std()    \n",
    "    print( me / sd)\n",
    "    \n",
    "print('Matching based on weights for the outcome:')\n",
    "for r in ['laborforce_employed']:\n",
    "    print('\\n'+r)\n",
    "    me = test_control_sample[r].T.dot(W_star).T\n",
    "    print( me )\n",
    "    sd = y0.values.std()    \n",
    "    print( me / sd)\n",
    "    \n",
    "    \n",
    "    \n",
    "# synth = df.query(\"treatment\").pivot(index='state', columns=\"date\")[\"laborforce_employed\"].values.T.dot(nj_weights)\n",
    "    \n",
    "    \n",
    "\n",
    "    "
   ]
  },
  {
   "cell_type": "code",
   "execution_count": 395,
   "id": "548a27b9",
   "metadata": {},
   "outputs": [
    {
     "data": {
      "text/plain": [
       "Text(0.5, 0.98, 'Unemployment Rate in 2021 with *no treatment effect* ')"
      ]
     },
     "execution_count": 395,
     "metadata": {},
     "output_type": "execute_result"
    },
    {
     "data": {
      "image/png": "[encoded data removed]",
      "text/plain": [
       "<Figure size 936x576 with 1 Axes>"
      ]
     },
     "metadata": {
      "needs_background": "light"
     },
     "output_type": "display_data"
    }
   ],
   "source": [
    "\n",
    "fig,ax = plt.subplots(figsize=(13,8))\n",
    "df_plot = df.groupby(['treatment','date'])['laborforce_employed'].mean().to_frame()\n",
    "df_plot.reset_index(inplace=True)\n",
    "ax.plot( df_plot.loc[df_plot['treatment']==False]['date'], \n",
    "        df_plot.loc[df_plot['treatment']==False]['laborforce_employed'], \n",
    "            color='orange', label='Not NJ')\n",
    "ax.plot( df_plot.loc[df_plot['treatment']==True]['date'], \n",
    "        df_plot.loc[df_plot['treatment']==True]['laborforce_employed'], \n",
    "        color='blue', label='NJ')\n",
    "ax.plot( df_plot.loc[df_plot['treatment']==True]['date'], \n",
    "        df.loc[ df['treatment']==False].pivot(index='state', columns=\"date\")['laborforce_employed'].T.dot(W_star), \n",
    "        color='blue', \n",
    "        linestyle='dashed',\n",
    "        label='NJ Synth')\n",
    "\n",
    "# ax.vlines(x=11, ymin=0, ymax = 0.05)\n",
    "\n",
    "ax.set_ylabel('Unemployment Rate')\n",
    "ax.set_xlabel('Month')\n",
    "ax.set_xticks(np.arange(0,7.1,1))\n",
    "ax.set_xticklabels(['May','June','Jul','Aug','Sep','Oct','Nov','Dec'])\n",
    "ax.grid()\n",
    "ax.legend(loc='upper right')\n",
    "fig.suptitle('Unemployment Rate in 2021 with *no treatment effect* ')\n"
   ]
  },
  {
   "cell_type": "code",
   "execution_count": null,
   "id": "f47d96ce",
   "metadata": {},
   "outputs": [],
   "source": []
  }
 ],
 "metadata": {
  "kernelspec": {
   "display_name": "Python 3 (ipykernel)",
   "language": "python",
   "name": "python3"
  },
  "language_info": {
   "codemirror_mode": {
    "name": "ipython",
    "version": 3
   },
   "file_extension": ".py",
   "mimetype": "text/x-python",
   "name": "python",
   "nbconvert_exporter": "python",
   "pygments_lexer": "ipython3",
   "version": "3.9.7"
  }
 },
 "nbformat": 4,
 "nbformat_minor": 5
}
