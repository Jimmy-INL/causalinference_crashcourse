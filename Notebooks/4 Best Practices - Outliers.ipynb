{
 "cells": [
  {
   "cell_type": "markdown",
   "metadata": {},
   "source": [
    "# Best Practices\n",
    "Julian Hsu\n",
    "\n",
    "Simulated evidence for different ways to deal with various practical issues.\n",
    "\n",
    "1. Outliers in $X_i$ and $Y_i$\n",
    "2. Class imbalance in training propensity scores\n",
    "3. Feature Selection\n",
    "4. Bad control\n"
   ]
  },
  {
   "cell_type": "code",
   "execution_count": 1,
   "metadata": {},
   "outputs": [],
   "source": [
    "import pandas as pd\n",
    "import numpy as np\n",
    "import os as os \n",
    "\n",
    "from matplotlib import gridspec\n",
    "import matplotlib.pyplot as plt\n",
    "%matplotlib inline  \n",
    "\n",
    "import statsmodels.api as sm\n",
    "import statsmodels.formula.api as smf\n",
    "from statsmodels.discrete.conditional_models import ConditionalLogit\n",
    "\n",
    "from IPython.display import display    \n",
    "\n",
    "\n",
    "import scipy.stats \n",
    "\n",
    "from sklearn.linear_model import LogisticRegression, LinearRegression, Lasso, Ridge, LassoCV, LogisticRegressionCV\n",
    "from sklearn.ensemble import RandomForestRegressor, RandomForestClassifier\n",
    "from sklearn.neural_network import MLPRegressor, MLPClassifier\n",
    "from sklearn.metrics import mean_squared_error\n"
   ]
  },
  {
   "cell_type": "code",
   "execution_count": 2,
   "metadata": {},
   "outputs": [
    {
     "name": "stderr",
     "output_type": "stream",
     "text": [
      "/Users/hsujulia/opt/anaconda3/lib/python3.9/site-packages/llvmlite/llvmpy/__init__.py:3: UserWarning: The module `llvmlite.llvmpy` is deprecated and will be removed in the future.\n",
      "  warnings.warn(\n",
      "/Users/hsujulia/opt/anaconda3/lib/python3.9/site-packages/llvmlite/llvmpy/core.py:8: UserWarning: The module `llvmlite.llvmpy.core` is deprecated and will be removed in the future. Equivalent functionality is provided by `llvmlite.ir`.\n",
      "  warnings.warn(\n",
      "/Users/hsujulia/opt/anaconda3/lib/python3.9/site-packages/llvmlite/llvmpy/passes.py:17: UserWarning: The module `llvmlite.llvmpy.passes` is deprecated and will be removed in the future. If you are using this code, it should be inlined into your own project.\n",
      "  warnings.warn(\n"
     ]
    }
   ],
   "source": [
    "import stnomics as st"
   ]
  },
  {
   "cell_type": "code",
   "execution_count": 3,
   "metadata": {},
   "outputs": [],
   "source": [
    "## Write a function to write simulated data\n",
    "def generate_data_skewed(te=100, skew_var=3):\n",
    "    N = 1000\n",
    "    x1 = np.random.lognormal(0,skew_var, N)\n",
    "    x2 = np.random.lognormal(0,skew_var, N)\n",
    "\n",
    "    treatment_latent = 10*(x2-0.5)**2 + 10*x1\n",
    "    m,s = np.average(treatment_latent), np.std(treatment_latent)\n",
    "    treatment_latent = (treatment_latent - m) / s\n",
    "    \n",
    "    random_t = np.random.normal(0,1,N)\n",
    "    \n",
    "    treatment_latent += random_t\n",
    "    \n",
    "    treatment = np.array( np.exp(treatment_latent) / (1+ np.exp(treatment_latent)) > np.random.uniform(0,1,N) ).astype(np.int32)\n",
    "\n",
    "    Y = 100 +1.5*x1 + 6*x2\n",
    "    random_y = np.random.uniform(0,10,N)\n",
    "\n",
    "    GT = te\n",
    "    Y += GT*(treatment==1) \n",
    "    \n",
    "    df_est = pd.DataFrame({'x1':x1, 'x2':x2,'treatment':treatment, 'Y':Y, 'GT':GT} )\n",
    "   \n",
    "    return df_est"
   ]
  },
  {
   "cell_type": "code",
   "execution_count": 4,
   "metadata": {},
   "outputs": [],
   "source": [
    "## Write a function to write simulated data\n",
    "def generate_data(te=100):\n",
    "    N = 1000\n",
    "    x1 = np.random.normal(0,1, N)\n",
    "    x2 = np.random.normal(0,1, N)\n",
    "\n",
    "    treatment_latent = 10*(x2-0.5)**2 + 10*x1\n",
    "    m,s = np.average(treatment_latent), np.std(treatment_latent)\n",
    "    treatment_latent = (treatment_latent - m) / s\n",
    "    \n",
    "    random_t = np.random.normal(0,1,N)\n",
    "    \n",
    "    treatment_latent += random_t\n",
    "    \n",
    "    treatment = np.array( np.exp(treatment_latent) / (1+ np.exp(treatment_latent)) > np.random.uniform(0,1,N) ).astype(np.int32)\n",
    "\n",
    "    Y = 100 +1.5*x1 + 6*x2\n",
    "\n",
    "    random_y = np.random.uniform(0,10,N)\n",
    "\n",
    "    GT = te\n",
    "    Y += GT*(treatment==1) \n",
    "    \n",
    "    df_est = pd.DataFrame({'x1':x1, 'x2':x2,'treatment':treatment, 'Y':Y, 'YError':random_y, 'TError':random_t, 'GT':GT} )\n",
    "   \n",
    "    return df_est"
   ]
  },
  {
   "cell_type": "markdown",
   "metadata": {},
   "source": [
    "## 1. Outliers in $X_i$ and $Y_i$\n",
    "\n",
    "We consider three different situations, and how they can influence the average treatment effect:\n",
    "-  Outlier value in $Y_i$ due to an outlier value of $X_i$.\n",
    "-  Outlier value in $Y_i$ due to an idiosyncratic error"
   ]
  },
  {
   "cell_type": "markdown",
   "metadata": {},
   "source": [
    "### 1(a). Outlier value in $Y_i$ due to an outlier value of $X_i$."
   ]
  },
  {
   "cell_type": "code",
   "execution_count": 5,
   "metadata": {},
   "outputs": [],
   "source": [
    "## Outlier value in X resulting in an outlier value in Y\n",
    "TrueEstimate = 50\n",
    "df = generate_data_skewed(te=TrueEstimate, skew_var=3)\n",
    "df.describe().T\n",
    "\n",
    "outlier_row = pd.DataFrame(index=[2000,2001] , \n",
    "                                 data={'x1': [150, 350],\n",
    "                                       'x2': [150, 350],'treatment': [1,0] } )\n",
    "\n",
    "## Predict the outcome \n",
    "# rf_fit = LinearRegression().fit(df[['x1','x2']], df['Y'])\n",
    "# outlier_row['Y'] = rf_fit.predict(outlier_row[['x1','x2']]) + outlier_row['treatment']*10\n",
    "# outlier_row['treatment'] = np.ones(2)"
   ]
  },
  {
   "cell_type": "code",
   "execution_count": 6,
   "metadata": {},
   "outputs": [],
   "source": [
    "# display(df.describe().T)\n",
    "# display(outlier_row.describe().T)"
   ]
  },
  {
   "cell_type": "code",
   "execution_count": 7,
   "metadata": {},
   "outputs": [
    {
     "data": {
      "text/html": [
       "<div>\n",
       "<style scoped>\n",
       "    .dataframe tbody tr th:only-of-type {\n",
       "        vertical-align: middle;\n",
       "    }\n",
       "\n",
       "    .dataframe tbody tr th {\n",
       "        vertical-align: top;\n",
       "    }\n",
       "\n",
       "    .dataframe thead th {\n",
       "        text-align: right;\n",
       "    }\n",
       "</style>\n",
       "<table border=\"1\" class=\"dataframe\">\n",
       "  <thead>\n",
       "    <tr style=\"text-align: right;\">\n",
       "      <th></th>\n",
       "      <th>Y</th>\n",
       "      <th>x1</th>\n",
       "      <th>x2</th>\n",
       "    </tr>\n",
       "  </thead>\n",
       "  <tbody>\n",
       "    <tr>\n",
       "      <th>count</th>\n",
       "      <td>1000.000000</td>\n",
       "      <td>1000.000000</td>\n",
       "      <td>1000.000000</td>\n",
       "    </tr>\n",
       "    <tr>\n",
       "      <th>mean</th>\n",
       "      <td>690.608793</td>\n",
       "      <td>80.653621</td>\n",
       "      <td>74.329727</td>\n",
       "    </tr>\n",
       "    <tr>\n",
       "      <th>std</th>\n",
       "      <td>3310.974624</td>\n",
       "      <td>1067.114589</td>\n",
       "      <td>484.574824</td>\n",
       "    </tr>\n",
       "    <tr>\n",
       "      <th>min</th>\n",
       "      <td>100.022486</td>\n",
       "      <td>0.000004</td>\n",
       "      <td>0.000039</td>\n",
       "    </tr>\n",
       "    <tr>\n",
       "      <th>50%</th>\n",
       "      <td>157.589985</td>\n",
       "      <td>1.214325</td>\n",
       "      <td>1.135503</td>\n",
       "    </tr>\n",
       "    <tr>\n",
       "      <th>90%</th>\n",
       "      <td>616.191179</td>\n",
       "      <td>43.810179</td>\n",
       "      <td>55.430897</td>\n",
       "    </tr>\n",
       "    <tr>\n",
       "      <th>92.5%</th>\n",
       "      <td>967.176579</td>\n",
       "      <td>65.703047</td>\n",
       "      <td>79.137544</td>\n",
       "    </tr>\n",
       "    <tr>\n",
       "      <th>95%</th>\n",
       "      <td>1528.899224</td>\n",
       "      <td>117.951977</td>\n",
       "      <td>172.405433</td>\n",
       "    </tr>\n",
       "    <tr>\n",
       "      <th>97.5%</th>\n",
       "      <td>4022.875068</td>\n",
       "      <td>343.557102</td>\n",
       "      <td>479.722002</td>\n",
       "    </tr>\n",
       "    <tr>\n",
       "      <th>max</th>\n",
       "      <td>48318.510473</td>\n",
       "      <td>32081.234189</td>\n",
       "      <td>7726.667034</td>\n",
       "    </tr>\n",
       "  </tbody>\n",
       "</table>\n",
       "</div>"
      ],
      "text/plain": [
       "                  Y            x1           x2\n",
       "count   1000.000000   1000.000000  1000.000000\n",
       "mean     690.608793     80.653621    74.329727\n",
       "std     3310.974624   1067.114589   484.574824\n",
       "min      100.022486      0.000004     0.000039\n",
       "50%      157.589985      1.214325     1.135503\n",
       "90%      616.191179     43.810179    55.430897\n",
       "92.5%    967.176579     65.703047    79.137544\n",
       "95%     1528.899224    117.951977   172.405433\n",
       "97.5%   4022.875068    343.557102   479.722002\n",
       "max    48318.510473  32081.234189  7726.667034"
      ]
     },
     "metadata": {},
     "output_type": "display_data"
    },
    {
     "data": {
      "image/png": "[encoded data removed]",
      "text/plain": [
       "<Figure size 1440x720 with 3 Axes>"
      ]
     },
     "metadata": {},
     "output_type": "display_data"
    }
   ],
   "source": [
    "display(df[['Y','x1','x2']].describe(percentiles=np.arange(0.90,1,0.025))  )\n",
    "\n",
    "fig,ax = plt.subplots(ncols=1,nrows=3, figsize=(20,10))\n",
    "ax[0].hist(df['Y'], bins=50, density=False, alpha=0.25, color='magenta')\n",
    "ax[0].set_title('Y')\n",
    "ax[1].hist(df['x1'], bins=50, density=False, alpha=0.25, color='green')\n",
    "ax[1].set_title('x1')\n",
    "ax[2].hist(df['x2'], bins=50, density=False, alpha=0.25, color='blue')\n",
    "ax[2].set_title('x2')\n",
    "fig.set_facecolor('white')"
   ]
  },
  {
   "cell_type": "code",
   "execution_count": null,
   "metadata": {},
   "outputs": [],
   "source": []
  },
  {
   "cell_type": "code",
   "execution_count": 8,
   "metadata": {},
   "outputs": [],
   "source": [
    "feature_list = ['x1','x2']\n",
    "outcome_name = 'Y'\n",
    "treatment_name = 'treatment'\n",
    "split_name= 'splits'\n",
    "n_data_splits = 4\n",
    "aux_dict = {'lower':0, 'upper':1}"
   ]
  },
  {
   "cell_type": "code",
   "execution_count": 9,
   "metadata": {},
   "outputs": [
    {
     "name": "stdout",
     "output_type": "stream",
     "text": [
      "Estimate without modification\n",
      "  199.750[86.153]\n",
      "  True Value: 50.000\n"
     ]
    }
   ],
   "source": [
    "print('Estimate without modification')\n",
    "a = st.ate.dml.dml_plm(df, \n",
    "                split_name, feature_list, outcome_name, treatment_name,\n",
    "                RandomForestRegressor(n_estimators=200, random_state=27),\n",
    "                RandomForestClassifier(n_estimators=200, random_state=27),\n",
    "               n_data_splits,\n",
    "               aux_dict)\n",
    "\n",
    "print('  {0:5.3f}[{1:5.3f}]'.format(a['ATE TE'], a['ATE SE']))\n",
    "print('  True Value: {0:5.3f}'.format(TrueEstimate))"
   ]
  },
  {
   "cell_type": "code",
   "execution_count": 10,
   "metadata": {},
   "outputs": [
    {
     "name": "stdout",
     "output_type": "stream",
     "text": [
      "Estimate with logged independent features\n",
      "  204.093[86.297]\n",
      "  True Value: 50.000\n"
     ]
    }
   ],
   "source": [
    "print('Estimate with logged independent features')\n",
    "\n",
    "feature_list_log = []\n",
    "for p in feature_list:\n",
    "    df[p+'_log'] = np.log(1+df[p])\n",
    "    feature_list_log.append(p+'_log')\n",
    "    \n",
    "a = st.ate.dml.dml_plm(df, \n",
    "                split_name, feature_list_log, outcome_name, treatment_name,\n",
    "                RandomForestRegressor(n_estimators=200, random_state=27),\n",
    "                RandomForestClassifier(n_estimators=200, random_state=27),\n",
    "               n_data_splits,\n",
    "               aux_dict)\n",
    "\n",
    "print('  {0:5.3f}[{1:5.3f}]'.format(a['ATE TE'], a['ATE SE']))\n",
    "print('  True Value: {0:5.3f}'.format(TrueEstimate))"
   ]
  },
  {
   "cell_type": "code",
   "execution_count": null,
   "metadata": {},
   "outputs": [],
   "source": []
  },
  {
   "cell_type": "code",
   "execution_count": null,
   "metadata": {},
   "outputs": [],
   "source": []
  },
  {
   "cell_type": "code",
   "execution_count": 11,
   "metadata": {},
   "outputs": [],
   "source": [
    "# fig,ax = plt.subplots(ncols=1, nrows=1, figsize=(20,20))\n",
    "# color_list = ['blue','orange','green','purple']\n",
    "# ## Do this for different amounts of skewing\n",
    "# skew_list = [1.0,1.75]\n",
    "# diff_list = []\n",
    "# te_list = []\n",
    "# se_list = []\n",
    "# for s, c__ in zip(skew_list, range(len(skew_list))) :\n",
    "#     df = generate_data_skewed(te=TrueEstimate, skew_var=s)\n",
    "#     a = st.ate.dml.dml_plm(df, \n",
    "#                     split_name, feature_list, outcome_name, treatment_name,\n",
    "#                     RandomForestRegressor(n_estimators=200, random_state=27),\n",
    "#                     RandomForestClassifier(n_estimators=200, random_state=27),\n",
    "#                    n_data_splits,\n",
    "#                    aux_dict)\n",
    "#     ax.hist(df['x1'], density=True, bins=20, alpha=0.25, color=color_list[c__], label='{0:5.2f}'.format(a['ATE TE']))\n",
    "# ax.set_ylabel('Density of X1')\n",
    "# ax.set_xlabel('X1 values')\n",
    "# fig.set_facecolor('white')\n",
    "# ax.legend(loc='upper left')\n",
    "    "
   ]
  },
  {
   "cell_type": "code",
   "execution_count": 12,
   "metadata": {},
   "outputs": [],
   "source": [
    "## Do this for different amounts of skewing\n",
    "skew_list = [1.0,2.00,2.50, 2.75, 2.80, 2.95, 3.00]\n",
    "diff_list = []\n",
    "te_list = []\n",
    "se_list = []\n",
    "\n",
    "bt_reps = 10\n",
    "for s in skew_list:\n",
    "    diff_bt_list = []\n",
    "    te_bt_list = []\n",
    "    for bt in range(bt_reps):\n",
    "        df = generate_data_skewed(te=TrueEstimate, skew_var=s)\n",
    "        ## Summarize amount of skew based on the number of standard deviations between the median and 95th percentile\n",
    "        p50 = df['Y'].quantile(0.50)\n",
    "        p95 = df['Y'].quantile(0.95)\n",
    "        diff_sd = np.abs(p50 - p95) \n",
    "\n",
    "        a = st.ate.dml.dml_plm(df, \n",
    "                        split_name, feature_list, outcome_name, treatment_name,\n",
    "                        RandomForestRegressor(n_estimators=50, random_state=27),\n",
    "                        RandomForestClassifier(n_estimators=50, random_state=27),\n",
    "                       n_data_splits,\n",
    "                       aux_dict)\n",
    "        diff_bt_list.append(diff_sd)\n",
    "        te_bt_list.append(a['ATE TE'])\n",
    "    diff_list.append(np.mean(diff_bt_list))\n",
    "    te_list.append(np.mean(te_bt_list) )\n",
    "    se_list.append(a['ATE SE'])"
   ]
  },
  {
   "cell_type": "code",
   "execution_count": 13,
   "metadata": {},
   "outputs": [],
   "source": [
    "diff_sd = np.array(diff_sd) \n",
    "te_list = np.array(te_list)\n",
    "se_list = np.array(se_list)"
   ]
  },
  {
   "cell_type": "code",
   "execution_count": 14,
   "metadata": {},
   "outputs": [
    {
     "data": {
      "image/png": "[encoded data removed]",
      "text/plain": [
       "<Figure size 360x360 with 1 Axes>"
      ]
     },
     "metadata": {},
     "output_type": "display_data"
    }
   ],
   "source": [
    "fig,ax = plt.subplots(ncols=1, nrows=1, figsize=(5,5))\n",
    "ax.scatter(diff_list, te_list - TrueEstimate, color='darkorange', alpha=0.50, label='Bias')\n",
    "# ax.vlines(diff_list, te_list+1.96*se_list- TrueEstimate, te_list-1.96*se_list- TrueEstimate, color='darkorange', label='95% CI')\n",
    "ax.grid()\n",
    "ax.set_xlabel('Difference Between P50 and P95')\n",
    "ax.set_ylabel('Bias of the Estimate')\n",
    "ax.legend(loc='upper left')\n",
    "fig.set_facecolor('lightblue')"
   ]
  },
  {
   "cell_type": "code",
   "execution_count": 15,
   "metadata": {},
   "outputs": [
    {
     "name": "stdout",
     "output_type": "stream",
     "text": [
      "Estimate including indicators of feature values above 95.0%\n",
      "  291.738[305.057]\n",
      "  True Value: 50.000\n",
      "Estimate including indicators of feature values above 95.0% and interactions with top 95.0% values\n",
      "  200.339[304.170]\n",
      "  True Value: 50.000\n",
      "Estimate including indicators of feature values above 95.0% with logged features and interactions with top 95.0%\n",
      "  231.623[303.887]\n",
      "  True Value: 50.000\n"
     ]
    }
   ],
   "source": [
    "tp_value = 0.95\n",
    "print('Estimate including indicators of feature values above {0}%'.format(tp_value*100))\n",
    "feature_list_top95 = []\n",
    "for p in feature_list:\n",
    "    df[p+'_tp'] = (df[p]>=df[p].quantile(tp_value))\n",
    "    feature_list_top95.append(p+'_tp')\n",
    "\n",
    "feature_list_top95_X = []\n",
    "for p in feature_list:\n",
    "    df[p+'_tp_X'] = (df[p]>=df[p].quantile(tp_value))*df[p]\n",
    "    feature_list_top95_X.append(p+'_tp_X')\n",
    "\n",
    "feature_list_log = []\n",
    "for p in feature_list:\n",
    "    df[p+'_log'] = np.log(1+df[p])\n",
    "    feature_list_log.append(p+'_log')\n",
    "    \n",
    "    \n",
    "a = st.ate.dml.dml_plm(df, \n",
    "                split_name, feature_list+feature_list_top95, outcome_name, treatment_name,\n",
    "                RandomForestRegressor(n_estimators=200, random_state=27),\n",
    "                RandomForestClassifier(n_estimators=200, random_state=27),\n",
    "               n_data_splits,\n",
    "               aux_dict)   \n",
    "print('  {0:5.3f}[{1:5.3f}]'.format(a['ATE TE'], a['ATE SE']))\n",
    "print('  True Value: {0:5.3f}'.format(TrueEstimate))\n",
    "\n",
    "\n",
    "print('Estimate including indicators of feature values above {0}% and interactions with top {0}% values'.format(tp_value*100))\n",
    "    \n",
    "a = st.ate.dml.dml_plm(df, \n",
    "                split_name, feature_list+feature_list_top95+feature_list_top95_X, outcome_name, treatment_name,\n",
    "                RandomForestRegressor(n_estimators=200, random_state=27),\n",
    "                RandomForestClassifier(n_estimators=200, random_state=27),\n",
    "               n_data_splits,\n",
    "               aux_dict)   \n",
    "print('  {0:5.3f}[{1:5.3f}]'.format(a['ATE TE'], a['ATE SE']))\n",
    "print('  True Value: {0:5.3f}'.format(TrueEstimate))\n",
    "\n",
    "\n",
    "feature_list_top95_X_log = []\n",
    "for p in feature_list:\n",
    "    df[p+'_tp_X_log'] = (df[p]>=df[p].quantile(tp_value))*np.log(1+df[p])\n",
    "    feature_list_top95_X_log.append(p+'_tp_X_log')\n",
    "\n",
    "print('Estimate including indicators of feature values above {0}% with logged features and interactions with top {0}%'.format(tp_value*100))\n",
    "a = st.ate.dml.dml_plm(df, \n",
    "                split_name, feature_list_log+feature_list_top95+feature_list_top95_X_log, outcome_name, treatment_name,\n",
    "                RandomForestRegressor(n_estimators=200, random_state=27),\n",
    "                RandomForestClassifier(n_estimators=200, random_state=27),\n",
    "               n_data_splits,\n",
    "               aux_dict)   \n",
    "print('  {0:5.3f}[{1:5.3f}]'.format(a['ATE TE'], a['ATE SE']))\n",
    "print('  True Value: {0:5.3f}'.format(TrueEstimate))\n",
    "\n"
   ]
  },
  {
   "cell_type": "code",
   "execution_count": 16,
   "metadata": {},
   "outputs": [
    {
     "name": "stdout",
     "output_type": "stream",
     "text": [
      "Estimate removing outlier outcome values of different values of removing the outcome\n"
     ]
    }
   ],
   "source": [
    "print('Estimate removing outlier outcome values of different values of removing the outcome')\n",
    "pd.options.mode.chained_assignment = None  # default='warn'\n",
    "outlier_percentile_cuts = np.round(np.arange(0.90,0.99, 0.005), 3)\n",
    "est_list = []\n",
    "se_list = []\n",
    "pc_value_list = []\n",
    "for p in outlier_percentile_cuts:\n",
    "    pc = df['Y'].quantile(p)\n",
    "    df_tp = df.loc[(df['Y'] < pc)]\n",
    "\n",
    "    a = st.ate.dml.dml_plm(df_tp, \n",
    "                    split_name, feature_list_log+feature_list_top95+feature_list_top95_X, outcome_name, treatment_name,\n",
    "                    RandomForestRegressor(n_estimators=200, random_state=27),\n",
    "                    RandomForestClassifier(n_estimators=200, random_state=27),\n",
    "                   n_data_splits,\n",
    "                   aux_dict)   \n",
    "    est_list.append(a['ATE TE'])\n",
    "    se_list.append(a['ATE SE'])\n",
    "    pc_value_list.append(pc)\n",
    "#     print('  {0:5.3f}[{1:5.3f}]'.format(a[0], a[1]))\n",
    "#     print('  True Value: {0:5.3f}'.format(TrueEstimate))\n"
   ]
  },
  {
   "cell_type": "code",
   "execution_count": 17,
   "metadata": {},
   "outputs": [],
   "source": [
    "est_list = np.array(est_list)\n",
    "se_list  = np.array(se_list)\n",
    "pc_value_list = np.array(pc_value_list)"
   ]
  },
  {
   "cell_type": "code",
   "execution_count": 18,
   "metadata": {},
   "outputs": [
    {
     "data": {
      "image/png": "[encoded data removed]",
      "text/plain": [
       "<Figure size 1080x576 with 2 Axes>"
      ]
     },
     "metadata": {},
     "output_type": "display_data"
    }
   ],
   "source": [
    "fig, ax = plt.subplots(ncols = 2, nrows = 1, figsize=(15,8))\n",
    "ax[0].scatter(outlier_percentile_cuts, est_list , color='darkorange', label='Estimate' )\n",
    "ax[0].vlines(outlier_percentile_cuts, est_list + 1.96*se_list, est_list - 1.96*se_list,  color='darkorange', label='95% CI' )\n",
    "ax[0].plot(outlier_percentile_cuts, [50]*(len(outlier_percentile_cuts)) , color='black' , label='Truth')\n",
    "ax[0].set_ylabel('Estimate')\n",
    "ax[0].set_xlabel('Percentile of Outcome Dataset is Truncated at')\n",
    "ax[0].legend(loc='upper left')\n",
    "ax[0].grid()\n",
    "\n",
    "\n",
    "ax[1].scatter(outlier_percentile_cuts, pc_value_list, color='teal')\n",
    "ax[1].set_ylabel('Value of the Y at that percentile')\n",
    "ax[1].set_xlabel('Percentile of Outcome Dataset is Truncated at')\n",
    "ax[1].grid()\n",
    "fig.suptitle('Estimate given removing data with outlier outcome values')\n",
    "fig.set_facecolor('white')"
   ]
  },
  {
   "cell_type": "code",
   "execution_count": 19,
   "metadata": {},
   "outputs": [
    {
     "name": "stdout",
     "output_type": "stream",
     "text": [
      "Estimate winsorizing outlier outcome values\n"
     ]
    }
   ],
   "source": [
    "print('Estimate winsorizing outlier outcome values')\n",
    "pd.options.mode.chained_assignment = None  # default='warn'\n",
    "outlier_percentile_cuts = np.round(np.arange(0.90,0.99, 0.005), 3)\n",
    "est_list = []\n",
    "se_list = []\n",
    "pc_value_list = []\n",
    "for p in outlier_percentile_cuts:\n",
    "    pc = df['Y'].quantile(p)\n",
    "    df['Y_tp'] = df['Y'].values\n",
    "    df.loc[(df['Y_tp'] >= pc) ,'Y_tp'] = pc\n",
    "\n",
    "\n",
    "    a = st.ate.dml.dml_plm(df, \n",
    "                    split_name, feature_list_log+feature_list_top95+feature_list_top95_X, 'Y_tp', treatment_name,\n",
    "                    RandomForestRegressor(n_estimators=200, random_state=27),\n",
    "                    RandomForestClassifier(n_estimators=200, random_state=27),\n",
    "                   n_data_splits,\n",
    "                   aux_dict)   \n",
    "    est_list.append(a['ATE TE'])\n",
    "    se_list.append(a['ATE SE'])\n",
    "    pc_value_list.append(pc)\n",
    "\n"
   ]
  },
  {
   "cell_type": "code",
   "execution_count": 20,
   "metadata": {},
   "outputs": [],
   "source": [
    "est_list = np.array(est_list)\n",
    "se_list  = np.array(se_list)\n",
    "pc_value_list = np.array(pc_value_list)"
   ]
  },
  {
   "cell_type": "code",
   "execution_count": 21,
   "metadata": {},
   "outputs": [
    {
     "data": {
      "image/png": "[encoded data removed]",
      "text/plain": [
       "<Figure size 1080x576 with 2 Axes>"
      ]
     },
     "metadata": {},
     "output_type": "display_data"
    }
   ],
   "source": [
    "fig, ax = plt.subplots(ncols = 2, nrows = 1, figsize=(15,8))\n",
    "ax[0].scatter(outlier_percentile_cuts, est_list , color='royalblue', label='Estimate' )\n",
    "ax[0].vlines(outlier_percentile_cuts, est_list + 1.96*se_list, est_list - 1.96*se_list,  color='royalblue', label='95% CI' )\n",
    "ax[0].plot(outlier_percentile_cuts, [50]*(len(outlier_percentile_cuts)) , color='black' , label='Truth')\n",
    "ax[0].set_ylabel('Estimate')\n",
    "ax[0].set_xlabel('Percentile of Outcome Dataset is Winsorized at')\n",
    "ax[0].legend(loc='upper left')\n",
    "ax[0].grid()\n",
    "\n",
    "\n",
    "ax[1].scatter(outlier_percentile_cuts, pc_value_list, color='coral')\n",
    "ax[1].set_ylabel('Value of the Y at that percentile')\n",
    "ax[1].set_xlabel('Percentile of Outcome Dataset is Winsorized at')\n",
    "ax[1].grid()\n",
    "fig.suptitle('Estimate given winsorizing outcome data at given percentile values')\n",
    "fig.set_facecolor('grey')"
   ]
  },
  {
   "cell_type": "code",
   "execution_count": 22,
   "metadata": {},
   "outputs": [
    {
     "name": "stdout",
     "output_type": "stream",
     "text": [
      "Estimate winsorizing outlier outcome values\n",
      "  46.868[3.668]\n",
      "  True Value: 50.000\n"
     ]
    }
   ],
   "source": [
    "print('Estimate winsorizing outlier outcome values')\n",
    "df['Y_tp'] = df['Y'].values\n",
    "df.loc[(df['Y_tp'] >= df['Y_tp'].quantile(0.98)),'Y_tp'] = df['Y'].quantile(0.98)\n",
    "\n",
    "a = st.ate.dml.dml_plm(df, \n",
    "                split_name, feature_list_log+feature_list_top95+feature_list_top95_X, 'Y_tp', treatment_name,\n",
    "                RandomForestRegressor(n_estimators=200, random_state=27),\n",
    "                RandomForestClassifier(n_estimators=200, random_state=27),\n",
    "               n_data_splits,\n",
    "               aux_dict)  \n",
    "print('  {0:5.3f}[{1:5.3f}]'.format(a['ATE TE'], a['ATE SE']))\n",
    "print('  True Value: {0:5.3f}'.format(TrueEstimate))"
   ]
  },
  {
   "cell_type": "markdown",
   "metadata": {},
   "source": [
    "### What about a quantile regression approach?"
   ]
  },
  {
   "cell_type": "code",
   "execution_count": 23,
   "metadata": {},
   "outputs": [],
   "source": [
    "def quant_reg(data,f, y, qcut=0.50):\n",
    "    X = sm.add_constant(data[f])    \n",
    "    quant = sm.regression.quantile_regression.QuantReg(data[y], X ).fit(q=qcut)\n",
    "    return quant.params[-1],quant.bse[-1] \n",
    "\n",
    "def quant_dml_reg(y_res, t_res, qcut=0.50):\n",
    "    quant = sm.regression.quantile_regression.QuantReg( y_res, t_res ).fit(q=qcut)\n",
    "    return quant.params[-1],quant.bse[-1] \n"
   ]
  },
  {
   "cell_type": "code",
   "execution_count": 24,
   "metadata": {},
   "outputs": [
    {
     "data": {
      "text/html": [
       "<table class=\"simpletable\">\n",
       "<caption>QuantReg Regression Results</caption>\n",
       "<tr>\n",
       "  <th>Dep. Variable:</th>         <td>Y</td>        <th>  Pseudo R-squared:  </th> <td>   1.000</td> \n",
       "</tr>\n",
       "<tr>\n",
       "  <th>Model:</th>             <td>QuantReg</td>     <th>  Bandwidth:         </th> <td>1.547e-09</td>\n",
       "</tr>\n",
       "<tr>\n",
       "  <th>Method:</th>          <td>Least Squares</td>  <th>  Sparsity:          </th> <td>4.289e-09</td>\n",
       "</tr>\n",
       "<tr>\n",
       "  <th>Date:</th>          <td>Wed, 12 Oct 2022</td> <th>  No. Observations:  </th>  <td>  1000</td>  \n",
       "</tr>\n",
       "<tr>\n",
       "  <th>Time:</th>              <td>20:29:48</td>     <th>  Df Residuals:      </th>  <td>   996</td>  \n",
       "</tr>\n",
       "<tr>\n",
       "  <th> </th>                      <td> </td>        <th>  Df Model:          </th>  <td>     3</td>  \n",
       "</tr>\n",
       "</table>\n",
       "<table class=\"simpletable\">\n",
       "<tr>\n",
       "      <td></td>         <th>coef</th>     <th>std err</th>      <th>t</th>      <th>P>|t|</th>  <th>[0.025</th>    <th>0.975]</th>  \n",
       "</tr>\n",
       "<tr>\n",
       "  <th>const</th>     <td>  100.0000</td> <td> 1.41e-10</td> <td> 7.07e+11</td> <td> 0.000</td> <td>  100.000</td> <td>  100.000</td>\n",
       "</tr>\n",
       "<tr>\n",
       "  <th>x1</th>        <td>    1.5000</td> <td> 1.57e-14</td> <td> 9.56e+13</td> <td> 0.000</td> <td>    1.500</td> <td>    1.500</td>\n",
       "</tr>\n",
       "<tr>\n",
       "  <th>x2</th>        <td>    6.0000</td> <td> 3.89e-14</td> <td> 1.54e+14</td> <td> 0.000</td> <td>    6.000</td> <td>    6.000</td>\n",
       "</tr>\n",
       "<tr>\n",
       "  <th>treatment</th> <td>   50.0000</td> <td>  1.5e-10</td> <td> 3.34e+11</td> <td> 0.000</td> <td>   50.000</td> <td>   50.000</td>\n",
       "</tr>\n",
       "</table><br/><br/>The condition number is large, 4.98e+03. This might indicate that there are<br/>strong multicollinearity or other numerical problems."
      ],
      "text/plain": [
       "<class 'statsmodels.iolib.summary.Summary'>\n",
       "\"\"\"\n",
       "                         QuantReg Regression Results                          \n",
       "==============================================================================\n",
       "Dep. Variable:                      Y   Pseudo R-squared:                1.000\n",
       "Model:                       QuantReg   Bandwidth:                   1.547e-09\n",
       "Method:                 Least Squares   Sparsity:                    4.289e-09\n",
       "Date:                Wed, 12 Oct 2022   No. Observations:                 1000\n",
       "Time:                        20:29:48   Df Residuals:                      996\n",
       "                                        Df Model:                            3\n",
       "==============================================================================\n",
       "                 coef    std err          t      P>|t|      [0.025      0.975]\n",
       "------------------------------------------------------------------------------\n",
       "const        100.0000   1.41e-10   7.07e+11      0.000     100.000     100.000\n",
       "x1             1.5000   1.57e-14   9.56e+13      0.000       1.500       1.500\n",
       "x2             6.0000   3.89e-14   1.54e+14      0.000       6.000       6.000\n",
       "treatment     50.0000    1.5e-10   3.34e+11      0.000      50.000      50.000\n",
       "==============================================================================\n",
       "\n",
       "The condition number is large, 4.98e+03. This might indicate that there are\n",
       "strong multicollinearity or other numerical problems.\n",
       "\"\"\""
      ]
     },
     "metadata": {},
     "output_type": "display_data"
    },
    {
     "data": {
      "text/html": [
       "<table class=\"simpletable\">\n",
       "<caption>QuantReg Regression Results</caption>\n",
       "<tr>\n",
       "  <th>Dep. Variable:</th>         <td>Y</td>        <th>  Pseudo R-squared:  </th> <td>  0.9997</td>\n",
       "</tr>\n",
       "<tr>\n",
       "  <th>Model:</th>             <td>QuantReg</td>     <th>  Bandwidth:         </th> <td> 0.06973</td>\n",
       "</tr>\n",
       "<tr>\n",
       "  <th>Method:</th>          <td>Least Squares</td>  <th>  Sparsity:          </th> <td>  0.1692</td>\n",
       "</tr>\n",
       "<tr>\n",
       "  <th>Date:</th>          <td>Wed, 12 Oct 2022</td> <th>  No. Observations:  </th>  <td>  1000</td> \n",
       "</tr>\n",
       "<tr>\n",
       "  <th>Time:</th>              <td>20:29:48</td>     <th>  Df Residuals:      </th>  <td>   996</td> \n",
       "</tr>\n",
       "<tr>\n",
       "  <th> </th>                      <td> </td>        <th>  Df Model:          </th>  <td>     3</td> \n",
       "</tr>\n",
       "</table>\n",
       "<table class=\"simpletable\">\n",
       "<tr>\n",
       "      <td></td>         <th>coef</th>     <th>std err</th>      <th>t</th>      <th>P>|t|</th>  <th>[0.025</th>    <th>0.975]</th>  \n",
       "</tr>\n",
       "<tr>\n",
       "  <th>const</th>     <td>  100.0000</td> <td>    0.004</td> <td> 2.63e+04</td> <td> 0.000</td> <td>   99.993</td> <td>  100.007</td>\n",
       "</tr>\n",
       "<tr>\n",
       "  <th>x1</th>        <td>    1.5000</td> <td> 1.83e-06</td> <td>  8.2e+05</td> <td> 0.000</td> <td>    1.500</td> <td>    1.500</td>\n",
       "</tr>\n",
       "<tr>\n",
       "  <th>x2</th>        <td>    6.0000</td> <td> 1.81e-06</td> <td> 3.31e+06</td> <td> 0.000</td> <td>    6.000</td> <td>    6.000</td>\n",
       "</tr>\n",
       "<tr>\n",
       "  <th>treatment</th> <td>   50.2804</td> <td>    0.005</td> <td> 9921.228</td> <td> 0.000</td> <td>   50.270</td> <td>   50.290</td>\n",
       "</tr>\n",
       "</table><br/><br/>The condition number is large, 4.98e+03. This might indicate that there are<br/>strong multicollinearity or other numerical problems."
      ],
      "text/plain": [
       "<class 'statsmodels.iolib.summary.Summary'>\n",
       "\"\"\"\n",
       "                         QuantReg Regression Results                          \n",
       "==============================================================================\n",
       "Dep. Variable:                      Y   Pseudo R-squared:               0.9997\n",
       "Model:                       QuantReg   Bandwidth:                     0.06973\n",
       "Method:                 Least Squares   Sparsity:                       0.1692\n",
       "Date:                Wed, 12 Oct 2022   No. Observations:                 1000\n",
       "Time:                        20:29:48   Df Residuals:                      996\n",
       "                                        Df Model:                            3\n",
       "==============================================================================\n",
       "                 coef    std err          t      P>|t|      [0.025      0.975]\n",
       "------------------------------------------------------------------------------\n",
       "const        100.0000      0.004   2.63e+04      0.000      99.993     100.007\n",
       "x1             1.5000   1.83e-06    8.2e+05      0.000       1.500       1.500\n",
       "x2             6.0000   1.81e-06   3.31e+06      0.000       6.000       6.000\n",
       "treatment     50.2804      0.005   9921.228      0.000      50.270      50.290\n",
       "==============================================================================\n",
       "\n",
       "The condition number is large, 4.98e+03. This might indicate that there are\n",
       "strong multicollinearity or other numerical problems.\n",
       "\"\"\""
      ]
     },
     "metadata": {},
     "output_type": "display_data"
    }
   ],
   "source": [
    "X = sm.add_constant(df[['x1','x2', 'treatment']] )\n",
    "quant = sm.regression.quantile_regression.QuantReg(df['Y'], X ).fit(q=0.25)\n",
    "display(quant.summary())\n",
    "\n",
    "## Create some additional noise in the data\n",
    "df.loc[(df['treatment']==1), 'Y'] += np.random.uniform(0,1, (df['treatment']==1).sum() )\n",
    "quant = sm.regression.quantile_regression.QuantReg(df['Y'], X ).fit(q=0.25)\n",
    "display(quant.summary())\n"
   ]
  },
  {
   "cell_type": "code",
   "execution_count": 25,
   "metadata": {},
   "outputs": [],
   "source": [
    "## Now we generate some heterogeneous treatment effects.\n",
    "# df = generate_data_skewed(te=np.random.normal(10,1, 1000))\n",
    "\n",
    "\n",
    "est_dict = {'0.25':[], '0.50':[], '0.75':[],}\n",
    "se_dict = {'0.25':[], '0.50':[], '0.75':[],}\n",
    "\n",
    "sim_range = range(20)\n",
    "for r in sim_range:\n",
    "    df = generate_data_skewed(te=np.random.uniform(0,100, 1000))\n",
    "    for r in list( est_dict.keys() ):\n",
    "        a = quant_reg(df,['x1','x2', 'treatment'], 'Y', qcut=float(r) ) \n",
    "#         print('Estimate on {0} quantile:  {1:5.3f}[{2:5.3f}]'.format(r, a[0],a[1]))\n",
    "        est_dict[str(r)].append(a[0])\n",
    "        se_dict[str(r)].append(a[1])\n"
   ]
  },
  {
   "cell_type": "code",
   "execution_count": 26,
   "metadata": {},
   "outputs": [
    {
     "data": {
      "image/png": "[encoded data removed]",
      "text/plain": [
       "<Figure size 576x576 with 1 Axes>"
      ]
     },
     "metadata": {},
     "output_type": "display_data"
    }
   ],
   "source": [
    "fig,ax = plt.subplots(ncols=1, nrows=1, figsize=(8,8))\n",
    "\n",
    "for r, c in zip( list( est_dict.keys()), ['coral','magenta','royalblue'] ):\n",
    "    est_dict[r] = np.array(est_dict[r])\n",
    "    se_dict[r] = np.array(se_dict[r])    \n",
    "    r_p = r[-2:]\n",
    "    ax.scatter(sim_range , est_dict[r], color=c, alpha=0.25, label=r_p+'th')\n",
    "    ax.vlines(sim_range , est_dict[r] + 1.96*se_dict[r],est_dict[r] - 1.96*se_dict[r], color=c, alpha=0.25, label=r_p+' 95% CI')    \n",
    "ax.plot(sim_range, [25]*len(sim_range), color='black', label='Truth')\n",
    "ax.plot(sim_range, [50]*len(sim_range), color='black')\n",
    "ax.plot(sim_range, [75]*len(sim_range), color='black')\n",
    "ax.set_xlabel('Simulation Iteration')\n",
    "ax.set_ylabel('Estimate')\n",
    "ax.grid()\n",
    "ax.legend(loc='upper left')\n",
    "fig.set_facecolor('cornsilk')"
   ]
  },
  {
   "cell_type": "markdown",
   "metadata": {},
   "source": [
    "### 1(b). Outlier value in $Y_i$ due to idiosyncractic error"
   ]
  },
  {
   "cell_type": "code",
   "execution_count": 27,
   "metadata": {},
   "outputs": [
    {
     "name": "stdout",
     "output_type": "stream",
     "text": [
      "Before large idiosyncratic errors\n"
     ]
    },
    {
     "data": {
      "text/plain": [
       "count    1000.000000\n",
       "mean      124.946215\n",
       "std        25.244609\n",
       "min        86.437248\n",
       "25%       100.821006\n",
       "50%       112.814180\n",
       "75%       149.611036\n",
       "max       175.041175\n",
       "Name: Y, dtype: float64"
      ]
     },
     "metadata": {},
     "output_type": "display_data"
    },
    {
     "name": "stdout",
     "output_type": "stream",
     "text": [
      "After large idiosyncratic errors\n"
     ]
    },
    {
     "data": {
      "text/plain": [
       "count    1000.000000\n",
       "mean      134.937321\n",
       "std        39.263759\n",
       "min        86.437248\n",
       "25%       101.730115\n",
       "50%       140.456395\n",
       "75%       152.480210\n",
       "max       266.489083\n",
       "Name: Y, dtype: float64"
      ]
     },
     "metadata": {},
     "output_type": "display_data"
    }
   ],
   "source": [
    "df = generate_data(te=50)\n",
    "## For a random 10% of the sample, increase the outcome by a random number\n",
    "random10 = int( len(df) / 10 )\n",
    "print('Before large idiosyncratic errors')\n",
    "display(df['Y'].describe())\n",
    "df[0:random10]['Y'] += np.random.normal(100,1, random10)\n",
    "print('After large idiosyncratic errors')\n",
    "display(df['Y'].describe())"
   ]
  },
  {
   "cell_type": "code",
   "execution_count": 28,
   "metadata": {},
   "outputs": [
    {
     "name": "stdout",
     "output_type": "stream",
     "text": [
      "Estimate without modification\n",
      "  51.342[2.233]\n",
      "  True Value: 50.000\n"
     ]
    }
   ],
   "source": [
    "print('Estimate without modification')\n",
    "a = st.ate.dml.dml_plm(df, \n",
    "                split_name, feature_list, outcome_name, treatment_name,\n",
    "                RandomForestRegressor(n_estimators=200, random_state=27),\n",
    "                RandomForestClassifier(n_estimators=200, random_state=27),\n",
    "               n_data_splits,\n",
    "               aux_dict)\n",
    "\n",
    "print('  {0:5.3f}[{1:5.3f}]'.format(a['ATE TE'], a['ATE SE']))\n",
    "print('  True Value: {0:5.3f}'.format(TrueEstimate))"
   ]
  },
  {
   "cell_type": "code",
   "execution_count": 29,
   "metadata": {},
   "outputs": [],
   "source": [
    "## Do this over many repetitions\n",
    "te_outlier_list = []\n",
    "se_outlier_list = []\n",
    "\n",
    "te_list = []\n",
    "se_list = []\n",
    "\n",
    "sim_number = 20\n",
    "for r in range(sim_number):\n",
    "    df = generate_data(te=50)\n",
    "    ## Estimate without any outliers\n",
    "    a = st.ate.dml.dml_plm(df, \n",
    "                split_name, feature_list, outcome_name, treatment_name,\n",
    "                RandomForestRegressor(n_estimators=200, random_state=27),\n",
    "                RandomForestClassifier(n_estimators=200, random_state=27),\n",
    "               n_data_splits,\n",
    "               aux_dict)\n",
    "    te_list.append(a['ATE TE'])\n",
    "    se_list.append(a['ATE SE'])\n",
    "    \n",
    "    ## For a random 10% of the sample, increase the outcome by a random number\n",
    "    random10 = int( len(df) / 10 )\n",
    "\n",
    "    df[0:random10]['Y'] += np.random.normal(150,1, random10)\n",
    "    a = st.ate.dml.dml_plm(df, \n",
    "                split_name, feature_list, outcome_name, treatment_name,\n",
    "                RandomForestRegressor(n_estimators=200, random_state=27),\n",
    "                RandomForestClassifier(n_estimators=200, random_state=27),\n",
    "               n_data_splits,\n",
    "               aux_dict)\n",
    "    te_outlier_list.append(a['ATE TE'])\n",
    "    se_outlier_list.append(a['ATE SE'])\n"
   ]
  },
  {
   "cell_type": "code",
   "execution_count": 30,
   "metadata": {},
   "outputs": [],
   "source": [
    "te_outlier_list = np.array(te_outlier_list)\n",
    "se_outlier_list = np.array(se_outlier_list)\n",
    "\n",
    "te_list = np.array(te_list)\n",
    "se_list = np.array(se_list)"
   ]
  },
  {
   "cell_type": "code",
   "execution_count": 31,
   "metadata": {},
   "outputs": [
    {
     "data": {
      "image/png": "[encoded data removed]",
      "text/plain": [
       "<Figure size 1008x504 with 2 Axes>"
      ]
     },
     "metadata": {},
     "output_type": "display_data"
    }
   ],
   "source": [
    "fig,ax = plt.subplots(ncols=2, nrows=1, figsize=(14,7), sharey=True)\n",
    "ax[0].scatter(te_outlier_list-50, te_list-50, color='red')\n",
    "ax[0].grid()\n",
    "\n",
    "ax[1].hist(se_outlier_list, color='turquoise', alpha=0.45, label='w/ outliers')\n",
    "ax[1].hist(se_list, color='purple', alpha=0.45, label='w/o outliers')\n",
    "ax[1].grid()\n",
    "ax[1].legend()\n",
    "\n",
    "fig.set_facecolor('white')"
   ]
  },
  {
   "cell_type": "code",
   "execution_count": 32,
   "metadata": {},
   "outputs": [
    {
     "data": {
      "image/png": "[encoded data removed]",
      "text/plain": [
       "<Figure size 1008x504 with 2 Axes>"
      ]
     },
     "metadata": {},
     "output_type": "display_data"
    }
   ],
   "source": [
    "fig,ax = plt.subplots(ncols=2, nrows=1, figsize=(14,7), sharey=True)\n",
    "ax[0].scatter(range(sim_number), te_outlier_list-50, alpha=0.8, color='turquoise', label='ATE')\n",
    "ax[0].vlines(range(sim_number), te_outlier_list+1.96*se_outlier_list-50, te_outlier_list-1.96*se_outlier_list-50, alpha=0.65, color='turquoise', label='95% CI')\n",
    "ax[0].plot(range(sim_number), np.zeros(sim_number))\n",
    "ax[0].set_ylabel('Bias')\n",
    "ax[0].set_xlabel('Simulation Number')\n",
    "ax[0].legend()\n",
    "ax[0].grid()\n",
    "ax[0].set_title('With outliers')\n",
    "\n",
    "ax[1].scatter(range(sim_number), te_list-50, alpha=0.8, color='purple', label='ATE')\n",
    "ax[1].vlines(range(sim_number), te_list+1.96*se_list-50, te_list-1.96*se_list-50, alpha=0.65, color='purple', label='95% CI')\n",
    "ax[1].plot(range(sim_number), np.zeros(sim_number))\n",
    "ax[1].set_ylabel('Bias')\n",
    "ax[1].set_xlabel('Simulation Number')\n",
    "ax[1].legend()\n",
    "ax[1].grid()\n",
    "ax[1].set_title('Without outliers')\n",
    "plt.subplots_adjust(wspace=0.05, hspace=0)\n",
    "fig.set_facecolor('white')"
   ]
  },
  {
   "cell_type": "code",
   "execution_count": 33,
   "metadata": {},
   "outputs": [
    {
     "name": "stdout",
     "output_type": "stream",
     "text": [
      "50.27675195245336\n",
      "50.12564367798284\n"
     ]
    }
   ],
   "source": [
    "print(np.average(te_list))\n",
    "print(np.average(te_outlier_list))"
   ]
  },
  {
   "cell_type": "markdown",
   "metadata": {},
   "source": [
    "## 2. Class imbalance in training propensity scores\n"
   ]
  },
  {
   "cell_type": "markdown",
   "metadata": {},
   "source": [
    "We want to show how the treatment estimate changes when we have extreme propensity scores. This was previously tracked in the notebook `Best Practices -Trimming.`"
   ]
  },
  {
   "cell_type": "code",
   "execution_count": null,
   "metadata": {},
   "outputs": [],
   "source": []
  },
  {
   "cell_type": "code",
   "execution_count": 34,
   "metadata": {},
   "outputs": [],
   "source": [
    "from scipy import stats \n",
    "\n",
    "def generate_exdata(TrueEstimate=10):\n",
    "    N = 1000\n",
    "    x1 = np.random.normal(0,2,size=N)\n",
    "    x2 = np.random.normal(0,2,size=N)\n",
    "    treatment_latent = scipy.stats.norm.cdf(x=x1+x2 )\n",
    "    treatment = (treatment_latent +\\\n",
    "                 np.random.uniform(-0.05,0.015,N) > np.percentile(treatment_latent, 99) ).astype(float)\n",
    "    Y = TrueEstimate*treatment +\\\n",
    "        np.random.uniform(-2,-1)*x1+\\\n",
    "        np.random.uniform(-2,-1)*x2+\\\n",
    "        np.random.uniform(1,2)*np.cos(x1) +\\\n",
    "        np.random.normal(0,1,N)\n",
    "    return pd.DataFrame(data={'x1':x1,\n",
    "                              'x2':x2,\n",
    "                              'y':Y, 'W':treatment, 'W_x':treatment_latent})"
   ]
  },
  {
   "cell_type": "code",
   "execution_count": 35,
   "metadata": {},
   "outputs": [
    {
     "name": "stdout",
     "output_type": "stream",
     "text": [
      "0.0    956\n",
      "1.0     44\n",
      "Name: W, dtype: int64\n"
     ]
    }
   ],
   "source": [
    "true_estimate=10\n",
    "df =generate_exdata(TrueEstimate=true_estimate)\n",
    "print(df['W'].value_counts())"
   ]
  },
  {
   "cell_type": "code",
   "execution_count": 36,
   "metadata": {},
   "outputs": [
    {
     "data": {
      "image/png": "[encoded data removed]",
      "text/plain": [
       "<Figure size 360x216 with 1 Axes>"
      ]
     },
     "metadata": {},
     "output_type": "display_data"
    }
   ],
   "source": [
    "\n",
    "fig,ax = plt.subplots(ncols=1,nrows=1,figsize=(5,3))\n",
    "ax.hist(df.loc[df['W']==1]['W_x'], density=True, color='red',alpha=0.45, label='Treated')\n",
    "ax.hist(df.loc[df['W']==0]['W_x'], density=True, color='blue',alpha=0.45, label='Control')\n",
    "ax.set_xticks(np.arange(0,1.1,0.1))\n",
    "ax.set_xlabel('True Propensity Score')\n",
    "ax.set_ylabel('Density')\n",
    "ax.legend()\n",
    "ax.grid()\n",
    "fig.set_facecolor('white')"
   ]
  },
  {
   "cell_type": "code",
   "execution_count": 37,
   "metadata": {},
   "outputs": [
    {
     "data": {
      "image/png": "[encoded data removed]",
      "text/plain": [
       "<Figure size 1080x504 with 2 Axes>"
      ]
     },
     "metadata": {},
     "output_type": "display_data"
    }
   ],
   "source": [
    "feature_list = ['x1','x2']\n",
    "st.block_splits(df, split_name='splits', n_data_splits=2)\n",
    "df['W_hat'] = st.predict_treatment_indicator(df, 'splits',\n",
    "                                             2, \n",
    "                                             feature_list, 'W', RandomForestClassifier(n_estimators=200, random_state=27) )\n",
    "fig,ax = plt.subplots(ncols=2,nrows=1, figsize=(15,7))\n",
    "ax[0].scatter(df.loc[df['W']==0]['W_x'], df.loc[df['W']==0]['W_hat'],\n",
    "             color='blue',alpha=0.45, label='Control')\n",
    "ax[0].scatter(df.loc[df['W']==1]['W_x'], df.loc[df['W']==1]['W_hat'],\n",
    "             color='red',alpha=0.45, label='Treated')\n",
    "\n",
    "ax[0].set_xlabel('True Propensity Score')\n",
    "ax[0].set_ylabel('Est. Propensity Score')\n",
    "\n",
    "ax[1].hist(df.loc[df['W']==0]['W_hat'], density=True, color='blue',alpha=0.45, label='Control')\n",
    "\n",
    "ax[1].hist(df.loc[df['W']==1]['W_hat'], density=True, color='red',alpha=0.45, label='Treated')\n",
    "ax[1].legend()\n",
    "ax[1].set_title('Estimated Propensity Scores')\n",
    "fig.set_facecolor('pink')"
   ]
  },
  {
   "cell_type": "code",
   "execution_count": 40,
   "metadata": {},
   "outputs": [
    {
     "name": "stdout",
     "output_type": "stream",
     "text": [
      "  9.581[0.213]\n",
      "  True Value: 10.000\n",
      "  8.825[0.205]\n",
      "  True Value: 10.000\n",
      "  8.871[4.571]\n",
      "  True Value: 10.000\n"
     ]
    }
   ],
   "source": [
    "treatment_name = 'W'\n",
    "split_name = 'splits'\n",
    "\n",
    "a = st.ate.dml.dml_plm(df, \n",
    "                split_name, feature_list , 'y', treatment_name,\n",
    "                RandomForestRegressor(n_estimators=200, random_state=27),\n",
    "                RandomForestClassifier(n_estimators=200, random_state=27),\n",
    "               n_data_splits,\n",
    "               aux_dict)\n",
    "print('  {0:5.3f}[{1:5.3f}]'.format(a['ATE TE'], a['ATE SE']))\n",
    "print('  True Value: {0:5.3f}'.format(true_estimate))\n",
    "\n",
    "b = st.ate.dml.dml_irm(df, \n",
    "                split_name, feature_list , 'y', treatment_name,\n",
    "                RandomForestRegressor(n_estimators=200, random_state=27),\n",
    "                RandomForestClassifier(n_estimators=200, random_state=27),\n",
    "               n_data_splits,\n",
    "               {'lower':0.01, 'upper':1})\n",
    "print('  {0:5.3f}[{1:5.3f}]'.format(b['ATE TE'], b['ATE SE']))\n",
    "print('  True Value: {0:5.3f}'.format(true_estimate))\n",
    "\n",
    "c = st.ate.dml.dml_irm(df, \n",
    "                split_name, feature_list , 'y', treatment_name,\n",
    "                RandomForestRegressor(n_estimators=200, random_state=27),\n",
    "                RandomForestClassifier(n_estimators=200, random_state=27),\n",
    "               n_data_splits,\n",
    "               {'lower':0.01, 'upper':0.999, 'that':df['W_x']})\n",
    "print('  {0:5.3f}[{1:5.3f}]'.format(c['ATE TE'], c['ATE SE']))\n",
    "print('  True Value: {0:5.3f}'.format(true_estimate))\n"
   ]
  },
  {
   "cell_type": "code",
   "execution_count": 39,
   "metadata": {},
   "outputs": [
    {
     "ename": "SyntaxError",
     "evalue": "'break' outside loop (668683560.py, line 1)",
     "output_type": "error",
     "traceback": [
      "\u001b[0;36m  Input \u001b[0;32mIn [39]\u001b[0;36m\u001b[0m\n\u001b[0;31m    break\u001b[0m\n\u001b[0m    ^\u001b[0m\n\u001b[0;31mSyntaxError\u001b[0m\u001b[0;31m:\u001b[0m 'break' outside loop\n"
     ]
    }
   ],
   "source": [
    "break"
   ]
  },
  {
   "cell_type": "markdown",
   "metadata": {},
   "source": [
    "## 3. Feature Selection\n",
    "\n"
   ]
  },
  {
   "cell_type": "code",
   "execution_count": null,
   "metadata": {},
   "outputs": [],
   "source": [
    "## Write a function to write simulated data\n",
    "def generate_data_select(te=100, num_features = 10):\n",
    "    N = 1000\n",
    "    \n",
    "    features = {}\n",
    "    features['Y'] = np.random.normal(0,1, len(df))\n",
    "    \n",
    "    ## Create relevant features\n",
    "    for n in range(num_features):\n",
    "        features['x'+str(n)] = np.random.normal(0,1,N)\n",
    "        if n > num_features / 2:\n",
    "            features['Y'] += features['x'+str(n)]*np.random.uniform(-5,5)\n",
    "        else:\n",
    "            pass\n",
    "    ## Assign a treatment conditional on the relevant features\n",
    "    latent_treatment = np.zeros(N)\n",
    "    for n in range(num_features):\n",
    "        latent_treatment += features['x'+str(n)]*np.random.uniform(-1,1)\n",
    "    latent_treatment += np.random.normal(0,1,N)\n",
    "    latent_treatment = (np.average(latent_treatment) - latent_treatment) / np.std(latent_treatment)\n",
    "    \n",
    "    features['W'] = ( latent_treatment > 0 ).astype(float)\n",
    "    features['Y'] += features['W']*te\n",
    "    \n",
    "    ## Assign some orthogonal features\n",
    "    for n in range(num_features):\n",
    "        features['x_xx'+str(n)] = np.random.normal(0,1,N)    \n",
    "    \n",
    "    df_est = pd.DataFrame(features )\n",
    "   \n",
    "    return df_est"
   ]
  },
  {
   "cell_type": "code",
   "execution_count": null,
   "metadata": {},
   "outputs": [],
   "source": [
    "def ols_stat(data,f, y):\n",
    "    X = sm.add_constant(data[f])\n",
    "    ols = sm.OLS( data[y] , X ).fit()\n",
    "    return ols.params['W'],ols.bse['W'] \n",
    "\n",
    "from sklearn.linear_model import LassoCV\n",
    "def lasso_stat(data,f, y):\n",
    "    lss = LassoCV(random_state=27).fit(  data[f], data[y]  )\n",
    "    return lss.coef_[-1]"
   ]
  },
  {
   "cell_type": "code",
   "execution_count": null,
   "metadata": {},
   "outputs": [],
   "source": [
    "TrueEstimate = 0.5\n",
    "sim_num_features = 100\n",
    "\n",
    "sim_iter = 100\n",
    "sim_ols_estimate = []\n",
    "sim_lss_estimate = []\n",
    "\n",
    "for r in range(sim_iter):\n",
    "    df = generate_data_select(te=TrueEstimate, num_features=sim_num_features)\n",
    "\n",
    "    a = ols_stat(df, [x for x in df.columns if 'x' in x] + ['W'], 'Y')\n",
    "    sim_ols_estimate.append(a[0]-TrueEstimate)\n",
    "    b = lasso_stat(df, [x for x in df.columns if 'x' in x] + ['W'], 'Y')\n",
    "    sim_lss_estimate.append(b - TrueEstimate)"
   ]
  },
  {
   "cell_type": "code",
   "execution_count": null,
   "metadata": {},
   "outputs": [],
   "source": [
    "fig,ax = plt.subplots(ncols=1, nrows=1, figsize=(7,7))\n",
    "ax.hist(sim_ols_estimate, density=False, alpha=0.25, color='aqua', label='OLS')\n",
    "ax.hist(sim_lss_estimate, density=False, alpha=0.25, color='magenta', label='CV Lasso')\n",
    "ax.plot([0,0], [0,20], color='black')\n",
    "ax.legend()\n",
    "ax.grid()\n",
    "fig.set_facecolor('white')"
   ]
  },
  {
   "cell_type": "code",
   "execution_count": null,
   "metadata": {},
   "outputs": [],
   "source": [
    "print(  np.average(sim_ols_estimate)  )\n",
    "print(  np.average(sim_lss_estimate)  )"
   ]
  },
  {
   "cell_type": "code",
   "execution_count": null,
   "metadata": {},
   "outputs": [],
   "source": [
    "### What about cross-validated feature selection?\n",
    "## Do the same simulations again."
   ]
  },
  {
   "cell_type": "code",
   "execution_count": null,
   "metadata": {},
   "outputs": [],
   "source": [
    "TrueEstimate = 0.5\n",
    "sim_num_features = 100\n",
    "\n",
    "sim_iter = 100\n",
    "sim_ols_estimate = []\n",
    "sim_lss_estimate = []\n",
    "sim_hdm_estimate = []\n",
    "\n",
    "for r in range(sim_iter):\n",
    "    df = generate_data_select(te=TrueEstimate, num_features=sim_num_features)\n",
    "\n",
    "    a = ols_stat(df, [x for x in df.columns if 'x' in x] + ['W'], 'Y')\n",
    "    sim_ols_estimate.append(a[0]-TrueEstimate)\n",
    "    b = lasso_stat(df, [x for x in df.columns if 'x' in x] + ['W'], 'Y')\n",
    "    sim_lss_estimate.append(b - TrueEstimate)\n",
    "        \n",
    "    hdm_output = st.diagnostics.selection.hdm_selection(df, \n",
    "                                [x for x in df.columns if 'x' in x], 'Y', 'W')\n",
    "    hdm_selected_features=list(set(hdm_output[0][0]+hdm_output[0][1]))\n",
    "    a = ols_stat(df, hdm_selected_features + ['W'], 'Y')\n",
    "    sim_hdm_estimate.append(a[0]-TrueEstimate)    "
   ]
  },
  {
   "cell_type": "code",
   "execution_count": null,
   "metadata": {},
   "outputs": [],
   "source": [
    "fig,ax = plt.subplots(ncols=1, nrows=1, figsize=(7,7))\n",
    "ax.hist(sim_ols_estimate, density=False, alpha=0.25, color='aqua', label='OLS')\n",
    "ax.hist(sim_lss_estimate, density=False, alpha=0.25, color='magenta', label='CV Lasso')\n",
    "ax.hist(sim_hdm_estimate, density=False, alpha=0.25, color='red', label='HDM OLS/Lasso')\n",
    "ax.plot([0,0], [0,20], color='black')\n",
    "ax.legend()\n",
    "ax.grid()\n",
    "fig.set_facecolor('white')"
   ]
  },
  {
   "cell_type": "markdown",
   "metadata": {},
   "source": [
    "## 4. Bad control\n",
    "1. Control for an intermediate outcome that also influences the final outcome\n",
    "2. Control for another outcome "
   ]
  },
  {
   "cell_type": "code",
   "execution_count": null,
   "metadata": {},
   "outputs": [],
   "source": [
    "'''\n",
    "1. Control for intermediate outcome\n",
    "'''\n",
    "## Create other outcomes\n",
    "TrueEstimate = 50\n",
    "df = generate_data(te=TrueEstimate)\n",
    "\n",
    "## Create a second outcome that depends on similar features as 'Y'\n",
    "## Suppose this second outcome is the longer-term outcome of interest\n",
    "df['R1'] = ( 2*np.sin(df['x1']) + df['treatment'] + np.random.normal(0,1,len(df)) ) > 0\n",
    "print(pd.crosstab(df['R1'], df['treatment']))\n",
    "df['Y_2nd'] = df['Y'] + TrueEstimate * df['R1'] \n",
    "\n",
    "\n",
    "\n",
    "print('Correct Specification')\n",
    "a = st.ate.dml.dml_plm(df, \n",
    "                split_name, feature_list , 'Y_2nd', treatment_name,\n",
    "                RandomForestRegressor(n_estimators=200, random_state=27),\n",
    "                RandomForestClassifier(n_estimators=200, random_state=27),\n",
    "               n_data_splits,\n",
    "               aux_dict)\n",
    "print('  {0:5.3f}[{1:5.3f}]'.format(a['ATE TE'], a['ATE SE']))\n",
    "# print('  True Value: {0:5.3f}'.format(TrueEstimate))\n",
    "\n",
    "\n",
    "print('Control for intermediate outcome')\n",
    "a = st.ate.dml.dml_plm(df, \n",
    "                split_name, feature_list + ['R1'] , 'Y_2nd', treatment_name,\n",
    "                RandomForestRegressor(n_estimators=200, random_state=27),\n",
    "                RandomForestClassifier(n_estimators=200, random_state=27),\n",
    "               n_data_splits,\n",
    "               aux_dict)\n",
    "print('  {0:5.3f}[{1:5.3f}]'.format(a['ATE TE'], a['ATE SE']))\n",
    "# print('  True Value: {0:5.3f}'.format(TrueEstimate))\n"
   ]
  },
  {
   "cell_type": "code",
   "execution_count": null,
   "metadata": {},
   "outputs": [],
   "source": [
    "# '''\n",
    "# 1. Control for another outcome\n",
    "# '''\n",
    "\n",
    "# x = np.random.uniform(0,1, 1000)\n",
    "# e = np.random.normal(0,1, 1000)\n",
    "# u = np.random.normal(0,1, 1000)\n",
    "\n",
    "# y = x + e\n",
    "# s1 = x**2 + np.sin(x) + u\n",
    "# s2 = x**2 + x + e + u\n",
    "\n",
    "# df = pd.DataFrame(data={'x':x,'y':y,'e':e,'u':u,'s1':s1,'s2':s2})\n",
    "\n",
    "# X = sm.add_constant(df['x'])\n",
    "# ols = sm.OLS( df['y'] , X ).fit()\n",
    "# print('Correct Result:')\n",
    "# print(' {0:5.3f}  [{1:5.3}]'.format(ols.params['x'], ols.bse['x']))\n",
    "\n",
    "# X = sm.add_constant(df[['x','e']])\n",
    "# ols = sm.OLS( df['y'] , X ).fit()\n",
    "# print('Wrong Result control for a highly correlated outcome:')\n",
    "# print(' {0:5.3f}  [{1:5.3}]'.format(ols.params['x'], ols.bse['x']))\n",
    "\n",
    "# X = sm.add_constant(df[['x','e','u']])\n",
    "# ols = sm.OLS( df['y'] , X ).fit()\n",
    "# print('Wrong Result control for a co-determined outcome:')\n",
    "# print(' {0:5.3f}  [{1:5.3}]'.format(ols.params['x'], ols.bse['x']))\n"
   ]
  },
  {
   "cell_type": "code",
   "execution_count": null,
   "metadata": {},
   "outputs": [],
   "source": [
    "## Create other outcomes\n",
    "TrueEstimate = 50\n",
    "df = generate_data(te=TrueEstimate)\n",
    "\n",
    "## Outcome is independent\n",
    "df['S_0'] = 0.25*df['x1'] - 0.15*df['x2'] + np.random.normal(0,1,len(df))\n",
    "\n",
    "## Outcome is highly correlated with error in Y\n",
    "df['S_1'] = df['YError']  + np.random.normal(0,1,len(df))\n",
    "\n",
    "## Outcome is basically Y\n",
    "df['S_2'] = df['Y'] + np.random.normal(0,1,len(df))\n",
    "\n",
    "## Outcome is highly correlated with error in T\n",
    "df['S_3'] = df['TError'] + np.random.normal(0,1,len(df))\n"
   ]
  },
  {
   "cell_type": "code",
   "execution_count": null,
   "metadata": {},
   "outputs": [],
   "source": [
    "\n",
    "print('Correct Specification')\n",
    "a = st.ate.dml.dml_plm(df, \n",
    "                split_name, feature_list , outcome_name, treatment_name,\n",
    "                RandomForestRegressor(n_estimators=200, random_state=27),\n",
    "                RandomForestClassifier(n_estimators=200, random_state=27),\n",
    "               n_data_splits,\n",
    "               aux_dict)\n",
    "print('  {0:5.3f}[{1:5.3f}]'.format(a['ATE TE'], a['ATE SE']))\n",
    "print('  True Value: {0:5.3f}'.format(TrueEstimate))\n",
    "\n",
    "for i, name in zip(['S_0','S_1','S_2','S_3'],['independent','high corr with Y~e','Y transform','high corr with T~e']):\n",
    "    print('Control for {0}'.format(name))\n",
    "    a = st.ate.dml.dml_plm(df, \n",
    "                    split_name, feature_list + [i], outcome_name, treatment_name,\n",
    "                    RandomForestRegressor(n_estimators=200, random_state=27),\n",
    "                    RandomForestClassifier(n_estimators=200, random_state=27),\n",
    "                   n_data_splits,\n",
    "                   aux_dict)\n",
    "    print('  {0:5.3f}[{1:5.3f}]'.format(a['ATE TE'], a['ATE SE']))\n",
    "    print('  True Value: {0:5.3f}'.format(TrueEstimate))\n",
    "\n",
    "\n"
   ]
  },
  {
   "cell_type": "code",
   "execution_count": null,
   "metadata": {},
   "outputs": [],
   "source": []
  }
 ],
 "metadata": {
  "kernelspec": {
   "display_name": "Python 3 (ipykernel)",
   "language": "python",
   "name": "python3"
  },
  "language_info": {
   "codemirror_mode": {
    "name": "ipython",
    "version": 3
   },
   "file_extension": ".py",
   "mimetype": "text/x-python",
   "name": "python",
   "nbconvert_exporter": "python",
   "pygments_lexer": "ipython3",
   "version": "3.9.12"
  }
 },
 "nbformat": 4,
 "nbformat_minor": 4
}
