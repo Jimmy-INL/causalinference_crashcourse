{
 "cells": [
  {
   "cell_type": "markdown",
   "metadata": {},
   "source": [
    "# Best Practices\n",
    "Julian Hsu\n",
    "\n",
    "Simulated evidence for different ways to deal with various practical issues.\n",
    "\n",
    "1. Outliers in $X_i$ and $Y_i$\n",
    "2. Class imbalance in training propensity scores\n",
    "3. Feature Selection\n",
    "4. Bad control\n"
   ]
  },
  {
   "cell_type": "code",
   "execution_count": 1,
   "metadata": {},
   "outputs": [],
   "source": [
    "import pandas as pd\n",
    "import numpy as np\n",
    "import os as os \n",
    "\n",
    "from matplotlib import gridspec\n",
    "import matplotlib.pyplot as plt\n",
    "%matplotlib inline  \n",
    "\n",
    "import statsmodels.api as sm\n",
    "import statsmodels.formula.api as smf\n",
    "from statsmodels.discrete.conditional_models import ConditionalLogit\n",
    "\n",
    "from IPython.display import display    \n",
    "\n",
    "\n",
    "import scipy.stats \n",
    "\n",
    "from sklearn.linear_model import LogisticRegression, LinearRegression, Lasso, Ridge, LassoCV, LogisticRegressionCV\n",
    "from sklearn.ensemble import RandomForestRegressor, RandomForestClassifier\n",
    "from sklearn.neural_network import MLPRegressor, MLPClassifier\n",
    "from sklearn.metrics import mean_squared_error\n"
   ]
  },
  {
   "cell_type": "code",
   "execution_count": 2,
   "metadata": {},
   "outputs": [],
   "source": [
    "import stnomics as st"
   ]
  },
  {
   "cell_type": "code",
   "execution_count": 3,
   "metadata": {},
   "outputs": [],
   "source": [
    "## Write a function to write simulated data\n",
    "def generate_data_skewed(te=100, skew_var=3):\n",
    "    N = 1000\n",
    "    x1 = np.random.lognormal(0,skew_var, N)\n",
    "    x2 = np.random.lognormal(0,skew_var, N)\n",
    "\n",
    "    treatment_latent = 10*(x2-0.5)**2 + 10*x1\n",
    "    m,s = np.average(treatment_latent), np.std(treatment_latent)\n",
    "    treatment_latent = (treatment_latent - m) / s\n",
    "    \n",
    "    random_t = np.random.normal(0,1,N)\n",
    "    \n",
    "    treatment_latent += random_t\n",
    "    \n",
    "    treatment = np.array( np.exp(treatment_latent) / (1+ np.exp(treatment_latent)) > np.random.uniform(0,1,N) ).astype(np.int32)\n",
    "\n",
    "    Y = 100 +1.5*x1 + 6*x2\n",
    "    random_y = np.random.uniform(0,10,N)\n",
    "\n",
    "    GT = te\n",
    "    Y += GT*(treatment==1) \n",
    "    \n",
    "    df_est = pd.DataFrame({'x1':x1, 'x2':x2,'treatment':treatment, 'Y':Y, 'GT':GT} )\n",
    "   \n",
    "    return df_est"
   ]
  },
  {
   "cell_type": "code",
   "execution_count": 4,
   "metadata": {},
   "outputs": [],
   "source": [
    "## Write a function to write simulated data\n",
    "def generate_data(te=100):\n",
    "    N = 1000\n",
    "    x1 = np.random.normal(0,1, N)\n",
    "    x2 = np.random.normal(0,1, N)\n",
    "\n",
    "    treatment_latent = 10*(x2-0.5)**2 + 10*x1\n",
    "    m,s = np.average(treatment_latent), np.std(treatment_latent)\n",
    "    treatment_latent = (treatment_latent - m) / s\n",
    "    \n",
    "    random_t = np.random.normal(0,1,N)\n",
    "    \n",
    "    treatment_latent += random_t\n",
    "    \n",
    "    treatment = np.array( np.exp(treatment_latent) / (1+ np.exp(treatment_latent)) > np.random.uniform(0,1,N) ).astype(np.int32)\n",
    "\n",
    "    Y = 100 +1.5*x1 + 6*x2\n",
    "\n",
    "    random_y = np.random.uniform(0,10,N)\n",
    "\n",
    "    GT = te\n",
    "    Y += GT*(treatment==1) \n",
    "    \n",
    "    df_est = pd.DataFrame({'x1':x1, 'x2':x2,'treatment':treatment, 'Y':Y, 'YError':random_y, 'TError':random_t, 'GT':GT} )\n",
    "   \n",
    "    return df_est"
   ]
  },
  {
   "cell_type": "markdown",
   "metadata": {},
   "source": [
    "## 1. Outliers in $X_i$ and $Y_i$\n",
    "\n",
    "We consider three different situations, and how they can influence the average treatment effect:\n",
    "-  Outlier value in $Y_i$ due to an outlier value of $X_i$.\n",
    "-  Outlier value in $Y_i$ due to an idiosyncratic error"
   ]
  },
  {
   "cell_type": "markdown",
   "metadata": {},
   "source": [
    "### 1(a). Outlier value in $Y_i$ due to an outlier value of $X_i$."
   ]
  },
  {
   "cell_type": "code",
   "execution_count": 5,
   "metadata": {},
   "outputs": [],
   "source": [
    "## Outlier value in X resulting in an outlier value in Y\n",
    "TrueEstimate = 50\n",
    "df = generate_data_skewed(te=TrueEstimate, skew_var=3)\n",
    "df.describe().T\n",
    "\n",
    "outlier_row = pd.DataFrame(index=[2000,2001] , \n",
    "                                 data={'x1': [150, 350],\n",
    "                                       'x2': [150, 350],'treatment': [1,0] } )\n",
    "\n",
    "## Predict the outcome \n",
    "# rf_fit = LinearRegression().fit(df[['x1','x2']], df['Y'])\n",
    "# outlier_row['Y'] = rf_fit.predict(outlier_row[['x1','x2']]) + outlier_row['treatment']*10\n",
    "# outlier_row['treatment'] = np.ones(2)"
   ]
  },
  {
   "cell_type": "code",
   "execution_count": 6,
   "metadata": {},
   "outputs": [],
   "source": [
    "# display(df.describe().T)\n",
    "# display(outlier_row.describe().T)"
   ]
  },
  {
   "cell_type": "code",
   "execution_count": 7,
   "metadata": {},
   "outputs": [
    {
     "data": {
      "text/html": [
       "<div>\n",
       "<style scoped>\n",
       "    .dataframe tbody tr th:only-of-type {\n",
       "        vertical-align: middle;\n",
       "    }\n",
       "\n",
       "    .dataframe tbody tr th {\n",
       "        vertical-align: top;\n",
       "    }\n",
       "\n",
       "    .dataframe thead th {\n",
       "        text-align: right;\n",
       "    }\n",
       "</style>\n",
       "<table border=\"1\" class=\"dataframe\">\n",
       "  <thead>\n",
       "    <tr style=\"text-align: right;\">\n",
       "      <th></th>\n",
       "      <th>Y</th>\n",
       "      <th>x1</th>\n",
       "      <th>x2</th>\n",
       "    </tr>\n",
       "  </thead>\n",
       "  <tbody>\n",
       "    <tr>\n",
       "      <th>count</th>\n",
       "      <td>1000.000000</td>\n",
       "      <td>1000.000000</td>\n",
       "      <td>1000.000000</td>\n",
       "    </tr>\n",
       "    <tr>\n",
       "      <th>mean</th>\n",
       "      <td>716.509645</td>\n",
       "      <td>58.449346</td>\n",
       "      <td>83.930938</td>\n",
       "    </tr>\n",
       "    <tr>\n",
       "      <th>std</th>\n",
       "      <td>5549.317416</td>\n",
       "      <td>660.785375</td>\n",
       "      <td>910.312522</td>\n",
       "    </tr>\n",
       "    <tr>\n",
       "      <th>min</th>\n",
       "      <td>100.032896</td>\n",
       "      <td>0.000475</td>\n",
       "      <td>0.000071</td>\n",
       "    </tr>\n",
       "    <tr>\n",
       "      <th>50%</th>\n",
       "      <td>157.885507</td>\n",
       "      <td>1.171774</td>\n",
       "      <td>1.030749</td>\n",
       "    </tr>\n",
       "    <tr>\n",
       "      <th>90%</th>\n",
       "      <td>545.526841</td>\n",
       "      <td>48.273541</td>\n",
       "      <td>52.457267</td>\n",
       "    </tr>\n",
       "    <tr>\n",
       "      <th>92.5%</th>\n",
       "      <td>724.460345</td>\n",
       "      <td>68.550796</td>\n",
       "      <td>70.859031</td>\n",
       "    </tr>\n",
       "    <tr>\n",
       "      <th>95%</th>\n",
       "      <td>1117.761468</td>\n",
       "      <td>105.162017</td>\n",
       "      <td>125.829887</td>\n",
       "    </tr>\n",
       "    <tr>\n",
       "      <th>97.5%</th>\n",
       "      <td>2695.670253</td>\n",
       "      <td>208.589143</td>\n",
       "      <td>351.776850</td>\n",
       "    </tr>\n",
       "    <tr>\n",
       "      <th>max</th>\n",
       "      <td>129846.232225</td>\n",
       "      <td>14162.060591</td>\n",
       "      <td>21615.574453</td>\n",
       "    </tr>\n",
       "  </tbody>\n",
       "</table>\n",
       "</div>"
      ],
      "text/plain": [
       "                   Y            x1            x2\n",
       "count    1000.000000   1000.000000   1000.000000\n",
       "mean      716.509645     58.449346     83.930938\n",
       "std      5549.317416    660.785375    910.312522\n",
       "min       100.032896      0.000475      0.000071\n",
       "50%       157.885507      1.171774      1.030749\n",
       "90%       545.526841     48.273541     52.457267\n",
       "92.5%     724.460345     68.550796     70.859031\n",
       "95%      1117.761468    105.162017    125.829887\n",
       "97.5%    2695.670253    208.589143    351.776850\n",
       "max    129846.232225  14162.060591  21615.574453"
      ]
     },
     "metadata": {},
     "output_type": "display_data"
    },
    {
     "data": {
      "image/png": "[encoded data removed]",
      "text/plain": [
       "<Figure size 1440x720 with 3 Axes>"
      ]
     },
     "metadata": {},
     "output_type": "display_data"
    }
   ],
   "source": [
    "display(df[['Y','x1','x2']].describe(percentiles=np.arange(0.90,1,0.025))  )\n",
    "\n",
    "fig,ax = plt.subplots(ncols=1,nrows=3, figsize=(20,10))\n",
    "ax[0].hist(df['Y'], bins=50, density=False, alpha=0.25, color='magenta')\n",
    "ax[0].set_title('Y')\n",
    "ax[1].hist(df['x1'], bins=50, density=False, alpha=0.25, color='green')\n",
    "ax[1].set_title('x1')\n",
    "ax[2].hist(df['x2'], bins=50, density=False, alpha=0.25, color='blue')\n",
    "ax[2].set_title('x2')\n",
    "fig.set_facecolor('white')"
   ]
  },
  {
   "cell_type": "code",
   "execution_count": null,
   "metadata": {},
   "outputs": [],
   "source": []
  },
  {
   "cell_type": "code",
   "execution_count": 8,
   "metadata": {},
   "outputs": [],
   "source": [
    "feature_list = ['x1','x2']\n",
    "outcome_name = 'Y'\n",
    "treatment_name = 'treatment'\n",
    "split_name= 'splits'\n",
    "n_data_splits = 4\n",
    "aux_dict = {'lower':0, 'upper':1}"
   ]
  },
  {
   "cell_type": "code",
   "execution_count": 9,
   "metadata": {},
   "outputs": [
    {
     "name": "stdout",
     "output_type": "stream",
     "text": [
      "Estimate without modification\n",
      "  16.451[147.876]\n",
      "  True Value: 50.000\n"
     ]
    }
   ],
   "source": [
    "print('Estimate without modification')\n",
    "a = st.ate.dml.dml_plm(df, \n",
    "                split_name, feature_list, outcome_name, treatment_name,\n",
    "                RandomForestRegressor(n_estimators=200, random_state=27),\n",
    "                RandomForestClassifier(n_estimators=200, random_state=27),\n",
    "               n_data_splits,\n",
    "               aux_dict)\n",
    "\n",
    "print('  {0:5.3f}[{1:5.3f}]'.format(a['ATE TE'], a['ATE SE']))\n",
    "print('  True Value: {0:5.3f}'.format(TrueEstimate))"
   ]
  },
  {
   "cell_type": "code",
   "execution_count": 10,
   "metadata": {},
   "outputs": [
    {
     "name": "stdout",
     "output_type": "stream",
     "text": [
      "Estimate with logged independent features\n",
      "  20.342[149.099]\n",
      "  True Value: 50.000\n"
     ]
    }
   ],
   "source": [
    "print('Estimate with logged independent features')\n",
    "\n",
    "feature_list_log = []\n",
    "for p in feature_list:\n",
    "    df[p+'_log'] = np.log(1+df[p])\n",
    "    feature_list_log.append(p+'_log')\n",
    "    \n",
    "a = st.ate.dml.dml_plm(df, \n",
    "                split_name, feature_list_log, outcome_name, treatment_name,\n",
    "                RandomForestRegressor(n_estimators=200, random_state=27),\n",
    "                RandomForestClassifier(n_estimators=200, random_state=27),\n",
    "               n_data_splits,\n",
    "               aux_dict)\n",
    "\n",
    "print('  {0:5.3f}[{1:5.3f}]'.format(a['ATE TE'], a['ATE SE']))\n",
    "print('  True Value: {0:5.3f}'.format(TrueEstimate))"
   ]
  },
  {
   "cell_type": "code",
   "execution_count": null,
   "metadata": {},
   "outputs": [],
   "source": []
  },
  {
   "cell_type": "code",
   "execution_count": null,
   "metadata": {},
   "outputs": [],
   "source": []
  },
  {
   "cell_type": "code",
   "execution_count": 22,
   "metadata": {},
   "outputs": [],
   "source": [
    "# fig,ax = plt.subplots(ncols=1, nrows=1, figsize=(20,20))\n",
    "# color_list = ['blue','orange','green','purple']\n",
    "# ## Do this for different amounts of skewing\n",
    "# skew_list = [1.0,1.75]\n",
    "# diff_list = []\n",
    "# te_list = []\n",
    "# se_list = []\n",
    "# for s, c__ in zip(skew_list, range(len(skew_list))) :\n",
    "#     df = generate_data_skewed(te=TrueEstimate, skew_var=s)\n",
    "#     a = st.ate.dml.dml_plm(df, \n",
    "#                     split_name, feature_list, outcome_name, treatment_name,\n",
    "#                     RandomForestRegressor(n_estimators=200, random_state=27),\n",
    "#                     RandomForestClassifier(n_estimators=200, random_state=27),\n",
    "#                    n_data_splits,\n",
    "#                    aux_dict)\n",
    "#     ax.hist(df['x1'], density=True, bins=20, alpha=0.25, color=color_list[c__], label='{0:5.2f}'.format(a['ATE TE']))\n",
    "# ax.set_ylabel('Density of X1')\n",
    "# ax.set_xlabel('X1 values')\n",
    "# fig.set_facecolor('white')\n",
    "# ax.legend(loc='upper left')\n",
    "    "
   ]
  },
  {
   "cell_type": "code",
   "execution_count": 48,
   "metadata": {},
   "outputs": [],
   "source": [
    "## Do this for different amounts of skewing\n",
    "skew_list = [1.0,2.00,2.50, 2.75, 2.80, 2.95, 3.00]\n",
    "diff_list = []\n",
    "te_list = []\n",
    "se_list = []\n",
    "\n",
    "bt_reps = 10\n",
    "for s in skew_list:\n",
    "    diff_bt_list = []\n",
    "    te_bt_list = []\n",
    "    for bt in range(bt_reps):\n",
    "        df = generate_data_skewed(te=TrueEstimate, skew_var=s)\n",
    "        ## Summarize amount of skew based on the number of standard deviations between the median and 95th percentile\n",
    "        p50 = df['Y'].quantile(0.50)\n",
    "        p95 = df['Y'].quantile(0.95)\n",
    "        diff_sd = np.abs(p50 - p95) \n",
    "\n",
    "        a = st.ate.dml.dml_plm(df, \n",
    "                        split_name, feature_list, outcome_name, treatment_name,\n",
    "                        RandomForestRegressor(n_estimators=50, random_state=27),\n",
    "                        RandomForestClassifier(n_estimators=50, random_state=27),\n",
    "                       n_data_splits,\n",
    "                       aux_dict)\n",
    "        diff_bt_list.append(diff_sd)\n",
    "        te_bt_list.append(a['ATE TE'])\n",
    "    diff_list.append(np.mean(diff_bt_list))\n",
    "    te_list.append(np.mean(te_bt_list) )\n",
    "    se_list.append(a['ATE SE'])"
   ]
  },
  {
   "cell_type": "code",
   "execution_count": 49,
   "metadata": {},
   "outputs": [],
   "source": [
    "diff_sd = np.array(diff_sd) \n",
    "te_list = np.array(te_list)\n",
    "se_list = np.array(se_list)"
   ]
  },
  {
   "cell_type": "code",
   "execution_count": 51,
   "metadata": {},
   "outputs": [
    {
     "data": {
      "image/png": "[encoded data removed]",
      "text/plain": [
       "<Figure size 576x576 with 1 Axes>"
      ]
     },
     "metadata": {},
     "output_type": "display_data"
    }
   ],
   "source": [
    "fig,ax = plt.subplots(ncols=1, nrows=1, figsize=(8,8))\n",
    "ax.scatter(diff_list, te_list - TrueEstimate, color='darkorange', alpha=0.50, label='Bias')\n",
    "# ax.vlines(diff_list, te_list+1.96*se_list- TrueEstimate, te_list-1.96*se_list- TrueEstimate, color='darkorange', label='95% CI')\n",
    "ax.grid()\n",
    "ax.set_xlabel('Difference Between P50 and P95')\n",
    "ax.set_ylabel('Bias of the Estimate')\n",
    "ax.legend(loc='upper left')\n",
    "fig.set_facecolor('lightblue')"
   ]
  },
  {
   "cell_type": "code",
   "execution_count": null,
   "metadata": {},
   "outputs": [],
   "source": []
  },
  {
   "cell_type": "code",
   "execution_count": 11,
   "metadata": {},
   "outputs": [
    {
     "name": "stdout",
     "output_type": "stream",
     "text": [
      "Estimate including indicators of feature values above 95.0%\n",
      "  333.766[360.346]\n",
      "  True Value: 50.000\n",
      "Estimate including indicators of feature values above 95.0% and interactions with top 95.0% values\n",
      "  288.162[361.047]\n",
      "  True Value: 50.000\n",
      "Estimate including indicators of feature values above 95.0% and logged features\n",
      "  328.213[358.607]\n",
      "  True Value: 50.000\n",
      "Estimate including indicators of feature values above 95.0% with logged features and interactions with top 95.0%\n",
      "  262.311[358.995]\n",
      "  True Value: 50.000\n"
     ]
    }
   ],
   "source": [
    "tp_value = 0.95\n",
    "print('Estimate including indicators of feature values above {0}%'.format(tp_value*100))\n",
    "feature_list_top95 = []\n",
    "for p in feature_list:\n",
    "    df[p+'_tp'] = (df[p]>=df[p].quantile(tp_value))\n",
    "    feature_list_top95.append(p+'_tp')\n",
    "\n",
    "feature_list_top95_X = []\n",
    "for p in feature_list:\n",
    "    df[p+'_tp_X'] = (df[p]>=df[p].quantile(tp_value))*df[p]\n",
    "    feature_list_top95_X.append(p+'_tp_X')\n",
    "\n",
    "a = st.ate.dml.dml_plm(df, \n",
    "                split_name, feature_list+feature_list_top95, outcome_name, treatment_name,\n",
    "                RandomForestRegressor(n_estimators=200, random_state=27),\n",
    "                RandomForestClassifier(n_estimators=200, random_state=27),\n",
    "               n_data_splits,\n",
    "               aux_dict)   \n",
    "print('  {0:5.3f}[{1:5.3f}]'.format(a['ATE TE'], a['ATE SE']))\n",
    "print('  True Value: {0:5.3f}'.format(TrueEstimate))\n",
    "\n",
    "\n",
    "print('Estimate including indicators of feature values above {0}% and interactions with top {0}% values'.format(tp_value*100))\n",
    "    \n",
    "a = st.ate.dml.dml_plm(df, \n",
    "                split_name, feature_list+feature_list_top95+feature_list_top95_X, outcome_name, treatment_name,\n",
    "                RandomForestRegressor(n_estimators=200, random_state=27),\n",
    "                RandomForestClassifier(n_estimators=200, random_state=27),\n",
    "               n_data_splits,\n",
    "               aux_dict)   \n",
    "print('  {0:5.3f}[{1:5.3f}]'.format(a['ATE TE'], a['ATE SE']))\n",
    "print('  True Value: {0:5.3f}'.format(TrueEstimate))\n",
    "\n",
    "\n",
    "print('Estimate including indicators of feature values above {0}% and logged features'.format(tp_value*100))\n",
    "feature_list_top95_X_log = []\n",
    "for p in feature_list:\n",
    "    df[p+'_tp_X_log'] = (df[p]>=df[p].quantile(tp_value))*np.log(1+df[p])\n",
    "    feature_list_top95_X_log.append(p+'_tp_X_log')\n",
    "\n",
    "a = st.ate.dml.dml_plm(df, \n",
    "                split_name, feature_list_log+feature_list_top95, outcome_name, treatment_name,\n",
    "                RandomForestRegressor(n_estimators=200, random_state=27),\n",
    "                RandomForestClassifier(n_estimators=200, random_state=27),\n",
    "               n_data_splits,\n",
    "               aux_dict)   \n",
    "print('  {0:5.3f}[{1:5.3f}]'.format(a['ATE TE'], a['ATE SE']))\n",
    "print('  True Value: {0:5.3f}'.format(TrueEstimate))\n",
    "\n",
    "print('Estimate including indicators of feature values above {0}% with logged features and interactions with top {0}%'.format(tp_value*100))\n",
    "a = st.ate.dml.dml_plm(df, \n",
    "                split_name, feature_list_log+feature_list_top95+feature_list_top95_X_log, outcome_name, treatment_name,\n",
    "                RandomForestRegressor(n_estimators=200, random_state=27),\n",
    "                RandomForestClassifier(n_estimators=200, random_state=27),\n",
    "               n_data_splits,\n",
    "               aux_dict)   \n",
    "print('  {0:5.3f}[{1:5.3f}]'.format(a['ATE TE'], a['ATE SE']))\n",
    "print('  True Value: {0:5.3f}'.format(TrueEstimate))\n",
    "\n"
   ]
  },
  {
   "cell_type": "code",
   "execution_count": 12,
   "metadata": {},
   "outputs": [
    {
     "name": "stdout",
     "output_type": "stream",
     "text": [
      "Estimate removing outlier outcome values of different values of removing the outcome\n"
     ]
    }
   ],
   "source": [
    "print('Estimate removing outlier outcome values of different values of removing the outcome')\n",
    "pd.options.mode.chained_assignment = None  # default='warn'\n",
    "outlier_percentile_cuts = np.round(np.arange(0.90,0.99, 0.005), 3)\n",
    "est_list = []\n",
    "se_list = []\n",
    "pc_value_list = []\n",
    "for p in outlier_percentile_cuts:\n",
    "    pc = df['Y'].quantile(p)\n",
    "    df_tp = df.loc[(df['Y'] < pc)]\n",
    "\n",
    "    a = st.ate.dml.dml_plm(df_tp, \n",
    "                    split_name, feature_list_log+feature_list_top95+feature_list_top95_X, outcome_name, treatment_name,\n",
    "                    RandomForestRegressor(n_estimators=200, random_state=27),\n",
    "                    RandomForestClassifier(n_estimators=200, random_state=27),\n",
    "                   n_data_splits,\n",
    "                   aux_dict)   \n",
    "    est_list.append(a['ATE TE'])\n",
    "    se_list.append(a['ATE SE'])\n",
    "    pc_value_list.append(pc)\n",
    "#     print('  {0:5.3f}[{1:5.3f}]'.format(a[0], a[1]))\n",
    "#     print('  True Value: {0:5.3f}'.format(TrueEstimate))\n"
   ]
  },
  {
   "cell_type": "code",
   "execution_count": 13,
   "metadata": {},
   "outputs": [],
   "source": [
    "est_list = np.array(est_list)\n",
    "se_list  = np.array(se_list)\n",
    "pc_value_list = np.array(pc_value_list)"
   ]
  },
  {
   "cell_type": "code",
   "execution_count": 14,
   "metadata": {},
   "outputs": [
    {
     "data": {
      "image/png": "[encoded data removed]",
      "text/plain": [
       "<Figure size 1080x576 with 2 Axes>"
      ]
     },
     "metadata": {},
     "output_type": "display_data"
    }
   ],
   "source": [
    "fig, ax = plt.subplots(ncols = 2, nrows = 1, figsize=(15,8))\n",
    "ax[0].scatter(outlier_percentile_cuts, est_list , color='darkorange', label='Estimate' )\n",
    "ax[0].vlines(outlier_percentile_cuts, est_list + 1.96*se_list, est_list - 1.96*se_list,  color='darkorange', label='95% CI' )\n",
    "ax[0].plot(outlier_percentile_cuts, [50]*(len(outlier_percentile_cuts)) , color='black' , label='Truth')\n",
    "ax[0].set_ylabel('Estimate')\n",
    "ax[0].set_xlabel('Percentile of Outcome Dataset is Truncated at')\n",
    "ax[0].legend(loc='upper left')\n",
    "ax[0].grid()\n",
    "\n",
    "\n",
    "ax[1].scatter(outlier_percentile_cuts, pc_value_list, color='teal')\n",
    "ax[1].set_ylabel('Value of the Y at that percentile')\n",
    "ax[1].set_xlabel('Percentile of Outcome Dataset is Truncated at')\n",
    "ax[1].grid()\n",
    "fig.suptitle('Estimate given removing data with outlier outcome values')\n",
    "fig.set_facecolor('white')"
   ]
  },
  {
   "cell_type": "code",
   "execution_count": 15,
   "metadata": {},
   "outputs": [
    {
     "name": "stdout",
     "output_type": "stream",
     "text": [
      "Estimate winsorizing outlier outcome values\n"
     ]
    }
   ],
   "source": [
    "print('Estimate winsorizing outlier outcome values')\n",
    "pd.options.mode.chained_assignment = None  # default='warn'\n",
    "outlier_percentile_cuts = np.round(np.arange(0.90,0.99, 0.005), 3)\n",
    "est_list = []\n",
    "se_list = []\n",
    "pc_value_list = []\n",
    "for p in outlier_percentile_cuts:\n",
    "    pc = df['Y'].quantile(p)\n",
    "    df['Y_tp'] = df['Y'].values\n",
    "    df.loc[(df['Y_tp'] >= pc) ,'Y_tp'] = pc\n",
    "\n",
    "\n",
    "    a = st.ate.dml.dml_plm(df, \n",
    "                    split_name, feature_list_log+feature_list_top95+feature_list_top95_X, 'Y_tp', treatment_name,\n",
    "                    RandomForestRegressor(n_estimators=200, random_state=27),\n",
    "                    RandomForestClassifier(n_estimators=200, random_state=27),\n",
    "                   n_data_splits,\n",
    "                   aux_dict)   \n",
    "    est_list.append(a['ATE TE'])\n",
    "    se_list.append(a['ATE SE'])\n",
    "    pc_value_list.append(pc)\n",
    "\n"
   ]
  },
  {
   "cell_type": "code",
   "execution_count": 16,
   "metadata": {},
   "outputs": [],
   "source": [
    "est_list = np.array(est_list)\n",
    "se_list  = np.array(se_list)\n",
    "pc_value_list = np.array(pc_value_list)"
   ]
  },
  {
   "cell_type": "code",
   "execution_count": 17,
   "metadata": {},
   "outputs": [
    {
     "data": {
      "image/png": "[encoded data removed]",
      "text/plain": [
       "<Figure size 1080x576 with 2 Axes>"
      ]
     },
     "metadata": {},
     "output_type": "display_data"
    }
   ],
   "source": [
    "fig, ax = plt.subplots(ncols = 2, nrows = 1, figsize=(15,8))\n",
    "ax[0].scatter(outlier_percentile_cuts, est_list , color='royalblue', label='Estimate' )\n",
    "ax[0].vlines(outlier_percentile_cuts, est_list + 1.96*se_list, est_list - 1.96*se_list,  color='royalblue', label='95% CI' )\n",
    "ax[0].plot(outlier_percentile_cuts, [50]*(len(outlier_percentile_cuts)) , color='black' , label='Truth')\n",
    "ax[0].set_ylabel('Estimate')\n",
    "ax[0].set_xlabel('Percentile of Outcome Dataset is Winsorized at')\n",
    "ax[0].legend(loc='upper left')\n",
    "ax[0].grid()\n",
    "\n",
    "\n",
    "ax[1].scatter(outlier_percentile_cuts, pc_value_list, color='coral')\n",
    "ax[1].set_ylabel('Value of the Y at that percentile')\n",
    "ax[1].set_xlabel('Percentile of Outcome Dataset is Winsorized at')\n",
    "ax[1].grid()\n",
    "fig.suptitle('Estimate given winsorizing outcome data at given percentile values')\n",
    "fig.set_facecolor('grey')"
   ]
  },
  {
   "cell_type": "code",
   "execution_count": 19,
   "metadata": {},
   "outputs": [
    {
     "name": "stdout",
     "output_type": "stream",
     "text": [
      "Estimate winsorizing outlier outcome values\n",
      "  55.146[4.530]\n",
      "  True Value: 50.000\n"
     ]
    }
   ],
   "source": [
    "print('Estimate winsorizing outlier outcome values')\n",
    "df['Y_tp'] = df['Y'].values\n",
    "df.loc[(df['Y_tp'] >= df['Y_tp'].quantile(0.98)),'Y_tp'] = df['Y'].quantile(0.98)\n",
    "\n",
    "a = st.ate.dml.dml_plm(df, \n",
    "                split_name, feature_list_log+feature_list_top95+feature_list_top95_X, 'Y_tp', treatment_name,\n",
    "                RandomForestRegressor(n_estimators=200, random_state=27),\n",
    "                RandomForestClassifier(n_estimators=200, random_state=27),\n",
    "               n_data_splits,\n",
    "               aux_dict)  \n",
    "print('  {0:5.3f}[{1:5.3f}]'.format(a['ATE TE'], a['ATE SE']))\n",
    "print('  True Value: {0:5.3f}'.format(TrueEstimate))"
   ]
  },
  {
   "cell_type": "markdown",
   "metadata": {},
   "source": [
    "### What about a quantile regression approach?"
   ]
  },
  {
   "cell_type": "code",
   "execution_count": 90,
   "metadata": {},
   "outputs": [],
   "source": [
    "def quant_reg(data,f, y, qcut=0.50):\n",
    "    X = sm.add_constant(data[f])    \n",
    "    quant = sm.regression.quantile_regression.QuantReg(data[y], X ).fit(q=qcut)\n",
    "    return quant.params[-1],quant.bse[-1] \n",
    "\n",
    "def quant_dml_reg(y_res, t_res, qcut=0.50):\n",
    "    quant = sm.regression.quantile_regression.QuantReg( y_res, t_res ).fit(q=qcut)\n",
    "    return quant.params[-1],quant.bse[-1] \n"
   ]
  },
  {
   "cell_type": "code",
   "execution_count": 62,
   "metadata": {},
   "outputs": [
    {
     "data": {
      "text/html": [
       "<table class=\"simpletable\">\n",
       "<caption>QuantReg Regression Results</caption>\n",
       "<tr>\n",
       "  <th>Dep. Variable:</th>         <td>Y</td>        <th>  Pseudo R-squared:  </th> <td>  0.6468</td>\n",
       "</tr>\n",
       "<tr>\n",
       "  <th>Model:</th>             <td>QuantReg</td>     <th>  Bandwidth:         </th> <td>  0.1141</td>\n",
       "</tr>\n",
       "<tr>\n",
       "  <th>Method:</th>          <td>Least Squares</td>  <th>  Sparsity:          </th> <td>  0.2866</td>\n",
       "</tr>\n",
       "<tr>\n",
       "  <th>Date:</th>          <td>Mon, 27 Dec 2021</td> <th>  No. Observations:  </th>  <td>  1000</td> \n",
       "</tr>\n",
       "<tr>\n",
       "  <th>Time:</th>              <td>21:36:01</td>     <th>  Df Residuals:      </th>  <td>   996</td> \n",
       "</tr>\n",
       "<tr>\n",
       "  <th> </th>                      <td> </td>        <th>  Df Model:          </th>  <td>     3</td> \n",
       "</tr>\n",
       "</table>\n",
       "<table class=\"simpletable\">\n",
       "<tr>\n",
       "      <td></td>         <th>coef</th>     <th>std err</th>      <th>t</th>      <th>P>|t|</th>  <th>[0.025</th>    <th>0.975]</th>  \n",
       "</tr>\n",
       "<tr>\n",
       "  <th>const</th>     <td>  100.0000</td> <td>    0.009</td> <td> 1.09e+04</td> <td> 0.000</td> <td>   99.982</td> <td>  100.018</td>\n",
       "</tr>\n",
       "<tr>\n",
       "  <th>x1</th>        <td>    1.5000</td> <td>    0.005</td> <td>  274.782</td> <td> 0.000</td> <td>    1.489</td> <td>    1.511</td>\n",
       "</tr>\n",
       "<tr>\n",
       "  <th>x2</th>        <td>    6.0000</td> <td>    0.005</td> <td> 1202.398</td> <td> 0.000</td> <td>    5.990</td> <td>    6.010</td>\n",
       "</tr>\n",
       "<tr>\n",
       "  <th>treatment</th> <td>   50.2801</td> <td>    0.011</td> <td> 4568.482</td> <td> 0.000</td> <td>   50.259</td> <td>   50.302</td>\n",
       "</tr>\n",
       "</table>"
      ],
      "text/plain": [
       "<class 'statsmodels.iolib.summary.Summary'>\n",
       "\"\"\"\n",
       "                         QuantReg Regression Results                          \n",
       "==============================================================================\n",
       "Dep. Variable:                      Y   Pseudo R-squared:               0.6468\n",
       "Model:                       QuantReg   Bandwidth:                      0.1141\n",
       "Method:                 Least Squares   Sparsity:                       0.2866\n",
       "Date:                Mon, 27 Dec 2021   No. Observations:                 1000\n",
       "Time:                        21:36:01   Df Residuals:                      996\n",
       "                                        Df Model:                            3\n",
       "==============================================================================\n",
       "                 coef    std err          t      P>|t|      [0.025      0.975]\n",
       "------------------------------------------------------------------------------\n",
       "const        100.0000      0.009   1.09e+04      0.000      99.982     100.018\n",
       "x1             1.5000      0.005    274.782      0.000       1.489       1.511\n",
       "x2             6.0000      0.005   1202.398      0.000       5.990       6.010\n",
       "treatment     50.2801      0.011   4568.482      0.000      50.259      50.302\n",
       "==============================================================================\n",
       "\"\"\""
      ]
     },
     "metadata": {},
     "output_type": "display_data"
    },
    {
     "data": {
      "text/html": [
       "<table class=\"simpletable\">\n",
       "<caption>QuantReg Regression Results</caption>\n",
       "<tr>\n",
       "  <th>Dep. Variable:</th>         <td>Y</td>        <th>  Pseudo R-squared:  </th> <td>  0.6471</td>\n",
       "</tr>\n",
       "<tr>\n",
       "  <th>Model:</th>             <td>QuantReg</td>     <th>  Bandwidth:         </th> <td>  0.1411</td>\n",
       "</tr>\n",
       "<tr>\n",
       "  <th>Method:</th>          <td>Least Squares</td>  <th>  Sparsity:          </th> <td>  0.3665</td>\n",
       "</tr>\n",
       "<tr>\n",
       "  <th>Date:</th>          <td>Mon, 27 Dec 2021</td> <th>  No. Observations:  </th>  <td>  1000</td> \n",
       "</tr>\n",
       "<tr>\n",
       "  <th>Time:</th>              <td>21:36:01</td>     <th>  Df Residuals:      </th>  <td>   996</td> \n",
       "</tr>\n",
       "<tr>\n",
       "  <th> </th>                      <td> </td>        <th>  Df Model:          </th>  <td>     3</td> \n",
       "</tr>\n",
       "</table>\n",
       "<table class=\"simpletable\">\n",
       "<tr>\n",
       "      <td></td>         <th>coef</th>     <th>std err</th>      <th>t</th>      <th>P>|t|</th>  <th>[0.025</th>    <th>0.975]</th>  \n",
       "</tr>\n",
       "<tr>\n",
       "  <th>const</th>     <td>  100.0000</td> <td>    0.010</td> <td> 1.01e+04</td> <td> 0.000</td> <td>   99.981</td> <td>  100.019</td>\n",
       "</tr>\n",
       "<tr>\n",
       "  <th>x1</th>        <td>    1.5000</td> <td>    0.006</td> <td>  263.629</td> <td> 0.000</td> <td>    1.489</td> <td>    1.511</td>\n",
       "</tr>\n",
       "<tr>\n",
       "  <th>x2</th>        <td>    6.0000</td> <td>    0.006</td> <td> 1043.296</td> <td> 0.000</td> <td>    5.989</td> <td>    6.011</td>\n",
       "</tr>\n",
       "<tr>\n",
       "  <th>treatment</th> <td>   50.7400</td> <td>    0.013</td> <td> 3880.171</td> <td> 0.000</td> <td>   50.714</td> <td>   50.766</td>\n",
       "</tr>\n",
       "</table>"
      ],
      "text/plain": [
       "<class 'statsmodels.iolib.summary.Summary'>\n",
       "\"\"\"\n",
       "                         QuantReg Regression Results                          \n",
       "==============================================================================\n",
       "Dep. Variable:                      Y   Pseudo R-squared:               0.6471\n",
       "Model:                       QuantReg   Bandwidth:                      0.1411\n",
       "Method:                 Least Squares   Sparsity:                       0.3665\n",
       "Date:                Mon, 27 Dec 2021   No. Observations:                 1000\n",
       "Time:                        21:36:01   Df Residuals:                      996\n",
       "                                        Df Model:                            3\n",
       "==============================================================================\n",
       "                 coef    std err          t      P>|t|      [0.025      0.975]\n",
       "------------------------------------------------------------------------------\n",
       "const        100.0000      0.010   1.01e+04      0.000      99.981     100.019\n",
       "x1             1.5000      0.006    263.629      0.000       1.489       1.511\n",
       "x2             6.0000      0.006   1043.296      0.000       5.989       6.011\n",
       "treatment     50.7400      0.013   3880.171      0.000      50.714      50.766\n",
       "==============================================================================\n",
       "\"\"\""
      ]
     },
     "metadata": {},
     "output_type": "display_data"
    }
   ],
   "source": [
    "X = sm.add_constant(df[['x1','x2', 'treatment']] )\n",
    "quant = sm.regression.quantile_regression.QuantReg(df['Y'], X ).fit(q=0.25)\n",
    "display(quant.summary())\n",
    "\n",
    "## Create some additional noise in the data\n",
    "df.loc[(df['treatment']==1), 'Y'] += np.random.uniform(0,1, (df['treatment']==1).sum() )\n",
    "quant = sm.regression.quantile_regression.QuantReg(df['Y'], X ).fit(q=0.25)\n",
    "display(quant.summary())\n"
   ]
  },
  {
   "cell_type": "code",
   "execution_count": 133,
   "metadata": {},
   "outputs": [
    {
     "name": "stderr",
     "output_type": "stream",
     "text": [
      "/opt/anaconda3/lib/python3.8/site-packages/statsmodels/regression/quantile_regression.py:191: IterationLimitWarning: Maximum number of iterations (1000) reached.\n",
      "  warnings.warn(\"Maximum number of iterations (\" + str(max_iter) +\n"
     ]
    }
   ],
   "source": [
    "## Now we generate some heterogeneous treatment effects.\n",
    "# df = generate_data_skewed(te=np.random.normal(10,1, 1000))\n",
    "\n",
    "\n",
    "est_dict = {'0.25':[], '0.50':[], '0.75':[],}\n",
    "se_dict = {'0.25':[], '0.50':[], '0.75':[],}\n",
    "\n",
    "sim_range = range(20)\n",
    "for r in sim_range:\n",
    "    df = generate_data_skewed(te=np.random.uniform(0,100, 1000))\n",
    "    for r in list( est_dict.keys() ):\n",
    "        a = quant_reg(df,['x1','x2', 'treatment'], 'Y', qcut=float(r) ) \n",
    "#         print('Estimate on {0} quantile:  {1:5.3f}[{2:5.3f}]'.format(r, a[0],a[1]))\n",
    "        est_dict[str(r)].append(a[0])\n",
    "        se_dict[str(r)].append(a[1])\n"
   ]
  },
  {
   "cell_type": "code",
   "execution_count": 137,
   "metadata": {},
   "outputs": [
    {
     "data": {
      "image/png": "[encoded data removed]",
      "text/plain": [
       "<Figure size 576x576 with 1 Axes>"
      ]
     },
     "metadata": {},
     "output_type": "display_data"
    }
   ],
   "source": [
    "fig,ax = plt.subplots(ncols=1, nrows=1, figsize=(8,8))\n",
    "\n",
    "for r, c in zip( list( est_dict.keys()), ['coral','magenta','royalblue'] ):\n",
    "    est_dict[r] = np.array(est_dict[r])\n",
    "    se_dict[r] = np.array(se_dict[r])    \n",
    "    r_p = r[-2:]\n",
    "    ax.scatter(sim_range , est_dict[r], color=c, alpha=0.25, label=r_p+'th')\n",
    "    ax.vlines(sim_range , est_dict[r] + 1.96*se_dict[r],est_dict[r] - 1.96*se_dict[r], color=c, alpha=0.25, label=r_p+' 95% CI')    \n",
    "ax.plot(sim_range, [25]*len(sim_range), color='black', label='Truth')\n",
    "ax.plot(sim_range, [50]*len(sim_range), color='black')\n",
    "ax.plot(sim_range, [75]*len(sim_range), color='black')\n",
    "ax.set_xlabel('Simulation Iteration')\n",
    "ax.set_ylabel('Estimate')\n",
    "ax.grid()\n",
    "ax.legend(loc='upper left')\n",
    "fig.set_facecolor('cornsilk')"
   ]
  },
  {
   "cell_type": "code",
   "execution_count": 168,
   "metadata": {},
   "outputs": [],
   "source": [
    "# '''\n",
    "# What if we try a DML-style approach? A little suspicious because residualization is about the average, not the median.\n",
    "# '''\n",
    "# from sklearn.linear_model import QuantileRegressor\n",
    "\n",
    "# from sklearn.ensemble import GradientBoostingClassifier, GradientBoostingRegressor\n",
    "\n",
    "# st.block_splits(df, split_name='splits', n_data_splits=4)\n",
    "# treatment_out = st.predict_treatment_indicator(df, 'splits', 4, ['x1','x2'], 'treatment', \n",
    "#                                                GradientBoostingClassifier(n_estimators=200, random_state=27,criterion=\"mae\"))   \n",
    "# y_out = st.predict_continuous(df, 'splits', 4, ['x1','x2'], 'treatment', \n",
    "#                               GradientBoostingRegressor(n_estimators=200, random_state=27,loss=\"quantile\", alpha=0.50))   \n",
    "\n",
    "# for r in np.round( np.arange(0.10, 1, 0.1), 3 ):\n",
    "#     a = quant_dml_reg(y_out, treatment_out, qcut=r)\n",
    "#     print('Estimate on {0:3.2f} quantile:  {1:5.3f}[{2:5.3f}]'.format(r, a[0],a[1]))\n",
    "\n",
    "    \n"
   ]
  },
  {
   "cell_type": "markdown",
   "metadata": {},
   "source": [
    "### 1(b). Outlier value in $Y_i$ due to idiosyncractic error"
   ]
  },
  {
   "cell_type": "code",
   "execution_count": 20,
   "metadata": {},
   "outputs": [
    {
     "name": "stdout",
     "output_type": "stream",
     "text": [
      "Before large idiosyncratic errors\n"
     ]
    },
    {
     "data": {
      "text/plain": [
       "count    1000.000000\n",
       "mean      124.808317\n",
       "std        25.097777\n",
       "min        83.241013\n",
       "25%       100.726356\n",
       "50%       115.104895\n",
       "75%       148.918031\n",
       "max       174.222204\n",
       "Name: Y, dtype: float64"
      ]
     },
     "metadata": {},
     "output_type": "display_data"
    },
    {
     "name": "stdout",
     "output_type": "stream",
     "text": [
      "After large idiosyncratic errors\n"
     ]
    },
    {
     "data": {
      "text/plain": [
       "count    1000.000000\n",
       "mean      134.797144\n",
       "std        38.550907\n",
       "min        83.241013\n",
       "25%       101.548002\n",
       "50%       140.543397\n",
       "75%       152.253327\n",
       "max       263.258934\n",
       "Name: Y, dtype: float64"
      ]
     },
     "metadata": {},
     "output_type": "display_data"
    }
   ],
   "source": [
    "df = generate_data(te=50)\n",
    "## For a random 10% of the sample, increase the outcome by a random number\n",
    "random10 = int( len(df) / 10 )\n",
    "print('Before large idiosyncratic errors')\n",
    "display(df['Y'].describe())\n",
    "df[0:random10]['Y'] += np.random.normal(100,1, random10)\n",
    "print('After large idiosyncratic errors')\n",
    "display(df['Y'].describe())"
   ]
  },
  {
   "cell_type": "code",
   "execution_count": 21,
   "metadata": {},
   "outputs": [
    {
     "name": "stdout",
     "output_type": "stream",
     "text": [
      "Estimate without modification\n",
      "  45.631[2.247]\n",
      "  True Value: 50.000\n"
     ]
    }
   ],
   "source": [
    "print('Estimate without modification')\n",
    "a = st.ate.dml.dml_plm(df, \n",
    "                split_name, feature_list, outcome_name, treatment_name,\n",
    "                RandomForestRegressor(n_estimators=200, random_state=27),\n",
    "                RandomForestClassifier(n_estimators=200, random_state=27),\n",
    "               n_data_splits,\n",
    "               aux_dict)\n",
    "\n",
    "print('  {0:5.3f}[{1:5.3f}]'.format(a['ATE TE'], a['ATE SE']))\n",
    "print('  True Value: {0:5.3f}'.format(TrueEstimate))"
   ]
  },
  {
   "cell_type": "code",
   "execution_count": null,
   "metadata": {},
   "outputs": [],
   "source": []
  },
  {
   "cell_type": "code",
   "execution_count": 22,
   "metadata": {},
   "outputs": [],
   "source": [
    "## Do this over many repetitions\n",
    "te_outlier_list = []\n",
    "se_outlier_list = []\n",
    "\n",
    "te_list = []\n",
    "se_list = []\n",
    "\n",
    "sim_number = 50\n",
    "for r in range(sim_number):\n",
    "    df = generate_data(te=50)\n",
    "    ## Estimate without any outliers\n",
    "    a = st.ate.dml.dml_plm(df, \n",
    "                split_name, feature_list, outcome_name, treatment_name,\n",
    "                RandomForestRegressor(n_estimators=200, random_state=27),\n",
    "                RandomForestClassifier(n_estimators=200, random_state=27),\n",
    "               n_data_splits,\n",
    "               aux_dict)\n",
    "    te_list.append(a['ATE TE'])\n",
    "    se_list.append(a['ATE SE'])\n",
    "    \n",
    "    ## For a random 10% of the sample, increase the outcome by a random number\n",
    "    random10 = int( len(df) / 10 )\n",
    "\n",
    "    df[0:random10]['Y'] += np.random.normal(150,1, random10)\n",
    "    a = st.ate.dml.dml_plm(df, \n",
    "                split_name, feature_list, outcome_name, treatment_name,\n",
    "                RandomForestRegressor(n_estimators=200, random_state=27),\n",
    "                RandomForestClassifier(n_estimators=200, random_state=27),\n",
    "               n_data_splits,\n",
    "               aux_dict)\n",
    "    te_outlier_list.append(a['ATE TE'])\n",
    "    se_outlier_list.append(a['ATE SE'])\n"
   ]
  },
  {
   "cell_type": "code",
   "execution_count": 23,
   "metadata": {},
   "outputs": [],
   "source": [
    "te_outlier_list = np.array(te_outlier_list)\n",
    "se_outlier_list = np.array(se_outlier_list)\n",
    "\n",
    "te_list = np.array(te_list)\n",
    "se_list = np.array(se_list)"
   ]
  },
  {
   "cell_type": "code",
   "execution_count": 37,
   "metadata": {},
   "outputs": [
    {
     "data": {
      "image/png": "[encoded data removed]",
      "text/plain": [
       "<Figure size 1008x504 with 2 Axes>"
      ]
     },
     "metadata": {},
     "output_type": "display_data"
    }
   ],
   "source": [
    "fig,ax = plt.subplots(ncols=2, nrows=1, figsize=(14,7), sharey=True)\n",
    "ax[0].scatter(te_outlier_list-50, te_list-50, color='red')\n",
    "ax[0].grid()\n",
    "\n",
    "ax[1].hist(se_outlier_list, color='turquoise', alpha=0.45, label='w/ outliers')\n",
    "ax[1].hist(se_list, color='purple', alpha=0.45, label='w/o outliers')\n",
    "ax[1].grid()\n",
    "ax[1].legend()\n",
    "\n",
    "fig.set_facecolor('white')"
   ]
  },
  {
   "cell_type": "code",
   "execution_count": 41,
   "metadata": {},
   "outputs": [
    {
     "data": {
      "image/png": "[encoded data removed]",
      "text/plain": [
       "<Figure size 1008x504 with 2 Axes>"
      ]
     },
     "metadata": {},
     "output_type": "display_data"
    }
   ],
   "source": [
    "fig,ax = plt.subplots(ncols=2, nrows=1, figsize=(14,7), sharey=True)\n",
    "ax[0].scatter(range(sim_number), te_outlier_list-50, alpha=0.8, color='turquoise', label='ATE')\n",
    "ax[0].vlines(range(sim_number), te_outlier_list+1.96*se_outlier_list-50, te_outlier_list-1.96*se_outlier_list-50, alpha=0.65, color='turquoise', label='95% CI')\n",
    "ax[0].plot(range(sim_number), np.zeros(sim_number))\n",
    "ax[0].set_ylabel('Bias')\n",
    "ax[0].set_xlabel('Simulation Number')\n",
    "ax[0].legend()\n",
    "ax[0].grid()\n",
    "ax[0].set_title('With outliers')\n",
    "\n",
    "ax[1].scatter(range(sim_number), te_list-50, alpha=0.8, color='purple', label='ATE')\n",
    "ax[1].vlines(range(sim_number), te_list+1.96*se_list-50, te_list-1.96*se_list-50, alpha=0.65, color='purple', label='95% CI')\n",
    "ax[1].plot(range(sim_number), np.zeros(sim_number))\n",
    "ax[1].set_ylabel('Bias')\n",
    "ax[1].set_xlabel('Simulation Number')\n",
    "ax[1].legend()\n",
    "ax[1].grid()\n",
    "ax[1].set_title('Without outliers')\n",
    "plt.subplots_adjust(wspace=0.05, hspace=0)\n",
    "fig.set_facecolor('white')"
   ]
  },
  {
   "cell_type": "code",
   "execution_count": 169,
   "metadata": {},
   "outputs": [
    {
     "name": "stdout",
     "output_type": "stream",
     "text": [
      "15208.20087862986\n",
      "49.52552202694366\n"
     ]
    }
   ],
   "source": [
    "print(np.average(te_list))\n",
    "print(np.average(te_outlier_list))"
   ]
  },
  {
   "cell_type": "markdown",
   "metadata": {},
   "source": [
    "## 2. Class imbalance in training propensity scores\n",
    "## 3. Feature Selection\n",
    "\n"
   ]
  },
  {
   "cell_type": "code",
   "execution_count": 170,
   "metadata": {},
   "outputs": [],
   "source": [
    "## Write a function to write simulated data\n",
    "def generate_data_select(te=100, num_features = 10):\n",
    "    N = 1000\n",
    "    \n",
    "    features = {}\n",
    "    features['Y'] = np.random.normal(0,1, len(df))\n",
    "    \n",
    "    ## Create relevant features\n",
    "    for n in range(num_features):\n",
    "        features['x'+str(n)] = np.random.normal(0,1,N)\n",
    "        if n > num_features / 2:\n",
    "            features['Y'] += features['x'+str(n)]*np.random.uniform(-5,5)\n",
    "        else:\n",
    "            pass\n",
    "    ## Assign a treatment conditional on the relevant features\n",
    "    latent_treatment = np.zeros(N)\n",
    "    for n in range(num_features):\n",
    "        latent_treatment += features['x'+str(n)]*np.random.uniform(-1,1)\n",
    "    latent_treatment += np.random.normal(0,1,N)\n",
    "    latent_treatment = (np.average(latent_treatment) - latent_treatment) / np.std(latent_treatment)\n",
    "    \n",
    "    features['W'] = ( latent_treatment > 0 ).astype(float)\n",
    "    features['Y'] += features['W']*te\n",
    "    \n",
    "    ## Assign some orthogonal features\n",
    "    for n in range(num_features):\n",
    "        features['x_xx'+str(n)] = np.random.normal(0,1,N)    \n",
    "    \n",
    "    df_est = pd.DataFrame(features )\n",
    "   \n",
    "    return df_est"
   ]
  },
  {
   "cell_type": "code",
   "execution_count": 171,
   "metadata": {},
   "outputs": [],
   "source": [
    "def ols_stat(data,f, y):\n",
    "    X = sm.add_constant(data[f])\n",
    "    ols = sm.OLS( data[y] , X ).fit()\n",
    "    return ols.params['W'],ols.bse['W'] \n",
    "\n",
    "from sklearn.linear_model import LassoCV\n",
    "def lasso_stat(data,f, y):\n",
    "    lss = LassoCV(random_state=27).fit(  data[f], data[y]  )\n",
    "    return lss.coef_[-1]"
   ]
  },
  {
   "cell_type": "code",
   "execution_count": 172,
   "metadata": {},
   "outputs": [],
   "source": [
    "TrueEstimate = 0.5\n",
    "sim_num_features = 100\n",
    "\n",
    "sim_iter = 100\n",
    "sim_ols_estimate = []\n",
    "sim_lss_estimate = []\n",
    "\n",
    "for r in range(sim_iter):\n",
    "    df = generate_data_select(te=TrueEstimate, num_features=sim_num_features)\n",
    "\n",
    "    a = ols_stat(df, [x for x in df.columns if 'x' in x] + ['W'], 'Y')\n",
    "    sim_ols_estimate.append(a[0]-TrueEstimate)\n",
    "    b = lasso_stat(df, [x for x in df.columns if 'x' in x] + ['W'], 'Y')\n",
    "    sim_lss_estimate.append(b - TrueEstimate)"
   ]
  },
  {
   "cell_type": "code",
   "execution_count": 173,
   "metadata": {},
   "outputs": [
    {
     "data": {
      "image/png": "[encoded data removed]",
      "text/plain": [
       "<Figure size 504x504 with 1 Axes>"
      ]
     },
     "metadata": {},
     "output_type": "display_data"
    }
   ],
   "source": [
    "fig,ax = plt.subplots(ncols=1, nrows=1, figsize=(7,7))\n",
    "ax.hist(sim_ols_estimate, density=False, alpha=0.25, color='aqua', label='OLS')\n",
    "ax.hist(sim_lss_estimate, density=False, alpha=0.25, color='magenta', label='CV Lasso')\n",
    "ax.plot([0,0], [0,20], color='black')\n",
    "ax.legend()\n",
    "ax.grid()\n",
    "fig.set_facecolor('white')"
   ]
  },
  {
   "cell_type": "code",
   "execution_count": 174,
   "metadata": {},
   "outputs": [
    {
     "name": "stdout",
     "output_type": "stream",
     "text": [
      "0.015062728056189318\n",
      "-0.1660791262548395\n"
     ]
    }
   ],
   "source": [
    "print(  np.average(sim_ols_estimate)  )\n",
    "print(  np.average(sim_lss_estimate)  )"
   ]
  },
  {
   "cell_type": "code",
   "execution_count": 175,
   "metadata": {},
   "outputs": [],
   "source": [
    "### What about cross-validated feature selection?\n",
    "## Do the same simulations again."
   ]
  },
  {
   "cell_type": "code",
   "execution_count": 176,
   "metadata": {},
   "outputs": [
    {
     "ename": "KeyboardInterrupt",
     "evalue": "",
     "output_type": "error",
     "traceback": [
      "\u001b[0;31m---------------------------------------------------------------------------\u001b[0m",
      "\u001b[0;31mKeyboardInterrupt\u001b[0m                         Traceback (most recent call last)",
      "\u001b[0;32m<ipython-input-176-d36e78d93acc>\u001b[0m in \u001b[0;36m<module>\u001b[0;34m\u001b[0m\n\u001b[1;32m     12\u001b[0m     \u001b[0ma\u001b[0m \u001b[0;34m=\u001b[0m \u001b[0mols_stat\u001b[0m\u001b[0;34m(\u001b[0m\u001b[0mdf\u001b[0m\u001b[0;34m,\u001b[0m \u001b[0;34m[\u001b[0m\u001b[0mx\u001b[0m \u001b[0;32mfor\u001b[0m \u001b[0mx\u001b[0m \u001b[0;32min\u001b[0m \u001b[0mdf\u001b[0m\u001b[0;34m.\u001b[0m\u001b[0mcolumns\u001b[0m \u001b[0;32mif\u001b[0m \u001b[0;34m'x'\u001b[0m \u001b[0;32min\u001b[0m \u001b[0mx\u001b[0m\u001b[0;34m]\u001b[0m \u001b[0;34m+\u001b[0m \u001b[0;34m[\u001b[0m\u001b[0;34m'W'\u001b[0m\u001b[0;34m]\u001b[0m\u001b[0;34m,\u001b[0m \u001b[0;34m'Y'\u001b[0m\u001b[0;34m)\u001b[0m\u001b[0;34m\u001b[0m\u001b[0;34m\u001b[0m\u001b[0m\n\u001b[1;32m     13\u001b[0m     \u001b[0msim_ols_estimate\u001b[0m\u001b[0;34m.\u001b[0m\u001b[0mappend\u001b[0m\u001b[0;34m(\u001b[0m\u001b[0ma\u001b[0m\u001b[0;34m[\u001b[0m\u001b[0;36m0\u001b[0m\u001b[0;34m]\u001b[0m\u001b[0;34m-\u001b[0m\u001b[0mTrueEstimate\u001b[0m\u001b[0;34m)\u001b[0m\u001b[0;34m\u001b[0m\u001b[0;34m\u001b[0m\u001b[0m\n\u001b[0;32m---> 14\u001b[0;31m     \u001b[0mb\u001b[0m \u001b[0;34m=\u001b[0m \u001b[0mlasso_stat\u001b[0m\u001b[0;34m(\u001b[0m\u001b[0mdf\u001b[0m\u001b[0;34m,\u001b[0m \u001b[0;34m[\u001b[0m\u001b[0mx\u001b[0m \u001b[0;32mfor\u001b[0m \u001b[0mx\u001b[0m \u001b[0;32min\u001b[0m \u001b[0mdf\u001b[0m\u001b[0;34m.\u001b[0m\u001b[0mcolumns\u001b[0m \u001b[0;32mif\u001b[0m \u001b[0;34m'x'\u001b[0m \u001b[0;32min\u001b[0m \u001b[0mx\u001b[0m\u001b[0;34m]\u001b[0m \u001b[0;34m+\u001b[0m \u001b[0;34m[\u001b[0m\u001b[0;34m'W'\u001b[0m\u001b[0;34m]\u001b[0m\u001b[0;34m,\u001b[0m \u001b[0;34m'Y'\u001b[0m\u001b[0;34m)\u001b[0m\u001b[0;34m\u001b[0m\u001b[0;34m\u001b[0m\u001b[0m\n\u001b[0m\u001b[1;32m     15\u001b[0m     \u001b[0msim_lss_estimate\u001b[0m\u001b[0;34m.\u001b[0m\u001b[0mappend\u001b[0m\u001b[0;34m(\u001b[0m\u001b[0mb\u001b[0m \u001b[0;34m-\u001b[0m \u001b[0mTrueEstimate\u001b[0m\u001b[0;34m)\u001b[0m\u001b[0;34m\u001b[0m\u001b[0;34m\u001b[0m\u001b[0m\n\u001b[1;32m     16\u001b[0m \u001b[0;34m\u001b[0m\u001b[0m\n",
      "\u001b[0;32m<ipython-input-171-c785defa285a>\u001b[0m in \u001b[0;36mlasso_stat\u001b[0;34m(data, f, y)\u001b[0m\n\u001b[1;32m      6\u001b[0m \u001b[0;32mfrom\u001b[0m \u001b[0msklearn\u001b[0m\u001b[0;34m.\u001b[0m\u001b[0mlinear_model\u001b[0m \u001b[0;32mimport\u001b[0m \u001b[0mLassoCV\u001b[0m\u001b[0;34m\u001b[0m\u001b[0;34m\u001b[0m\u001b[0m\n\u001b[1;32m      7\u001b[0m \u001b[0;32mdef\u001b[0m \u001b[0mlasso_stat\u001b[0m\u001b[0;34m(\u001b[0m\u001b[0mdata\u001b[0m\u001b[0;34m,\u001b[0m\u001b[0mf\u001b[0m\u001b[0;34m,\u001b[0m \u001b[0my\u001b[0m\u001b[0;34m)\u001b[0m\u001b[0;34m:\u001b[0m\u001b[0;34m\u001b[0m\u001b[0;34m\u001b[0m\u001b[0m\n\u001b[0;32m----> 8\u001b[0;31m     \u001b[0mlss\u001b[0m \u001b[0;34m=\u001b[0m \u001b[0mLassoCV\u001b[0m\u001b[0;34m(\u001b[0m\u001b[0mrandom_state\u001b[0m\u001b[0;34m=\u001b[0m\u001b[0;36m27\u001b[0m\u001b[0;34m)\u001b[0m\u001b[0;34m.\u001b[0m\u001b[0mfit\u001b[0m\u001b[0;34m(\u001b[0m  \u001b[0mdata\u001b[0m\u001b[0;34m[\u001b[0m\u001b[0mf\u001b[0m\u001b[0;34m]\u001b[0m\u001b[0;34m,\u001b[0m \u001b[0mdata\u001b[0m\u001b[0;34m[\u001b[0m\u001b[0my\u001b[0m\u001b[0;34m]\u001b[0m  \u001b[0;34m)\u001b[0m\u001b[0;34m\u001b[0m\u001b[0;34m\u001b[0m\u001b[0m\n\u001b[0m\u001b[1;32m      9\u001b[0m     \u001b[0;32mreturn\u001b[0m \u001b[0mlss\u001b[0m\u001b[0;34m.\u001b[0m\u001b[0mcoef_\u001b[0m\u001b[0;34m[\u001b[0m\u001b[0;34m-\u001b[0m\u001b[0;36m1\u001b[0m\u001b[0;34m]\u001b[0m\u001b[0;34m\u001b[0m\u001b[0;34m\u001b[0m\u001b[0m\n",
      "\u001b[0;32m/opt/anaconda3/lib/python3.8/site-packages/sklearn/linear_model/_coordinate_descent.py\u001b[0m in \u001b[0;36mfit\u001b[0;34m(self, X, y, sample_weight)\u001b[0m\n\u001b[1;32m   1669\u001b[0m             \u001b[0;32mfor\u001b[0m \u001b[0mtrain\u001b[0m\u001b[0;34m,\u001b[0m \u001b[0mtest\u001b[0m \u001b[0;32min\u001b[0m \u001b[0mfolds\u001b[0m\u001b[0;34m\u001b[0m\u001b[0;34m\u001b[0m\u001b[0m\n\u001b[1;32m   1670\u001b[0m         )\n\u001b[0;32m-> 1671\u001b[0;31m         mse_paths = Parallel(\n\u001b[0m\u001b[1;32m   1672\u001b[0m             \u001b[0mn_jobs\u001b[0m\u001b[0;34m=\u001b[0m\u001b[0mself\u001b[0m\u001b[0;34m.\u001b[0m\u001b[0mn_jobs\u001b[0m\u001b[0;34m,\u001b[0m\u001b[0;34m\u001b[0m\u001b[0;34m\u001b[0m\u001b[0m\n\u001b[1;32m   1673\u001b[0m             \u001b[0mverbose\u001b[0m\u001b[0;34m=\u001b[0m\u001b[0mself\u001b[0m\u001b[0;34m.\u001b[0m\u001b[0mverbose\u001b[0m\u001b[0;34m,\u001b[0m\u001b[0;34m\u001b[0m\u001b[0;34m\u001b[0m\u001b[0m\n",
      "\u001b[0;32m/opt/anaconda3/lib/python3.8/site-packages/joblib/parallel.py\u001b[0m in \u001b[0;36m__call__\u001b[0;34m(self, iterable)\u001b[0m\n\u001b[1;32m   1044\u001b[0m                 \u001b[0mself\u001b[0m\u001b[0;34m.\u001b[0m\u001b[0m_iterating\u001b[0m \u001b[0;34m=\u001b[0m \u001b[0mself\u001b[0m\u001b[0;34m.\u001b[0m\u001b[0m_original_iterator\u001b[0m \u001b[0;32mis\u001b[0m \u001b[0;32mnot\u001b[0m \u001b[0;32mNone\u001b[0m\u001b[0;34m\u001b[0m\u001b[0;34m\u001b[0m\u001b[0m\n\u001b[1;32m   1045\u001b[0m \u001b[0;34m\u001b[0m\u001b[0m\n\u001b[0;32m-> 1046\u001b[0;31m             \u001b[0;32mwhile\u001b[0m \u001b[0mself\u001b[0m\u001b[0;34m.\u001b[0m\u001b[0mdispatch_one_batch\u001b[0m\u001b[0;34m(\u001b[0m\u001b[0miterator\u001b[0m\u001b[0;34m)\u001b[0m\u001b[0;34m:\u001b[0m\u001b[0;34m\u001b[0m\u001b[0;34m\u001b[0m\u001b[0m\n\u001b[0m\u001b[1;32m   1047\u001b[0m                 \u001b[0;32mpass\u001b[0m\u001b[0;34m\u001b[0m\u001b[0;34m\u001b[0m\u001b[0m\n\u001b[1;32m   1048\u001b[0m \u001b[0;34m\u001b[0m\u001b[0m\n",
      "\u001b[0;32m/opt/anaconda3/lib/python3.8/site-packages/joblib/parallel.py\u001b[0m in \u001b[0;36mdispatch_one_batch\u001b[0;34m(self, iterator)\u001b[0m\n\u001b[1;32m    859\u001b[0m                 \u001b[0;32mreturn\u001b[0m \u001b[0;32mFalse\u001b[0m\u001b[0;34m\u001b[0m\u001b[0;34m\u001b[0m\u001b[0m\n\u001b[1;32m    860\u001b[0m             \u001b[0;32melse\u001b[0m\u001b[0;34m:\u001b[0m\u001b[0;34m\u001b[0m\u001b[0;34m\u001b[0m\u001b[0m\n\u001b[0;32m--> 861\u001b[0;31m                 \u001b[0mself\u001b[0m\u001b[0;34m.\u001b[0m\u001b[0m_dispatch\u001b[0m\u001b[0;34m(\u001b[0m\u001b[0mtasks\u001b[0m\u001b[0;34m)\u001b[0m\u001b[0;34m\u001b[0m\u001b[0;34m\u001b[0m\u001b[0m\n\u001b[0m\u001b[1;32m    862\u001b[0m                 \u001b[0;32mreturn\u001b[0m \u001b[0;32mTrue\u001b[0m\u001b[0;34m\u001b[0m\u001b[0;34m\u001b[0m\u001b[0m\n\u001b[1;32m    863\u001b[0m \u001b[0;34m\u001b[0m\u001b[0m\n",
      "\u001b[0;32m/opt/anaconda3/lib/python3.8/site-packages/joblib/parallel.py\u001b[0m in \u001b[0;36m_dispatch\u001b[0;34m(self, batch)\u001b[0m\n\u001b[1;32m    777\u001b[0m         \u001b[0;32mwith\u001b[0m \u001b[0mself\u001b[0m\u001b[0;34m.\u001b[0m\u001b[0m_lock\u001b[0m\u001b[0;34m:\u001b[0m\u001b[0;34m\u001b[0m\u001b[0;34m\u001b[0m\u001b[0m\n\u001b[1;32m    778\u001b[0m             \u001b[0mjob_idx\u001b[0m \u001b[0;34m=\u001b[0m \u001b[0mlen\u001b[0m\u001b[0;34m(\u001b[0m\u001b[0mself\u001b[0m\u001b[0;34m.\u001b[0m\u001b[0m_jobs\u001b[0m\u001b[0;34m)\u001b[0m\u001b[0;34m\u001b[0m\u001b[0;34m\u001b[0m\u001b[0m\n\u001b[0;32m--> 779\u001b[0;31m             \u001b[0mjob\u001b[0m \u001b[0;34m=\u001b[0m \u001b[0mself\u001b[0m\u001b[0;34m.\u001b[0m\u001b[0m_backend\u001b[0m\u001b[0;34m.\u001b[0m\u001b[0mapply_async\u001b[0m\u001b[0;34m(\u001b[0m\u001b[0mbatch\u001b[0m\u001b[0;34m,\u001b[0m \u001b[0mcallback\u001b[0m\u001b[0;34m=\u001b[0m\u001b[0mcb\u001b[0m\u001b[0;34m)\u001b[0m\u001b[0;34m\u001b[0m\u001b[0;34m\u001b[0m\u001b[0m\n\u001b[0m\u001b[1;32m    780\u001b[0m             \u001b[0;31m# A job can complete so quickly than its callback is\u001b[0m\u001b[0;34m\u001b[0m\u001b[0;34m\u001b[0m\u001b[0;34m\u001b[0m\u001b[0m\n\u001b[1;32m    781\u001b[0m             \u001b[0;31m# called before we get here, causing self._jobs to\u001b[0m\u001b[0;34m\u001b[0m\u001b[0;34m\u001b[0m\u001b[0;34m\u001b[0m\u001b[0m\n",
      "\u001b[0;32m/opt/anaconda3/lib/python3.8/site-packages/joblib/_parallel_backends.py\u001b[0m in \u001b[0;36mapply_async\u001b[0;34m(self, func, callback)\u001b[0m\n\u001b[1;32m    206\u001b[0m     \u001b[0;32mdef\u001b[0m \u001b[0mapply_async\u001b[0m\u001b[0;34m(\u001b[0m\u001b[0mself\u001b[0m\u001b[0;34m,\u001b[0m \u001b[0mfunc\u001b[0m\u001b[0;34m,\u001b[0m \u001b[0mcallback\u001b[0m\u001b[0;34m=\u001b[0m\u001b[0;32mNone\u001b[0m\u001b[0;34m)\u001b[0m\u001b[0;34m:\u001b[0m\u001b[0;34m\u001b[0m\u001b[0;34m\u001b[0m\u001b[0m\n\u001b[1;32m    207\u001b[0m         \u001b[0;34m\"\"\"Schedule a func to be run\"\"\"\u001b[0m\u001b[0;34m\u001b[0m\u001b[0;34m\u001b[0m\u001b[0m\n\u001b[0;32m--> 208\u001b[0;31m         \u001b[0mresult\u001b[0m \u001b[0;34m=\u001b[0m \u001b[0mImmediateResult\u001b[0m\u001b[0;34m(\u001b[0m\u001b[0mfunc\u001b[0m\u001b[0;34m)\u001b[0m\u001b[0;34m\u001b[0m\u001b[0;34m\u001b[0m\u001b[0m\n\u001b[0m\u001b[1;32m    209\u001b[0m         \u001b[0;32mif\u001b[0m \u001b[0mcallback\u001b[0m\u001b[0;34m:\u001b[0m\u001b[0;34m\u001b[0m\u001b[0;34m\u001b[0m\u001b[0m\n\u001b[1;32m    210\u001b[0m             \u001b[0mcallback\u001b[0m\u001b[0;34m(\u001b[0m\u001b[0mresult\u001b[0m\u001b[0;34m)\u001b[0m\u001b[0;34m\u001b[0m\u001b[0;34m\u001b[0m\u001b[0m\n",
      "\u001b[0;32m/opt/anaconda3/lib/python3.8/site-packages/joblib/_parallel_backends.py\u001b[0m in \u001b[0;36m__init__\u001b[0;34m(self, batch)\u001b[0m\n\u001b[1;32m    570\u001b[0m         \u001b[0;31m# Don't delay the application, to avoid keeping the input\u001b[0m\u001b[0;34m\u001b[0m\u001b[0;34m\u001b[0m\u001b[0;34m\u001b[0m\u001b[0m\n\u001b[1;32m    571\u001b[0m         \u001b[0;31m# arguments in memory\u001b[0m\u001b[0;34m\u001b[0m\u001b[0;34m\u001b[0m\u001b[0;34m\u001b[0m\u001b[0m\n\u001b[0;32m--> 572\u001b[0;31m         \u001b[0mself\u001b[0m\u001b[0;34m.\u001b[0m\u001b[0mresults\u001b[0m \u001b[0;34m=\u001b[0m \u001b[0mbatch\u001b[0m\u001b[0;34m(\u001b[0m\u001b[0;34m)\u001b[0m\u001b[0;34m\u001b[0m\u001b[0;34m\u001b[0m\u001b[0m\n\u001b[0m\u001b[1;32m    573\u001b[0m \u001b[0;34m\u001b[0m\u001b[0m\n\u001b[1;32m    574\u001b[0m     \u001b[0;32mdef\u001b[0m \u001b[0mget\u001b[0m\u001b[0;34m(\u001b[0m\u001b[0mself\u001b[0m\u001b[0;34m)\u001b[0m\u001b[0;34m:\u001b[0m\u001b[0;34m\u001b[0m\u001b[0;34m\u001b[0m\u001b[0m\n",
      "\u001b[0;32m/opt/anaconda3/lib/python3.8/site-packages/joblib/parallel.py\u001b[0m in \u001b[0;36m__call__\u001b[0;34m(self)\u001b[0m\n\u001b[1;32m    260\u001b[0m         \u001b[0;31m# change the default number of processes to -1\u001b[0m\u001b[0;34m\u001b[0m\u001b[0;34m\u001b[0m\u001b[0;34m\u001b[0m\u001b[0m\n\u001b[1;32m    261\u001b[0m         \u001b[0;32mwith\u001b[0m \u001b[0mparallel_backend\u001b[0m\u001b[0;34m(\u001b[0m\u001b[0mself\u001b[0m\u001b[0;34m.\u001b[0m\u001b[0m_backend\u001b[0m\u001b[0;34m,\u001b[0m \u001b[0mn_jobs\u001b[0m\u001b[0;34m=\u001b[0m\u001b[0mself\u001b[0m\u001b[0;34m.\u001b[0m\u001b[0m_n_jobs\u001b[0m\u001b[0;34m)\u001b[0m\u001b[0;34m:\u001b[0m\u001b[0;34m\u001b[0m\u001b[0;34m\u001b[0m\u001b[0m\n\u001b[0;32m--> 262\u001b[0;31m             return [func(*args, **kwargs)\n\u001b[0m\u001b[1;32m    263\u001b[0m                     for func, args, kwargs in self.items]\n\u001b[1;32m    264\u001b[0m \u001b[0;34m\u001b[0m\u001b[0m\n",
      "\u001b[0;32m/opt/anaconda3/lib/python3.8/site-packages/joblib/parallel.py\u001b[0m in \u001b[0;36m<listcomp>\u001b[0;34m(.0)\u001b[0m\n\u001b[1;32m    260\u001b[0m         \u001b[0;31m# change the default number of processes to -1\u001b[0m\u001b[0;34m\u001b[0m\u001b[0;34m\u001b[0m\u001b[0;34m\u001b[0m\u001b[0m\n\u001b[1;32m    261\u001b[0m         \u001b[0;32mwith\u001b[0m \u001b[0mparallel_backend\u001b[0m\u001b[0;34m(\u001b[0m\u001b[0mself\u001b[0m\u001b[0;34m.\u001b[0m\u001b[0m_backend\u001b[0m\u001b[0;34m,\u001b[0m \u001b[0mn_jobs\u001b[0m\u001b[0;34m=\u001b[0m\u001b[0mself\u001b[0m\u001b[0;34m.\u001b[0m\u001b[0m_n_jobs\u001b[0m\u001b[0;34m)\u001b[0m\u001b[0;34m:\u001b[0m\u001b[0;34m\u001b[0m\u001b[0;34m\u001b[0m\u001b[0m\n\u001b[0;32m--> 262\u001b[0;31m             return [func(*args, **kwargs)\n\u001b[0m\u001b[1;32m    263\u001b[0m                     for func, args, kwargs in self.items]\n\u001b[1;32m    264\u001b[0m \u001b[0;34m\u001b[0m\u001b[0m\n",
      "\u001b[0;32m/opt/anaconda3/lib/python3.8/site-packages/sklearn/utils/fixes.py\u001b[0m in \u001b[0;36m__call__\u001b[0;34m(self, *args, **kwargs)\u001b[0m\n\u001b[1;32m    209\u001b[0m     \u001b[0;32mdef\u001b[0m \u001b[0m__call__\u001b[0m\u001b[0;34m(\u001b[0m\u001b[0mself\u001b[0m\u001b[0;34m,\u001b[0m \u001b[0;34m*\u001b[0m\u001b[0margs\u001b[0m\u001b[0;34m,\u001b[0m \u001b[0;34m**\u001b[0m\u001b[0mkwargs\u001b[0m\u001b[0;34m)\u001b[0m\u001b[0;34m:\u001b[0m\u001b[0;34m\u001b[0m\u001b[0;34m\u001b[0m\u001b[0m\n\u001b[1;32m    210\u001b[0m         \u001b[0;32mwith\u001b[0m \u001b[0mconfig_context\u001b[0m\u001b[0;34m(\u001b[0m\u001b[0;34m**\u001b[0m\u001b[0mself\u001b[0m\u001b[0;34m.\u001b[0m\u001b[0mconfig\u001b[0m\u001b[0;34m)\u001b[0m\u001b[0;34m:\u001b[0m\u001b[0;34m\u001b[0m\u001b[0;34m\u001b[0m\u001b[0m\n\u001b[0;32m--> 211\u001b[0;31m             \u001b[0;32mreturn\u001b[0m \u001b[0mself\u001b[0m\u001b[0;34m.\u001b[0m\u001b[0mfunction\u001b[0m\u001b[0;34m(\u001b[0m\u001b[0;34m*\u001b[0m\u001b[0margs\u001b[0m\u001b[0;34m,\u001b[0m \u001b[0;34m**\u001b[0m\u001b[0mkwargs\u001b[0m\u001b[0;34m)\u001b[0m\u001b[0;34m\u001b[0m\u001b[0;34m\u001b[0m\u001b[0m\n\u001b[0m\u001b[1;32m    212\u001b[0m \u001b[0;34m\u001b[0m\u001b[0m\n\u001b[1;32m    213\u001b[0m \u001b[0;34m\u001b[0m\u001b[0m\n",
      "\u001b[0;32m/opt/anaconda3/lib/python3.8/site-packages/sklearn/linear_model/_coordinate_descent.py\u001b[0m in \u001b[0;36m_path_residuals\u001b[0;34m(X, y, sample_weight, train, test, normalize, fit_intercept, path, path_params, alphas, l1_ratio, X_order, dtype)\u001b[0m\n\u001b[1;32m   1401\u001b[0m     \u001b[0;31m# X is copied and a reference is kept here\u001b[0m\u001b[0;34m\u001b[0m\u001b[0;34m\u001b[0m\u001b[0;34m\u001b[0m\u001b[0m\n\u001b[1;32m   1402\u001b[0m     \u001b[0mX_train\u001b[0m \u001b[0;34m=\u001b[0m \u001b[0mcheck_array\u001b[0m\u001b[0;34m(\u001b[0m\u001b[0mX_train\u001b[0m\u001b[0;34m,\u001b[0m \u001b[0maccept_sparse\u001b[0m\u001b[0;34m=\u001b[0m\u001b[0;34m\"csc\"\u001b[0m\u001b[0;34m,\u001b[0m \u001b[0mdtype\u001b[0m\u001b[0;34m=\u001b[0m\u001b[0mdtype\u001b[0m\u001b[0;34m,\u001b[0m \u001b[0morder\u001b[0m\u001b[0;34m=\u001b[0m\u001b[0mX_order\u001b[0m\u001b[0;34m)\u001b[0m\u001b[0;34m\u001b[0m\u001b[0;34m\u001b[0m\u001b[0m\n\u001b[0;32m-> 1403\u001b[0;31m     \u001b[0malphas\u001b[0m\u001b[0;34m,\u001b[0m \u001b[0mcoefs\u001b[0m\u001b[0;34m,\u001b[0m \u001b[0m_\u001b[0m \u001b[0;34m=\u001b[0m \u001b[0mpath\u001b[0m\u001b[0;34m(\u001b[0m\u001b[0mX_train\u001b[0m\u001b[0;34m,\u001b[0m \u001b[0my_train\u001b[0m\u001b[0;34m,\u001b[0m \u001b[0;34m**\u001b[0m\u001b[0mpath_params\u001b[0m\u001b[0;34m)\u001b[0m\u001b[0;34m\u001b[0m\u001b[0;34m\u001b[0m\u001b[0m\n\u001b[0m\u001b[1;32m   1404\u001b[0m     \u001b[0;32mdel\u001b[0m \u001b[0mX_train\u001b[0m\u001b[0;34m,\u001b[0m \u001b[0my_train\u001b[0m\u001b[0;34m\u001b[0m\u001b[0;34m\u001b[0m\u001b[0m\n\u001b[1;32m   1405\u001b[0m \u001b[0;34m\u001b[0m\u001b[0m\n",
      "\u001b[0;32m/opt/anaconda3/lib/python3.8/site-packages/sklearn/linear_model/_coordinate_descent.py\u001b[0m in \u001b[0;36mlasso_path\u001b[0;34m(X, y, eps, n_alphas, alphas, precompute, Xy, copy_X, coef_init, verbose, return_n_iter, positive, **params)\u001b[0m\n\u001b[1;32m    347\u001b[0m      [0.2159048  0.4425765  0.23668876]]\n\u001b[1;32m    348\u001b[0m     \"\"\"\n\u001b[0;32m--> 349\u001b[0;31m     return enet_path(\n\u001b[0m\u001b[1;32m    350\u001b[0m         \u001b[0mX\u001b[0m\u001b[0;34m,\u001b[0m\u001b[0;34m\u001b[0m\u001b[0;34m\u001b[0m\u001b[0m\n\u001b[1;32m    351\u001b[0m         \u001b[0my\u001b[0m\u001b[0;34m,\u001b[0m\u001b[0;34m\u001b[0m\u001b[0;34m\u001b[0m\u001b[0m\n",
      "\u001b[0;32m/opt/anaconda3/lib/python3.8/site-packages/sklearn/linear_model/_coordinate_descent.py\u001b[0m in \u001b[0;36menet_path\u001b[0;34m(X, y, l1_ratio, eps, n_alphas, alphas, precompute, Xy, copy_X, coef_init, verbose, return_n_iter, positive, check_input, **params)\u001b[0m\n\u001b[1;32m    631\u001b[0m             \u001b[0;32mif\u001b[0m \u001b[0mcheck_input\u001b[0m\u001b[0;34m:\u001b[0m\u001b[0;34m\u001b[0m\u001b[0;34m\u001b[0m\u001b[0m\n\u001b[1;32m    632\u001b[0m                 \u001b[0mprecompute\u001b[0m \u001b[0;34m=\u001b[0m \u001b[0mcheck_array\u001b[0m\u001b[0;34m(\u001b[0m\u001b[0mprecompute\u001b[0m\u001b[0;34m,\u001b[0m \u001b[0mdtype\u001b[0m\u001b[0;34m=\u001b[0m\u001b[0mX\u001b[0m\u001b[0;34m.\u001b[0m\u001b[0mdtype\u001b[0m\u001b[0;34m.\u001b[0m\u001b[0mtype\u001b[0m\u001b[0;34m,\u001b[0m \u001b[0morder\u001b[0m\u001b[0;34m=\u001b[0m\u001b[0;34m\"C\"\u001b[0m\u001b[0;34m)\u001b[0m\u001b[0;34m\u001b[0m\u001b[0;34m\u001b[0m\u001b[0m\n\u001b[0;32m--> 633\u001b[0;31m             model = cd_fast.enet_coordinate_descent_gram(\n\u001b[0m\u001b[1;32m    634\u001b[0m                 \u001b[0mcoef_\u001b[0m\u001b[0;34m,\u001b[0m\u001b[0;34m\u001b[0m\u001b[0;34m\u001b[0m\u001b[0m\n\u001b[1;32m    635\u001b[0m                 \u001b[0ml1_reg\u001b[0m\u001b[0;34m,\u001b[0m\u001b[0;34m\u001b[0m\u001b[0;34m\u001b[0m\u001b[0m\n",
      "\u001b[0;32msklearn/linear_model/_cd_fast.pyx\u001b[0m in \u001b[0;36msklearn.linear_model._cd_fast.enet_coordinate_descent_gram\u001b[0;34m()\u001b[0m\n",
      "\u001b[0;32m/opt/anaconda3/lib/python3.8/site-packages/numpy/core/_asarray.py\u001b[0m in \u001b[0;36masarray\u001b[0;34m(a, dtype, order, like)\u001b[0m\n\u001b[1;32m     21\u001b[0m \u001b[0;34m\u001b[0m\u001b[0m\n\u001b[1;32m     22\u001b[0m \u001b[0;34m\u001b[0m\u001b[0m\n\u001b[0;32m---> 23\u001b[0;31m \u001b[0;34m@\u001b[0m\u001b[0mset_array_function_like_doc\u001b[0m\u001b[0;34m\u001b[0m\u001b[0;34m\u001b[0m\u001b[0m\n\u001b[0m\u001b[1;32m     24\u001b[0m \u001b[0;34m@\u001b[0m\u001b[0mset_module\u001b[0m\u001b[0;34m(\u001b[0m\u001b[0;34m'numpy'\u001b[0m\u001b[0;34m)\u001b[0m\u001b[0;34m\u001b[0m\u001b[0;34m\u001b[0m\u001b[0m\n\u001b[1;32m     25\u001b[0m \u001b[0;32mdef\u001b[0m \u001b[0masarray\u001b[0m\u001b[0;34m(\u001b[0m\u001b[0ma\u001b[0m\u001b[0;34m,\u001b[0m \u001b[0mdtype\u001b[0m\u001b[0;34m=\u001b[0m\u001b[0;32mNone\u001b[0m\u001b[0;34m,\u001b[0m \u001b[0morder\u001b[0m\u001b[0;34m=\u001b[0m\u001b[0;32mNone\u001b[0m\u001b[0;34m,\u001b[0m \u001b[0;34m*\u001b[0m\u001b[0;34m,\u001b[0m \u001b[0mlike\u001b[0m\u001b[0;34m=\u001b[0m\u001b[0;32mNone\u001b[0m\u001b[0;34m)\u001b[0m\u001b[0;34m:\u001b[0m\u001b[0;34m\u001b[0m\u001b[0;34m\u001b[0m\u001b[0m\n",
      "\u001b[0;31mKeyboardInterrupt\u001b[0m: "
     ]
    }
   ],
   "source": [
    "TrueEstimate = 0.5\n",
    "sim_num_features = 100\n",
    "\n",
    "sim_iter = 100\n",
    "sim_ols_estimate = []\n",
    "sim_lss_estimate = []\n",
    "sim_hdm_estimate = []\n",
    "\n",
    "for r in range(sim_iter):\n",
    "    df = generate_data_select(te=TrueEstimate, num_features=sim_num_features)\n",
    "\n",
    "    a = ols_stat(df, [x for x in df.columns if 'x' in x] + ['W'], 'Y')\n",
    "    sim_ols_estimate.append(a[0]-TrueEstimate)\n",
    "    b = lasso_stat(df, [x for x in df.columns if 'x' in x] + ['W'], 'Y')\n",
    "    sim_lss_estimate.append(b - TrueEstimate)\n",
    "        \n",
    "    hdm_output = st.diagnostics.selection.hdm_selection(df, \n",
    "                                [x for x in df.columns if 'x' in x], 'Y', 'W')\n",
    "    hdm_selected_features=list(set(hdm_output[0][0]+hdm_output[0][1]))\n",
    "    a = ols_stat(df, hdm_selected_features + ['W'], 'Y')\n",
    "    sim_hdm_estimate.append(a[0]-TrueEstimate)    "
   ]
  },
  {
   "cell_type": "code",
   "execution_count": 115,
   "metadata": {},
   "outputs": [
    {
     "data": {
      "image/png": "[encoded data removed]",
      "text/plain": [
       "<Figure size 504x504 with 1 Axes>"
      ]
     },
     "metadata": {},
     "output_type": "display_data"
    }
   ],
   "source": [
    "fig,ax = plt.subplots(ncols=1, nrows=1, figsize=(7,7))\n",
    "ax.hist(sim_ols_estimate, density=False, alpha=0.25, color='aqua', label='OLS')\n",
    "ax.hist(sim_lss_estimate, density=False, alpha=0.25, color='magenta', label='CV Lasso')\n",
    "ax.hist(sim_hdm_estimate, density=False, alpha=0.25, color='red', label='HDM OLS/Lasso')\n",
    "ax.plot([0,0], [0,20], color='black')\n",
    "ax.legend()\n",
    "ax.grid()\n",
    "fig.set_facecolor('white')"
   ]
  },
  {
   "cell_type": "markdown",
   "metadata": {},
   "source": [
    "## 4. Bad control\n",
    "1. Control for an intermediate outcome that also influences the final outcome\n",
    "2. Control for another outcome "
   ]
  },
  {
   "cell_type": "code",
   "execution_count": 78,
   "metadata": {},
   "outputs": [
    {
     "name": "stdout",
     "output_type": "stream",
     "text": [
      "treatment    0    1\n",
      "R1                 \n",
      "False      264  131\n",
      "True       223  382\n",
      "Correct Specification\n",
      "  60.840[1.202]\n",
      "Control for intermediate outcome\n",
      "  50.406[0.196]\n"
     ]
    }
   ],
   "source": [
    "'''\n",
    "1. Control for intermediate outcome\n",
    "'''\n",
    "## Create other outcomes\n",
    "TrueEstimate = 50\n",
    "df = generate_data(te=TrueEstimate)\n",
    "\n",
    "## Create a second outcome that depends on similar features as 'Y'\n",
    "## Suppose this second outcome is the longer-term outcome of interest\n",
    "df['R1'] = ( 2*np.sin(df['x1']) + df['treatment'] + np.random.normal(0,1,len(df)) ) > 0\n",
    "print(pd.crosstab(df['R1'], df['treatment']))\n",
    "df['Y_2nd'] = df['Y'] + TrueEstimate * df['R1'] \n",
    "\n",
    "\n",
    "\n",
    "print('Correct Specification')\n",
    "a = st.ate.dml.dml_plm(df, \n",
    "                split_name, feature_list , 'Y_2nd', treatment_name,\n",
    "                RandomForestRegressor(n_estimators=200, random_state=27),\n",
    "                RandomForestClassifier(n_estimators=200, random_state=27),\n",
    "               n_data_splits,\n",
    "               aux_dict)\n",
    "print('  {0:5.3f}[{1:5.3f}]'.format(a['ATE TE'], a['ATE SE']))\n",
    "# print('  True Value: {0:5.3f}'.format(TrueEstimate))\n",
    "\n",
    "\n",
    "print('Control for intermediate outcome')\n",
    "a = st.ate.dml.dml_plm(df, \n",
    "                split_name, feature_list + ['R1'] , 'Y_2nd', treatment_name,\n",
    "                RandomForestRegressor(n_estimators=200, random_state=27),\n",
    "                RandomForestClassifier(n_estimators=200, random_state=27),\n",
    "               n_data_splits,\n",
    "               aux_dict)\n",
    "print('  {0:5.3f}[{1:5.3f}]'.format(a['ATE TE'], a['ATE SE']))\n",
    "# print('  True Value: {0:5.3f}'.format(TrueEstimate))\n"
   ]
  },
  {
   "cell_type": "code",
   "execution_count": 32,
   "metadata": {},
   "outputs": [],
   "source": [
    "# '''\n",
    "# 1. Control for another outcome\n",
    "# '''\n",
    "\n",
    "# x = np.random.uniform(0,1, 1000)\n",
    "# e = np.random.normal(0,1, 1000)\n",
    "# u = np.random.normal(0,1, 1000)\n",
    "\n",
    "# y = x + e\n",
    "# s1 = x**2 + np.sin(x) + u\n",
    "# s2 = x**2 + x + e + u\n",
    "\n",
    "# df = pd.DataFrame(data={'x':x,'y':y,'e':e,'u':u,'s1':s1,'s2':s2})\n",
    "\n",
    "# X = sm.add_constant(df['x'])\n",
    "# ols = sm.OLS( df['y'] , X ).fit()\n",
    "# print('Correct Result:')\n",
    "# print(' {0:5.3f}  [{1:5.3}]'.format(ols.params['x'], ols.bse['x']))\n",
    "\n",
    "# X = sm.add_constant(df[['x','e']])\n",
    "# ols = sm.OLS( df['y'] , X ).fit()\n",
    "# print('Wrong Result control for a highly correlated outcome:')\n",
    "# print(' {0:5.3f}  [{1:5.3}]'.format(ols.params['x'], ols.bse['x']))\n",
    "\n",
    "# X = sm.add_constant(df[['x','e','u']])\n",
    "# ols = sm.OLS( df['y'] , X ).fit()\n",
    "# print('Wrong Result control for a co-determined outcome:')\n",
    "# print(' {0:5.3f}  [{1:5.3}]'.format(ols.params['x'], ols.bse['x']))\n"
   ]
  },
  {
   "cell_type": "code",
   "execution_count": 79,
   "metadata": {},
   "outputs": [],
   "source": [
    "## Create other outcomes\n",
    "TrueEstimate = 50\n",
    "df = generate_data(te=TrueEstimate)\n",
    "\n",
    "## Outcome is independent\n",
    "df['S_0'] = 0.25*df['x1'] - 0.15*df['x2'] + np.random.normal(0,1,len(df))\n",
    "\n",
    "## Outcome is highly correlated with error in Y\n",
    "df['S_1'] = df['YError']  + np.random.normal(0,1,len(df))\n",
    "\n",
    "## Outcome is basically Y\n",
    "df['S_2'] = df['Y'] + np.random.normal(0,1,len(df))\n",
    "\n",
    "## Outcome is highly correlated with error in T\n",
    "df['S_3'] = df['TError'] + np.random.normal(0,1,len(df))\n"
   ]
  },
  {
   "cell_type": "code",
   "execution_count": 82,
   "metadata": {},
   "outputs": [
    {
     "name": "stdout",
     "output_type": "stream",
     "text": [
      "Correct Specification\n",
      "  50.259[0.163]\n",
      "  True Value: 50.000\n",
      "Control for independent\n",
      "  50.468[0.230]\n",
      "  True Value: 50.000\n",
      "Control for high corr with Y~e\n",
      "  50.781[0.232]\n",
      "  True Value: 50.000\n",
      "Control for Y transform\n",
      "  -2.973[1.030]\n",
      "  True Value: 50.000\n",
      "Control for high corr with T~e\n",
      "  50.415[0.224]\n",
      "  True Value: 50.000\n"
     ]
    }
   ],
   "source": [
    "\n",
    "print('Correct Specification')\n",
    "a = st.ate.dml.dml_plm(df, \n",
    "                split_name, feature_list , outcome_name, treatment_name,\n",
    "                RandomForestRegressor(n_estimators=200, random_state=27),\n",
    "                RandomForestClassifier(n_estimators=200, random_state=27),\n",
    "               n_data_splits,\n",
    "               aux_dict)\n",
    "print('  {0:5.3f}[{1:5.3f}]'.format(a['ATE TE'], a['ATE SE']))\n",
    "print('  True Value: {0:5.3f}'.format(TrueEstimate))\n",
    "\n",
    "for i, name in zip(['S_0','S_1','S_2','S_3'],['independent','high corr with Y~e','Y transform','high corr with T~e']):\n",
    "    print('Control for {0}'.format(name))\n",
    "    a = st.ate.dml.dml_plm(df, \n",
    "                    split_name, feature_list + [i], outcome_name, treatment_name,\n",
    "                    RandomForestRegressor(n_estimators=200, random_state=27),\n",
    "                    RandomForestClassifier(n_estimators=200, random_state=27),\n",
    "                   n_data_splits,\n",
    "                   aux_dict)\n",
    "    print('  {0:5.3f}[{1:5.3f}]'.format(a['ATE TE'], a['ATE SE']))\n",
    "    print('  True Value: {0:5.3f}'.format(TrueEstimate))\n",
    "\n",
    "\n"
   ]
  },
  {
   "cell_type": "code",
   "execution_count": null,
   "metadata": {},
   "outputs": [],
   "source": []
  }
 ],
 "metadata": {
  "kernelspec": {
   "display_name": "Python 3",
   "language": "python",
   "name": "python3"
  },
  "language_info": {
   "codemirror_mode": {
    "name": "ipython",
    "version": 3
   },
   "file_extension": ".py",
   "mimetype": "text/x-python",
   "name": "python",
   "nbconvert_exporter": "python",
   "pygments_lexer": "ipython3",
   "version": "3.8.5"
  }
 },
 "nbformat": 4,
 "nbformat_minor": 4
}
