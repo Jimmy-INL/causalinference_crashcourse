{
 "cells": [
  {
   "cell_type": "markdown",
   "metadata": {},
   "source": [
    "# Best Practices\n",
    "Julian Hsu\n",
    "\n",
    "Simulated evidence for different ways to deal with various practical issues.\n",
    "\n",
    "1. Outliers in $X_i$ and $Y_i$\n",
    "2. Class imbalance in training propensity scores\n",
    "3. Feature Selection\n",
    "4. Bad control\n"
   ]
  },
  {
   "cell_type": "code",
   "execution_count": 7,
   "metadata": {},
   "outputs": [],
   "source": [
    "import pandas as pd\n",
    "import numpy as np\n",
    "import os as os \n",
    "\n",
    "from matplotlib import gridspec\n",
    "import matplotlib.pyplot as plt\n",
    "%matplotlib inline  \n",
    "\n",
    "import statsmodels.api as sm\n",
    "import statsmodels.formula.api as smf\n",
    "from statsmodels.discrete.conditional_models import ConditionalLogit\n",
    "\n",
    "from IPython.display import display    \n",
    "\n",
    "\n",
    "import scipy.stats \n",
    "\n",
    "from sklearn.linear_model import LogisticRegression, LinearRegression, Lasso, Ridge, LassoCV, LogisticRegressionCV\n",
    "from sklearn.ensemble import RandomForestRegressor, RandomForestClassifier\n",
    "from sklearn.neural_network import MLPRegressor, MLPClassifier\n",
    "from sklearn.metrics import mean_squared_error\n"
   ]
  },
  {
   "cell_type": "code",
   "execution_count": 8,
   "metadata": {},
   "outputs": [],
   "source": [
    "import stnomics as st"
   ]
  },
  {
   "cell_type": "code",
   "execution_count": 9,
   "metadata": {},
   "outputs": [],
   "source": [
    "## Write a function to write simulated data\n",
    "def generate_data_skewed(te=100):\n",
    "    N = 1000\n",
    "    x1 = np.random.lognormal(0,3, N)\n",
    "    x2 = np.random.lognormal(0,3, N)\n",
    "\n",
    "    treatment_latent = 10*(x2-0.5)**2 + 10*x1\n",
    "    m,s = np.average(treatment_latent), np.std(treatment_latent)\n",
    "    treatment_latent = (treatment_latent - m) / s\n",
    "    \n",
    "    random_t = np.random.normal(0,1,N)\n",
    "    \n",
    "    treatment_latent += random_t\n",
    "    \n",
    "    treatment = np.array( np.exp(treatment_latent) / (1+ np.exp(treatment_latent)) > np.random.uniform(0,1,N) ).astype(np.int32)\n",
    "\n",
    "    Y = 100 +1.5*x1 + 6*x2\n",
    "    random_y = np.random.uniform(0,10,N)\n",
    "\n",
    "    GT = te\n",
    "    Y += GT*(treatment==1) \n",
    "    \n",
    "    df_est = pd.DataFrame({'x1':x1, 'x2':x2,'treatment':treatment, 'Y':Y, 'GT':GT} )\n",
    "   \n",
    "    return df_est"
   ]
  },
  {
   "cell_type": "code",
   "execution_count": 10,
   "metadata": {},
   "outputs": [],
   "source": [
    "## Write a function to write simulated data\n",
    "def generate_data(te=100):\n",
    "    N = 1000\n",
    "    x1 = np.random.normal(0,1, N)\n",
    "    x2 = np.random.normal(0,1, N)\n",
    "\n",
    "    treatment_latent = 10*(x2-0.5)**2 + 10*x1\n",
    "    m,s = np.average(treatment_latent), np.std(treatment_latent)\n",
    "    treatment_latent = (treatment_latent - m) / s\n",
    "    \n",
    "    random_t = np.random.normal(0,1,N)\n",
    "    \n",
    "    treatment_latent += random_t\n",
    "    \n",
    "    treatment = np.array( np.exp(treatment_latent) / (1+ np.exp(treatment_latent)) > np.random.uniform(0,1,N) ).astype(np.int32)\n",
    "\n",
    "    Y = 100 +1.5*x1 + 6*x2\n",
    "\n",
    "    random_y = np.random.uniform(0,10,N)\n",
    "\n",
    "    GT = te\n",
    "    Y += GT*(treatment==1) \n",
    "    \n",
    "    df_est = pd.DataFrame({'x1':x1, 'x2':x2,'treatment':treatment, 'Y':Y, 'YError':random_y, 'TError':random_t, 'GT':GT} )\n",
    "   \n",
    "    return df_est"
   ]
  },
  {
   "cell_type": "markdown",
   "metadata": {},
   "source": [
    "## 1. Outliers in $X_i$ and $Y_i$\n",
    "\n",
    "We consider three different situations, and how they can influence the average treatment effect:\n",
    "-  Outlier value in $Y_i$ due to an outlier value of $X_i$.\n",
    "-  Outlier value in $Y_i$ due to an idiosyncratic error"
   ]
  },
  {
   "cell_type": "markdown",
   "metadata": {},
   "source": [
    "### 1(a). Outlier value in $Y_i$ due to an outlier value of $X_i$."
   ]
  },
  {
   "cell_type": "code",
   "execution_count": 11,
   "metadata": {},
   "outputs": [],
   "source": [
    "## Outlier value in X resulting in an outlier value in Y\n",
    "TrueEstimate = 50\n",
    "df = generate_data_skewed(te=TrueEstimate)\n",
    "df.describe().T\n",
    "\n",
    "outlier_row = pd.DataFrame(index=[2000,2001] , \n",
    "                                 data={'x1': [150, 350],\n",
    "                                       'x2': [150, 350],'treatment': [1,0] } )\n",
    "\n",
    "## Predict the outcome \n",
    "rf_fit = LinearRegression().fit(df[['x1','x2']], df['Y'])\n",
    "outlier_row['Y'] = rf_fit.predict(outlier_row[['x1','x2']]) + outlier_row['treatment']*10\n",
    "outlier_row['treatment'] = np.ones(2)"
   ]
  },
  {
   "cell_type": "code",
   "execution_count": 12,
   "metadata": {},
   "outputs": [],
   "source": [
    "# display(df.describe().T)\n",
    "# display(outlier_row.describe().T)"
   ]
  },
  {
   "cell_type": "code",
   "execution_count": 13,
   "metadata": {},
   "outputs": [
    {
     "data": {
      "text/html": [
       "<div>\n",
       "<style scoped>\n",
       "    .dataframe tbody tr th:only-of-type {\n",
       "        vertical-align: middle;\n",
       "    }\n",
       "\n",
       "    .dataframe tbody tr th {\n",
       "        vertical-align: top;\n",
       "    }\n",
       "\n",
       "    .dataframe thead th {\n",
       "        text-align: right;\n",
       "    }\n",
       "</style>\n",
       "<table border=\"1\" class=\"dataframe\">\n",
       "  <thead>\n",
       "    <tr style=\"text-align: right;\">\n",
       "      <th></th>\n",
       "      <th>Y</th>\n",
       "      <th>x1</th>\n",
       "      <th>x2</th>\n",
       "    </tr>\n",
       "  </thead>\n",
       "  <tbody>\n",
       "    <tr>\n",
       "      <th>count</th>\n",
       "      <td>1.000000e+03</td>\n",
       "      <td>1000.000000</td>\n",
       "      <td>1000.000000</td>\n",
       "    </tr>\n",
       "    <tr>\n",
       "      <th>mean</th>\n",
       "      <td>1.519028e+03</td>\n",
       "      <td>67.934921</td>\n",
       "      <td>215.245899</td>\n",
       "    </tr>\n",
       "    <tr>\n",
       "      <th>std</th>\n",
       "      <td>3.325320e+04</td>\n",
       "      <td>841.357154</td>\n",
       "      <td>5538.504662</td>\n",
       "    </tr>\n",
       "    <tr>\n",
       "      <th>min</th>\n",
       "      <td>1.000357e+02</td>\n",
       "      <td>0.000265</td>\n",
       "      <td>0.000052</td>\n",
       "    </tr>\n",
       "    <tr>\n",
       "      <th>50%</th>\n",
       "      <td>1.579374e+02</td>\n",
       "      <td>1.097190</td>\n",
       "      <td>0.931964</td>\n",
       "    </tr>\n",
       "    <tr>\n",
       "      <th>90%</th>\n",
       "      <td>5.710730e+02</td>\n",
       "      <td>51.776456</td>\n",
       "      <td>45.555301</td>\n",
       "    </tr>\n",
       "    <tr>\n",
       "      <th>92.5%</th>\n",
       "      <td>7.175451e+02</td>\n",
       "      <td>72.491152</td>\n",
       "      <td>72.959556</td>\n",
       "    </tr>\n",
       "    <tr>\n",
       "      <th>95%</th>\n",
       "      <td>1.166133e+03</td>\n",
       "      <td>111.998922</td>\n",
       "      <td>107.791182</td>\n",
       "    </tr>\n",
       "    <tr>\n",
       "      <th>97.5%</th>\n",
       "      <td>2.530790e+03</td>\n",
       "      <td>279.924270</td>\n",
       "      <td>305.807134</td>\n",
       "    </tr>\n",
       "    <tr>\n",
       "      <th>max</th>\n",
       "      <td>1.049643e+06</td>\n",
       "      <td>25389.851897</td>\n",
       "      <td>174914.946009</td>\n",
       "    </tr>\n",
       "  </tbody>\n",
       "</table>\n",
       "</div>"
      ],
      "text/plain": [
       "                  Y            x1             x2\n",
       "count  1.000000e+03   1000.000000    1000.000000\n",
       "mean   1.519028e+03     67.934921     215.245899\n",
       "std    3.325320e+04    841.357154    5538.504662\n",
       "min    1.000357e+02      0.000265       0.000052\n",
       "50%    1.579374e+02      1.097190       0.931964\n",
       "90%    5.710730e+02     51.776456      45.555301\n",
       "92.5%  7.175451e+02     72.491152      72.959556\n",
       "95%    1.166133e+03    111.998922     107.791182\n",
       "97.5%  2.530790e+03    279.924270     305.807134\n",
       "max    1.049643e+06  25389.851897  174914.946009"
      ]
     },
     "metadata": {},
     "output_type": "display_data"
    },
    {
     "data": {
      "image/png": "[encoded data removed]",
      "text/plain": [
       "<Figure size 1440x720 with 3 Axes>"
      ]
     },
     "metadata": {},
     "output_type": "display_data"
    }
   ],
   "source": [
    "display(df[['Y','x1','x2']].describe(percentiles=np.arange(0.90,1,0.025))  )\n",
    "\n",
    "fig,ax = plt.subplots(ncols=1,nrows=3, figsize=(20,10))\n",
    "ax[0].hist(df['Y'], bins=50, density=False, alpha=0.25, color='magenta')\n",
    "ax[0].set_title('Y')\n",
    "ax[1].hist(df['x1'], bins=50, density=False, alpha=0.25, color='green')\n",
    "ax[1].set_title('x1')\n",
    "ax[2].hist(df['x2'], bins=50, density=False, alpha=0.25, color='blue')\n",
    "ax[2].set_title('x2')\n",
    "fig.set_facecolor('white')"
   ]
  },
  {
   "cell_type": "code",
   "execution_count": null,
   "metadata": {},
   "outputs": [],
   "source": []
  },
  {
   "cell_type": "code",
   "execution_count": 14,
   "metadata": {},
   "outputs": [],
   "source": [
    "feature_list = ['x1','x2']\n",
    "outcome_name = 'Y'\n",
    "treatment_name = 'treatment'\n",
    "split_name= 'splits'\n",
    "n_data_splits = 4\n",
    "aux_dict = {'lower':0, 'upper':1}"
   ]
  },
  {
   "cell_type": "code",
   "execution_count": 17,
   "metadata": {},
   "outputs": [
    {
     "name": "stdout",
     "output_type": "stream",
     "text": [
      "Estimate without modification\n",
      "  2915.449[1879.018]\n",
      "  True Value: 50.000\n"
     ]
    }
   ],
   "source": [
    "print('Estimate without modification')\n",
    "a = st.ate.dml.dml_plm(df, \n",
    "                split_name, feature_list, outcome_name, treatment_name,\n",
    "                RandomForestRegressor(n_estimators=200, random_state=27),\n",
    "                RandomForestClassifier(n_estimators=200, random_state=27),\n",
    "               n_data_splits,\n",
    "               aux_dict)\n",
    "\n",
    "print('  {0:5.3f}[{1:5.3f}]'.format(a['ATE TE'], a['ATE SE']))\n",
    "print('  True Value: {0:5.3f}'.format(TrueEstimate))"
   ]
  },
  {
   "cell_type": "code",
   "execution_count": 18,
   "metadata": {},
   "outputs": [
    {
     "name": "stdout",
     "output_type": "stream",
     "text": [
      "Estimate with logged independent features\n",
      "  2915.391[1877.624]\n",
      "  True Value: 50.000\n"
     ]
    }
   ],
   "source": [
    "print('Estimate with logged independent features')\n",
    "\n",
    "feature_list_log = []\n",
    "for p in feature_list:\n",
    "    df[p+'_log'] = np.log(1+df[p])\n",
    "    feature_list_log.append(p+'_log')\n",
    "    \n",
    "a = st.ate.dml.dml_plm(df, \n",
    "                split_name, feature_list_log, outcome_name, treatment_name,\n",
    "                RandomForestRegressor(n_estimators=200, random_state=27),\n",
    "                RandomForestClassifier(n_estimators=200, random_state=27),\n",
    "               n_data_splits,\n",
    "               aux_dict)\n",
    "\n",
    "print('  {0:5.3f}[{1:5.3f}]'.format(a['ATE TE'], a['ATE SE']))\n",
    "print('  True Value: {0:5.3f}'.format(TrueEstimate))"
   ]
  },
  {
   "cell_type": "code",
   "execution_count": 19,
   "metadata": {},
   "outputs": [
    {
     "name": "stdout",
     "output_type": "stream",
     "text": [
      "Estimate including indicators of feature values above 95.0%\n",
      "  2883.637[1877.008]\n",
      "  True Value: 50.000\n",
      "Estimate including indicators of feature values above 95.0% and interactions with top 95.0% values\n",
      "  2662.307[1871.718]\n",
      "  True Value: 50.000\n",
      "Estimate including indicators of feature values above 95.0% and logged features\n",
      "  2886.042[1876.235]\n",
      "  True Value: 50.000\n",
      "Estimate including indicators of feature values above 95.0% with logged features and interactions with top 95.0%\n",
      "  2668.382[1871.398]\n",
      "  True Value: 50.000\n"
     ]
    }
   ],
   "source": [
    "tp_value = 0.95\n",
    "print('Estimate including indicators of feature values above {0}%'.format(tp_value*100))\n",
    "feature_list_top95 = []\n",
    "for p in feature_list:\n",
    "    df[p+'_tp'] = (df[p]>=df[p].quantile(tp_value))\n",
    "    feature_list_top95.append(p+'_tp')\n",
    "\n",
    "feature_list_top95_X = []\n",
    "for p in feature_list:\n",
    "    df[p+'_tp_X'] = (df[p]>=df[p].quantile(tp_value))*df[p]\n",
    "    feature_list_top95_X.append(p+'_tp_X')\n",
    "\n",
    "a = st.ate.dml.dml_plm(df, \n",
    "                split_name, feature_list+feature_list_top95, outcome_name, treatment_name,\n",
    "                RandomForestRegressor(n_estimators=200, random_state=27),\n",
    "                RandomForestClassifier(n_estimators=200, random_state=27),\n",
    "               n_data_splits,\n",
    "               aux_dict)   \n",
    "print('  {0:5.3f}[{1:5.3f}]'.format(a['ATE TE'], a['ATE SE']))\n",
    "print('  True Value: {0:5.3f}'.format(TrueEstimate))\n",
    "\n",
    "\n",
    "print('Estimate including indicators of feature values above {0}% and interactions with top {0}% values'.format(tp_value*100))\n",
    "    \n",
    "a = st.ate.dml.dml_plm(df, \n",
    "                split_name, feature_list+feature_list_top95+feature_list_top95_X, outcome_name, treatment_name,\n",
    "                RandomForestRegressor(n_estimators=200, random_state=27),\n",
    "                RandomForestClassifier(n_estimators=200, random_state=27),\n",
    "               n_data_splits,\n",
    "               aux_dict)   \n",
    "print('  {0:5.3f}[{1:5.3f}]'.format(a['ATE TE'], a['ATE SE']))\n",
    "print('  True Value: {0:5.3f}'.format(TrueEstimate))\n",
    "\n",
    "\n",
    "print('Estimate including indicators of feature values above {0}% and logged features'.format(tp_value*100))\n",
    "feature_list_top95_X_log = []\n",
    "for p in feature_list:\n",
    "    df[p+'_tp_X_log'] = (df[p]>=df[p].quantile(tp_value))*np.log(1+df[p])\n",
    "    feature_list_top95_X_log.append(p+'_tp_X_log')\n",
    "\n",
    "a = st.ate.dml.dml_plm(df, \n",
    "                split_name, feature_list_log+feature_list_top95, outcome_name, treatment_name,\n",
    "                RandomForestRegressor(n_estimators=200, random_state=27),\n",
    "                RandomForestClassifier(n_estimators=200, random_state=27),\n",
    "               n_data_splits,\n",
    "               aux_dict)   \n",
    "print('  {0:5.3f}[{1:5.3f}]'.format(a['ATE TE'], a['ATE SE']))\n",
    "print('  True Value: {0:5.3f}'.format(TrueEstimate))\n",
    "\n",
    "print('Estimate including indicators of feature values above {0}% with logged features and interactions with top {0}%'.format(tp_value*100))\n",
    "a = st.ate.dml.dml_plm(df, \n",
    "                split_name, feature_list_log+feature_list_top95+feature_list_top95_X_log, outcome_name, treatment_name,\n",
    "                RandomForestRegressor(n_estimators=200, random_state=27),\n",
    "                RandomForestClassifier(n_estimators=200, random_state=27),\n",
    "               n_data_splits,\n",
    "               aux_dict)   \n",
    "print('  {0:5.3f}[{1:5.3f}]'.format(a['ATE TE'], a['ATE SE']))\n",
    "print('  True Value: {0:5.3f}'.format(TrueEstimate))\n",
    "\n"
   ]
  },
  {
   "cell_type": "code",
   "execution_count": 20,
   "metadata": {},
   "outputs": [
    {
     "name": "stdout",
     "output_type": "stream",
     "text": [
      "Estimate removing outlier outcome values\n"
     ]
    }
   ],
   "source": [
    "print('Estimate removing outlier outcome values of different values of removing the outcome')\n",
    "pd.options.mode.chained_assignment = None  # default='warn'\n",
    "outlier_percentile_cuts = np.round(np.arange(0.90,0.99, 0.005), 3)\n",
    "est_list = []\n",
    "se_list = []\n",
    "pc_value_list = []\n",
    "for p in outlier_percentile_cuts:\n",
    "    pc = df['Y'].quantile(p)\n",
    "    df_tp = df.loc[(df['Y'] < pc)]\n",
    "\n",
    "    a = st.ate.dml.dml_plm(df_tp, \n",
    "                    split_name, feature_list_log+feature_list_top95+feature_list_top95_X, outcome_name, treatment_name,\n",
    "                    RandomForestRegressor(n_estimators=200, random_state=27),\n",
    "                    RandomForestClassifier(n_estimators=200, random_state=27),\n",
    "                   n_data_splits,\n",
    "                   aux_dict)   \n",
    "    est_list.append(a['ATE TE'])\n",
    "    se_list.append(a['ATE SE'])\n",
    "    pc_value_list.append(pc)\n",
    "#     print('  {0:5.3f}[{1:5.3f}]'.format(a[0], a[1]))\n",
    "#     print('  True Value: {0:5.3f}'.format(TrueEstimate))\n"
   ]
  },
  {
   "cell_type": "code",
   "execution_count": 21,
   "metadata": {},
   "outputs": [],
   "source": [
    "est_list = np.array(est_list)\n",
    "se_list  = np.array(se_list)\n",
    "pc_value_list = np.array(pc_value_list)"
   ]
  },
  {
   "cell_type": "code",
   "execution_count": 40,
   "metadata": {},
   "outputs": [
    {
     "data": {
      "image/png": "[encoded data removed]",
      "text/plain": [
       "<Figure size 1080x576 with 2 Axes>"
      ]
     },
     "metadata": {},
     "output_type": "display_data"
    }
   ],
   "source": [
    "fig, ax = plt.subplots(ncols = 2, nrows = 1, figsize=(15,8))\n",
    "ax[0].scatter(outlier_percentile_cuts, est_list , color='darkorange', label='Estimate' )\n",
    "ax[0].vlines(outlier_percentile_cuts, est_list + 1.96*se_list, est_list - 1.96*se_list,  color='darkorange', label='95% CI' )\n",
    "ax[0].plot(outlier_percentile_cuts, [50]*(len(outlier_percentile_cuts)) , color='black' , label='Truth')\n",
    "ax[0].set_ylabel('Estimate')\n",
    "ax[0].set_xlabel('Percentile of Outcome Dataset is Truncated at')\n",
    "ax[0].legend(loc='upper left')\n",
    "ax[0].grid()\n",
    "\n",
    "\n",
    "ax[1].scatter(outlier_percentile_cuts, pc_value_list, color='teal')\n",
    "ax[1].set_ylabel('Value of the Y at that percentile')\n",
    "ax[1].set_xlabel('Percentile of Outcome Dataset is Truncated at')\n",
    "ax[1].grid()\n",
    "fig.suptitle('Estimate given removing data with outlier outcome values')\n",
    "fig.set_facecolor('white')"
   ]
  },
  {
   "cell_type": "code",
   "execution_count": 41,
   "metadata": {},
   "outputs": [
    {
     "name": "stdout",
     "output_type": "stream",
     "text": [
      "Estimate winsorizing outlier outcome values\n"
     ]
    }
   ],
   "source": [
    "print('Estimate winsorizing outlier outcome values')\n",
    "pd.options.mode.chained_assignment = None  # default='warn'\n",
    "outlier_percentile_cuts = np.round(np.arange(0.90,0.99, 0.005), 3)\n",
    "est_list = []\n",
    "se_list = []\n",
    "pc_value_list = []\n",
    "for p in outlier_percentile_cuts:\n",
    "    pc = df['Y'].quantile(p)\n",
    "    df['Y_tp'] = df['Y'].values\n",
    "    df.loc[(df['Y_tp'] >= pc) ,'Y_tp'] = pc\n",
    "\n",
    "\n",
    "    a = st.ate.dml.dml_plm(df, \n",
    "                    split_name, feature_list_log+feature_list_top95+feature_list_top95_X, 'Y_tp', treatment_name,\n",
    "                    RandomForestRegressor(n_estimators=200, random_state=27),\n",
    "                    RandomForestClassifier(n_estimators=200, random_state=27),\n",
    "                   n_data_splits,\n",
    "                   aux_dict)   \n",
    "    est_list.append(a['ATE TE'])\n",
    "    se_list.append(a['ATE SE'])\n",
    "    pc_value_list.append(pc)\n",
    "\n"
   ]
  },
  {
   "cell_type": "code",
   "execution_count": 43,
   "metadata": {},
   "outputs": [],
   "source": [
    "est_list = np.array(est_list)\n",
    "se_list  = np.array(se_list)\n",
    "pc_value_list = np.array(pc_value_list)"
   ]
  },
  {
   "cell_type": "code",
   "execution_count": 45,
   "metadata": {},
   "outputs": [
    {
     "data": {
      "image/png": "[encoded data removed]",
      "text/plain": [
       "<Figure size 1080x576 with 2 Axes>"
      ]
     },
     "metadata": {},
     "output_type": "display_data"
    }
   ],
   "source": [
    "fig, ax = plt.subplots(ncols = 2, nrows = 1, figsize=(15,8))\n",
    "ax[0].scatter(outlier_percentile_cuts, est_list , color='royalblue', label='Estimate' )\n",
    "ax[0].vlines(outlier_percentile_cuts, est_list + 1.96*se_list, est_list - 1.96*se_list,  color='royalblue', label='95% CI' )\n",
    "ax[0].plot(outlier_percentile_cuts, [50]*(len(outlier_percentile_cuts)) , color='black' , label='Truth')\n",
    "ax[0].set_ylabel('Estimate')\n",
    "ax[0].set_xlabel('Percentile of Outcome Dataset is Winsorized at')\n",
    "ax[0].legend(loc='upper left')\n",
    "ax[0].grid()\n",
    "\n",
    "\n",
    "ax[1].scatter(outlier_percentile_cuts, pc_value_list, color='coral')\n",
    "ax[1].set_ylabel('Value of the Y at that percentile')\n",
    "ax[1].set_xlabel('Percentile of Outcome Dataset is Winsorized at')\n",
    "ax[1].grid()\n",
    "fig.suptitle('Estimate given winsorizing outcome data at given percentile values')\n",
    "fig.set_facecolor('grey')"
   ]
  },
  {
   "cell_type": "code",
   "execution_count": 15,
   "metadata": {},
   "outputs": [
    {
     "name": "stdout",
     "output_type": "stream",
     "text": [
      "Estimate winsorizing outlier outcome values\n",
      "  49.842[3.163]\n",
      "  True Value: 50.000\n"
     ]
    }
   ],
   "source": [
    "print('Estimate winsorizing outlier outcome values')\n",
    "df['Y_tp'] = df['Y'].values\n",
    "df.loc[(df['Y_tp'] >= df['Y_tp'].quantile(0.98)),'Y_tp'] = df['Y'].quantile(0.98)\n",
    "\n",
    "a = st.ate.dml.dml_plm(df, \n",
    "                split_name, feature_list_log+feature_list_top95+feature_list_top95_X, 'Y_tp', treatment_name,\n",
    "                RandomForestRegressor(n_estimators=200, random_state=27),\n",
    "                RandomForestClassifier(n_estimators=200, random_state=27),\n",
    "               n_data_splits,\n",
    "               aux_dict)  \n",
    "print('  {0:5.3f}[{1:5.3f}]'.format(a[0], a[1]))\n",
    "print('  True Value: {0:5.3f}'.format(TrueEstimate))"
   ]
  },
  {
   "cell_type": "markdown",
   "metadata": {},
   "source": [
    "### 1(b). Outlier value in $Y_i$ due to idiosyncractic error"
   ]
  },
  {
   "cell_type": "code",
   "execution_count": 57,
   "metadata": {},
   "outputs": [
    {
     "name": "stdout",
     "output_type": "stream",
     "text": [
      "Before large idiosyncratic errors\n"
     ]
    },
    {
     "data": {
      "text/plain": [
       "count    1000.000000\n",
       "mean      124.960370\n",
       "std        25.395950\n",
       "min        85.719648\n",
       "25%       100.224544\n",
       "50%       114.145264\n",
       "75%       149.061313\n",
       "max       169.358200\n",
       "Name: Y, dtype: float64"
      ]
     },
     "metadata": {},
     "output_type": "display_data"
    },
    {
     "name": "stdout",
     "output_type": "stream",
     "text": [
      "After large idiosyncratic errors\n"
     ]
    },
    {
     "data": {
      "text/plain": [
       "count    1000.000000\n",
       "mean      134.955762\n",
       "std        39.315287\n",
       "min        85.719648\n",
       "25%       101.181672\n",
       "50%       141.139322\n",
       "75%       153.260970\n",
       "max       265.016584\n",
       "Name: Y, dtype: float64"
      ]
     },
     "metadata": {},
     "output_type": "display_data"
    }
   ],
   "source": [
    "df = generate_data(te=50)\n",
    "## For a random 10% of the sample, increase the outcome by a random number\n",
    "random10 = int( len(df) / 10 )\n",
    "print('Before large idiosyncratic errors')\n",
    "display(df['Y'].describe())\n",
    "df[0:random10]['Y'] += np.random.normal(100,1, random10)\n",
    "print('After large idiosyncratic errors')\n",
    "display(df['Y'].describe())"
   ]
  },
  {
   "cell_type": "code",
   "execution_count": 58,
   "metadata": {},
   "outputs": [
    {
     "name": "stdout",
     "output_type": "stream",
     "text": [
      "Estimate without modification\n",
      "  50.007[2.220]\n",
      "  True Value: 50.000\n"
     ]
    }
   ],
   "source": [
    "print('Estimate without modification')\n",
    "a = st.ate.dml.dml_plm(df, \n",
    "                split_name, feature_list, outcome_name, treatment_name,\n",
    "                RandomForestRegressor(n_estimators=200, random_state=27),\n",
    "                RandomForestClassifier(n_estimators=200, random_state=27),\n",
    "               n_data_splits,\n",
    "               aux_dict)\n",
    "\n",
    "print('  {0:5.3f}[{1:5.3f}]'.format(a['ATE TE'], a['ATE SE']))\n",
    "print('  True Value: {0:5.3f}'.format(TrueEstimate))"
   ]
  },
  {
   "cell_type": "markdown",
   "metadata": {},
   "source": [
    "## 2. Class imbalance in training propensity scores\n",
    "## 3. Feature Selection\n",
    "\n"
   ]
  },
  {
   "cell_type": "code",
   "execution_count": 88,
   "metadata": {},
   "outputs": [],
   "source": [
    "## Write a function to write simulated data\n",
    "def generate_data_select(te=100, num_features = 10):\n",
    "    N = 1000\n",
    "    \n",
    "    features = {}\n",
    "    features['Y'] = np.random.normal(0,1, len(df))\n",
    "    \n",
    "    ## Create relevant features\n",
    "    for n in range(num_features):\n",
    "        features['x'+str(n)] = np.random.normal(0,1,N)\n",
    "        if n > num_features / 2:\n",
    "            features['Y'] += features['x'+str(n)]*np.random.uniform(-5,5)\n",
    "        else:\n",
    "            pass\n",
    "    ## Assign a treatment conditional on the relevant features\n",
    "    latent_treatment = np.zeros(N)\n",
    "    for n in range(num_features):\n",
    "        latent_treatment += features['x'+str(n)]*np.random.uniform(-1,1)\n",
    "    latent_treatment += np.random.normal(0,1,N)\n",
    "    latent_treatment = (np.average(latent_treatment) - latent_treatment) / np.std(latent_treatment)\n",
    "    \n",
    "    features['W'] = ( latent_treatment > 0 ).astype(float)\n",
    "    features['Y'] += features['W']*te\n",
    "    \n",
    "    ## Assign some orthogonal features\n",
    "    for n in range(num_features):\n",
    "        features['x_xx'+str(n)] = np.random.normal(0,1,N)    \n",
    "    \n",
    "    df_est = pd.DataFrame(features )\n",
    "   \n",
    "    return df_est"
   ]
  },
  {
   "cell_type": "code",
   "execution_count": 89,
   "metadata": {},
   "outputs": [],
   "source": [
    "def ols_stat(data,f, y):\n",
    "    X = sm.add_constant(data[f])\n",
    "    ols = sm.OLS( data[y] , X ).fit()\n",
    "    return ols.params['W'],ols.bse['W'] \n",
    "\n",
    "from sklearn.linear_model import LassoCV\n",
    "def lasso_stat(data,f, y):\n",
    "    lss = LassoCV(random_state=27).fit(  data[f], data[y]  )\n",
    "    return lss.coef_[-1]"
   ]
  },
  {
   "cell_type": "code",
   "execution_count": 93,
   "metadata": {},
   "outputs": [],
   "source": [
    "TrueEstimate = 0.5\n",
    "sim_num_features = 100\n",
    "\n",
    "sim_iter = 100\n",
    "sim_ols_estimate = []\n",
    "sim_lss_estimate = []\n",
    "\n",
    "for r in range(sim_iter):\n",
    "    df = generate_data_select(te=TrueEstimate, num_features=sim_num_features)\n",
    "\n",
    "    a = ols_stat(df, [x for x in df.columns if 'x' in x] + ['W'], 'Y')\n",
    "    sim_ols_estimate.append(a[0]-TrueEstimate)\n",
    "    b = lasso_stat(df, [x for x in df.columns if 'x' in x] + ['W'], 'Y')\n",
    "    sim_lss_estimate.append(b - TrueEstimate)"
   ]
  },
  {
   "cell_type": "code",
   "execution_count": 94,
   "metadata": {},
   "outputs": [
    {
     "data": {
      "image/png": "[encoded data removed]",
      "text/plain": [
       "<Figure size 504x504 with 1 Axes>"
      ]
     },
     "metadata": {},
     "output_type": "display_data"
    }
   ],
   "source": [
    "fig,ax = plt.subplots(ncols=1, nrows=1, figsize=(7,7))\n",
    "ax.hist(sim_ols_estimate, density=False, alpha=0.25, color='aqua', label='OLS')\n",
    "ax.hist(sim_lss_estimate, density=False, alpha=0.25, color='magenta', label='CV Lasso')\n",
    "ax.plot([0,0], [0,20], color='black')\n",
    "ax.legend()\n",
    "ax.grid()\n",
    "fig.set_facecolor('white')"
   ]
  },
  {
   "cell_type": "code",
   "execution_count": 92,
   "metadata": {},
   "outputs": [
    {
     "name": "stdout",
     "output_type": "stream",
     "text": [
      "-0.0025797507379592215\n",
      "-0.1796731665856412\n"
     ]
    }
   ],
   "source": [
    "print(  np.average(sim_ols_estimate)  )\n",
    "print(  np.average(sim_lss_estimate)  )"
   ]
  },
  {
   "cell_type": "code",
   "execution_count": 98,
   "metadata": {},
   "outputs": [],
   "source": [
    "### What about cross-validated feature selection?\n",
    "## Do the same simulations again."
   ]
  },
  {
   "cell_type": "code",
   "execution_count": 114,
   "metadata": {},
   "outputs": [],
   "source": [
    "TrueEstimate = 0.5\n",
    "sim_num_features = 100\n",
    "\n",
    "sim_iter = 100\n",
    "sim_ols_estimate = []\n",
    "sim_lss_estimate = []\n",
    "sim_hdm_estimate = []\n",
    "\n",
    "for r in range(sim_iter):\n",
    "    df = generate_data_select(te=TrueEstimate, num_features=sim_num_features)\n",
    "\n",
    "    a = ols_stat(df, [x for x in df.columns if 'x' in x] + ['W'], 'Y')\n",
    "    sim_ols_estimate.append(a[0]-TrueEstimate)\n",
    "    b = lasso_stat(df, [x for x in df.columns if 'x' in x] + ['W'], 'Y')\n",
    "    sim_lss_estimate.append(b - TrueEstimate)\n",
    "        \n",
    "    hdm_output = st.diagnostics.selection.hdm_selection(df, \n",
    "                                [x for x in df.columns if 'x' in x], 'Y', 'W')\n",
    "    hdm_selected_features=list(set(hdm_output[0][0]+hdm_output[0][1]))\n",
    "    a = ols_stat(df, hdm_selected_features + ['W'], 'Y')\n",
    "    sim_hdm_estimate.append(a[0]-TrueEstimate)    "
   ]
  },
  {
   "cell_type": "code",
   "execution_count": 115,
   "metadata": {},
   "outputs": [
    {
     "data": {
      "image/png": "[encoded data removed]",
      "text/plain": [
       "<Figure size 504x504 with 1 Axes>"
      ]
     },
     "metadata": {},
     "output_type": "display_data"
    }
   ],
   "source": [
    "fig,ax = plt.subplots(ncols=1, nrows=1, figsize=(7,7))\n",
    "ax.hist(sim_ols_estimate, density=False, alpha=0.25, color='aqua', label='OLS')\n",
    "ax.hist(sim_lss_estimate, density=False, alpha=0.25, color='magenta', label='CV Lasso')\n",
    "ax.hist(sim_hdm_estimate, density=False, alpha=0.25, color='red', label='HDM OLS/Lasso')\n",
    "ax.plot([0,0], [0,20], color='black')\n",
    "ax.legend()\n",
    "ax.grid()\n",
    "fig.set_facecolor('white')"
   ]
  },
  {
   "cell_type": "markdown",
   "metadata": {},
   "source": [
    "## 4. Bad control\n",
    "1. Control for an intermediate outcome that also influences the final outcome\n",
    "2. Control for another outcome "
   ]
  },
  {
   "cell_type": "code",
   "execution_count": 78,
   "metadata": {},
   "outputs": [
    {
     "name": "stdout",
     "output_type": "stream",
     "text": [
      "treatment    0    1\n",
      "R1                 \n",
      "False      264  131\n",
      "True       223  382\n",
      "Correct Specification\n",
      "  60.840[1.202]\n",
      "Control for intermediate outcome\n",
      "  50.406[0.196]\n"
     ]
    }
   ],
   "source": [
    "'''\n",
    "1. Control for intermediate outcome\n",
    "'''\n",
    "## Create other outcomes\n",
    "TrueEstimate = 50\n",
    "df = generate_data(te=TrueEstimate)\n",
    "\n",
    "## Create a second outcome that depends on similar features as 'Y'\n",
    "## Suppose this second outcome is the longer-term outcome of interest\n",
    "df['R1'] = ( 2*np.sin(df['x1']) + df['treatment'] + np.random.normal(0,1,len(df)) ) > 0\n",
    "print(pd.crosstab(df['R1'], df['treatment']))\n",
    "df['Y_2nd'] = df['Y'] + TrueEstimate * df['R1'] \n",
    "\n",
    "\n",
    "\n",
    "print('Correct Specification')\n",
    "a = st.ate.dml.dml_plm(df, \n",
    "                split_name, feature_list , 'Y_2nd', treatment_name,\n",
    "                RandomForestRegressor(n_estimators=200, random_state=27),\n",
    "                RandomForestClassifier(n_estimators=200, random_state=27),\n",
    "               n_data_splits,\n",
    "               aux_dict)\n",
    "print('  {0:5.3f}[{1:5.3f}]'.format(a['ATE TE'], a['ATE SE']))\n",
    "# print('  True Value: {0:5.3f}'.format(TrueEstimate))\n",
    "\n",
    "\n",
    "print('Control for intermediate outcome')\n",
    "a = st.ate.dml.dml_plm(df, \n",
    "                split_name, feature_list + ['R1'] , 'Y_2nd', treatment_name,\n",
    "                RandomForestRegressor(n_estimators=200, random_state=27),\n",
    "                RandomForestClassifier(n_estimators=200, random_state=27),\n",
    "               n_data_splits,\n",
    "               aux_dict)\n",
    "print('  {0:5.3f}[{1:5.3f}]'.format(a['ATE TE'], a['ATE SE']))\n",
    "# print('  True Value: {0:5.3f}'.format(TrueEstimate))\n"
   ]
  },
  {
   "cell_type": "code",
   "execution_count": 32,
   "metadata": {},
   "outputs": [],
   "source": [
    "# '''\n",
    "# 1. Control for another outcome\n",
    "# '''\n",
    "\n",
    "# x = np.random.uniform(0,1, 1000)\n",
    "# e = np.random.normal(0,1, 1000)\n",
    "# u = np.random.normal(0,1, 1000)\n",
    "\n",
    "# y = x + e\n",
    "# s1 = x**2 + np.sin(x) + u\n",
    "# s2 = x**2 + x + e + u\n",
    "\n",
    "# df = pd.DataFrame(data={'x':x,'y':y,'e':e,'u':u,'s1':s1,'s2':s2})\n",
    "\n",
    "# X = sm.add_constant(df['x'])\n",
    "# ols = sm.OLS( df['y'] , X ).fit()\n",
    "# print('Correct Result:')\n",
    "# print(' {0:5.3f}  [{1:5.3}]'.format(ols.params['x'], ols.bse['x']))\n",
    "\n",
    "# X = sm.add_constant(df[['x','e']])\n",
    "# ols = sm.OLS( df['y'] , X ).fit()\n",
    "# print('Wrong Result control for a highly correlated outcome:')\n",
    "# print(' {0:5.3f}  [{1:5.3}]'.format(ols.params['x'], ols.bse['x']))\n",
    "\n",
    "# X = sm.add_constant(df[['x','e','u']])\n",
    "# ols = sm.OLS( df['y'] , X ).fit()\n",
    "# print('Wrong Result control for a co-determined outcome:')\n",
    "# print(' {0:5.3f}  [{1:5.3}]'.format(ols.params['x'], ols.bse['x']))\n"
   ]
  },
  {
   "cell_type": "code",
   "execution_count": 79,
   "metadata": {},
   "outputs": [],
   "source": [
    "## Create other outcomes\n",
    "TrueEstimate = 50\n",
    "df = generate_data(te=TrueEstimate)\n",
    "\n",
    "## Outcome is independent\n",
    "df['S_0'] = 0.25*df['x1'] - 0.15*df['x2'] + np.random.normal(0,1,len(df))\n",
    "\n",
    "## Outcome is highly correlated with error in Y\n",
    "df['S_1'] = df['YError']  + np.random.normal(0,1,len(df))\n",
    "\n",
    "## Outcome is basically Y\n",
    "df['S_2'] = df['Y'] + np.random.normal(0,1,len(df))\n",
    "\n",
    "## Outcome is highly correlated with error in T\n",
    "df['S_3'] = df['TError'] + np.random.normal(0,1,len(df))\n"
   ]
  },
  {
   "cell_type": "code",
   "execution_count": 82,
   "metadata": {},
   "outputs": [
    {
     "name": "stdout",
     "output_type": "stream",
     "text": [
      "Correct Specification\n",
      "  50.259[0.163]\n",
      "  True Value: 50.000\n",
      "Control for independent\n",
      "  50.468[0.230]\n",
      "  True Value: 50.000\n",
      "Control for high corr with Y~e\n",
      "  50.781[0.232]\n",
      "  True Value: 50.000\n",
      "Control for Y transform\n",
      "  -2.973[1.030]\n",
      "  True Value: 50.000\n",
      "Control for high corr with T~e\n",
      "  50.415[0.224]\n",
      "  True Value: 50.000\n"
     ]
    }
   ],
   "source": [
    "\n",
    "print('Correct Specification')\n",
    "a = st.ate.dml.dml_plm(df, \n",
    "                split_name, feature_list , outcome_name, treatment_name,\n",
    "                RandomForestRegressor(n_estimators=200, random_state=27),\n",
    "                RandomForestClassifier(n_estimators=200, random_state=27),\n",
    "               n_data_splits,\n",
    "               aux_dict)\n",
    "print('  {0:5.3f}[{1:5.3f}]'.format(a['ATE TE'], a['ATE SE']))\n",
    "print('  True Value: {0:5.3f}'.format(TrueEstimate))\n",
    "\n",
    "for i, name in zip(['S_0','S_1','S_2','S_3'],['independent','high corr with Y~e','Y transform','high corr with T~e']):\n",
    "    print('Control for {0}'.format(name))\n",
    "    a = st.ate.dml.dml_plm(df, \n",
    "                    split_name, feature_list + [i], outcome_name, treatment_name,\n",
    "                    RandomForestRegressor(n_estimators=200, random_state=27),\n",
    "                    RandomForestClassifier(n_estimators=200, random_state=27),\n",
    "                   n_data_splits,\n",
    "                   aux_dict)\n",
    "    print('  {0:5.3f}[{1:5.3f}]'.format(a['ATE TE'], a['ATE SE']))\n",
    "    print('  True Value: {0:5.3f}'.format(TrueEstimate))\n",
    "\n",
    "\n"
   ]
  },
  {
   "cell_type": "code",
   "execution_count": null,
   "metadata": {},
   "outputs": [],
   "source": []
  }
 ],
 "metadata": {
  "kernelspec": {
   "display_name": "Python 3",
   "language": "python",
   "name": "python3"
  },
  "language_info": {
   "codemirror_mode": {
    "name": "ipython",
    "version": 3
   },
   "file_extension": ".py",
   "mimetype": "text/x-python",
   "name": "python",
   "nbconvert_exporter": "python",
   "pygments_lexer": "ipython3",
   "version": "3.8.5"
  }
 },
 "nbformat": 4,
 "nbformat_minor": 4
}
