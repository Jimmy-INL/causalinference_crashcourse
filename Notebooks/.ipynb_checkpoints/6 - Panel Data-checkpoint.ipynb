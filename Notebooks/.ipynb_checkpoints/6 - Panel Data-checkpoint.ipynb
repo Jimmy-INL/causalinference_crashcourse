{
 "cells": [
  {
   "cell_type": "markdown",
   "id": "1cbf4d3b",
   "metadata": {},
   "source": [
    "# Panel Data \n",
    "Julian Hsu\n",
    "29may2022\n",
    "\n",
    "Let's do simulation experiments with panel data:\n",
    "1. What happens if we apply cross-sectional data methods to panel data?\n",
    "2. Difference in difference (DnD)\n",
    "    - The importance of controlling for fixed effects\n",
    "    - DnD estimates the ATET, not necessarily the ATE\n",
    "    - [Nice-to-have] Experiment with applying ML models to DnD\n",
    "3. Synthetic control\n",
    "4. Synthetic difference-in-difference"
   ]
  },
  {
   "cell_type": "code",
   "execution_count": 2,
   "id": "e507c3c5",
   "metadata": {},
   "outputs": [],
   "source": [
    "import pandas as pd\n",
    "import numpy as np\n",
    "import os as os \n",
    "\n",
    "from matplotlib import gridspec\n",
    "import matplotlib.pyplot as plt\n",
    "%matplotlib inline  \n",
    "\n",
    "from IPython.display import display    \n",
    "\n",
    "import scipy.stats \n",
    "\n",
    "from sklearn.linear_model import LogisticRegression, LinearRegression, Lasso, Ridge, LassoCV, LogisticRegressionCV\n",
    "from sklearn.ensemble import RandomForestRegressor, RandomForestClassifier\n",
    "from sklearn.metrics import mean_squared_error\n"
   ]
  },
  {
   "cell_type": "code",
   "execution_count": 3,
   "id": "748dca92",
   "metadata": {},
   "outputs": [
    {
     "name": "stderr",
     "output_type": "stream",
     "text": [
      "/Users/hsujulia/opt/anaconda3/lib/python3.9/site-packages/statsmodels/tsa/base/tsa_model.py:7: FutureWarning: pandas.Int64Index is deprecated and will be removed from pandas in a future version. Use pandas.Index with the appropriate dtype instead.\n",
      "  from pandas import (to_datetime, Int64Index, DatetimeIndex, Period,\n",
      "/Users/hsujulia/opt/anaconda3/lib/python3.9/site-packages/statsmodels/tsa/base/tsa_model.py:7: FutureWarning: pandas.Float64Index is deprecated and will be removed from pandas in a future version. Use pandas.Index with the appropriate dtype instead.\n",
      "  from pandas import (to_datetime, Int64Index, DatetimeIndex, Period,\n"
     ]
    }
   ],
   "source": [
    "import stnomics as st"
   ]
  },
  {
   "cell_type": "markdown",
   "id": "68328062",
   "metadata": {},
   "source": [
    "First we need to create synthetic panel data, with endogeneous treatment selection and impact. We will be looking at variation in treatment effects, so allow the ATET to different from the ATEU."
   ]
  },
  {
   "cell_type": "code",
   "execution_count": 66,
   "id": "f6aa3aea",
   "metadata": {},
   "outputs": [],
   "source": [
    "def synth_panel(seed_number = 2123, \n",
    "                time_units = 10, \n",
    "                x_units = 100, \n",
    "                K_dim = 5,\n",
    "               treatment_type = 'both',\n",
    "               treatment_imp = 10,\n",
    "               treatment_het = False):\n",
    "    '''\n",
    "    seed_number  random_number_set\n",
    "    time_units   how many time periods?\n",
    "    x_units      how many units?\n",
    "    K_dim        how many covariates (assume uniform)\n",
    "    treatment_type    how is treatment determined? {'X','Y', 'both'}\n",
    "    treatment_imp     the level of treatment effect, constant for all post-treatment times\n",
    "    '''\n",
    "    ## Set the seed for random number\n",
    "    xfun = np.random.RandomState(seed_number)\n",
    "    \n",
    "    ## Construct covariates, time-invariant fixed effects, and first period outcome\n",
    "    X = xfun.uniform(low=0, high=2, size= (x_units, K_dim) )\n",
    "    X_coef = xfun.uniform(low=-1, high=1, size = K_dim)\n",
    "    x_list = ['x'+str(k) for k in range(K_dim)]\n",
    "    \n",
    "    def censor_x_2sd(x,sd):\n",
    "        x[x >= 2*sd] =  2*sd\n",
    "        x[x <=-2*sd] = -2*sd\n",
    "        return x\n",
    "    \n",
    "    fe = censor_x_2sd( xfun.normal(0,1, size=x_units), 1)\n",
    "    \n",
    "    output_df = pd.DataFrame(data=X, columns=x_list)\n",
    "    output_df['fe'] = fe\n",
    "    output_df['Y'] = np.dot(X,X_coef) + fe + censor_x_2sd( xfun.normal(0,1, size=x_units), 1)\n",
    "    output_df['T'] = pd.to_datetime('2020/01/01')\n",
    "    output_df['unitid'] =  np.arange(x_units).astype(int)\n",
    "\n",
    "    decay = 0.60\n",
    "\n",
    "    for t in range(1,time_units):    \n",
    "        ## Create the panel by setting up an AR(1) type function.\n",
    "        prev_date = (pd.to_datetime('2020/01/01')+pd.offsets.DateOffset(months=t-1))\n",
    "        prev_data = decay*( output_df.loc[(output_df['T']==prev_date)][[r for r in output_df.columns if 'x' in r ]]     )\n",
    "        ## perturb it a little with AR(1)\n",
    "        prev_data += censor_x_2sd( xfun.normal(0,1, size=(x_units,K_dim)), 1)\n",
    "                \n",
    "        prev_data['Y'] = decay*np.dot(prev_data,X_coef) + fe +         censor_x_2sd( xfun.normal(0,1, size=x_units), 1)\n",
    "        prev_data['T'] = pd.to_datetime('2020/01/01') + pd.offsets.DateOffset(months=t)\n",
    "        prev_data['unitid'] = np.arange(x_units).astype(int)\n",
    "        output_df = pd.concat([ output_df, prev_data])\n",
    "    output_df['unitid'] = 'unit' + output_df['unitid'].apply(str)\n",
    "    \n",
    "\n",
    "    '''\n",
    "    Decide the treatment effect based either the (i) covariates, (ii) pre-trend outcome, or (iii) both.\n",
    "    \n",
    "    Assign treatment to happen at the third to last time period\n",
    "    '''\n",
    "    if treatment_type=='X':\n",
    "        input_treatment = x_list[:]\n",
    "    elif treatment_type=='Y':\n",
    "        input_treatment = 'Y'\n",
    "    else:\n",
    "        input_treatment = x_list[:] + ['Y']\n",
    "        \n",
    "    output_df['treatment_latent'] = 0\n",
    "    treatment_date = (pd.to_datetime('2020/01/01')+pd.offsets.DateOffset(months=time_units-3))    \n",
    "    \n",
    "    latent_treatment = np.dot(output_df[input_treatment], \n",
    "                              xfun.uniform(-4,4, size=len(input_treatment))) +\\\n",
    "                             censor_x_2sd( xfun.normal(0,1,size=len(output_df)), 1)\n",
    "    \n",
    "    output_df['treatment_latent'] = np.exp(latent_treatment) / (1+ np.exp(latent_treatment))\n",
    "    \n",
    "    ## First decide treatment in the treatment time, and then make it permanent.    \n",
    "    treatment_latent_xsection = output_df.loc[(output_df['T'] == treatment_date)][['unitid','treatment_latent']]\n",
    "    treatment_decision = (treatment_latent_xsection['treatment_latent'] >\\\n",
    "                          treatment_latent_xsection['treatment_latent'].quantile(q=0.75))\n",
    "    treatment_ids = treatment_latent_xsection.loc[(treatment_decision==True)]['unitid']\n",
    "    \n",
    "    output_df['post'] = (output_df['T'] >= treatment_date).astype(float)\n",
    "    output_df['treatment_units'] = (output_df['unitid'].isin(treatment_ids)).astype(float)\n",
    "    \n",
    "    output_df['treatment'] = 0\n",
    "    output_df.loc[ (output_df['unitid'].isin(treatment_ids)) & (output_df['T'] >= treatment_date), 'treatment'  ] = 1\n",
    "\n",
    "    '''\n",
    "    Apply treatment effect. \n",
    "    if we allow treatment heterogeneity, assign treatment such that the ATE!=ATET\n",
    "    '''\n",
    "    if treatment_het==False:\n",
    "        output_df['treatment_GT']  = treatment_imp\n",
    "    else:\n",
    "        ## Calculate the proportion treated\n",
    "        treat_mean = output_df['treatment'].mean()\n",
    "        output_df['treatment_GT'] = treatment_imp/2\n",
    "        output_df.loc[(output_df['treatment']==1), 'treatment_GT'] = treatment_imp*2\n",
    "\n",
    "        \n",
    "    output_df.loc[( output_df['treatment']==1) , 'Y'] = output_df.loc[( output_df['treatment']==1)]['treatment_GT'] + output_df.loc[( output_df['treatment']==1)]['Y']\n",
    "\n",
    "    return output_df"
   ]
  },
  {
   "cell_type": "markdown",
   "id": "ae8e3a5f",
   "metadata": {},
   "source": [
    "# Applying xsectional method to panel data\n",
    "What if we only use one cross-section? \n",
    "\n",
    "What if we use each period's data as a separate feature?"
   ]
  },
  {
   "cell_type": "markdown",
   "id": "c0019fbe",
   "metadata": {},
   "source": [
    "Let's graphically look at the trend in Y."
   ]
  },
  {
   "cell_type": "code",
   "execution_count": 67,
   "id": "94ec7f52",
   "metadata": {},
   "outputs": [
    {
     "data": {
      "text/html": [
       "<div>\n",
       "<style scoped>\n",
       "    .dataframe tbody tr th:only-of-type {\n",
       "        vertical-align: middle;\n",
       "    }\n",
       "\n",
       "    .dataframe tbody tr th {\n",
       "        vertical-align: top;\n",
       "    }\n",
       "\n",
       "    .dataframe thead th {\n",
       "        text-align: right;\n",
       "    }\n",
       "</style>\n",
       "<table border=\"1\" class=\"dataframe\">\n",
       "  <thead>\n",
       "    <tr style=\"text-align: right;\">\n",
       "      <th></th>\n",
       "      <th>x0</th>\n",
       "      <th>x1</th>\n",
       "      <th>x2</th>\n",
       "      <th>x3</th>\n",
       "      <th>x4</th>\n",
       "      <th>x5</th>\n",
       "      <th>x6</th>\n",
       "      <th>x7</th>\n",
       "      <th>x8</th>\n",
       "      <th>x9</th>\n",
       "      <th>fe</th>\n",
       "      <th>Y</th>\n",
       "      <th>treatment_latent</th>\n",
       "      <th>post</th>\n",
       "      <th>treatment_units</th>\n",
       "      <th>treatment</th>\n",
       "      <th>treatment_GT</th>\n",
       "    </tr>\n",
       "  </thead>\n",
       "  <tbody>\n",
       "    <tr>\n",
       "      <th>count</th>\n",
       "      <td>200.000000</td>\n",
       "      <td>200.000000</td>\n",
       "      <td>200.000000</td>\n",
       "      <td>200.000000</td>\n",
       "      <td>200.000000</td>\n",
       "      <td>200.000000</td>\n",
       "      <td>200.000000</td>\n",
       "      <td>200.000000</td>\n",
       "      <td>200.000000</td>\n",
       "      <td>200.000000</td>\n",
       "      <td>20.000000</td>\n",
       "      <td>200.000000</td>\n",
       "      <td>2.000000e+02</td>\n",
       "      <td>200.000000</td>\n",
       "      <td>200.000000</td>\n",
       "      <td>200.000000</td>\n",
       "      <td>200.0</td>\n",
       "    </tr>\n",
       "    <tr>\n",
       "      <th>mean</th>\n",
       "      <td>0.403649</td>\n",
       "      <td>0.515226</td>\n",
       "      <td>0.289821</td>\n",
       "      <td>0.303690</td>\n",
       "      <td>0.322896</td>\n",
       "      <td>0.165529</td>\n",
       "      <td>0.059113</td>\n",
       "      <td>-0.009668</td>\n",
       "      <td>0.464481</td>\n",
       "      <td>0.286035</td>\n",
       "      <td>0.342144</td>\n",
       "      <td>1.196700</td>\n",
       "      <td>5.085403e-01</td>\n",
       "      <td>0.300000</td>\n",
       "      <td>0.250000</td>\n",
       "      <td>0.075000</td>\n",
       "      <td>2.5</td>\n",
       "    </tr>\n",
       "    <tr>\n",
       "      <th>std</th>\n",
       "      <td>1.079478</td>\n",
       "      <td>1.057639</td>\n",
       "      <td>1.098099</td>\n",
       "      <td>1.147966</td>\n",
       "      <td>1.061062</td>\n",
       "      <td>1.226310</td>\n",
       "      <td>1.142313</td>\n",
       "      <td>1.173399</td>\n",
       "      <td>1.088411</td>\n",
       "      <td>1.099769</td>\n",
       "      <td>1.214965</td>\n",
       "      <td>2.282751</td>\n",
       "      <td>4.476318e-01</td>\n",
       "      <td>0.459408</td>\n",
       "      <td>0.434099</td>\n",
       "      <td>0.264052</td>\n",
       "      <td>0.0</td>\n",
       "    </tr>\n",
       "    <tr>\n",
       "      <th>min</th>\n",
       "      <td>-2.685145</td>\n",
       "      <td>-2.855056</td>\n",
       "      <td>-2.940373</td>\n",
       "      <td>-2.380161</td>\n",
       "      <td>-2.431805</td>\n",
       "      <td>-2.873084</td>\n",
       "      <td>-2.958537</td>\n",
       "      <td>-2.990166</td>\n",
       "      <td>-2.297413</td>\n",
       "      <td>-2.351367</td>\n",
       "      <td>-2.000000</td>\n",
       "      <td>-5.024859</td>\n",
       "      <td>1.886810e-11</td>\n",
       "      <td>0.000000</td>\n",
       "      <td>0.000000</td>\n",
       "      <td>0.000000</td>\n",
       "      <td>2.5</td>\n",
       "    </tr>\n",
       "    <tr>\n",
       "      <th>25%</th>\n",
       "      <td>-0.323842</td>\n",
       "      <td>-0.102678</td>\n",
       "      <td>-0.335461</td>\n",
       "      <td>-0.590937</td>\n",
       "      <td>-0.404587</td>\n",
       "      <td>-0.827767</td>\n",
       "      <td>-0.771191</td>\n",
       "      <td>-0.831544</td>\n",
       "      <td>-0.207545</td>\n",
       "      <td>-0.420015</td>\n",
       "      <td>-0.580353</td>\n",
       "      <td>-0.304525</td>\n",
       "      <td>2.914239e-03</td>\n",
       "      <td>0.000000</td>\n",
       "      <td>0.000000</td>\n",
       "      <td>0.000000</td>\n",
       "      <td>2.5</td>\n",
       "    </tr>\n",
       "    <tr>\n",
       "      <th>50%</th>\n",
       "      <td>0.421396</td>\n",
       "      <td>0.617196</td>\n",
       "      <td>0.288274</td>\n",
       "      <td>0.346653</td>\n",
       "      <td>0.385556</td>\n",
       "      <td>0.180162</td>\n",
       "      <td>0.108136</td>\n",
       "      <td>0.080636</td>\n",
       "      <td>0.429920</td>\n",
       "      <td>0.173440</td>\n",
       "      <td>0.564792</td>\n",
       "      <td>1.383258</td>\n",
       "      <td>5.202444e-01</td>\n",
       "      <td>0.000000</td>\n",
       "      <td>0.000000</td>\n",
       "      <td>0.000000</td>\n",
       "      <td>2.5</td>\n",
       "    </tr>\n",
       "    <tr>\n",
       "      <th>75%</th>\n",
       "      <td>1.318560</td>\n",
       "      <td>1.160132</td>\n",
       "      <td>1.014914</td>\n",
       "      <td>1.202947</td>\n",
       "      <td>1.034828</td>\n",
       "      <td>1.036382</td>\n",
       "      <td>0.911789</td>\n",
       "      <td>0.873440</td>\n",
       "      <td>1.325295</td>\n",
       "      <td>0.980247</td>\n",
       "      <td>1.175533</td>\n",
       "      <td>2.829195</td>\n",
       "      <td>9.983991e-01</td>\n",
       "      <td>1.000000</td>\n",
       "      <td>0.250000</td>\n",
       "      <td>0.000000</td>\n",
       "      <td>2.5</td>\n",
       "    </tr>\n",
       "    <tr>\n",
       "      <th>max</th>\n",
       "      <td>2.834978</td>\n",
       "      <td>3.080278</td>\n",
       "      <td>3.306777</td>\n",
       "      <td>3.410878</td>\n",
       "      <td>3.004264</td>\n",
       "      <td>3.606446</td>\n",
       "      <td>3.102723</td>\n",
       "      <td>3.104058</td>\n",
       "      <td>2.726392</td>\n",
       "      <td>2.792270</td>\n",
       "      <td>2.000000</td>\n",
       "      <td>6.778411</td>\n",
       "      <td>1.000000e+00</td>\n",
       "      <td>1.000000</td>\n",
       "      <td>1.000000</td>\n",
       "      <td>1.000000</td>\n",
       "      <td>2.5</td>\n",
       "    </tr>\n",
       "  </tbody>\n",
       "</table>\n",
       "</div>"
      ],
      "text/plain": [
       "               x0          x1          x2          x3          x4          x5  \\\n",
       "count  200.000000  200.000000  200.000000  200.000000  200.000000  200.000000   \n",
       "mean     0.403649    0.515226    0.289821    0.303690    0.322896    0.165529   \n",
       "std      1.079478    1.057639    1.098099    1.147966    1.061062    1.226310   \n",
       "min     -2.685145   -2.855056   -2.940373   -2.380161   -2.431805   -2.873084   \n",
       "25%     -0.323842   -0.102678   -0.335461   -0.590937   -0.404587   -0.827767   \n",
       "50%      0.421396    0.617196    0.288274    0.346653    0.385556    0.180162   \n",
       "75%      1.318560    1.160132    1.014914    1.202947    1.034828    1.036382   \n",
       "max      2.834978    3.080278    3.306777    3.410878    3.004264    3.606446   \n",
       "\n",
       "               x6          x7          x8          x9         fe           Y  \\\n",
       "count  200.000000  200.000000  200.000000  200.000000  20.000000  200.000000   \n",
       "mean     0.059113   -0.009668    0.464481    0.286035   0.342144    1.196700   \n",
       "std      1.142313    1.173399    1.088411    1.099769   1.214965    2.282751   \n",
       "min     -2.958537   -2.990166   -2.297413   -2.351367  -2.000000   -5.024859   \n",
       "25%     -0.771191   -0.831544   -0.207545   -0.420015  -0.580353   -0.304525   \n",
       "50%      0.108136    0.080636    0.429920    0.173440   0.564792    1.383258   \n",
       "75%      0.911789    0.873440    1.325295    0.980247   1.175533    2.829195   \n",
       "max      3.102723    3.104058    2.726392    2.792270   2.000000    6.778411   \n",
       "\n",
       "       treatment_latent        post  treatment_units   treatment  treatment_GT  \n",
       "count      2.000000e+02  200.000000       200.000000  200.000000         200.0  \n",
       "mean       5.085403e-01    0.300000         0.250000    0.075000           2.5  \n",
       "std        4.476318e-01    0.459408         0.434099    0.264052           0.0  \n",
       "min        1.886810e-11    0.000000         0.000000    0.000000           2.5  \n",
       "25%        2.914239e-03    0.000000         0.000000    0.000000           2.5  \n",
       "50%        5.202444e-01    0.000000         0.000000    0.000000           2.5  \n",
       "75%        9.983991e-01    1.000000         0.250000    0.000000           2.5  \n",
       "max        1.000000e+00    1.000000         1.000000    1.000000           2.5  "
      ]
     },
     "metadata": {},
     "output_type": "display_data"
    },
    {
     "data": {
      "image/png": "[encoded data removed]",
      "text/plain": [
       "<Figure size 1440x576 with 2 Axes>"
      ]
     },
     "metadata": {
      "needs_background": "light"
     },
     "output_type": "display_data"
    }
   ],
   "source": [
    "treatment_effect = 2.5\n",
    "df = synth_panel(seed_number = 2742, \n",
    "                time_units = 10, \n",
    "                x_units = 20, \n",
    "                K_dim = 10,\n",
    "               treatment_type = 'both',\n",
    "               treatment_imp = treatment_effect,\n",
    "                treatment_het = False)\n",
    "# display(df.columns)\n",
    "# display(df['T'].value_counts().sort_index())\n",
    "display(df.describe())\n",
    "\n",
    "df_mean = df.groupby(['treatment_units','T'])[['Y','treatment_latent']].mean().reset_index()\n",
    "# df_mean.reset_index(inplace=True)\n",
    "\n",
    "df_var = df.groupby(['treatment_units','T'])[['Y','treatment_latent']].var().reset_index()\n",
    "# df_var.reset_index(inplace=True)\n",
    "\n",
    "\n",
    "fig,ax = plt.subplots(ncols=1, nrows=2, figsize=(20,8))\n",
    "\n",
    "for i, yt in zip(range(2), ['Y','treatment_latent']):\n",
    "\n",
    "    ax[i].scatter(df_mean.loc[(df_mean['treatment_units']==1)]['T'], \n",
    "                  df_mean.loc[(df_mean['treatment_units']==1)][yt],\n",
    "                  color='magenta',alpha=1, label='control')\n",
    "    ax[i].errorbar(df_mean.loc[(df_mean['treatment_units']==0)]['T'], \n",
    "                  df_mean.loc[(df_mean['treatment_units']==0)][yt], \n",
    "                   yerr = df_var.loc[(df_var['treatment_units']==0)][yt],\n",
    "                  color='magenta',alpha=1)\n",
    "\n",
    "    ax[i].scatter(df_mean.loc[(df_mean['treatment_units']==1)]['T'], \n",
    "                  df_mean.loc[(df_mean['treatment_units']==1)][yt],\n",
    "                  color='seagreen',alpha=1, label='treatment')\n",
    "    ax[i].errorbar(df_mean.loc[(df_mean['treatment_units']==1)]['T'], \n",
    "                  df_mean.loc[(df_mean['treatment_units']==1)][yt], \n",
    "                   yerr = df_var.loc[(df_var['treatment_units']==1)][yt],              \n",
    "                  color='seagreen',alpha=1)\n",
    "    ax[i].legend(title=yt)\n",
    "    ax[i].set_xlabel('Time Period')\n",
    "    ax[i].set_ylabel(yt)\n",
    "    ax[i].grid()"
   ]
  },
  {
   "cell_type": "markdown",
   "id": "a515d69b",
   "metadata": {},
   "source": [
    "Use different pre-treatment cross-sections to estimate the impact on different post-reatment cross-sections."
   ]
  },
  {
   "cell_type": "code",
   "execution_count": 68,
   "id": "d877c2f1",
   "metadata": {},
   "outputs": [
    {
     "name": "stdout",
     "output_type": "stream",
     "text": [
      "['x0', 'x1', 'x2', 'x3', 'x4', 'x5', 'x6', 'x7', 'x8', 'x9', 'pre_Y']\n"
     ]
    }
   ],
   "source": [
    "split_name = 'splits'\n",
    "feature_list =[x for x in df.columns if x[0]=='x'] + ['pre_Y']\n",
    "outcome_name = 'Y'\n",
    "treatment_name = 'treatment_units'\n",
    "n_data_splits = 4\n",
    "aux_dict = {'lower':0.001, 'upper':0.999}\n",
    "\n",
    "print(feature_list)"
   ]
  },
  {
   "cell_type": "code",
   "execution_count": 75,
   "id": "6e7e78e5",
   "metadata": {},
   "outputs": [
    {
     "name": "stdout",
     "output_type": "stream",
     "text": [
      "\n",
      "Using pre-treatment data from 2020-01-01 00:00:00\n",
      "  plm-- 4.450[1.022] and True Impact is 2.500\n",
      "  irm-- 5.118[1.975] and True Impact is 2.500\n",
      " only using outcomes as covariates\n",
      "  plm-- 5.430[0.864] and True Impact is 2.500\n",
      "  irm-- 5.013[2.103] and True Impact is 2.500\n",
      "\n",
      "Using pre-treatment data from 2020-02-01 00:00:00\n",
      "  plm-- 4.131[1.250] and True Impact is 2.500\n",
      "  irm-- 5.054[3.479] and True Impact is 2.500\n",
      " only using outcomes as covariates\n",
      "  plm-- 4.063[1.095] and True Impact is 2.500\n",
      "  irm-- -40.998[37.309] and True Impact is 2.500\n",
      "\n",
      "Using pre-treatment data from 2020-03-01 00:00:00\n",
      "  plm-- 3.935[0.971] and True Impact is 2.500\n",
      "  irm-- 5.355[5.759] and True Impact is 2.500\n",
      " only using outcomes as covariates\n",
      "  plm-- 3.096[1.065] and True Impact is 2.500\n",
      "  irm-- 32.579[28.560] and True Impact is 2.500\n",
      "\n",
      "Using pre-treatment data from 2020-04-01 00:00:00\n",
      "  plm-- 4.891[0.977] and True Impact is 2.500\n",
      "  irm-- 2.997[2.834] and True Impact is 2.500\n",
      " only using outcomes as covariates\n",
      "  plm-- 4.218[1.411] and True Impact is 2.500\n",
      "  irm-- 2.276[2.497] and True Impact is 2.500\n",
      "\n",
      "Using pre-treatment data from 2020-05-01 00:00:00\n",
      "  plm-- 4.384[1.093] and True Impact is 2.500\n",
      "  irm-- 0.390[6.688] and True Impact is 2.500\n",
      " only using outcomes as covariates\n",
      "  plm-- 4.347[0.988] and True Impact is 2.500\n",
      "  irm-- 10.379[5.032] and True Impact is 2.500\n",
      "\n",
      "Using pre-treatment data from 2020-06-01 00:00:00\n",
      "  plm-- 4.308[0.969] and True Impact is 2.500\n",
      "  irm-- 5.845[2.313] and True Impact is 2.500\n",
      " only using outcomes as covariates\n",
      "  plm-- 3.589[0.956] and True Impact is 2.500\n",
      "  irm-- 3.728[4.247] and True Impact is 2.500\n",
      "\n",
      "Using pre-treatment data from 2020-07-01 00:00:00\n",
      "  plm-- 3.194[1.123] and True Impact is 2.500\n",
      "  irm-- 3.994[1.924] and True Impact is 2.500\n",
      " only using outcomes as covariates\n",
      "  plm-- 3.727[1.124] and True Impact is 2.500\n",
      "  irm-- -0.084[4.225] and True Impact is 2.500\n"
     ]
    }
   ],
   "source": [
    "difference_in_months = 6\n",
    "for di in range(difference_in_months+1):\n",
    "    start = df['T'].min()+pd.offsets.DateOffset(months=di)\n",
    "    x_df = df.loc[(df['T']==pd.to_datetime(start))]\n",
    "    x_df['pre_Y'] = x_df['Y'].values\n",
    "    \n",
    "    treated_ids = df.loc[(df['treatment_units']==1)]['unitid']\n",
    "    x_df['Y'] = df.loc[(df['T']==pd.to_datetime('2020-09-01'))]['Y'].values \n",
    "        \n",
    "    print('\\nUsing pre-treatment data from {1}'.format(di, start))\n",
    "    a = st.ate.dml.dml_plm(x_df, \n",
    "                    split_name, feature_list, outcome_name, treatment_name,\n",
    "                    RandomForestRegressor(n_estimators=100, random_state=27),\n",
    "                    RandomForestClassifier(n_estimators=100, random_state=27),\n",
    "                   n_data_splits,\n",
    "                   aux_dict)\n",
    "    print('  plm-- {0:5.3f}[{1:5.3f}] and True Impact is {2:5.3f}'.format(a['ATE TE'], a['ATE SE'], treatment_effect))\n",
    "    b = st.ate.dml.dml_irm(x_df, \n",
    "                    split_name, feature_list, outcome_name, treatment_name,\n",
    "                    RandomForestRegressor(n_estimators=100, random_state=27),\n",
    "                    RandomForestClassifier(n_estimators=100, random_state=27),\n",
    "                   n_data_splits,\n",
    "                   {'lower':0.001, 'upper':0.999})\n",
    "    print('  irm-- {0:5.3f}[{1:5.3f}] and True Impact is {2:5.3f}'.format(b['ATE TE'], b['ATE SE'], treatment_effect))\n",
    "    print(' only using outcomes as covariates')\n",
    "    a = st.ate.dml.dml_plm(x_df, \n",
    "                    split_name, ['pre_Y'], outcome_name, treatment_name,\n",
    "                    RandomForestRegressor(n_estimators=100, random_state=27),\n",
    "                    RandomForestClassifier(n_estimators=100, random_state=27),\n",
    "                   n_data_splits,\n",
    "                   aux_dict)  \n",
    "    print('  plm-- {0:5.3f}[{1:5.3f}] and True Impact is {2:5.3f}'.format(a['ATE TE'], a['ATE SE'], treatment_effect))\n",
    "    b = st.ate.dml.dml_irm(x_df, \n",
    "                    split_name, ['pre_Y'], outcome_name, treatment_name,\n",
    "                    RandomForestRegressor(n_estimators=100, random_state=27),\n",
    "                    RandomForestClassifier(n_estimators=100, random_state=27),\n",
    "                   n_data_splits,\n",
    "                   {'lower':0.001, 'upper':0.999})\n",
    "    print('  irm-- {0:5.3f}[{1:5.3f}] and True Impact is {2:5.3f}'.format(b['ATE TE'], b['ATE SE'], treatment_effect))    "
   ]
  },
  {
   "cell_type": "markdown",
   "id": "1864b276",
   "metadata": {},
   "source": [
    "What if we use the different time periods' different features?"
   ]
  },
  {
   "cell_type": "code",
   "execution_count": 76,
   "id": "0bdec922",
   "metadata": {},
   "outputs": [],
   "source": [
    "x_df = df.loc[(df['T']< pd.to_datetime('2020-08-01'))][[p for p in df.columns if p[0]=='x']+\\\n",
    "                                                       ['Y','T','unitid','treatment_units']]\n",
    "x_df['T'] = x_df['T'].astype(str)\n",
    "\n",
    "x_df = x_df.pivot_table(columns='T',\n",
    "                index='unitid',\n",
    "                values=[p for p in df.columns if p[0]=='x']+ ['Y'])\n",
    "x_df.columns = ['_'.join(col) for col in x_df.columns]\n",
    "x_df.reset_index(inplace=True)\n",
    "\n",
    "treated_ids = df.loc[(df['treatment_units']==1)]['unitid']\n",
    "x_df['treated'] = (x_df['unitid'].isin(treated_ids)).astype(float)\n",
    "x_df['postY'] = df.loc[(df['T']==pd.to_datetime('2020-10-01'))]['Y'].values "
   ]
  },
  {
   "cell_type": "code",
   "execution_count": 77,
   "id": "04d3bbd7",
   "metadata": {},
   "outputs": [
    {
     "name": "stdout",
     "output_type": "stream",
     "text": [
      "\n",
      "Using all pre-treatment data\n",
      "  plm-- 1.658[1.241] and True Impact is 2.500\n",
      "  irm-- 1.482[1.361] and True Impact is 2.500\n",
      "only using pre-treatment outcomes\n",
      "  plm-- 0.494[1.034] and True Impact is 2.500\n",
      "  irm-- -3.864[4.293] and True Impact is 2.500\n"
     ]
    }
   ],
   "source": [
    "feature_x_name = [x for x in x_df.columns if x !='postY' and x != 'treated' and x !='unitid']\n",
    "outcome_x_name = 'postY'\n",
    "treatment_x_name = 'treated'\n",
    "print('\\nUsing all pre-treatment data')\n",
    "a = st.ate.dml.dml_plm(x_df, \n",
    "                split_name, feature_x_name, outcome_x_name, treatment_x_name,\n",
    "                RandomForestRegressor(n_estimators=100, random_state=27),\n",
    "                RandomForestClassifier(n_estimators=100, random_state=27),\n",
    "               n_data_splits,\n",
    "               aux_dict)\n",
    "print('  plm-- {0:5.3f}[{1:5.3f}] and True Impact is {2:5.3f}'.format(a['ATE TE'], a['ATE SE'], treatment_effect))\n",
    "b = st.ate.dml.dml_irm(x_df, \n",
    "                split_name, feature_x_name, outcome_x_name, treatment_x_name,\n",
    "                RandomForestRegressor(n_estimators=100, random_state=27),\n",
    "                RandomForestClassifier(n_estimators=100, random_state=27),\n",
    "               n_data_splits,\n",
    "               aux_dict)\n",
    "print('  irm-- {0:5.3f}[{1:5.3f}] and True Impact is {2:5.3f}'.format(b['ATE TE'], b['ATE SE'], treatment_effect))\n",
    "print('only using pre-treatment outcomes')\n",
    "a = st.ate.dml.dml_plm(x_df, \n",
    "                split_name, [y for y in feature_x_name if 'Y' in y], outcome_x_name, treatment_x_name,\n",
    "                RandomForestRegressor(n_estimators=100, random_state=27),\n",
    "                RandomForestClassifier(n_estimators=100, random_state=27),\n",
    "               n_data_splits,\n",
    "               aux_dict)\n",
    "print('  plm-- {0:5.3f}[{1:5.3f}] and True Impact is {2:5.3f}'.format(a['ATE TE'], a['ATE SE'], treatment_effect))\n",
    "b = st.ate.dml.dml_irm(x_df, \n",
    "                split_name, [y for y in feature_x_name if 'Y' in y], outcome_x_name, treatment_x_name,\n",
    "                RandomForestRegressor(n_estimators=100, random_state=27),\n",
    "                RandomForestClassifier(n_estimators=100, random_state=27),\n",
    "               n_data_splits,\n",
    "               aux_dict)\n",
    "print('  irm-- {0:5.3f}[{1:5.3f}] and True Impact is {2:5.3f}'.format(b['ATE TE'], b['ATE SE'], treatment_effect))\n"
   ]
  },
  {
   "cell_type": "markdown",
   "id": "efc9b94f",
   "metadata": {},
   "source": [
    "# Difference in Difference\n",
    "\n",
    "We can be really flexible with controlling for fixed effects and time fixed effects.\n",
    "Our set up is that we have control units indexed by $i = 0,..., N_T-1$ and then treated units index by $i = N_T, ..., \\mathbb{N}$.\n",
    "\n",
    "$\\text{(A)  } \\hspace{1cm} Y_{it} = \\rho_0 1\\{ i \\geq N_T, t \\geq T^* \\} + \\rho_1 1\\{ i \\geq N_T \\} + \\rho_2 1\\{ t \\geq T^* \\} + \\epsilon_{it} $\n",
    "\n",
    "$\\text{(B, aka Two-Way Fixed Effects)  } \\hspace{1cm} Y_{it} = \\rho_0 1\\{ i \\geq N_T, t \\geq T^* \\} + \\tau_t + FE_i + \\epsilon_{it}$\n"
   ]
  },
  {
   "cell_type": "code",
   "execution_count": 78,
   "id": "7a2fcfe5",
   "metadata": {},
   "outputs": [],
   "source": [
    "import statsmodels.api as sm"
   ]
  },
  {
   "cell_type": "code",
   "execution_count": 79,
   "id": "0c389ac3",
   "metadata": {},
   "outputs": [],
   "source": [
    "'''\n",
    "Create the fixed effects\n",
    "'''\n",
    "for i in pd.get_dummies(df['unitid']).columns:\n",
    "    df['fe_'+i] = (df['unitid']==i).astype(float)\n",
    "for t, dt in zip( range(len(pd.get_dummies(df['T']).columns)), pd.get_dummies(df['T']).columns):\n",
    "    df['t_'+str(t)] = (df['T']==dt).astype(float)\n",
    "    "
   ]
  },
  {
   "cell_type": "code",
   "execution_count": 80,
   "id": "d4b15d4f",
   "metadata": {},
   "outputs": [],
   "source": [
    "'''\n",
    "Create lagged outcome\n",
    "'''\n",
    "dnd_data = df.merge(\n",
    "    df.set_index(['unitid','T'])['Y'].shift(1).reset_index().rename(columns={'Y':'Y.l1'}), \\\n",
    "        how='left', \\\n",
    "        left_on = ['unitid','T'],    right_on = ['unitid','T'])"
   ]
  },
  {
   "cell_type": "code",
   "execution_count": 81,
   "id": "655b2298",
   "metadata": {},
   "outputs": [],
   "source": [
    "def show_dnd_est(ols_result, truth):\n",
    "    display('{0:5.3f} [{1:5.3f}], ({2:5.3f}, {3:5.3f})'.format(ols_result.params.treatment,\n",
    "                                                             ols_result.bse.treatment,\n",
    "                                                             ols_result.conf_int().loc['treatment'][0],\n",
    "                                                             ols_result.conf_int().loc['treatment'][1] ))\n",
    "    display(' Bias: {0:5.3f}'.format(ols_result.params.treatment - truth))"
   ]
  },
  {
   "cell_type": "code",
   "execution_count": 82,
   "id": "487b79ba",
   "metadata": {},
   "outputs": [
    {
     "name": "stderr",
     "output_type": "stream",
     "text": [
      "/Users/hsujulia/opt/anaconda3/lib/python3.9/site-packages/statsmodels/tsa/tsatools.py:142: FutureWarning: In a future version of pandas all arguments of concat except for the argument 'objs' will be keyword-only.\n",
      "  x = pd.concat(x[::order], 1)\n"
     ]
    },
    {
     "data": {
      "text/plain": [
       "'2.075 [0.776], (0.544, 3.606)'"
      ]
     },
     "metadata": {},
     "output_type": "display_data"
    },
    {
     "data": {
      "text/plain": [
       "' Bias: -0.425'"
      ]
     },
     "metadata": {},
     "output_type": "display_data"
    }
   ],
   "source": [
    "## Estimate Equation A\n",
    "dnd_modelA = sm.OLS(dnd_data['Y'], \n",
    "                    sm.add_constant(dnd_data[    ['post', 'treatment_units','treatment']] )).fit()\n",
    "show_dnd_est(dnd_modelA, treatment_effect)\n",
    "dnd_data['dnd_modelA'] = dnd_modelA.fittedvalues\n",
    "\n",
    "# dnd_modelA = sm.OLS(dnd_data.loc[ pd.isna(dnd_data['Y.l1'])==False  ]['Y'], \n",
    "#                    sm.add_constant(dnd_data.loc[ pd.isna(dnd_data['Y.l1'])==False  ][    ['post', 'treatment_units','treatment', 'Y.l1']] )).fit()\n",
    "# show_dnd_est(dnd_modelA, treatment_effect)"
   ]
  },
  {
   "cell_type": "code",
   "execution_count": 83,
   "id": "375c6778",
   "metadata": {},
   "outputs": [
    {
     "name": "stderr",
     "output_type": "stream",
     "text": [
      "/Users/hsujulia/opt/anaconda3/lib/python3.9/site-packages/statsmodels/tsa/tsatools.py:142: FutureWarning: In a future version of pandas all arguments of concat except for the argument 'objs' will be keyword-only.\n",
      "  x = pd.concat(x[::order], 1)\n"
     ]
    },
    {
     "data": {
      "text/plain": [
       "'2.075 [0.547], (0.995, 3.155)'"
      ]
     },
     "metadata": {},
     "output_type": "display_data"
    },
    {
     "data": {
      "text/plain": [
       "' Bias: -0.425'"
      ]
     },
     "metadata": {},
     "output_type": "display_data"
    }
   ],
   "source": [
    "## Estimate Equation B\n",
    "fe_te = [x for x in df.columns if x[0:3]=='fe_'] + \\\n",
    "                  [e for e in df.columns if e[0:2]=='t_' ]\n",
    "dnd_modelB = sm.OLS(dnd_data['Y'], \n",
    "                    sm.add_constant(dnd_data[    ['treatment']\\\n",
    "                                            +fe_te] )).fit()\n",
    "show_dnd_est(dnd_modelB, treatment_effect)\n",
    "dnd_data['dnd_modelB'] = dnd_modelB.fittedvalues\n",
    "\n",
    "# dnd_modelB = sm.OLS(dnd_data.loc[ pd.isna(dnd_data['Y.l1'])==False  ]['Y'], \n",
    "#                    sm.add_constant(dnd_data.loc[ pd.isna(dnd_data['Y.l1'])==False  ][    ['post', 'treatment_units','treatment', 'Y.l1']\\\n",
    "#                                                                                     +fe_te] )).fit()\n",
    "# show_dnd_est(dnd_modelB, treatment_effect)"
   ]
  },
  {
   "cell_type": "markdown",
   "id": "13236241",
   "metadata": {},
   "source": [
    "### Let's produce tests for the parallel trends assumption.\n",
    "Do graphical test, and then the event-study approach.\n"
   ]
  },
  {
   "cell_type": "code",
   "execution_count": 38,
   "id": "4c0fee9e",
   "metadata": {},
   "outputs": [
    {
     "data": {
      "text/plain": [
       "<matplotlib.legend.Legend at 0x7ff7fb702b50>"
      ]
     },
     "execution_count": 38,
     "metadata": {},
     "output_type": "execute_result"
    },
    {
     "data": {
      "image/png": "[encoded data removed]",
      "text/plain": [
       "<Figure size 1008x432 with 2 Axes>"
      ]
     },
     "metadata": {
      "needs_background": "light"
     },
     "output_type": "display_data"
    }
   ],
   "source": [
    "fig,ax = plt.subplots(ncols=1, nrows=2, figsize=(14,6))\n",
    "yhat = dnd_data.groupby(['treatment_units','T'])[['Y','dnd_modelA','dnd_modelB']].mean()\n",
    "yhat.reset_index(inplace=True)\n",
    "ax[0].plot(yhat.loc[(yhat['treatment_units']==0)]['T'],\\\n",
    "           yhat.loc[(yhat['treatment_units']==0)]['dnd_modelA'],'o-',\n",
    "           color='blue',\n",
    "           label='ModelA-Control')\n",
    "ax[0].plot(yhat.loc[(yhat['treatment_units']==1)]['T'],\\\n",
    "           yhat.loc[(yhat['treatment_units']==1)]['dnd_modelA'],'o-',\n",
    "           color='darkorange',\n",
    "           label='ModelA-Treat')\n",
    "ax[0].grid()\n",
    "ax[0].legend()\n",
    "\n",
    "ax[1].plot(yhat.loc[(yhat['treatment_units']==0)]['T'],\\\n",
    "           yhat.loc[(yhat['treatment_units']==0)]['dnd_modelB'],'o-',\n",
    "           color='blue',\n",
    "           label='ModelB-Control')\n",
    "ax[1].plot(yhat.loc[(yhat['treatment_units']==1)]['T'],\\\n",
    "           yhat.loc[(yhat['treatment_units']==1)]['dnd_modelB'],'o-',\n",
    "           color='darkorange',\n",
    "           label='ModelB-Treat')\n",
    "ax[1].grid()\n",
    "ax[1].legend()\n"
   ]
  },
  {
   "cell_type": "code",
   "execution_count": 39,
   "id": "a77ff3b3",
   "metadata": {},
   "outputs": [
    {
     "name": "stdout",
     "output_type": "stream",
     "text": [
      "                            OLS Regression Results                            \n",
      "==============================================================================\n",
      "Dep. Variable:                      Y   R-squared:                       0.590\n",
      "Model:                            OLS   Adj. R-squared:                  0.539\n",
      "Method:                 Least Squares   F-statistic:                     11.53\n",
      "Date:                Sun, 12 Jun 2022   Prob (F-statistic):           5.55e-13\n",
      "Time:                        21:47:33   Log-Likelihood:                -152.67\n",
      "No. Observations:                 100   AIC:                             329.3\n",
      "Df Residuals:                      88   BIC:                             360.6\n",
      "Df Model:                          11                                         \n",
      "Covariance Type:            nonrobust                                         \n",
      "=====================================================================================\n",
      "                        coef    std err          t      P>|t|      [0.025      0.975]\n",
      "-------------------------------------------------------------------------------------\n",
      "const                -1.0589      0.170     -6.242      0.000      -1.396      -0.722\n",
      "post                  0.2210      0.310      0.714      0.477      -0.394       0.836\n",
      "treatment_units       2.2794      0.236      9.677      0.000       1.811       2.748\n",
      "event_treatment_0    -0.7806      0.657     -1.187      0.238      -2.087       0.526\n",
      "event_treatment_1    -1.3126      0.657     -1.997      0.049      -2.619      -0.006\n",
      "event_treatment_2     0.1129      0.657      0.172      0.864      -1.193       1.419\n",
      "event_treatment_3    -0.9358      0.657     -1.424      0.158      -2.242       0.371\n",
      "event_treatment_4     0.1826      0.657      0.278      0.782      -1.124       1.489\n",
      "event_treatment_5     0.3098      0.657      0.471      0.639      -0.997       1.616\n",
      "event_treatment_6    -0.0469      0.657     -0.071      0.943      -1.353       1.259\n",
      "event_treatment_7     2.5823      0.686      3.765      0.000       1.219       3.945\n",
      "event_treatment_8     0.1940      0.686      0.283      0.778      -1.169       1.557\n",
      "event_treatment_9     1.9738      0.686      2.878      0.005       0.611       3.337\n",
      "==============================================================================\n",
      "Omnibus:                        1.678   Durbin-Watson:                   1.889\n",
      "Prob(Omnibus):                  0.432   Jarque-Bera (JB):                1.169\n",
      "Skew:                          -0.079   Prob(JB):                        0.558\n",
      "Kurtosis:                       3.506   Cond. No.                     1.97e+16\n",
      "==============================================================================\n",
      "\n",
      "Notes:\n",
      "[1] Standard Errors assume that the covariance matrix of the errors is correctly specified.\n",
      "[2] The smallest eigenvalue is 3.17e-31. This might indicate that there are\n",
      "strong multicollinearity problems or that the design matrix is singular.\n",
      "                            OLS Regression Results                            \n",
      "==============================================================================\n",
      "Dep. Variable:                      Y   R-squared:                       0.702\n",
      "Model:                            OLS   Adj. R-squared:                  0.590\n",
      "Method:                 Least Squares   F-statistic:                     6.270\n",
      "Date:                Sun, 12 Jun 2022   Prob (F-statistic):           2.34e-10\n",
      "Time:                        21:47:33   Log-Likelihood:                -136.83\n",
      "No. Observations:                 100   AIC:                             329.7\n",
      "Df Residuals:                      72   BIC:                             402.6\n",
      "Df Model:                          27                                         \n",
      "Covariance Type:            nonrobust                                         \n",
      "=====================================================================================\n",
      "                        coef    std err          t      P>|t|      [0.025      0.975]\n",
      "-------------------------------------------------------------------------------------\n",
      "const                -0.6436      0.109     -5.926      0.000      -0.860      -0.427\n",
      "post                  0.0874      0.194      0.451      0.653      -0.299       0.473\n",
      "treatment_units       1.5324      0.152     10.103      0.000       1.230       1.835\n",
      "event_treatment_0     0.0425      0.733      0.058      0.954      -1.420       1.505\n",
      "event_treatment_1    -0.9861      0.733     -1.344      0.183      -2.448       0.476\n",
      "event_treatment_2     0.1558      0.733      0.212      0.832      -1.306       1.618\n",
      "event_treatment_3    -1.2744      0.733     -1.737      0.087      -2.737       0.188\n",
      "event_treatment_4    -0.2480      0.733     -0.338      0.736      -1.710       1.214\n",
      "event_treatment_5    -0.2485      0.733     -0.339      0.736      -1.711       1.214\n",
      "event_treatment_6    -0.4348      0.733     -0.593      0.555      -1.897       1.027\n",
      "event_treatment_7     2.7058      0.734      3.688      0.000       1.243       4.168\n",
      "event_treatment_8     0.0191      0.734      0.026      0.979      -1.443       1.482\n",
      "event_treatment_9     1.8011      0.734      2.455      0.017       0.339       3.264\n",
      "fe_unit0              0.2830      0.329      0.859      0.393      -0.374       0.940\n",
      "fe_unit1              0.9963      0.294      3.393      0.001       0.411       1.582\n",
      "fe_unit2              0.0819      0.329      0.249      0.804      -0.575       0.738\n",
      "fe_unit3             -0.4917      0.329     -1.493      0.140      -1.148       0.165\n",
      "fe_unit4              0.4964      0.294      1.690      0.095      -0.089       1.082\n",
      "fe_unit5             -1.1035      0.329     -3.350      0.001      -1.760      -0.447\n",
      "fe_unit6              0.0398      0.294      0.136      0.893      -0.546       0.625\n",
      "fe_unit7              0.2207      0.329      0.670      0.505      -0.436       0.877\n",
      "fe_unit8             -0.2542      0.329     -0.772      0.443      -0.911       0.402\n",
      "fe_unit9             -0.9121      0.329     -2.769      0.007      -1.569      -0.255\n",
      "t_0                  -1.0022      0.394     -2.545      0.013      -1.787      -0.217\n",
      "t_1                  -0.5056      0.394     -1.284      0.203      -1.290       0.279\n",
      "t_2                  -0.2220      0.394     -0.564      0.575      -1.007       0.563\n",
      "t_3                   0.1594      0.394      0.405      0.687      -0.625       0.944\n",
      "t_4                   0.2515      0.394      0.639      0.525      -0.533       1.036\n",
      "t_5                   0.3791      0.394      0.963      0.339      -0.406       1.164\n",
      "t_6                   0.2087      0.394      0.530      0.598      -0.576       0.994\n",
      "t_7                  -0.1691      0.352     -0.481      0.632      -0.870       0.532\n",
      "t_8                   0.1294      0.352      0.368      0.714      -0.572       0.830\n",
      "t_9                   0.1271      0.352      0.361      0.719      -0.574       0.828\n",
      "==============================================================================\n",
      "Omnibus:                        0.303   Durbin-Watson:                   2.041\n",
      "Prob(Omnibus):                  0.859   Jarque-Bera (JB):                0.210\n",
      "Skew:                           0.112   Prob(JB):                        0.900\n",
      "Kurtosis:                       2.974   Cond. No.                     2.74e+16\n",
      "==============================================================================\n",
      "\n",
      "Notes:\n",
      "[1] Standard Errors assume that the covariance matrix of the errors is correctly specified.\n",
      "[2] The smallest eigenvalue is 1.9e-31. This might indicate that there are\n",
      "strong multicollinearity problems or that the design matrix is singular.\n"
     ]
    },
    {
     "name": "stderr",
     "output_type": "stream",
     "text": [
      "/Users/hsujulia/opt/anaconda3/lib/python3.9/site-packages/statsmodels/tsa/tsatools.py:142: FutureWarning: In a future version of pandas all arguments of concat except for the argument 'objs' will be keyword-only.\n",
      "  x = pd.concat(x[::order], 1)\n",
      "/Users/hsujulia/opt/anaconda3/lib/python3.9/site-packages/statsmodels/tsa/tsatools.py:142: FutureWarning: In a future version of pandas all arguments of concat except for the argument 'objs' will be keyword-only.\n",
      "  x = pd.concat(x[::order], 1)\n"
     ]
    }
   ],
   "source": [
    "for i,t in zip(range(len(dnd_data['T'].unique())), dnd_data['T'].unique()):\n",
    "    dnd_data['event_treatment_'+str(i)] = ((dnd_data['T']==t)*(dnd_data['treatment_units'])).astype(float) \n",
    "    \n",
    "    \n",
    "dnd_modelA = sm.OLS(dnd_data['Y'], \n",
    "                    sm.add_constant(dnd_data[    ['post', 'treatment_units']+\\\n",
    "                                            [z for z in dnd_data if 'event_treatment_' in z] ] )).fit() \n",
    "print(dnd_modelA.summary())\n",
    "\n",
    "dnd_modelB = sm.OLS(dnd_data['Y'], \n",
    "                    sm.add_constant(dnd_data[    ['post', 'treatment_units']+\\\n",
    "                                            [z for z in dnd_data if 'event_treatment_' in z] +\\\n",
    "                                            fe_te] )).fit()\n",
    "print(dnd_modelB.summary())"
   ]
  },
  {
   "cell_type": "markdown",
   "id": "6829c097",
   "metadata": {},
   "source": [
    "### Let's show that DnD estimate the ATET, not necessarily the ATE.\n",
    "Let's start by creating a different panel dataset."
   ]
  },
  {
   "cell_type": "code",
   "execution_count": 40,
   "id": "0ad43ffd",
   "metadata": {},
   "outputs": [
    {
     "name": "stdout",
     "output_type": "stream",
     "text": [
      "True ATE: 1.587\n",
      "True ATET: 5.000\n"
     ]
    }
   ],
   "source": [
    "treatment_effect = 2.5\n",
    "df = synth_panel(seed_number = 4527, \n",
    "                time_units = 10, \n",
    "                x_units = 10, \n",
    "                K_dim = 3,\n",
    "               treatment_type = 'both',\n",
    "               treatment_imp = treatment_effect,\n",
    "                treatment_het = True)\n",
    "print('True ATE: {0:5.3f}'.format(df['treatment_GT'].mean()))\n",
    "print('True ATET: {0:5.3f}'.format(df.loc[df['treatment']==1]['treatment_GT'].mean()))\n"
   ]
  },
  {
   "cell_type": "code",
   "execution_count": 41,
   "id": "e1d27cea",
   "metadata": {},
   "outputs": [
    {
     "name": "stderr",
     "output_type": "stream",
     "text": [
      "/Users/hsujulia/opt/anaconda3/lib/python3.9/site-packages/statsmodels/tsa/tsatools.py:142: FutureWarning: In a future version of pandas all arguments of concat except for the argument 'objs' will be keyword-only.\n",
      "  x = pd.concat(x[::order], 1)\n"
     ]
    },
    {
     "data": {
      "text/plain": [
       "'5.892 [0.448], (5.000, 6.784)'"
      ]
     },
     "metadata": {},
     "output_type": "display_data"
    },
    {
     "data": {
      "text/plain": [
       "' Bias: 3.392'"
      ]
     },
     "metadata": {},
     "output_type": "display_data"
    }
   ],
   "source": [
    "'''\n",
    "Create the fixed effects\n",
    "'''\n",
    "for i in pd.get_dummies(df['unitid']).columns:\n",
    "    df['fe_'+i] = (df['unitid']==i).astype(float)\n",
    "for t, dt in zip( range(len(pd.get_dummies(df['T']).columns)), pd.get_dummies(df['T']).columns):\n",
    "    df['t_'+str(t)] = (df['T']==dt).astype(float)\n",
    "    \n",
    "fe_te = [x for x in df.columns if x[0:3]=='fe_'] + \\\n",
    "                  [e for e in df.columns if e[0:2]=='t_' ]\n",
    "dnd_model_twfe = sm.OLS(df['Y'], \n",
    "                    sm.add_constant(df[    ['post', 'treatment_units','treatment']\\\n",
    "                                            +fe_te] )).fit()\n",
    "# print(dnd_model_twfe.summary())\n",
    "show_dnd_est(dnd_model_twfe, treatment_effect)\n",
    "# dnd_data['dnd_model_twfe'] = dnd_model_twfe.fittedvalues\n"
   ]
  },
  {
   "cell_type": "code",
   "execution_count": 42,
   "id": "e1386787",
   "metadata": {},
   "outputs": [
    {
     "ename": "SyntaxError",
     "evalue": "'break' outside loop (668683560.py, line 1)",
     "output_type": "error",
     "traceback": [
      "\u001b[0;36m  Input \u001b[0;32mIn [42]\u001b[0;36m\u001b[0m\n\u001b[0;31m    break\u001b[0m\n\u001b[0m    ^\u001b[0m\n\u001b[0;31mSyntaxError\u001b[0m\u001b[0;31m:\u001b[0m 'break' outside loop\n"
     ]
    }
   ],
   "source": [
    "break"
   ]
  },
  {
   "cell_type": "markdown",
   "id": "a2dbc80c",
   "metadata": {},
   "source": [
    "#### Can we incorporate ML into here?\n",
    "Working backwards, we want to run something like a PLM.\n",
    "\n",
    "Here we have to be careful with training and testing the datasets. This is because our main feature for training are individual level fixed effects. Instead of randomly picking amongst units of observations, let's define a set of pre-treatment periods for training, and testing for a different set of pre-treatment periods.\n",
    "\n"
   ]
  },
  {
   "cell_type": "code",
   "execution_count": null,
   "id": "beac553e",
   "metadata": {},
   "outputs": [],
   "source": [
    "training_time_sets = dnd_data['T'].unique()[0:-6]\n",
    "testing_time_sets = dnd_data['T'].unique()[-5:-3]"
   ]
  },
  {
   "cell_type": "code",
   "execution_count": null,
   "id": "d587d926",
   "metadata": {},
   "outputs": [],
   "source": [
    "train = dnd_data.loc[(dnd_data['T'].isin(training_time_sets))][['Y','unitid','T']+[x for x in dnd_data.columns if x[0:3]=='fe_']]\n",
    "test  = dnd_data.loc[(dnd_data['T'].isin(testing_time_sets))][['Y','unitid','T']+[x for x in dnd_data.columns if x[0:3]=='fe_']]"
   ]
  },
  {
   "cell_type": "code",
   "execution_count": null,
   "id": "5b7138df",
   "metadata": {},
   "outputs": [],
   "source": [
    "fe_ = [x for x in train.columns if x[0:3]=='fe_']\n",
    "rf_fit = RandomForestRegressor().fit(train[fe_], train['Y'])\n",
    "test['yhat'] = rf_fit.predict(test[fe_])\n",
    "from sklearn.metrics import r2_score\n",
    "print('  R2 {0:5.3f}'.format(r2_score(test['Y'], test['yhat'] )))\n",
    "print('RMSE {0:5.3f}'.format( np.sum( (test['Y'] - test['yhat'])**2 ) **(0.5) ))\n",
    "\n"
   ]
  },
  {
   "cell_type": "code",
   "execution_count": null,
   "id": "121343e4",
   "metadata": {},
   "outputs": [],
   "source": [
    "\n",
    "fig,ax = plt.subplots(ncols=2, nrows=1, sharey=True, figsize=(14,8))\n",
    "\n",
    "ax[0].scatter(test.loc[(test['T']==testing_time_sets[0])]['unitid'],\\\n",
    "           test.loc[(test['T']==testing_time_sets[0])]['Y'],\n",
    "           color='blue', label='Y')\n",
    "ax[0].scatter(test.loc[(test['T']==testing_time_sets[0])]['unitid'],\\\n",
    "           test.loc[(test['T']==testing_time_sets[0])]['yhat'],\n",
    "           color='green', label='pred')\n",
    "ax[0].set_title(testing_time_sets[0])\n",
    "ax[0].grid()\n",
    "ax[0].legend()\n",
    "\n",
    "ax[1].scatter(test.loc[(test['T']==testing_time_sets[1])]['unitid'],\\\n",
    "           test.loc[(test['T']==testing_time_sets[1])]['Y'],\n",
    "           color='blue', label='Y')\n",
    "ax[1].scatter(test.loc[(test['T']==testing_time_sets[1])]['unitid'],\\\n",
    "           test.loc[(test['T']==testing_time_sets[1])]['yhat'],\n",
    "           color='green', label='pred')\n",
    "ax[1].set_title(testing_time_sets[1])\n",
    "ax[1].grid()\n",
    "ax[1].legend()\n"
   ]
  },
  {
   "cell_type": "code",
   "execution_count": null,
   "id": "44132e78",
   "metadata": {},
   "outputs": [],
   "source": []
  },
  {
   "cell_type": "code",
   "execution_count": null,
   "id": "3758aee3",
   "metadata": {},
   "outputs": [],
   "source": []
  },
  {
   "cell_type": "code",
   "execution_count": null,
   "id": "0906ad8b",
   "metadata": {},
   "outputs": [],
   "source": []
  },
  {
   "cell_type": "code",
   "execution_count": null,
   "id": "c91c67d4",
   "metadata": {},
   "outputs": [],
   "source": []
  },
  {
   "cell_type": "code",
   "execution_count": null,
   "id": "0d8fc4f7",
   "metadata": {},
   "outputs": [],
   "source": []
  },
  {
   "cell_type": "markdown",
   "id": "b6f93763",
   "metadata": {},
   "source": [
    "# Synthetic Control"
   ]
  },
  {
   "cell_type": "code",
   "execution_count": 86,
   "id": "abb8312f",
   "metadata": {},
   "outputs": [],
   "source": [
    "## Abadie/Diamond/Hainmueller    \n",
    "from typing import List\n",
    "from operator import add\n",
    "from toolz import reduce, partial\n",
    "\n",
    "## Define loss function\n",
    "def loss_w(W, X, y) -> float:\n",
    "    return np.sqrt(np.mean((y - X.dot(W))**2))\n",
    "\n",
    "from scipy.optimize import fmin_slsqp\n",
    "\n",
    "def get_w(X, y):\n",
    "    ## Initialize at sample average with some noise\n",
    "    w_start = [1/X.shape[1]]*X.shape[1]+np.random.uniform(-0.005,0.005, X.shape[1])\n",
    "#     w_start = np.ones(X.shape[1])\n",
    "\n",
    "    weights = fmin_slsqp(partial(loss_w, X=X, y=y),\n",
    "                         np.array(w_start),\n",
    "                         f_eqcons=lambda x: np.sum(x) - 1,\n",
    "                         iter=50000, \n",
    "                         bounds=[(0.0, 1.0)]*len(w_start),\n",
    "                         disp=True)\n",
    "    return weights\n",
    "\n",
    "def syncontrol(X1=None,X0=None,\n",
    "               Y1=None,Y0=None,\n",
    "              scaledown = None):\n",
    "    '''\n",
    "    X1   control post-treatment\n",
    "    X0   control pre-treatment\n",
    "    Y1   treatment post-treatment\n",
    "    Y0   treatment pre-treatment\n",
    "    scaledown   whether to divide everything by a number, defaulted to none\n",
    "    '''\n",
    "    \n",
    "    if scaledown is None:\n",
    "        adh_weights = get_w(X0, Y0)\n",
    "    else:\n",
    "        adh_weights = get_w(X0/scaledown, Y0/scaledown)\n",
    "    ## Output the weights\n",
    "    \n",
    "    ## Output the counterfactual control outcome\n",
    "    Y_hat0 = np.dot(X1,adh_weights)\n",
    "    \n",
    "    ## Output the average treatment effect on treated\n",
    "    atet = np.average(Y1 - Y_hat0)\n",
    "    \n",
    "    return adh_weights, Y_hat0, atet"
   ]
  },
  {
   "cell_type": "code",
   "execution_count": 87,
   "id": "2f45add5",
   "metadata": {},
   "outputs": [],
   "source": [
    "df = synth_panel(seed_number = 2727, time_units = 20, x_units = 10, K_dim = 2, treatment_type='both',\n",
    "                treatment_imp = 10, treatment_het = False)\n"
   ]
  },
  {
   "cell_type": "markdown",
   "id": "96da3319",
   "metadata": {},
   "source": [
    "Focus on just using the pre-treatment outcomes for now.\n",
    "We'll also start with just one treated unit."
   ]
  },
  {
   "cell_type": "code",
   "execution_count": 88,
   "id": "3e33a0df",
   "metadata": {},
   "outputs": [],
   "source": [
    "df_pt = df[['unitid','T','Y']].pivot_table(columns='unitid', index='T', values='Y')\n",
    "df_pt.reset_index(inplace=True)"
   ]
  },
  {
   "cell_type": "code",
   "execution_count": 89,
   "id": "2e31bc32",
   "metadata": {},
   "outputs": [],
   "source": [
    "treatment_time = df.loc[df['treatment']==1]['T'].min()\n",
    "treated_units = df.loc[(df['treatment_units']==1)]['unitid'].unique()\n"
   ]
  },
  {
   "cell_type": "code",
   "execution_count": 90,
   "id": "2e996517",
   "metadata": {},
   "outputs": [],
   "source": [
    "control_pre = df_pt.loc[(df_pt['T']< treatment_time)][[e for e in df_pt.columns if e not in treated_units]]\n",
    "control_pst = df_pt.loc[(df_pt['T']>=treatment_time)][[e for e in df_pt.columns if e not in treated_units]]\n",
    "\n",
    "treat_pre = df_pt.loc[(df_pt['T']< treatment_time)][treated_units[0]]\n",
    "treat_pst = df_pt.loc[(df_pt['T']>=treatment_time)][treated_units[0]]\n"
   ]
  },
  {
   "cell_type": "code",
   "execution_count": 97,
   "id": "39c20c47",
   "metadata": {},
   "outputs": [
    {
     "name": "stdout",
     "output_type": "stream",
     "text": [
      "Optimization terminated successfully    (Exit mode 0)\n",
      "            Current function value: 0.014679535739425131\n",
      "            Iterations: 18\n",
      "            Function evaluations: 144\n",
      "            Gradient evaluations: 18\n",
      "(array([9.98872367e-02, 0.00000000e+00, 2.94902991e-17, 1.42030485e-16,\n",
      "       0.00000000e+00, 0.00000000e+00, 9.00112763e-01]), array([0.81614027, 1.05633197, 3.74925231]), 7.909003585140403)\n"
     ]
    }
   ],
   "source": [
    "sc = syncontrol(X1 = control_pst.drop(columns='T'), X0 = control_pre.drop(columns='T'),\n",
    "          Y1 = treat_pst, Y0 = treat_pre, scaledown=100)\n",
    "print(sc)"
   ]
  },
  {
   "cell_type": "code",
   "execution_count": 99,
   "id": "579fed0b",
   "metadata": {},
   "outputs": [
    {
     "data": {
      "text/plain": [
       "<matplotlib.legend.Legend at 0x7fb41541eee0>"
      ]
     },
     "execution_count": 99,
     "metadata": {},
     "output_type": "execute_result"
    },
    {
     "data": {
      "image/png": "[encoded data removed]",
      "text/plain": [
       "<Figure size 720x360 with 1 Axes>"
      ]
     },
     "metadata": {
      "needs_background": "light"
     },
     "output_type": "display_data"
    }
   ],
   "source": [
    "fig,ax = plt.subplots(ncols=1, nrows=1, figsize=(10,5))\n",
    "ax.scatter(df_pt['T'], np.dot(df_pt[[e for e in df_pt.columns if e not in treated_units]].drop(columns='T'),\n",
    "          sc[0]) , color='orange', s=150, label='Synthetic Control') \n",
    "ax.scatter(df_pt['T'], df_pt[treated_units[0]], color='green', label='Treated')\n",
    "ax.scatter(df_pt['T'], df_pt[[e for e in df_pt.columns if e not in treated_units]].drop(columns='T').mean(axis=1)\n",
    "          , color='skyblue', label='Average of Controls') \n",
    "ax.vlines(treatment_time, df_pt[treated_units[0]].max(), df_pt[treated_units[0]].min() ,\n",
    "          color='grey', label='Treatment Time')\n",
    "ax.set_xlabel('Time')\n",
    "ax.set_ylabel('Outcome')\n",
    "ax.grid()\n",
    "ax.legend()"
   ]
  },
  {
   "cell_type": "code",
   "execution_count": null,
   "id": "579168f4",
   "metadata": {},
   "outputs": [],
   "source": []
  },
  {
   "cell_type": "code",
   "execution_count": null,
   "id": "aa80bff7",
   "metadata": {},
   "outputs": [],
   "source": []
  },
  {
   "cell_type": "code",
   "execution_count": null,
   "id": "2b564f1e",
   "metadata": {},
   "outputs": [],
   "source": []
  },
  {
   "cell_type": "code",
   "execution_count": null,
   "id": "31120da2",
   "metadata": {},
   "outputs": [],
   "source": []
  },
  {
   "cell_type": "code",
   "execution_count": null,
   "id": "4c865c8c",
   "metadata": {},
   "outputs": [],
   "source": []
  }
 ],
 "metadata": {
  "kernelspec": {
   "display_name": "Python 3 (ipykernel)",
   "language": "python",
   "name": "python3"
  },
  "language_info": {
   "codemirror_mode": {
    "name": "ipython",
    "version": 3
   },
   "file_extension": ".py",
   "mimetype": "text/x-python",
   "name": "python",
   "nbconvert_exporter": "python",
   "pygments_lexer": "ipython3",
   "version": "3.9.12"
  }
 },
 "nbformat": 4,
 "nbformat_minor": 5
}
